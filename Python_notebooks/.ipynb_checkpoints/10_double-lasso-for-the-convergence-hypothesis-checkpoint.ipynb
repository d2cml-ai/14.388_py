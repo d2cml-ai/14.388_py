{
 "cells": [
  {
   "cell_type": "markdown",
   "metadata": {},
   "source": [
    "# Double Lasso for Testing the Convergence Hypothesis"
   ]
  },
  {
   "cell_type": "markdown",
   "metadata": {},
   "source": [
    "## Double Lasso for the convergence hypothesis"
   ]
  },
  {
   "cell_type": "markdown",
   "metadata": {},
   "source": [
    "## Introduction"
   ]
  },
  {
   "cell_type": "markdown",
   "metadata": {},
   "source": [
    "We provide an additional empirical example of partialling-out with Lasso to estimate the regression coefficient $\\beta_1$ in the high-dimensional linear regression model:\n",
    "\n",
    "$$\n",
    "\\begin{align}\n",
    "Y = \\beta_1 D +  \\beta_2'W + \\epsilon.\n",
    "\\end{align}\n",
    "$$\n",
    "\n",
    "Specifically, we are interested in how the rates  at which economies of different countries grow ($Y$) are related to the initial wealth levels in each country ($D$) controlling for country's institutional, educational, and other similar characteristics ($W$).\n",
    "  \n",
    "The relationship is captured by $\\beta_1$, the *speed of convergence/divergence*, which measures the speed at which poor countries catch up $(\\beta_1< 0)$ or fall behind $(\\beta_1> 0)$ rich countries, after controlling for $W$. Our inference question here is: do poor countries grow faster than rich countries, controlling for educational and other characteristics? In other words, is the speed of convergence negative: $ \\beta_1 <0?$ This is the Convergence Hypothesis predicted by the Solow Growth Model. This is a structural economic model. Under some strong assumptions, that we won't state here, the predictive exercise we are doing here can be given causal interpretation.\n"
   ]
  },
  {
   "cell_type": "markdown",
   "metadata": {},
   "source": [
    "The outcome $Y$ is the realized annual growth rate of a country's wealth  (Gross Domestic Product per capita). The target regressor ($D$) is the initial level of the country's wealth. The target parameter $\\beta_1$ is the speed of convergence, which measures the speed at which poor countries catch up with rich countries. The controls ($W$) include measures of education levels, quality of institutions, trade openness, and political stability in the country."
   ]
  },
  {
   "cell_type": "markdown",
   "metadata": {},
   "source": [
    "## Data analysis\n"
   ]
  },
  {
   "cell_type": "markdown",
   "metadata": {},
   "source": [
    "We consider the data set GrowthData which is included in the package *hdm*. First, let us load the data set to get familiar with the data."
   ]
  },
  {
   "cell_type": "code",
   "execution_count": 14,
   "metadata": {},
   "outputs": [],
   "source": [
    "import hdmpy\n",
    "import pandas as pd\n",
    "import numpy as np\n",
    "import pyreadr\n",
    "import os\n",
    "from urllib.request import urlopen\n",
    "import math\n",
    "import matplotlib.pyplot as plt\n",
    "import random\n",
    "import warnings\n",
    "warnings.filterwarnings('ignore')"
   ]
  },
  {
   "cell_type": "code",
   "execution_count": 15,
   "metadata": {},
   "outputs": [],
   "source": [
    "link=\"https://raw.githubusercontent.com/d2cml-ai/14.388_py/main/data/GrowthData.RData\"\n",
    "response = urlopen(link)\n",
    "content = response.read()\n",
    "fhandle = open( 'GrowthData.RData', 'wb')\n",
    "fhandle.write(content)\n",
    "fhandle.close()\n",
    "result = pyreadr.read_r(\"GrowthData.RData\")\n",
    "os.remove(\"GrowthData.RData\")\n",
    "\n",
    "# Extracting the data frame from rdata_read\n",
    "growth = result[ 'GrowthData' ]"
   ]
  },
  {
   "cell_type": "markdown",
   "metadata": {},
   "source": [
    "We determine the dimension of our data set."
   ]
  },
  {
   "cell_type": "code",
   "execution_count": 16,
   "metadata": {},
   "outputs": [
    {
     "data": {
      "text/plain": [
       "(90, 63)"
      ]
     },
     "execution_count": 16,
     "metadata": {},
     "output_type": "execute_result"
    }
   ],
   "source": [
    "growth.shape"
   ]
  },
  {
   "cell_type": "markdown",
   "metadata": {
    "papermill": {
     "duration": 0.025013,
     "end_time": "2021-01-20T08:46:45.109042",
     "exception": false,
     "start_time": "2021-01-20T08:46:45.084029",
     "status": "completed"
    },
    "tags": []
   },
   "source": [
    "The sample contains $90$ countries and $63$ controls. Thus $p \\approx 60$, $n=90$ and $p/n$ is not small. We expect the least squares method to provide a poor estimate of $\\beta_1$.  We expect the method based on partialling-out with Lasso to provide a high quality estimate of $\\beta_1$."
   ]
  },
  {
   "cell_type": "markdown",
   "metadata": {
    "papermill": {
     "duration": 0.024124,
     "end_time": "2021-01-20T08:46:45.157510",
     "exception": false,
     "start_time": "2021-01-20T08:46:45.133386",
     "status": "completed"
    },
    "tags": []
   },
   "source": [
    "To check this hypothesis, we analyze the relation between the output variable $Y$ and the other country's characteristics by running a linear regression in the first step."
   ]
  },
  {
   "cell_type": "code",
   "execution_count": 6,
   "metadata": {},
   "outputs": [],
   "source": [
    "import statsmodels.api as sm\n",
    "import statsmodels.formula.api as smf"
   ]
  },
  {
   "cell_type": "code",
   "execution_count": 7,
   "metadata": {},
   "outputs": [],
   "source": [
    "# We create the main variables\n",
    "y = growth['Outcome']\n",
    "X = growth.drop('Outcome', 1)"
   ]
  },
  {
   "cell_type": "code",
   "execution_count": 8,
   "metadata": {},
   "outputs": [
    {
     "name": "stdout",
     "output_type": "stream",
     "text": [
      "                            OLS Regression Results                            \n",
      "==============================================================================\n",
      "Dep. Variable:                Outcome   R-squared:                       0.887\n",
      "Model:                            OLS   Adj. R-squared:                  0.641\n",
      "Method:                 Least Squares   F-statistic:                     3.607\n",
      "Date:                Fri, 22 Jul 2022   Prob (F-statistic):           0.000200\n",
      "Time:                        19:48:53   Log-Likelihood:                 238.24\n",
      "No. Observations:                  90   AIC:                            -352.5\n",
      "Df Residuals:                      28   BIC:                            -197.5\n",
      "Df Model:                          61                                         \n",
      "Covariance Type:            nonrobust                                         \n",
      "==============================================================================\n",
      "                 coef    std err          t      P>|t|      [0.025      0.975]\n",
      "------------------------------------------------------------------------------\n",
      "intercept      0.2472      0.785      0.315      0.755      -1.360       1.854\n",
      "gdpsh465      -0.0094      0.030     -0.314      0.756      -0.071       0.052\n",
      "bmp1l         -0.0689      0.033     -2.117      0.043      -0.135      -0.002\n",
      "freeop         0.0801      0.208      0.385      0.703      -0.346       0.506\n",
      "freetar       -0.4890      0.418     -1.169      0.252      -1.346       0.368\n",
      "h65           -2.3621      0.857     -2.755      0.010      -4.118      -0.606\n",
      "hm65           0.7071      0.523      1.352      0.187      -0.364       1.779\n",
      "hf65           1.6934      0.503      3.365      0.002       0.663       2.724\n",
      "p65            0.2655      0.164      1.616      0.117      -0.071       0.602\n",
      "pm65           0.1370      0.151      0.906      0.373      -0.173       0.447\n",
      "pf65          -0.3313      0.165     -2.006      0.055      -0.670       0.007\n",
      "s65            0.0391      0.186      0.211      0.835      -0.341       0.419\n",
      "sm65          -0.0307      0.117     -0.263      0.795      -0.270       0.209\n",
      "sf65          -0.1799      0.118     -1.523      0.139      -0.422       0.062\n",
      "fert65         0.0069      0.027      0.254      0.801      -0.049       0.062\n",
      "mort65        -0.2335      0.817     -0.286      0.777      -1.908       1.441\n",
      "lifee065      -0.0149      0.193     -0.077      0.939      -0.411       0.381\n",
      "gpop1          0.9702      1.812      0.535      0.597      -2.742       4.682\n",
      "fert1          0.0088      0.035      0.252      0.803      -0.063       0.081\n",
      "mort1          0.0666      0.685      0.097      0.923      -1.336       1.469\n",
      "invsh41        0.0745      0.108      0.687      0.498      -0.148       0.297\n",
      "geetot1       -0.7151      1.680     -0.426      0.674      -4.157       2.726\n",
      "geerec1        0.6300      2.447      0.257      0.799      -4.383       5.643\n",
      "gde1          -0.4436      1.671     -0.265      0.793      -3.867       2.980\n",
      "govwb1         0.3375      0.438      0.770      0.447      -0.560       1.235\n",
      "govsh41        0.4632      1.925      0.241      0.812      -3.481       4.407\n",
      "gvxdxe41      -0.7934      2.059     -0.385      0.703      -5.012       3.425\n",
      "high65        -0.7525      0.906     -0.831      0.413      -2.608       1.103\n",
      "highm65       -0.3903      0.681     -0.573      0.571      -1.786       1.005\n",
      "highf65       -0.4177      0.561     -0.744      0.463      -1.568       0.732\n",
      "highc65       -2.2158      1.481     -1.496      0.146      -5.249       0.818\n",
      "highcm65       0.2797      0.658      0.425      0.674      -1.069       1.628\n",
      "highcf65       0.3921      0.766      0.512      0.613      -1.177       1.961\n",
      "human65        2.3373      3.307      0.707      0.486      -4.437       9.112\n",
      "humanm65      -1.2092      1.619     -0.747      0.461      -4.525       2.106\n",
      "humanf65      -1.1039      1.685     -0.655      0.518      -4.555       2.347\n",
      "hyr65         54.9139     23.887      2.299      0.029       5.983     103.845\n",
      "hyrm65        12.9350     23.171      0.558      0.581     -34.529      60.400\n",
      "hyrf65         9.0926     17.670      0.515      0.611     -27.102      45.287\n",
      "no65           0.0372      0.132      0.282      0.780      -0.233       0.308\n",
      "nom65         -0.0212      0.065     -0.326      0.747      -0.154       0.112\n",
      "nof65         -0.0169      0.067     -0.252      0.803      -0.154       0.120\n",
      "pinstab1      -0.0500      0.031     -1.616      0.117      -0.113       0.013\n",
      "pop65       1.032e-07   1.32e-07      0.783      0.440   -1.67e-07    3.73e-07\n",
      "worker65       0.0341      0.156      0.218      0.829      -0.286       0.354\n",
      "pop1565       -0.4655      0.471     -0.988      0.332      -1.431       0.500\n",
      "pop6565       -1.3575      0.635     -2.138      0.041      -2.658      -0.057\n",
      "sec65         -0.0109      0.308     -0.035      0.972      -0.641       0.619\n",
      "secm65         0.0033      0.151      0.022      0.983      -0.306       0.313\n",
      "secf65        -0.0023      0.158     -0.015      0.988      -0.326       0.321\n",
      "secc65        -0.4915      0.729     -0.674      0.506      -1.985       1.002\n",
      "seccm65        0.2596      0.356      0.730      0.471      -0.469       0.988\n",
      "seccf65        0.2207      0.373      0.591      0.559      -0.544       0.985\n",
      "syr65         -0.7556      7.977     -0.095      0.925     -17.095      15.584\n",
      "syrm65         0.3109      3.897      0.080      0.937      -7.671       8.293\n",
      "syrf65         0.7593      4.111      0.185      0.855      -7.661       9.180\n",
      "teapri65    3.955e-05      0.001      0.051      0.959      -0.002       0.002\n",
      "teasec65       0.0002      0.001      0.213      0.833      -0.002       0.003\n",
      "ex1           -0.5804      0.242     -2.400      0.023      -1.076      -0.085\n",
      "im1            0.5914      0.250      2.363      0.025       0.079       1.104\n",
      "xr65          -0.0001   5.42e-05     -1.916      0.066      -0.000    7.18e-06\n",
      "tot1          -0.1279      0.113     -1.136      0.266      -0.359       0.103\n",
      "==============================================================================\n",
      "Omnibus:                        0.439   Durbin-Watson:                   1.982\n",
      "Prob(Omnibus):                  0.803   Jarque-Bera (JB):                0.417\n",
      "Skew:                           0.158   Prob(JB):                        0.812\n",
      "Kurtosis:                       2.896   Cond. No.                     7.52e+08\n",
      "==============================================================================\n",
      "\n",
      "Notes:\n",
      "[1] Standard Errors assume that the covariance matrix of the errors is correctly specified.\n",
      "[2] The condition number is large, 7.52e+08. This might indicate that there are\n",
      "strong multicollinearity or other numerical problems.\n"
     ]
    }
   ],
   "source": [
    "# OLS regression\n",
    "reg_ols  = sm.OLS(y, X).fit()\n",
    "print(reg_ols.summary())"
   ]
  },
  {
   "cell_type": "code",
   "execution_count": 9,
   "metadata": {},
   "outputs": [],
   "source": [
    "# output: estimated regression coefficient corresponding to the target regressor\n",
    "est_ols = reg_ols.summary2().tables[1]['Coef.']['gdpsh465']\n",
    "\n",
    "# output: std. error\n",
    "std_ols = reg_ols.summary2().tables[1]['Std.Err.']['gdpsh465']\n",
    "\n",
    "# output: 95% confidence interval\n",
    "lower_ci = reg_ols.summary2().tables[1]['[0.025']['gdpsh465']\n",
    "upper_ci = reg_ols.summary2().tables[1]['0.975]']['gdpsh465']"
   ]
  },
  {
   "cell_type": "markdown",
   "metadata": {},
   "source": [
    "## Summarize OLS results"
   ]
  },
  {
   "cell_type": "code",
   "execution_count": 10,
   "metadata": {},
   "outputs": [
    {
     "name": "stdout",
     "output_type": "stream",
     "text": [
      "<table border=\"1\" class=\"dataframe\">\n",
      "  <thead>\n",
      "    <tr style=\"text-align: right;\">\n",
      "      <th></th>\n",
      "      <th>Estimator</th>\n",
      "      <th>Std. Error</th>\n",
      "      <th>lower bound CI</th>\n",
      "      <th>upper bound CI</th>\n",
      "    </tr>\n",
      "  </thead>\n",
      "  <tbody>\n",
      "    <tr>\n",
      "      <th>OLS</th>\n",
      "      <td>-0.009378</td>\n",
      "      <td>0.029888</td>\n",
      "      <td>-0.0706</td>\n",
      "      <td>0.051844</td>\n",
      "    </tr>\n",
      "  </tbody>\n",
      "</table>\n"
     ]
    }
   ],
   "source": [
    "from tabulate import tabulate\n",
    "table_1 = np.zeros( (1, 4) )\n",
    "\n",
    "table_1[0,0] = est_ols  \n",
    "table_1[0,1] = std_ols   \n",
    "table_1[0,2] = lower_ci\n",
    "table_1[0,3] = upper_ci    \n",
    "\n",
    "\n",
    "table_1_pandas = pd.DataFrame( table_1, columns = [ \"Estimator\",\"Std. Error\", \"lower bound CI\", \"upper bound CI\"  ])\n",
    "table_1_pandas.index = [ \"OLS\" ]\n",
    "print(table_1_pandas.to_html())"
   ]
  },
  {
   "cell_type": "markdown",
   "metadata": {},
   "source": [
    "<table border=\"1\" class=\"dataframe\">\n",
    "  <thead>\n",
    "    <tr style=\"text-align: right;\">\n",
    "      <th></th>\n",
    "      <th>Estimator</th>\n",
    "      <th>Std. Error</th>\n",
    "      <th>lower bound CI</th>\n",
    "      <th>upper bound CI</th>\n",
    "    </tr>\n",
    "  </thead>\n",
    "  <tbody>\n",
    "    <tr>\n",
    "      <th>OLS</th>\n",
    "      <td>-0.009378</td>\n",
    "      <td>0.029888</td>\n",
    "      <td>-0.0706</td>\n",
    "      <td>0.051844</td>\n",
    "    </tr>\n",
    "  </tbody>\n",
    "</table>"
   ]
  },
  {
   "cell_type": "markdown",
   "metadata": {},
   "source": [
    "Least squares provides a rather noisy estimate (high standard error) of the\n",
    "speed of convergence, and does not allow us to answer the question\n",
    "about the convergence hypothesis since the confidence interval includes zero.\n",
    "\n",
    "In contrast, we can use the partialling-out approach based on lasso regression (\"Double Lasso\")."
   ]
  },
  {
   "cell_type": "code",
   "execution_count": 11,
   "metadata": {},
   "outputs": [],
   "source": [
    "# Create main variables\n",
    "Y = growth['Outcome']\n",
    "W = growth.drop(['Outcome','intercept', 'gdpsh465'], 1 )\n",
    "D = growth['gdpsh465']"
   ]
  },
  {
   "cell_type": "markdown",
   "metadata": {},
   "source": [
    "## Method 1 - Using Sklearn"
   ]
  },
  {
   "cell_type": "code",
   "execution_count": 39,
   "metadata": {},
   "outputs": [],
   "source": [
    "from sklearn import linear_model\n",
    "\n",
    "# Seat values for Lasso\n",
    "lasso_model = linear_model.Lasso( alpha = 0.00077 )\n",
    "r_Y = Y - lasso_model.fit( W, Y ).predict( W )\n",
    "r_Y = r_Y.rename('r_Y')\n",
    "\n",
    "# Part. out d\n",
    "r_D = D - lasso_model.fit( W, D ).predict( W )\n",
    "r_D = r_D.rename('r_D')\n",
    "\n",
    "# ols \n",
    "partial_lasso_fit = sm.OLS(r_Y, r_D).fit()\n",
    "\n",
    "est_lasso = partial_lasso_fit.summary2().tables[1]['Coef.']['r_D']\n",
    "std_lasso = partial_lasso_fit.summary2().tables[1]['Std.Err.']['r_D']\n",
    "lower_ci_lasso = partial_lasso_fit.summary2().tables[1]['[0.025']['r_D']\n",
    "upper_ci_lasso = partial_lasso_fit.summary2().tables[1]['0.975]']['r_D']"
   ]
  },
  {
   "cell_type": "code",
   "execution_count": 40,
   "metadata": {},
   "outputs": [
    {
     "name": "stdout",
     "output_type": "stream",
     "text": [
      "Coefficient for D via partialling-out using lasso -0.04774655653302118\n"
     ]
    }
   ],
   "source": [
    "# Regress residuales\n",
    "partial_lasso_fit = sm.OLS(r_Y, r_D).fit()\n",
    "partial_lasso_est = partial_lasso_fit.summary2().tables[1]['Coef.']['r_D']\n",
    "\n",
    "print( f\"Coefficient for D via partialling-out using lasso {partial_lasso_est}\" )"
   ]
  },
  {
   "cell_type": "code",
   "execution_count": 41,
   "metadata": {},
   "outputs": [],
   "source": [
    "# output: estimated regression coefficient corresponding to the target regressor\n",
    "est_lasso = partial_lasso_fit.summary2().tables[1]['Coef.']['r_D']\n",
    "\n",
    "# output: std. error\n",
    "std_lasso = partial_lasso_fit.summary2().tables[1]['Std.Err.']['r_D']\n",
    "\n",
    "# output: 95% confidence interval\n",
    "lower_ci_lasso = partial_lasso_fit.summary2().tables[1]['[0.025']['r_D']\n",
    "upper_ci_lasso = partial_lasso_fit.summary2().tables[1]['0.975]']['r_D']"
   ]
  },
  {
   "cell_type": "markdown",
   "metadata": {},
   "source": [
    "### Summary LASSO results\n"
   ]
  },
  {
   "cell_type": "markdown",
   "metadata": {},
   "source": [
    "Finally, let us have a look at the results."
   ]
  },
  {
   "cell_type": "code",
   "execution_count": 42,
   "metadata": {},
   "outputs": [
    {
     "data": {
      "text/html": [
       "<div>\n",
       "<style scoped>\n",
       "    .dataframe tbody tr th:only-of-type {\n",
       "        vertical-align: middle;\n",
       "    }\n",
       "\n",
       "    .dataframe tbody tr th {\n",
       "        vertical-align: top;\n",
       "    }\n",
       "\n",
       "    .dataframe thead th {\n",
       "        text-align: right;\n",
       "    }\n",
       "</style>\n",
       "<table border=\"1\" class=\"dataframe\">\n",
       "  <thead>\n",
       "    <tr style=\"text-align: right;\">\n",
       "      <th></th>\n",
       "      <th>Estimator</th>\n",
       "      <th>Std. Error</th>\n",
       "      <th>lower bound CI</th>\n",
       "      <th>upper bound CI</th>\n",
       "    </tr>\n",
       "  </thead>\n",
       "  <tbody>\n",
       "    <tr>\n",
       "      <th>LASSO</th>\n",
       "      <td>-0.047747</td>\n",
       "      <td>0.017705</td>\n",
       "      <td>-0.082926</td>\n",
       "      <td>-0.012567</td>\n",
       "    </tr>\n",
       "  </tbody>\n",
       "</table>\n",
       "</div>"
      ],
      "text/plain": [
       "       Estimator  Std. Error  lower bound CI  upper bound CI\n",
       "LASSO  -0.047747    0.017705       -0.082926       -0.012567"
      ]
     },
     "execution_count": 42,
     "metadata": {},
     "output_type": "execute_result"
    }
   ],
   "source": [
    "table_2 = np.zeros( (1, 4) )\n",
    "\n",
    "table_2[0,0] = est_lasso  \n",
    "table_2[0,1] = std_lasso   \n",
    "table_2[0,2] = lower_ci_lasso\n",
    "table_2[0,3] = upper_ci_lasso    \n",
    "\n",
    "\n",
    "table_2_pandas = pd.DataFrame( table_2, columns = [ \"Estimator\",\"Std. Error\", \"lower bound CI\", \"upper bound CI\"  ])\n",
    "table_2_pandas.index = [ \"LASSO\" ]\n",
    "table_2_pandas"
   ]
  },
  {
   "cell_type": "code",
   "execution_count": 43,
   "metadata": {},
   "outputs": [
    {
     "data": {
      "text/html": [
       "<div>\n",
       "<style scoped>\n",
       "    .dataframe tbody tr th:only-of-type {\n",
       "        vertical-align: middle;\n",
       "    }\n",
       "\n",
       "    .dataframe tbody tr th {\n",
       "        vertical-align: top;\n",
       "    }\n",
       "\n",
       "    .dataframe thead th {\n",
       "        text-align: right;\n",
       "    }\n",
       "</style>\n",
       "<table border=\"1\" class=\"dataframe\">\n",
       "  <thead>\n",
       "    <tr style=\"text-align: right;\">\n",
       "      <th></th>\n",
       "      <th>Estimator</th>\n",
       "      <th>Std. Error</th>\n",
       "      <th>lower bound CI</th>\n",
       "      <th>upper bound CI</th>\n",
       "    </tr>\n",
       "  </thead>\n",
       "  <tbody>\n",
       "    <tr>\n",
       "      <th>OLS</th>\n",
       "      <td>-0.009378</td>\n",
       "      <td>0.029888</td>\n",
       "      <td>-0.070600</td>\n",
       "      <td>0.051844</td>\n",
       "    </tr>\n",
       "    <tr>\n",
       "      <th>LASSO</th>\n",
       "      <td>-0.047747</td>\n",
       "      <td>0.017705</td>\n",
       "      <td>-0.082926</td>\n",
       "      <td>-0.012567</td>\n",
       "    </tr>\n",
       "  </tbody>\n",
       "</table>\n",
       "</div>"
      ],
      "text/plain": [
       "       Estimator  Std. Error  lower bound CI  upper bound CI\n",
       "OLS    -0.009378    0.029888       -0.070600        0.051844\n",
       "LASSO  -0.047747    0.017705       -0.082926       -0.012567"
      ]
     },
     "execution_count": 43,
     "metadata": {},
     "output_type": "execute_result"
    }
   ],
   "source": [
    "table_3 = table_1_pandas.append(table_2_pandas)\n",
    "table_3"
   ]
  },
  {
   "cell_type": "markdown",
   "metadata": {},
   "source": [
    "The least square method provides a rather noisy estimate of the speed of convergence. We can not answer the question if poor countries grow faster than rich countries. The least square method does not work when the ratio $p/n$ is large.\n",
    "\n",
    "In sharp contrast, partialling-out via Lasso provides a more precise estimate. The Lasso based point estimate is $-5\\%$ and the $95\\%$ confidence interval for the (annual) rate of convergence $[-7.8\\%,-2.2\\%]$ only includes negative numbers. This empirical evidence does support the convergence hypothesis."
   ]
  },
  {
   "cell_type": "markdown",
   "metadata": {},
   "source": [
    "<table border=\"1\" class=\"dataframe\">\n",
    "  <thead>\n",
    "    <tr style=\"text-align: right;\">\n",
    "      <th></th>\n",
    "      <th>Estimator</th>\n",
    "      <th>Std. Error</th>\n",
    "      <th>lower bound CI</th>\n",
    "      <th>upper bound CI</th>\n",
    "    </tr>\n",
    "  </thead>\n",
    "  <tbody>\n",
    "    <tr>\n",
    "      <th>OLS</th>\n",
    "      <td>-0.009378</td>\n",
    "      <td>0.029888</td>\n",
    "      <td>-0.070600</td>\n",
    "      <td>0.051844</td>\n",
    "    </tr>\n",
    "    <tr>\n",
    "      <th>LASSO</th>\n",
    "      <td>-0.047747</td>\n",
    "      <td>0.017705</td>\n",
    "      <td>-0.082926</td>\n",
    "      <td>-0.012567</td>\n",
    "    </tr>\n",
    "  </tbody>\n",
    "</table>"
   ]
  },
  {
   "cell_type": "markdown",
   "metadata": {},
   "source": [
    "## Method 2 - HDMPY"
   ]
  },
  {
   "cell_type": "code",
   "execution_count": 44,
   "metadata": {},
   "outputs": [],
   "source": [
    "res_Y = hdmpy.rlasso( W, Y, post=True ).est['residuals']\n",
    "res_D = hdmpy.rlasso( W, D, post=True ).est['residuals']\n",
    "\n",
    "r_Y = pd.DataFrame(res_Y, columns=['r_Y'])\n",
    "r_D = pd.DataFrame(res_D, columns=['r_D'])"
   ]
  },
  {
   "cell_type": "code",
   "execution_count": 45,
   "metadata": {},
   "outputs": [
    {
     "name": "stdout",
     "output_type": "stream",
     "text": [
      "                                 OLS Regression Results                                \n",
      "=======================================================================================\n",
      "Dep. Variable:                    r_Y   R-squared (uncentered):                   0.127\n",
      "Model:                            OLS   Adj. R-squared (uncentered):              0.117\n",
      "Method:                 Least Squares   F-statistic:                              12.92\n",
      "Date:                Fri, 22 Jul 2022   Prob (F-statistic):                    0.000533\n",
      "Time:                        16:43:54   Log-Likelihood:                          152.68\n",
      "No. Observations:                  90   AIC:                                     -303.4\n",
      "Df Residuals:                      89   BIC:                                     -300.9\n",
      "Df Model:                           1                                                  \n",
      "Covariance Type:            nonrobust                                                  \n",
      "==============================================================================\n",
      "                 coef    std err          t      P>|t|      [0.025      0.975]\n",
      "------------------------------------------------------------------------------\n",
      "r_D           -0.0498      0.014     -3.594      0.001      -0.077      -0.022\n",
      "==============================================================================\n",
      "Omnibus:                        4.622   Durbin-Watson:                   1.510\n",
      "Prob(Omnibus):                  0.099   Jarque-Bera (JB):                5.807\n",
      "Skew:                           0.120   Prob(JB):                       0.0548\n",
      "Kurtosis:                       4.221   Cond. No.                         1.00\n",
      "==============================================================================\n",
      "\n",
      "Notes:\n",
      "[1] R² is computed without centering (uncentered) since the model does not contain a constant.\n",
      "[2] Standard Errors assume that the covariance matrix of the errors is correctly specified.\n"
     ]
    }
   ],
   "source": [
    "# OLS regression\n",
    "reg_ols  = sm.OLS(r_Y, r_D).fit()\n",
    "print(reg_ols.summary())"
   ]
  },
  {
   "cell_type": "code",
   "execution_count": 46,
   "metadata": {},
   "outputs": [],
   "source": [
    "# output: estimated regression coefficient corresponding to the target regressor\n",
    "est_lasso = reg_ols.summary2().tables[1]['Coef.']['r_D']\n",
    "\n",
    "# output: std. error\n",
    "std_lasso = reg_ols.summary2().tables[1]['Std.Err.']['r_D']\n",
    "\n",
    "# output: 95% confidence interval\n",
    "lower_ci_lasso = reg_ols.summary2().tables[1]['[0.025']['r_D']\n",
    "upper_ci_lasso = reg_ols.summary2().tables[1]['0.975]']['r_D']"
   ]
  },
  {
   "cell_type": "code",
   "execution_count": 47,
   "metadata": {},
   "outputs": [
    {
     "data": {
      "text/html": [
       "<div>\n",
       "<style scoped>\n",
       "    .dataframe tbody tr th:only-of-type {\n",
       "        vertical-align: middle;\n",
       "    }\n",
       "\n",
       "    .dataframe tbody tr th {\n",
       "        vertical-align: top;\n",
       "    }\n",
       "\n",
       "    .dataframe thead th {\n",
       "        text-align: right;\n",
       "    }\n",
       "</style>\n",
       "<table border=\"1\" class=\"dataframe\">\n",
       "  <thead>\n",
       "    <tr style=\"text-align: right;\">\n",
       "      <th></th>\n",
       "      <th>Estimator</th>\n",
       "      <th>Std. Error</th>\n",
       "      <th>lower bound CI</th>\n",
       "      <th>upper bound CI</th>\n",
       "    </tr>\n",
       "  </thead>\n",
       "  <tbody>\n",
       "    <tr>\n",
       "      <th>LASSO</th>\n",
       "      <td>-0.049811</td>\n",
       "      <td>0.013858</td>\n",
       "      <td>-0.077347</td>\n",
       "      <td>-0.022276</td>\n",
       "    </tr>\n",
       "  </tbody>\n",
       "</table>\n",
       "</div>"
      ],
      "text/plain": [
       "       Estimator  Std. Error  lower bound CI  upper bound CI\n",
       "LASSO  -0.049811    0.013858       -0.077347       -0.022276"
      ]
     },
     "execution_count": 47,
     "metadata": {},
     "output_type": "execute_result"
    }
   ],
   "source": [
    "table_3 = np.zeros( (1, 4) )\n",
    "\n",
    "table_3[0,0] = est_lasso   \n",
    "table_3[0,1] = std_lasso    \n",
    "table_3[0,2] = lower_ci_lasso \n",
    "table_3[0,3] = upper_ci_lasso     \n",
    "\n",
    "\n",
    "table_3_pandas = pd.DataFrame( table_3, columns = [ \"Estimator\",\"Std. Error\", \"lower bound CI\", \"upper bound CI\"  ]) \n",
    "table_3_pandas.index = [ \"LASSO\" ]\n",
    "table_3_pandas"
   ]
  },
  {
   "cell_type": "markdown",
   "metadata": {},
   "source": [
    "## Method 3 - HDMPY Direct"
   ]
  },
  {
   "cell_type": "code",
   "execution_count": 48,
   "metadata": {},
   "outputs": [],
   "source": [
    "lasso_direct = hdmpy.rlassoEffect(x=W, y=Y, d=D, method=\"partialling out\")\n"
   ]
  },
  {
   "cell_type": "code",
   "execution_count": 49,
   "metadata": {},
   "outputs": [],
   "source": [
    "est_lasso = lasso_direct[\"coefficients\"]\n",
    "std_lasso = lasso_direct[\"se\"]\n",
    "lower_ci_lasso = est_lasso - 1.96*std_lasso\n",
    "upper_ci_lasso = est_lasso + 1.96*std_lasso"
   ]
  },
  {
   "cell_type": "code",
   "execution_count": 50,
   "metadata": {},
   "outputs": [
    {
     "data": {
      "text/html": [
       "<div>\n",
       "<style scoped>\n",
       "    .dataframe tbody tr th:only-of-type {\n",
       "        vertical-align: middle;\n",
       "    }\n",
       "\n",
       "    .dataframe tbody tr th {\n",
       "        vertical-align: top;\n",
       "    }\n",
       "\n",
       "    .dataframe thead th {\n",
       "        text-align: right;\n",
       "    }\n",
       "</style>\n",
       "<table border=\"1\" class=\"dataframe\">\n",
       "  <thead>\n",
       "    <tr style=\"text-align: right;\">\n",
       "      <th></th>\n",
       "      <th>Estimator</th>\n",
       "      <th>Std. Error</th>\n",
       "      <th>lower bound CI</th>\n",
       "      <th>upper bound CI</th>\n",
       "    </tr>\n",
       "  </thead>\n",
       "  <tbody>\n",
       "    <tr>\n",
       "      <th>LASSO_direct</th>\n",
       "      <td>-0.049811</td>\n",
       "      <td>0.015391</td>\n",
       "      <td>-0.079978</td>\n",
       "      <td>-0.019644</td>\n",
       "    </tr>\n",
       "  </tbody>\n",
       "</table>\n",
       "</div>"
      ],
      "text/plain": [
       "              Estimator  Std. Error  lower bound CI  upper bound CI\n",
       "LASSO_direct  -0.049811    0.015391       -0.079978       -0.019644"
      ]
     },
     "execution_count": 50,
     "metadata": {},
     "output_type": "execute_result"
    }
   ],
   "source": [
    "table_4 = np.zeros( (1, 4) )\n",
    "\n",
    "table_4[0,0] = est_lasso   \n",
    "table_4[0,1] = std_lasso    \n",
    "table_4[0,2] = lower_ci_lasso \n",
    "table_4[0,3] = upper_ci_lasso     \n",
    "\n",
    "\n",
    "table_4_pandas = pd.DataFrame( table_4, columns = [ \"Estimator\",\"Std. Error\", \"lower bound CI\", \"upper bound CI\"  ]) \n",
    "table_4_pandas.index = [ \"LASSO_direct\" ]\n",
    "table_4_pandas"
   ]
  }
 ],
 "metadata": {
  "hide_input": false,
  "kernelspec": {
   "display_name": "Python 3 (ipykernel)",
   "language": "python",
   "name": "python3"
  },
  "language_info": {
   "codemirror_mode": {
    "name": "ipython",
    "version": 3
   },
   "file_extension": ".py",
   "mimetype": "text/x-python",
   "name": "python",
   "nbconvert_exporter": "python",
   "pygments_lexer": "ipython3",
   "version": "3.9.12"
  }
 },
 "nbformat": 4,
 "nbformat_minor": 4
}
