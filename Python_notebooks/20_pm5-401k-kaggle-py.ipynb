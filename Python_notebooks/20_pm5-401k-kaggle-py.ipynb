{
 "cells": [
  {
   "cell_type": "markdown",
   "metadata": {},
   "source": [
    "# DML for ATE and LATE of 401(k) on Wealth"
   ]
  },
  {
   "cell_type": "markdown",
   "metadata": {
    "papermill": {
     "duration": 0.040767,
     "end_time": "2021-03-24T14:13:51.082088",
     "exception": false,
     "start_time": "2021-03-24T14:13:51.041321",
     "status": "completed"
    },
    "tags": []
   },
   "source": [
    "## Inference on Predictive and Causal Effects in High-Dimensional Nonlinear Models"
   ]
  },
  {
   "cell_type": "markdown",
   "metadata": {
    "papermill": {
     "duration": 0.036878,
     "end_time": "2021-03-24T14:13:51.155414",
     "exception": false,
     "start_time": "2021-03-24T14:13:51.118536",
     "status": "completed"
    },
    "tags": []
   },
   "source": [
    "## Impact of 401(k) on  Financial Wealth\n",
    "\n",
    "As a practical illustration of the methods developed in this lecture, we consider estimation of the effect of 401(k) eligibility and participation \n",
    "on accumulated assets. 401(k) plans are pension accounts sponsored by employers. The key problem in determining the effect of participation in 401(k) plans on accumulated assets is saver heterogeneity coupled with the fact that the decision to enroll in a 401(k) is non-random. It is generally recognized that some people have a higher preference for saving than others. It also seems likely that those individuals with high unobserved preference for saving would be most likely to choose to participate in tax-advantaged retirement savings plans and would tend to have otherwise high amounts of accumulated assets. The presence of unobserved savings preferences with these properties then implies that conventional estimates that do not account for saver heterogeneity and endogeneity of participation will be biased upward, tending to overstate the savings effects of 401(k) participation.\n",
    "\n",
    "One can argue that eligibility for enrolling in a 401(k) plan in this data can be taken as exogenous after conditioning on a few observables of which the most important for their argument is income. The basic idea is that, at least around the time 401(k)’s initially became available, people were unlikely to be basing their employment decisions on whether an employer offered a 401(k) but would instead focus on income and other aspects of the job. "
   ]
  },
  {
   "cell_type": "markdown",
   "metadata": {
    "papermill": {
     "duration": 0.036497,
     "end_time": "2021-03-24T14:13:51.229370",
     "exception": false,
     "start_time": "2021-03-24T14:13:51.192873",
     "status": "completed"
    },
    "tags": []
   },
   "source": [
    "## Data\n",
    "\n",
    "The data set can be loaded from the `hdm` package for R by typing\n",
    "\n"
   ]
  },
  {
   "cell_type": "code",
   "execution_count": 3,
   "metadata": {},
   "outputs": [],
   "source": [
    "#pip install -U DoubleML"
   ]
  },
  {
   "cell_type": "code",
   "execution_count": 5,
   "metadata": {},
   "outputs": [],
   "source": [
    "import numpy as np\n",
    "import pandas as pd\n",
    "import doubleml as dml\n",
    "from doubleml.datasets import fetch_401K\n",
    "\n",
    "from sklearn.preprocessing import PolynomialFeatures\n",
    "from sklearn.linear_model import LassoCV, LogisticRegressionCV\n",
    "from sklearn.ensemble import RandomForestClassifier, RandomForestRegressor\n",
    "from sklearn.tree import DecisionTreeClassifier, DecisionTreeRegressor\n",
    "from sklearn.preprocessing import StandardScaler\n",
    "from sklearn.pipeline import make_pipeline\n",
    "\n",
    "from xgboost import XGBClassifier, XGBRegressor\n",
    "\n",
    "import matplotlib.pyplot as plt\n",
    "import seaborn as sns\n",
    "import hdmpy\n",
    "import pyreadr\n",
    "import os\n",
    "from urllib.request import urlopen\n",
    "import warnings\n",
    "warnings.filterwarnings('ignore')"
   ]
  },
  {
   "cell_type": "code",
   "execution_count": 9,
   "metadata": {},
   "outputs": [
    {
     "data": {
      "text/plain": [
       "(9915, 44)"
      ]
     },
     "execution_count": 9,
     "metadata": {},
     "output_type": "execute_result"
    }
   ],
   "source": [
    "link=\"https://raw.githubusercontent.com/d2cml-ai/14.388_py/main/data/pension.RData\"\n",
    "response = urlopen(link)\n",
    "content = response.read()\n",
    "fhandle = open( 'pension.Rdata', 'wb')\n",
    "fhandle.write(content)\n",
    "fhandle.close()\n",
    "result = pyreadr.read_r(\"pension.Rdata\")\n",
    "os.remove(\"pension.Rdata\")\n",
    "\n",
    "# Extracting the data frame from rdata_read\n",
    "data = result[ 'pension' ]\n",
    "data.shape"
   ]
  },
  {
   "cell_type": "markdown",
   "metadata": {
    "papermill": {
     "duration": 0.036873,
     "end_time": "2021-03-24T14:13:51.825239",
     "exception": false,
     "start_time": "2021-03-24T14:13:51.788366",
     "status": "completed"
    },
    "tags": []
   },
   "source": [
    "See the \"Details\" section on the description of the data set, which can be accessed by \n"
   ]
  },
  {
   "cell_type": "code",
   "execution_count": 10,
   "metadata": {
    "papermill": {
     "duration": 0.311328,
     "end_time": "2021-03-24T14:13:52.174594",
     "exception": false,
     "start_time": "2021-03-24T14:13:51.863266",
     "status": "completed"
    },
    "tags": []
   },
   "outputs": [],
   "source": [
    "pension = data.copy()"
   ]
  },
  {
   "cell_type": "markdown",
   "metadata": {
    "papermill": {
     "duration": 0.037509,
     "end_time": "2021-03-24T14:13:52.250583",
     "exception": false,
     "start_time": "2021-03-24T14:13:52.213074",
     "status": "completed"
    },
    "tags": []
   },
   "source": [
    "The data consist of 9,915 observations at the household level drawn from the 1991 Survey of Income and Program Participation (SIPP).  All the variables are referred to 1990. We use net financial assets (*net\\_tfa*) as the outcome variable, $Y$,  in our analysis. The net financial assets are computed as the sum of IRA balances, 401(k) balances, checking accounts, saving bonds, other interest-earning accounts, other interest-earning assets, stocks, and mutual funds less non mortgage debts. "
   ]
  },
  {
   "cell_type": "markdown",
   "metadata": {
    "papermill": {
     "duration": 0.038843,
     "end_time": "2021-03-24T14:13:52.327055",
     "exception": false,
     "start_time": "2021-03-24T14:13:52.288212",
     "status": "completed"
    },
    "tags": []
   },
   "source": [
    "Among the $9915$ individuals, $3682$ are eligible to participate in the program. The variable *e401* indicates eligibility and *p401* indicates participation, respectively."
   ]
  },
  {
   "cell_type": "code",
   "execution_count": 11,
   "metadata": {},
   "outputs": [],
   "source": [
    "sns.set()\n",
    "colors = sns.color_palette()"
   ]
  },
  {
   "cell_type": "code",
   "execution_count": 12,
   "metadata": {
    "papermill": {
     "duration": 0.991238,
     "end_time": "2021-03-24T14:13:53.355568",
     "exception": false,
     "start_time": "2021-03-24T14:13:52.364330",
     "status": "completed"
    },
    "tags": []
   },
   "outputs": [
    {
     "data": {
      "image/png": "[encoded data removed]",
      "text/plain": [
       "<Figure size 432x288 with 1 Axes>"
      ]
     },
     "metadata": {},
     "output_type": "display_data"
    }
   ],
   "source": [
    "data['e401'].value_counts().plot(kind='bar', color=colors)\n",
    "plt.title('Eligibility, 401(k)')\n",
    "plt.xlabel('e401')\n",
    "_ = plt.ylabel('count')"
   ]
  },
  {
   "cell_type": "markdown",
   "metadata": {
    "papermill": {
     "duration": 0.039406,
     "end_time": "2021-03-24T14:13:53.435306",
     "exception": false,
     "start_time": "2021-03-24T14:13:53.395900",
     "status": "completed"
    },
    "tags": []
   },
   "source": [
    "Eligibility is highly associated with financial wealth:"
   ]
  },
  {
   "cell_type": "code",
   "execution_count": 13,
   "metadata": {
    "papermill": {
     "duration": 0.688917,
     "end_time": "2021-03-24T14:13:54.163799",
     "exception": false,
     "start_time": "2021-03-24T14:13:53.474882",
     "status": "completed"
    },
    "tags": []
   },
   "outputs": [
    {
     "data": {
      "image/png": "[encoded data removed]",
      "text/plain": [
       "<Figure size 765.725x360 with 2 Axes>"
      ]
     },
     "metadata": {},
     "output_type": "display_data"
    }
   ],
   "source": [
    "_ = sns.displot(data, x=\"net_tfa\", hue=\"e401\", col=\"e401\",\n",
    "                kind=\"kde\", fill=True)"
   ]
  },
  {
   "cell_type": "markdown",
   "metadata": {
    "papermill": {
     "duration": 0.040645,
     "end_time": "2021-03-24T14:13:54.245822",
     "exception": false,
     "start_time": "2021-03-24T14:13:54.205177",
     "status": "completed"
    },
    "tags": []
   },
   "source": [
    "The unconditional APE of e401 is about $19559$:"
   ]
  },
  {
   "cell_type": "code",
   "execution_count": 14,
   "metadata": {
    "papermill": {
     "duration": 0.068689,
     "end_time": "2021-03-24T14:13:54.354643",
     "exception": false,
     "start_time": "2021-03-24T14:13:54.285954",
     "status": "completed"
    },
    "tags": []
   },
   "outputs": [
    {
     "data": {
      "text/html": [
       "<div>\n",
       "<style scoped>\n",
       "    .dataframe tbody tr th:only-of-type {\n",
       "        vertical-align: middle;\n",
       "    }\n",
       "\n",
       "    .dataframe tbody tr th {\n",
       "        vertical-align: top;\n",
       "    }\n",
       "\n",
       "    .dataframe thead th {\n",
       "        text-align: right;\n",
       "    }\n",
       "</style>\n",
       "<table border=\"1\" class=\"dataframe\">\n",
       "  <thead>\n",
       "    <tr style=\"text-align: right;\">\n",
       "      <th></th>\n",
       "      <th>net_tfa</th>\n",
       "    </tr>\n",
       "    <tr>\n",
       "      <th>e401</th>\n",
       "      <th></th>\n",
       "    </tr>\n",
       "  </thead>\n",
       "  <tbody>\n",
       "    <tr>\n",
       "      <th>0</th>\n",
       "      <td>NaN</td>\n",
       "    </tr>\n",
       "    <tr>\n",
       "      <th>1</th>\n",
       "      <td>19559.34475</td>\n",
       "    </tr>\n",
       "  </tbody>\n",
       "</table>\n",
       "</div>"
      ],
      "text/plain": [
       "          net_tfa\n",
       "e401             \n",
       "0             NaN\n",
       "1     19559.34475"
      ]
     },
     "execution_count": 14,
     "metadata": {},
     "output_type": "execute_result"
    }
   ],
   "source": [
    "data[['e401', 'net_tfa']].groupby('e401').mean().diff()"
   ]
  },
  {
   "cell_type": "markdown",
   "metadata": {
    "papermill": {
     "duration": 0.041187,
     "end_time": "2021-03-24T14:13:54.437695",
     "exception": false,
     "start_time": "2021-03-24T14:13:54.396508",
     "status": "completed"
    },
    "tags": []
   },
   "source": [
    "Among the $3682$ individuals that  are eligible, $2594$ decided to participate in the program. The unconditional APE of p401 is about $27372$:"
   ]
  },
  {
   "cell_type": "code",
   "execution_count": 15,
   "metadata": {
    "papermill": {
     "duration": 0.078062,
     "end_time": "2021-03-24T14:13:54.557173",
     "exception": false,
     "start_time": "2021-03-24T14:13:54.479111",
     "status": "completed"
    },
    "tags": []
   },
   "outputs": [
    {
     "data": {
      "text/html": [
       "<div>\n",
       "<style scoped>\n",
       "    .dataframe tbody tr th:only-of-type {\n",
       "        vertical-align: middle;\n",
       "    }\n",
       "\n",
       "    .dataframe tbody tr th {\n",
       "        vertical-align: top;\n",
       "    }\n",
       "\n",
       "    .dataframe thead th {\n",
       "        text-align: right;\n",
       "    }\n",
       "</style>\n",
       "<table border=\"1\" class=\"dataframe\">\n",
       "  <thead>\n",
       "    <tr style=\"text-align: right;\">\n",
       "      <th></th>\n",
       "      <th>net_tfa</th>\n",
       "    </tr>\n",
       "    <tr>\n",
       "      <th>p401</th>\n",
       "      <th></th>\n",
       "    </tr>\n",
       "  </thead>\n",
       "  <tbody>\n",
       "    <tr>\n",
       "      <th>0</th>\n",
       "      <td>NaN</td>\n",
       "    </tr>\n",
       "    <tr>\n",
       "      <th>1</th>\n",
       "      <td>27371.583404</td>\n",
       "    </tr>\n",
       "  </tbody>\n",
       "</table>\n",
       "</div>"
      ],
      "text/plain": [
       "           net_tfa\n",
       "p401              \n",
       "0              NaN\n",
       "1     27371.583404"
      ]
     },
     "execution_count": 15,
     "metadata": {},
     "output_type": "execute_result"
    }
   ],
   "source": [
    "data[['p401', 'net_tfa']].groupby('p401').mean().diff()"
   ]
  },
  {
   "cell_type": "markdown",
   "metadata": {
    "papermill": {
     "duration": 0.041678,
     "end_time": "2021-03-24T14:13:54.640532",
     "exception": false,
     "start_time": "2021-03-24T14:13:54.598854",
     "status": "completed"
    },
    "tags": []
   },
   "source": [
    "As discussed, these estimates are biased since they do not account for saver heterogeneity and endogeneity of participation."
   ]
  },
  {
   "cell_type": "markdown",
   "metadata": {
    "papermill": {
     "duration": 0.041283,
     "end_time": "2021-03-24T14:13:54.723664",
     "exception": false,
     "start_time": "2021-03-24T14:13:54.682381",
     "status": "completed"
    },
    "tags": []
   },
   "source": [
    "## Double ML package"
   ]
  },
  {
   "cell_type": "markdown",
   "metadata": {
    "papermill": {
     "duration": 0.041034,
     "end_time": "2021-03-24T14:13:54.806271",
     "exception": false,
     "start_time": "2021-03-24T14:13:54.765237",
     "status": "completed"
    },
    "tags": []
   },
   "source": [
    "We are interested in valid estimators of the average treatment effect of `e401` and `p401` on `net_tfa`. To get those estimators, we use the `DoubleML` package that internally builds on mlr3. You find additional information on the package on the package website https://docs.doubleml.org/ and the R documentation page https://docs.doubleml.org/r/stable/. "
   ]
  },
  {
   "cell_type": "markdown",
   "metadata": {
    "papermill": {
     "duration": 0.045129,
     "end_time": "2021-03-24T14:16:45.537784",
     "exception": false,
     "start_time": "2021-03-24T14:16:45.492655",
     "status": "completed"
    },
    "tags": []
   },
   "source": [
    "As mentioned, in the tutorial we use the meta package `mlr3` to generate predictions with machine learning methods. A comprehensive introduction and description of the `mlr3` package is provided in the [mlr3book](https://mlr3book.mlr-org.com/). A list of all learners that you can use in `mlr3` can be found [here](https://mlr3extralearners.mlr-org.com/articles/learners/list_learners.html). The entry in the columns *mlr3 Package* and *Packages* indicate which packages must be installed/loaded in your R session. "
   ]
  },
  {
   "cell_type": "markdown",
   "metadata": {
    "papermill": {
     "duration": 0.044769,
     "end_time": "2021-03-24T14:16:45.625738",
     "exception": false,
     "start_time": "2021-03-24T14:16:45.580969",
     "status": "completed"
    },
    "tags": []
   },
   "source": [
    "## Estimating the ATE of 401(k) Eligibility on Net Financial Assets"
   ]
  },
  {
   "cell_type": "markdown",
   "metadata": {
    "papermill": {
     "duration": 0.043232,
     "end_time": "2021-03-24T14:16:45.711972",
     "exception": false,
     "start_time": "2021-03-24T14:16:45.668740",
     "status": "completed"
    },
    "tags": []
   },
   "source": [
    "We first look at the treatment effect of e401 on net total financial assets. We give estimates of the ATE and ATT that corresponds to the linear model\n",
    "\n",
    "$$\n",
    "\\begin{align}\n",
    "Y = D \\alpha + f(X)'\\beta+ \\epsilon\n",
    "\\end{align}\n",
    "$$\n",
    "\n",
    "where $f(X)$ includes indicators of marital status, two-earner status, defined benefit pension status, IRA participation status, and home ownership status, and  orthogonal polynomials of degrees 2, 4, 6 and 8 in family size, education, age and  income, respectively. The dimensions of $f(X)$ is 25. \n",
    "\n",
    "In the first step, we report estimates of the average treatment effect (ATE) of 401(k) eligibility on net financial assets both in the partially linear regression (PLR) model and in the interactive regression model (IRM) allowing for heterogeneous treatment effects. \n"
   ]
  },
  {
   "cell_type": "markdown",
   "metadata": {},
   "source": [
    "We can not use np.log in `inc` variable since it has negative values. As a result, we got a column with some `None` values. Those observations have problems with `poly.fit_transform` function since it does not admit `NaN` values **(uncomment and run the code below for a example)**. I decided to low down the degree of the polynomial to **6** for some estimations: random forest, decision trees, etc. So, we are going to use create datasets: **data_ml** (8 degree `inc`) and **data_ml_aux** (6 degree `inc`)."
   ]
  },
  {
   "cell_type": "markdown",
   "metadata": {},
   "source": [
    "### Main Data"
   ]
  },
  {
   "cell_type": "code",
   "execution_count": 16,
   "metadata": {},
   "outputs": [
    {
     "name": "stdout",
     "output_type": "stream",
     "text": [
      "25\n"
     ]
    }
   ],
   "source": [
    "# Constructing the data (as DoubleMLData)\n",
    "features = data.copy()[['marr', 'twoearn', 'db', 'pira', 'hown']]\n",
    "\n",
    "poly_dict = {'age': 6,\n",
    "             'inc': 8,\n",
    "             'educ': 4,\n",
    "             'fsize': 2}\n",
    "for key, degree in poly_dict.items():\n",
    "    poly = PolynomialFeatures(degree, include_bias=False)\n",
    "    data_transf = poly.fit_transform(data[[key]])\n",
    "    x_cols = poly.get_feature_names([key])\n",
    "    data_transf = pd.DataFrame(data_transf, columns=x_cols)\n",
    "    \n",
    "    features = pd.concat((features, data_transf),\n",
    "                          axis=1, sort=False)\n",
    "\n",
    "model_flex = pd.concat((data.copy()[['net_tfa', 'e401']], features.copy()),\n",
    "                        axis=1, sort=False)\n",
    "\n",
    "x_cols = model_flex.columns.to_list()[2:]\n",
    "\n",
    "# Initialize DoubleMLData (data-backend of DoubleML)\n",
    "data_ml = dml.DoubleMLData(model_flex, y_col='net_tfa', \\\n",
    "                           d_cols ='e401' , x_cols = x_cols)\n",
    "\n",
    "p = model_flex.shape[1] - 2\n",
    "print(p)"
   ]
  },
  {
   "cell_type": "markdown",
   "metadata": {},
   "source": [
    "### Auxiliary data\n",
    "We are going to use this data since sklearn has some problems with values greater than `float32`."
   ]
  },
  {
   "cell_type": "code",
   "execution_count": 17,
   "metadata": {},
   "outputs": [],
   "source": [
    "# Constructing the data (as DoubleMLData)\n",
    "features = data.copy()[['marr', 'twoearn', 'db', 'pira', 'hown']]\n",
    "\n",
    "poly_dict = {'age': 6,\n",
    "             'inc': 6,\n",
    "             'educ': 4,\n",
    "             'fsize': 2}\n",
    "for key, degree in poly_dict.items():\n",
    "    poly = PolynomialFeatures(degree, include_bias=False)\n",
    "    data_transf = poly.fit_transform(data[[key]])\n",
    "    x_cols = poly.get_feature_names([key])\n",
    "    data_transf = pd.DataFrame(data_transf, columns=x_cols)\n",
    "    \n",
    "    features = pd.concat((features, data_transf),\n",
    "                          axis=1, sort=False)\n",
    "\n",
    "model_flex = pd.concat((data.copy()[['net_tfa', 'e401']], features.copy()),\n",
    "                        axis=1, sort=False)\n",
    "\n",
    "x_cols = model_flex.columns.to_list()[2:]\n",
    "\n",
    "# Initialize DoubleMLData (data-backend of DoubleML)\n",
    "data_ml_aux = dml.DoubleMLData(model_flex, y_col='net_tfa', \\\n",
    "                           d_cols ='e401' , x_cols = x_cols)"
   ]
  },
  {
   "cell_type": "code",
   "execution_count": 29,
   "metadata": {},
   "outputs": [],
   "source": [
    "# data_interactions\n",
    "#fetch_401K( return_type  = 'DataFrame' , polynomial_features = True )"
   ]
  },
  {
   "cell_type": "markdown",
   "metadata": {
    "papermill": {
     "duration": 0.047299,
     "end_time": "2021-03-24T14:16:46.176537",
     "exception": false,
     "start_time": "2021-03-24T14:16:46.129238",
     "status": "completed"
    },
    "tags": []
   },
   "source": [
    "## Partially Linear Regression Models (PLR)"
   ]
  },
  {
   "cell_type": "markdown",
   "metadata": {
    "papermill": {
     "duration": 0.044606,
     "end_time": "2021-03-24T14:16:46.266797",
     "exception": false,
     "start_time": "2021-03-24T14:16:46.222191",
     "status": "completed"
    },
    "tags": []
   },
   "source": [
    "We start using lasso to estimate the function $g_0$ and $m_0$ in the following PLR model:"
   ]
  },
  {
   "cell_type": "markdown",
   "metadata": {
    "papermill": {
     "duration": 0.044208,
     "end_time": "2021-03-24T14:16:46.355767",
     "exception": false,
     "start_time": "2021-03-24T14:16:46.311559",
     "status": "completed"
    },
    "tags": []
   },
   "source": [
    "$$\n",
    "\\begin{align}\\tag{1}\n",
    "Y = D\\theta_0 + g_0(X) + \\zeta,  &  E[\\zeta \\mid D,X]= 0,\\\\\n",
    "\\end{align}\n",
    "$$\n",
    "\n",
    "$$\n",
    "\\begin{align}\\tag{2}\n",
    "D = m_0(X) +  V,   &  E[V \\mid X] = 0.\n",
    "\\end{align}\n",
    "$$"
   ]
  },
  {
   "cell_type": "code",
   "execution_count": 30,
   "metadata": {
    "scrolled": true
   },
   "outputs": [
    {
     "data": {
      "text/html": [
       "<div>\n",
       "<style scoped>\n",
       "    .dataframe tbody tr th:only-of-type {\n",
       "        vertical-align: middle;\n",
       "    }\n",
       "\n",
       "    .dataframe tbody tr th {\n",
       "        vertical-align: top;\n",
       "    }\n",
       "\n",
       "    .dataframe thead th {\n",
       "        text-align: right;\n",
       "    }\n",
       "</style>\n",
       "<table border=\"1\" class=\"dataframe\">\n",
       "  <thead>\n",
       "    <tr style=\"text-align: right;\">\n",
       "      <th></th>\n",
       "      <th>coef</th>\n",
       "      <th>std err</th>\n",
       "      <th>t</th>\n",
       "      <th>P&gt;|t|</th>\n",
       "      <th>2.5 %</th>\n",
       "      <th>97.5 %</th>\n",
       "    </tr>\n",
       "  </thead>\n",
       "  <tbody>\n",
       "    <tr>\n",
       "      <th>e401</th>\n",
       "      <td>8919.577401</td>\n",
       "      <td>1325.857662</td>\n",
       "      <td>6.727402</td>\n",
       "      <td>1.727192e-11</td>\n",
       "      <td>6320.944135</td>\n",
       "      <td>11518.210667</td>\n",
       "    </tr>\n",
       "  </tbody>\n",
       "</table>\n",
       "</div>"
      ],
      "text/plain": [
       "             coef      std err         t         P>|t|        2.5 %  \\\n",
       "e401  8919.577401  1325.857662  6.727402  1.727192e-11  6320.944135   \n",
       "\n",
       "            97.5 %  \n",
       "e401  11518.210667  "
      ]
     },
     "execution_count": 30,
     "metadata": {},
     "output_type": "execute_result"
    }
   ],
   "source": [
    "# Initialize learners\n",
    "Cs = 0.0001*np.logspace(0, 4, 10)\n",
    "lasso = make_pipeline(StandardScaler(), LassoCV(cv=5, max_iter=10000))\n",
    "lasso_class = make_pipeline(StandardScaler(),\n",
    "                            LogisticRegressionCV(cv=5, penalty='l1', solver='liblinear',\n",
    "                                                 Cs = Cs, max_iter=1000))\n",
    "\n",
    "np.random.seed(123)\n",
    "# Initialize DoubleMLPLR model\n",
    "dml_plr = dml.DoubleMLPLR(data_ml_aux,\n",
    "                                ml_g = lasso,\n",
    "                                ml_m = lasso_class,\n",
    "                                n_folds = 3)\n",
    "\n",
    "dml_plr.fit(store_predictions=True)\n",
    "\n",
    "lasso_plr = dml_plr.summary.coef[0]\n",
    "lasso_std_plr = dml_plr.summary['std err'][0]\n",
    "dml_plr.summary"
   ]
  },
  {
   "cell_type": "markdown",
   "metadata": {
    "papermill": {
     "duration": 0.04484,
     "end_time": "2021-03-24T14:17:09.488491",
     "exception": false,
     "start_time": "2021-03-24T14:17:09.443651",
     "status": "completed"
    },
    "tags": []
   },
   "source": [
    "Let us check the predictive performance of this model."
   ]
  },
  {
   "cell_type": "code",
   "execution_count": 44,
   "metadata": {},
   "outputs": [
    {
     "data": {
      "text/plain": [
       "['ml_l', 'ml_m']"
      ]
     },
     "execution_count": 44,
     "metadata": {},
     "output_type": "execute_result"
    }
   ],
   "source": [
    "dml_plr.params_names"
   ]
  },
  {
   "cell_type": "code",
   "execution_count": 31,
   "metadata": {
    "scrolled": true
   },
   "outputs": [
    {
     "name": "stdout",
     "output_type": "stream",
     "text": [
      "['ml_l', 'ml_m']\n"
     ]
    }
   ],
   "source": [
    "print(dml_plr.params_names)\n",
    "g_hat = dml_plr.predictions[dml_plr.params_names[0]].flatten() # predictions of g_o\n",
    "m_hat = dml_plr.predictions[dml_plr.params_names[1]].flatten() # predictions of m_o"
   ]
  },
  {
   "cell_type": "code",
   "execution_count": 32,
   "metadata": {},
   "outputs": [
    {
     "data": {
      "text/plain": [
       "54342.02430847791"
      ]
     },
     "execution_count": 32,
     "metadata": {},
     "output_type": "execute_result"
    }
   ],
   "source": [
    "y = pension.net_tfa.to_numpy()\n",
    "theta = dml_plr.coef[ 0 ]\n",
    "d = pension.e401.to_numpy()\n",
    "predictions_y = d*theta + g_hat\n",
    "lasso_y_rmse = np.sqrt( np.mean( ( y - predictions_y ) ** 2 ) ) \n",
    "lasso_y_rmse"
   ]
  },
  {
   "cell_type": "code",
   "execution_count": 33,
   "metadata": {},
   "outputs": [
    {
     "name": "stdout",
     "output_type": "stream",
     "text": [
      "0.4585164421000309\n"
     ]
    },
    {
     "data": {
      "text/plain": [
       "0.31376701966717097"
      ]
     },
     "execution_count": 33,
     "metadata": {},
     "output_type": "execute_result"
    }
   ],
   "source": [
    "# cross-fitted RMSE: treatment\n",
    "d = pension.e401.to_numpy()\n",
    "lasso_d_rmse = np.sqrt( np.mean( ( d - m_hat ) ** 2 ) )\n",
    "print( lasso_d_rmse )\n",
    "# cross-fitted ce: treatment\n",
    "np.mean( ( m_hat > 0.5 ) * 1 != d )"
   ]
  },
  {
   "cell_type": "markdown",
   "metadata": {
    "papermill": {
     "duration": 0.048205,
     "end_time": "2021-03-24T14:17:09.946894",
     "exception": false,
     "start_time": "2021-03-24T14:17:09.898689",
     "status": "completed"
    },
    "tags": []
   },
   "source": [
    "Then, we repeat this procedure for various machine learning methods."
   ]
  },
  {
   "cell_type": "markdown",
   "metadata": {},
   "source": [
    "### Sklearn VS Ranger\n",
    "\n",
    "| Sklearn **(by default)**          | Ranger **(by default) [info](https://www.jstatsoft.org/article/view/v077i01)** \t|\n",
    "|--------------------------------\t|-----------------------\t|\n",
    "| max_features = “auto” =n_features | mtry = Null = 0         \t|\n",
    "| max_depth = None       \t        | max.depth = Null = 0     \t|\n",
    "| min_samples_leaf = 1\t            | min.node.size = Null = 0 \t|\n",
    "| n_estimators = 100                | num.trees = 500     \t    |"
   ]
  },
  {
   "cell_type": "markdown",
   "metadata": {},
   "source": [
    "We assured that `data_ml` in **Python** is exactly like the data generated by **R**. \\\n",
    "Even though we tried to adjust parameters of Sklearn models to meet default values of ranger, we could not overcome the NA  and Inf problems in predictions. We decided to use another package, `skranger`, which is a simil of `ranger` in **Python**. However, we got some problems installing the package in Windows10.\n",
    "\n",
    "After reviewing the packages and reading [this repository](https://github.com/bikashkarmokar/float32_bug_sklearn), we conclude that Sklearn has problems with values greater than `float32`, and `sklearn` consider these values as `Inf`. Based on that information, we decided to use tha auxiliary data (**data_ml_aux**) for `RandomForestRegressor` and `DecisionTreeRegressor`."
   ]
  },
  {
   "cell_type": "markdown",
   "metadata": {},
   "source": [
    "We are going to use only income up to 6th grade since, `sklearn` has problems with numbers greater than float32. We decided to reduce numbers' size."
   ]
  },
  {
   "cell_type": "markdown",
   "metadata": {},
   "source": [
    "The `data_ml` in **Python** is equal to the generated by **R**."
   ]
  },
  {
   "cell_type": "markdown",
   "metadata": {
    "papermill": {
     "duration": 0.04819,
     "end_time": "2021-03-24T14:18:12.746400",
     "exception": false,
     "start_time": "2021-03-24T14:18:12.698210",
     "status": "completed"
    },
    "tags": []
   },
   "source": [
    "We can compare the accuracy of this model to the model that has been estimated with lasso."
   ]
  },
  {
   "cell_type": "code",
   "execution_count": 34,
   "metadata": {},
   "outputs": [
    {
     "name": "stdout",
     "output_type": "stream",
     "text": [
      "58456.527347918534\n",
      "0.4659644938522823\n"
     ]
    },
    {
     "data": {
      "text/plain": [
       "0.3495713565305093"
      ]
     },
     "execution_count": 34,
     "metadata": {},
     "output_type": "execute_result"
    }
   ],
   "source": [
    "# Random Forest\n",
    "randomForest = RandomForestRegressor(\n",
    "    n_estimators = 500  )\n",
    "\n",
    "randomForest_class = RandomForestClassifier(\n",
    "    n_estimators = 500 )\n",
    "\n",
    "\n",
    "dml_plr = dml.DoubleMLPLR(data_ml_aux, ml_g = randomForest, \\\n",
    "                         ml_m = randomForest_class, n_folds = 3)\n",
    "\n",
    "dml_plr.fit(store_predictions=True)\n",
    "\n",
    "dml_plr.summary\n",
    "\n",
    "forest_plr = dml_plr.coef\n",
    "forest_std_plr = dml_plr.summary[ 'std err' ]\n",
    "\n",
    "# Evaluation predictions\n",
    "g_hat = dml_plr.predictions[dml_plr.params_names[0]].flatten() # predictions of g_o\n",
    "m_hat = dml_plr.predictions[dml_plr.params_names[1]].flatten() # predictions of m_o\n",
    "\n",
    "y = pension.net_tfa.to_numpy()\n",
    "theta = dml_plr.coef[ 0 ]\n",
    "predictions_y = d*theta + g_hat\n",
    "forest_y_rmse = np.sqrt( np.mean( ( y - predictions_y ) ** 2 ) ) \n",
    "print( forest_y_rmse )\n",
    "\n",
    "# cross-fitted RMSE: treatment\n",
    "forest_d_rmse = np.sqrt( np.mean( ( d - m_hat ) ** 2 ) )\n",
    "print( forest_d_rmse )\n",
    "# cross-fitted ce: treatment\n",
    "np.mean( ( m_hat > 0.5 ) * 1 != d )"
   ]
  },
  {
   "cell_type": "markdown",
   "metadata": {},
   "source": [
    "### Sklearn VS Rpart\n",
    "\n",
    "| Sklearn (default)                                  \t| Rpart.control (defualt)           \t|\n",
    "|----------------------------------------------------\t|-----------------------------------\t|\n",
    "| min_samples_split = 2                              \t| minsplit = 20                     \t|\n",
    "| max_depth = None (pure tree\\| < min_samples_split) \t| maxdepth = 30                     \t|\n",
    "| min_samples_leaf = 1                               \t| minbucket = round( `minsplit`/3 ) \t|\n",
    "| ccp_alpha = 0.0                                    \t| cp = 0.01 (doubts)                \t|"
   ]
  },
  {
   "cell_type": "code",
   "execution_count": 45,
   "metadata": {},
   "outputs": [
    {
     "name": "stdout",
     "output_type": "stream",
     "text": [
      "             coef      std err         t         P>|t|        2.5 %  \\\n",
      "e401  8594.661891  1383.808638  6.210875  5.269052e-10  5882.446799   \n",
      "\n",
      "            97.5 %  \n",
      "e401  11306.876983  \n",
      "58017.721042321384\n",
      "0.4546690531536573\n"
     ]
    },
    {
     "data": {
      "text/plain": [
       "0.35269793242561776"
      ]
     },
     "execution_count": 45,
     "metadata": {},
     "output_type": "execute_result"
    }
   ],
   "source": [
    "# Trees\n",
    "trees = DecisionTreeRegressor(\n",
    "        max_depth=30, ccp_alpha=0.01, min_samples_split=20, \\\n",
    "        min_samples_leaf= np.round(20/3).astype(int))\n",
    "\n",
    "trees_class = DecisionTreeClassifier( max_depth=30, ccp_alpha=0.01, \\\n",
    "                min_samples_split=20, \\\n",
    "                min_samples_leaf= np.round(20/3).astype(int) )\n",
    "\n",
    "np.random.seed(123)\n",
    "dml_plr = dml.DoubleMLPLR(data_ml_aux,\n",
    "                               ml_g = trees,\n",
    "                               ml_m = trees_class,\n",
    "                               n_folds = 3)\n",
    "dml_plr.fit(store_predictions=True)\n",
    "tree_summary = dml_plr.summary\n",
    "print(tree_summary)\n",
    "\n",
    "dml_plr.fit(store_predictions=True)\n",
    "dml_plr.summary\n",
    "\n",
    "tree_plr = dml_plr.coef\n",
    "tree_std_plr = dml_plr.summary[ 'std err' ]\n",
    "\n",
    "# Evaluation predictions\n",
    "g_hat = dml_plr.predictions[dml_plr.params_names[0]].flatten() # predictions of g_o\n",
    "m_hat = dml_plr.predictions[dml_plr.params_names[1]].flatten() # predictions of m_o\n",
    "\n",
    "y = pension.net_tfa.to_numpy()\n",
    "theta = dml_plr.coef[ 0 ]\n",
    "predictions_y = d*theta + g_hat\n",
    "tree_y_rmse = np.sqrt( np.mean( ( y - predictions_y ) ** 2 ) ) \n",
    "print( tree_y_rmse )\n",
    "\n",
    "# cross-fitted RMSE: treatment\n",
    "tree_d_rmse = np.sqrt( np.mean( ( d - m_hat ) ** 2 ) )\n",
    "print( tree_d_rmse )\n",
    "# cross-fitted ce: treatment\n",
    "np.mean( ( m_hat > 0.5 ) * 1 != d )"
   ]
  },
  {
   "cell_type": "code",
   "execution_count": 47,
   "metadata": {},
   "outputs": [
    {
     "name": "stdout",
     "output_type": "stream",
     "text": [
      "             coef      std err         t         P>|t|        2.5 %  \\\n",
      "e401  9129.263678  1471.781415  6.202867  5.544386e-10  6244.625111   \n",
      "\n",
      "            97.5 %  \n",
      "e401  12013.902244  \n",
      "62126.68237198471\n",
      "0.4629817464588606\n"
     ]
    },
    {
     "data": {
      "text/plain": [
       "0.33605648008068584"
      ]
     },
     "execution_count": 47,
     "metadata": {},
     "output_type": "execute_result"
    }
   ],
   "source": [
    "# Boosted Trees\n",
    "boost = XGBRegressor(n_jobs=1, objective = \"reg:squarederror\" )\n",
    "boost_class = XGBClassifier(use_label_encoder=False, n_jobs=1,\n",
    "                            objective = \"binary:logistic\", \\\n",
    "                            eval_metric = \"logloss\" )\n",
    "\n",
    "np.random.seed(123)\n",
    "dml_plr = dml.DoubleMLPLR( data_ml_aux ,\n",
    "                                ml_g = boost,\n",
    "                                ml_m = boost_class,\n",
    "                                n_folds = 3)\n",
    "dml_plr.fit(store_predictions=True)\n",
    "boost_summary = dml_plr.summary\n",
    "print( boost_summary )\n",
    "\n",
    "boost_plr = dml_plr.coef\n",
    "boost_std_plr = dml_plr.summary[ 'std err' ]\n",
    "\n",
    "# Evaluation predictions\n",
    "g_hat = dml_plr.predictions[dml_plr.params_names[0]].flatten() # predictions of g_o\n",
    "m_hat = dml_plr.predictions[dml_plr.params_names[1]].flatten() # predictions of m_o\n",
    "y = pension.net_tfa.to_numpy()\n",
    "theta = dml_plr.coef[ 0 ]\n",
    "predictions_y = d*theta + g_hat\n",
    "\n",
    "boost_y_rmse = np.sqrt( np.mean( ( y - predictions_y ) ** 2 ) ) \n",
    "print( boost_y_rmse )\n",
    "\n",
    "# cross-fitted RMSE: treatment\n",
    "boost_d_rmse = np.sqrt( np.mean( ( d - m_hat ) ** 2 ) )\n",
    "print( boost_d_rmse )\n",
    "\n",
    "# cross-fitted ce: treatment\n",
    "np.mean( ( m_hat > 0.5 ) * 1 != d )"
   ]
  },
  {
   "cell_type": "markdown",
   "metadata": {
    "papermill": {
     "duration": 0.057943,
     "end_time": "2021-03-24T14:18:15.717190",
     "exception": false,
     "start_time": "2021-03-24T14:18:15.659247",
     "status": "completed"
    },
    "tags": []
   },
   "source": [
    "Let's sum up the results:"
   ]
  },
  {
   "cell_type": "code",
   "execution_count": 48,
   "metadata": {},
   "outputs": [
    {
     "data": {
      "text/html": [
       "<div>\n",
       "<style scoped>\n",
       "    .dataframe tbody tr th:only-of-type {\n",
       "        vertical-align: middle;\n",
       "    }\n",
       "\n",
       "    .dataframe tbody tr th {\n",
       "        vertical-align: top;\n",
       "    }\n",
       "\n",
       "    .dataframe thead th {\n",
       "        text-align: right;\n",
       "    }\n",
       "</style>\n",
       "<table border=\"1\" class=\"dataframe\">\n",
       "  <thead>\n",
       "    <tr style=\"text-align: right;\">\n",
       "      <th></th>\n",
       "      <th>Lasso</th>\n",
       "      <th>Random Forest</th>\n",
       "      <th>Trees</th>\n",
       "      <th>Boosting</th>\n",
       "    </tr>\n",
       "  </thead>\n",
       "  <tbody>\n",
       "    <tr>\n",
       "      <th>Estimate</th>\n",
       "      <td>8919.577401</td>\n",
       "      <td>8702.588054</td>\n",
       "      <td>8601.584926</td>\n",
       "      <td>9129.263678</td>\n",
       "    </tr>\n",
       "    <tr>\n",
       "      <th>Std.Error</th>\n",
       "      <td>1325.857662</td>\n",
       "      <td>1310.423641</td>\n",
       "      <td>1383.825475</td>\n",
       "      <td>1471.781415</td>\n",
       "    </tr>\n",
       "    <tr>\n",
       "      <th>RMSE Y</th>\n",
       "      <td>54342.024308</td>\n",
       "      <td>58456.527348</td>\n",
       "      <td>58017.721042</td>\n",
       "      <td>62126.682372</td>\n",
       "    </tr>\n",
       "    <tr>\n",
       "      <th>RMSE D</th>\n",
       "      <td>0.458516</td>\n",
       "      <td>0.465964</td>\n",
       "      <td>0.454669</td>\n",
       "      <td>0.462982</td>\n",
       "    </tr>\n",
       "  </tbody>\n",
       "</table>\n",
       "</div>"
      ],
      "text/plain": [
       "                  Lasso  Random Forest         Trees      Boosting\n",
       "Estimate    8919.577401    8702.588054   8601.584926   9129.263678\n",
       "Std.Error   1325.857662    1310.423641   1383.825475   1471.781415\n",
       "RMSE Y     54342.024308   58456.527348  58017.721042  62126.682372\n",
       "RMSE D         0.458516       0.465964      0.454669      0.462982"
      ]
     },
     "execution_count": 48,
     "metadata": {},
     "output_type": "execute_result"
    }
   ],
   "source": [
    "table = np.zeros( (4, 4) )\n",
    "table[0,0:4] = lasso_plr,forest_plr[0],tree_plr[0],boost_plr[0]\n",
    "table[1,0:4] = lasso_std_plr,forest_std_plr,tree_std_plr,boost_std_plr\n",
    "table[2,0:4] = lasso_y_rmse,forest_y_rmse,tree_y_rmse,boost_y_rmse\n",
    "table[3,0:4] = lasso_d_rmse,forest_d_rmse,tree_d_rmse,boost_d_rmse\n",
    "table_pd = pd.DataFrame( table , index = [\"Estimate\",\"Std.Error\",\"RMSE Y\",\"RMSE D\" ], \\\n",
    "            columns = [ \"Lasso\",\"Random Forest\",\"Trees\",\"Boosting\"])\n",
    "table_pd"
   ]
  },
  {
   "cell_type": "markdown",
   "metadata": {
    "papermill": {
     "duration": 0.056641,
     "end_time": "2021-03-24T14:18:16.044675",
     "exception": false,
     "start_time": "2021-03-24T14:18:15.988034",
     "status": "completed"
    },
    "tags": []
   },
   "source": [
    "The best model with lowest RMSE in both equation is the PLR model estimated via lasso. It gives the following estimate:"
   ]
  },
  {
   "cell_type": "markdown",
   "metadata": {
    "papermill": {
     "duration": 0.056567,
     "end_time": "2021-03-24T14:18:16.296870",
     "exception": false,
     "start_time": "2021-03-24T14:18:16.240303",
     "status": "completed"
    },
    "tags": []
   },
   "source": [
    "## Interactive Regression Model (IRM)"
   ]
  },
  {
   "cell_type": "markdown",
   "metadata": {
    "papermill": {
     "duration": 0.057315,
     "end_time": "2021-03-24T14:18:16.410105",
     "exception": false,
     "start_time": "2021-03-24T14:18:16.352790",
     "status": "completed"
    },
    "tags": []
   },
   "source": [
    "Next, we consider estimation of average treatment effects when treatment effects are fully heterogeneous:"
   ]
  },
  {
   "cell_type": "markdown",
   "metadata": {
    "papermill": {
     "duration": 0.05644,
     "end_time": "2021-03-24T14:18:16.525113",
     "exception": false,
     "start_time": "2021-03-24T14:18:16.468673",
     "status": "completed"
    },
    "tags": []
   },
   "source": [
    "$$\n",
    "\\begin{align}\\tag{3}\n",
    " & Y  = g_0(D, X) + U,  &  \\quad E[U \\mid X, D]= 0,\\\\\n",
    "\\end{align} \n",
    "$$\n",
    "\n",
    "$$\n",
    "\\begin{align}\\tag{4}\n",
    "  & D  = m_0(X) + V,  & \\quad  E[V\\mid X] = 0.\n",
    "\\end{align}\n",
    "$$"
   ]
  },
  {
   "cell_type": "markdown",
   "metadata": {
    "papermill": {
     "duration": 0.056073,
     "end_time": "2021-03-24T14:18:16.637385",
     "exception": false,
     "start_time": "2021-03-24T14:18:16.581312",
     "status": "completed"
    },
    "tags": []
   },
   "source": [
    "To reduce the disproportionate impact of extreme propensity score weights in the interactive model\n",
    "we trim the propensity scores which are close to the bounds."
   ]
  },
  {
   "cell_type": "markdown",
   "metadata": {},
   "source": [
    "We have problems with the **Lasso code**. When we run the code with the main data (**data_ml**) we got a very high coefficient (30964, **uncomment and run the code below to see results**). However, when I run the code with the auxiliary data (**data_aux**), I get results similar to the R output.  I assume that `inc^7` and `inc^8` variables are making troubles in Sklearn models."
   ]
  },
  {
   "cell_type": "code",
   "execution_count": 49,
   "metadata": {
    "tags": []
   },
   "outputs": [
    {
     "name": "stdout",
     "output_type": "stream",
     "text": [
      "             coef      std err         t         P>|t|        2.5 %  \\\n",
      "e401  8089.763322  1270.047728  6.369653  1.894563e-10  5600.515516   \n",
      "\n",
      "            97.5 %  \n",
      "e401  10579.011127  \n",
      "['ml_g0', 'ml_g1', 'ml_m']\n",
      "54497.27607070186\n",
      "0.45851619758764794\n"
     ]
    },
    {
     "data": {
      "text/plain": [
       "0.31376701966717097"
      ]
     },
     "execution_count": 49,
     "metadata": {},
     "output_type": "execute_result"
    }
   ],
   "source": [
    "# Lasso\n",
    "lasso = make_pipeline(StandardScaler(), LassoCV(cv=5, max_iter=20000))\n",
    "\n",
    "# Initialize DoubleMLIRM model\n",
    "np.random.seed(123)\n",
    "dml_irm = dml.DoubleMLIRM(data_ml_aux,\n",
    "                          ml_g = lasso,\n",
    "                          ml_m = lasso_class,\n",
    "                          trimming_threshold = 0.01,\n",
    "                          n_folds = 3)\n",
    "dml_irm.fit(store_predictions=True) \n",
    "lasso_summary = dml_irm.summary\n",
    "print(dml_irm.summary)\n",
    "\n",
    "lasso_irm = dml_irm.coef[0]\n",
    "lasso_std_irm = dml_irm.se[0]\n",
    "\n",
    "print(dml_irm.params_names)\n",
    "\n",
    "y = pension.net_tfa.to_numpy()\n",
    "\n",
    "d = pension.e401.to_numpy()\n",
    "\n",
    "# predictions\n",
    "g0_hat = dml_irm.predictions['ml_g0'].flatten() # predictions of g_0(D=0, X)\n",
    "g1_hat = dml_irm.predictions['ml_g1'].flatten() # predictions of g_0(D=1, X)\n",
    "g_hat = d * g1_hat + ( 1 - d )*g0_hat # predictions of g_0\n",
    "m_hat = dml_irm.predictions['ml_m'].flatten() # predictions of m_o\n",
    "\n",
    "lasso_y_irm = np.sqrt( np.mean( ( y - g_hat ) ** 2 ) ) \n",
    "print( lasso_y_irm )\n",
    "\n",
    "# cross-fitted RMSE: treatment\n",
    "lasso_d_irm = np.sqrt( np.mean( ( d - m_hat ) ** 2 ) )\n",
    "print( lasso_d_irm )\n",
    "\n",
    "# cross-fitted ce: treatment\n",
    "np.mean( ( m_hat > 0.5 ) * 1 != d )"
   ]
  },
  {
   "cell_type": "code",
   "execution_count": 50,
   "metadata": {},
   "outputs": [
    {
     "name": "stdout",
     "output_type": "stream",
     "text": [
      "             coef      std err         t         P>|t|        2.5 %  \\\n",
      "e401  8429.821206  1521.201806  5.541554  2.997999e-08  5448.320453   \n",
      "\n",
      "           97.5 %  \n",
      "e401  11411.32196  \n",
      "56839.92174410771\n",
      "0.46312674664653625\n"
     ]
    },
    {
     "data": {
      "text/plain": [
       "0.33767019667170955"
      ]
     },
     "execution_count": 50,
     "metadata": {},
     "output_type": "execute_result"
    }
   ],
   "source": [
    "# Random Forest\n",
    "randomForest = RandomForestRegressor(n_estimators=500)\n",
    "randomForest_class = RandomForestClassifier(n_estimators=500)\n",
    "\n",
    "np.random.seed(123)\n",
    "dml_irm = dml.DoubleMLIRM(data_ml_aux,\n",
    "                                 ml_g = randomForest,\n",
    "                                 ml_m = randomForest_class,\n",
    "                                 trimming_threshold = 0.01,\n",
    "                                 n_folds = 3)\n",
    "\n",
    "\n",
    "dml_irm.fit( store_predictions = True ) \n",
    "forest_summary = dml_irm.summary\n",
    "print( forest_summary )\n",
    "\n",
    "forest_irm = dml_irm.coef[ 0 ]\n",
    "forest_std_irm = dml_irm.se[ 0 ]\n",
    "\n",
    "y = pension.net_tfa.to_numpy()\n",
    "d = pension.e401.to_numpy()\n",
    "\n",
    "\n",
    "# predictions\n",
    "g0_hat = dml_irm.predictions['ml_g0'].flatten() # predictions of g_0(D=0, X)\n",
    "g1_hat = dml_irm.predictions['ml_g1'].flatten() # predictions of g_0(D=1, X)\n",
    "g_hat = d * g1_hat + ( 1 - d )*g0_hat # predictions of g_0\n",
    "m_hat = dml_irm.predictions['ml_m'].flatten() # predictions of m_o\n",
    "\n",
    "forest_y_irm = np.sqrt( np.mean( ( y - g_hat ) ** 2 ) ) \n",
    "print( forest_y_irm )\n",
    "\n",
    "# cross-fitted RMSE: treatment\n",
    "forest_d_irm = np.sqrt( np.mean( ( d - m_hat ) ** 2 ) )\n",
    "print( forest_d_irm )\n",
    "\n",
    "# cross-fitted ce: treatment\n",
    "np.mean( ( m_hat > 0.5 ) * 1 != d )"
   ]
  },
  {
   "cell_type": "code",
   "execution_count": 51,
   "metadata": {},
   "outputs": [
    {
     "name": "stdout",
     "output_type": "stream",
     "text": [
      "             coef      std err         t         P>|t|        2.5 %  \\\n",
      "e401  7462.262513  1171.316712  6.370832  1.880049e-10  5166.523942   \n",
      "\n",
      "           97.5 %  \n",
      "e401  9758.001083  \n",
      "56517.04167292204\n",
      "0.4546690531536573\n"
     ]
    },
    {
     "data": {
      "text/plain": [
       "0.35269793242561776"
      ]
     },
     "execution_count": 51,
     "metadata": {},
     "output_type": "execute_result"
    }
   ],
   "source": [
    "# Trees\n",
    "trees = DecisionTreeRegressor(\n",
    "    max_depth=30, ccp_alpha=0.01, min_samples_split=20, min_samples_leaf=67)\n",
    "trees_class = DecisionTreeClassifier(\n",
    "    max_depth=30, ccp_alpha=0.01, min_samples_split=20, min_samples_leaf=34)\n",
    "\n",
    "np.random.seed(123)\n",
    "dml_irm = dml.DoubleMLIRM(data_ml_aux,\n",
    "                                 ml_g = trees,\n",
    "                                 ml_m = trees_class,\n",
    "                                 trimming_threshold = 0.01,\n",
    "                                 n_folds = 3)\n",
    "\n",
    "\n",
    "dml_irm.fit( store_predictions = True ) \n",
    "tree_summary = dml_irm.summary\n",
    "print( tree_summary )\n",
    "\n",
    "tree_irm = dml_irm.coef[ 0 ]\n",
    "tree_std_irm = dml_irm.se[ 0 ]\n",
    "\n",
    "y = pension.net_tfa.to_numpy()\n",
    "d = pension.e401.to_numpy()\n",
    "\n",
    "\n",
    "# predictions\n",
    "g0_hat = dml_irm.predictions['ml_g0'].flatten() # predictions of g_0(D=0, X)\n",
    "g1_hat = dml_irm.predictions['ml_g1'].flatten() # predictions of g_0(D=1, X)\n",
    "g_hat = d * g1_hat + ( 1 - d )*g0_hat # predictions of g_0\n",
    "m_hat = dml_irm.predictions['ml_m'].flatten() # predictions of m_o\n",
    "\n",
    "tree_y_irm = np.sqrt( np.mean( ( y - g_hat ) ** 2 ) ) \n",
    "print( tree_y_irm )\n",
    "\n",
    "# cross-fitted RMSE: treatment\n",
    "tree_d_irm = np.sqrt( np.mean( ( d - m_hat ) ** 2 ) )\n",
    "print( tree_d_irm )\n",
    "\n",
    "# cross-fitted ce: treatment\n",
    "np.mean( ( m_hat > 0.5 ) * 1 != d )"
   ]
  },
  {
   "cell_type": "code",
   "execution_count": 52,
   "metadata": {},
   "outputs": [
    {
     "name": "stdout",
     "output_type": "stream",
     "text": [
      "             coef      std err        t     P>|t|        2.5 %       97.5 %\n",
      "e401  9756.926817  2500.320649  3.90227  0.000095  4856.388395  14657.46524\n",
      "61594.80967416296\n",
      "0.46296289075787445\n"
     ]
    },
    {
     "data": {
      "text/plain": [
       "0.33605648008068584"
      ]
     },
     "execution_count": 52,
     "metadata": {},
     "output_type": "execute_result"
    }
   ],
   "source": [
    "# Boosted Trees\n",
    "boost = XGBRegressor(n_jobs=1, objective = \"reg:squarederror\")\n",
    "boost_class = XGBClassifier(use_label_encoder=False, n_jobs=1,\n",
    "                            objective = \"binary:logistic\", eval_metric = \"logloss\")\n",
    "\n",
    "np.random.seed(123)\n",
    "dml_irm = dml.DoubleMLIRM(data_ml_aux,\n",
    "                                 ml_g = boost,\n",
    "                                 ml_m = boost_class,\n",
    "                                 trimming_threshold = 0.01,\n",
    "                                 n_folds = 3)\n",
    "\n",
    "\n",
    "dml_irm.fit( store_predictions = True ) \n",
    "boost_summary = dml_irm.summary\n",
    "print( boost_summary )\n",
    "\n",
    "boost_irm = dml_irm.coef[ 0 ]\n",
    "boost_std_irm = dml_irm.se[ 0 ]\n",
    "\n",
    "y = pension.net_tfa.to_numpy()\n",
    "d = pension.e401.to_numpy()\n",
    "\n",
    "\n",
    "# predictions\n",
    "g0_hat = dml_irm.predictions['ml_g0'].flatten() # predictions of g_0(D=0, X)\n",
    "g1_hat = dml_irm.predictions['ml_g1'].flatten() # predictions of g_0(D=1, X)\n",
    "g_hat = d * g1_hat + ( 1 - d )*g0_hat # predictions of g_0\n",
    "m_hat = dml_irm.predictions['ml_m'].flatten() # predictions of m_o\n",
    "\n",
    "boost_y_irm = np.sqrt( np.mean( ( y - g_hat ) ** 2 ) ) \n",
    "print( boost_y_irm )\n",
    "\n",
    "# cross-fitted RMSE: treatment\n",
    "boost_d_irm = np.sqrt( np.mean( ( d - m_hat ) ** 2 ) )\n",
    "print( boost_d_irm )\n",
    "\n",
    "# cross-fitted ce: treatment\n",
    "np.mean( ( m_hat > 0.5 ) * 1 != d )"
   ]
  },
  {
   "cell_type": "code",
   "execution_count": 53,
   "metadata": {},
   "outputs": [
    {
     "data": {
      "text/html": [
       "<div>\n",
       "<style scoped>\n",
       "    .dataframe tbody tr th:only-of-type {\n",
       "        vertical-align: middle;\n",
       "    }\n",
       "\n",
       "    .dataframe tbody tr th {\n",
       "        vertical-align: top;\n",
       "    }\n",
       "\n",
       "    .dataframe thead th {\n",
       "        text-align: right;\n",
       "    }\n",
       "</style>\n",
       "<table border=\"1\" class=\"dataframe\">\n",
       "  <thead>\n",
       "    <tr style=\"text-align: right;\">\n",
       "      <th></th>\n",
       "      <th>Lasso</th>\n",
       "      <th>Random Forest</th>\n",
       "      <th>Trees</th>\n",
       "      <th>Boosting</th>\n",
       "    </tr>\n",
       "  </thead>\n",
       "  <tbody>\n",
       "    <tr>\n",
       "      <th>Estimate</th>\n",
       "      <td>8089.763322</td>\n",
       "      <td>8429.821206</td>\n",
       "      <td>7462.262513</td>\n",
       "      <td>9756.926817</td>\n",
       "    </tr>\n",
       "    <tr>\n",
       "      <th>Std.Error</th>\n",
       "      <td>1270.047728</td>\n",
       "      <td>1521.201806</td>\n",
       "      <td>1171.316712</td>\n",
       "      <td>2500.320649</td>\n",
       "    </tr>\n",
       "    <tr>\n",
       "      <th>RMSE Y</th>\n",
       "      <td>54497.276071</td>\n",
       "      <td>56839.921744</td>\n",
       "      <td>56517.041673</td>\n",
       "      <td>61594.809674</td>\n",
       "    </tr>\n",
       "    <tr>\n",
       "      <th>RMSE D</th>\n",
       "      <td>0.458516</td>\n",
       "      <td>0.463127</td>\n",
       "      <td>0.454669</td>\n",
       "      <td>0.462963</td>\n",
       "    </tr>\n",
       "  </tbody>\n",
       "</table>\n",
       "</div>"
      ],
      "text/plain": [
       "                  Lasso  Random Forest         Trees      Boosting\n",
       "Estimate    8089.763322    8429.821206   7462.262513   9756.926817\n",
       "Std.Error   1270.047728    1521.201806   1171.316712   2500.320649\n",
       "RMSE Y     54497.276071   56839.921744  56517.041673  61594.809674\n",
       "RMSE D         0.458516       0.463127      0.454669      0.462963"
      ]
     },
     "execution_count": 53,
     "metadata": {},
     "output_type": "execute_result"
    }
   ],
   "source": [
    "table2 = np.zeros( (4, 4) )\n",
    "table2[0,0:4] = lasso_irm,forest_irm,tree_irm,boost_irm\n",
    "table2[1,0:4] = lasso_std_irm,forest_std_irm,tree_std_irm,boost_std_irm\n",
    "table2[2,0:4] = lasso_y_irm,forest_y_irm,tree_y_irm,boost_y_irm\n",
    "table2[3,0:4] = lasso_d_irm,forest_d_irm,tree_d_irm,boost_d_irm\n",
    "\n",
    "table2_pd = pd.DataFrame( table2 , index = [\"Estimate\",\"Std.Error\",\"RMSE Y\",\"RMSE D\" ], \\\n",
    "            columns = [ \"Lasso\",\"Random Forest\",\"Trees\",\"Boosting\"])\n",
    "table2_pd"
   ]
  },
  {
   "cell_type": "markdown",
   "metadata": {
    "papermill": {
     "duration": 0.067113,
     "end_time": "2021-03-24T14:19:35.736036",
     "exception": false,
     "start_time": "2021-03-24T14:19:35.668923",
     "status": "completed"
    },
    "tags": []
   },
   "source": [
    "Here, Random Forest gives the best prediction rule for $g_0$ and Lasso the best prediction rule for $m_0$, respectively. Let us fit the IRM model using the best ML method for each equation to get a final estimate for the treatment effect of eligibility."
   ]
  },
  {
   "cell_type": "code",
   "execution_count": 54,
   "metadata": {},
   "outputs": [
    {
     "name": "stdout",
     "output_type": "stream",
     "text": [
      "             coef      std err         t         P>|t|        2.5 %  \\\n",
      "e401  8403.399751  1348.088788  6.233565  4.559366e-10  5761.194279   \n",
      "\n",
      "            97.5 %  \n",
      "e401  11045.605224  \n"
     ]
    }
   ],
   "source": [
    "np.random.seed(123)\n",
    "dml_irm = dml.DoubleMLIRM(data_ml_aux,\n",
    "                          ml_g = randomForest,\n",
    "                          ml_m = lasso_class,\n",
    "                          trimming_threshold = 0.01,\n",
    "                          n_folds = 3)\n",
    "\n",
    "dml_irm.fit(store_predictions=True) \n",
    "print( dml_irm.summary )\n",
    "\n",
    "best_irm = dml_irm.coef[0]\n",
    "best_std_irm = dml_irm.se[0]"
   ]
  },
  {
   "cell_type": "markdown",
   "metadata": {
    "papermill": {
     "duration": 0.066697,
     "end_time": "2021-03-24T14:20:21.555921",
     "exception": false,
     "start_time": "2021-03-24T14:20:21.489224",
     "status": "completed"
    },
    "tags": []
   },
   "source": [
    "These estimates that flexibly account for confounding are\n",
    "substantially attenuated relative to the baseline estimate (*19559*) that does not account for confounding. They suggest much smaller causal effects of 401(k) eligiblity on financial asset holdings. "
   ]
  },
  {
   "cell_type": "markdown",
   "metadata": {
    "papermill": {
     "duration": 0.06665,
     "end_time": "2021-03-24T14:20:21.689265",
     "exception": false,
     "start_time": "2021-03-24T14:20:21.622615",
     "status": "completed"
    },
    "tags": []
   },
   "source": [
    "## Local Average Treatment Effects of 401(k) Participation on Net Financial Assets"
   ]
  },
  {
   "cell_type": "markdown",
   "metadata": {
    "papermill": {
     "duration": 0.067774,
     "end_time": "2021-03-24T14:20:21.824102",
     "exception": false,
     "start_time": "2021-03-24T14:20:21.756328",
     "status": "completed"
    },
    "tags": []
   },
   "source": [
    "## Interactive IV Model (IIVM)"
   ]
  },
  {
   "cell_type": "markdown",
   "metadata": {
    "papermill": {
     "duration": 0.066857,
     "end_time": "2021-03-24T14:20:21.957598",
     "exception": false,
     "start_time": "2021-03-24T14:20:21.890741",
     "status": "completed"
    },
    "tags": []
   },
   "source": [
    "Now, we consider estimation of local average treatment effects (LATE) of participation with the binary instrument `e401`. As before, $Y$ denotes the outcome `net_tfa`, and $X$ is the vector of covariates.  Here the structural equation model is:\n",
    "\n",
    "$$\n",
    "\\begin{align}\\tag{5}\n",
    "& Y = g_0(Z,X) + U, &\\quad E[U\\mid Z,X] = 0,\\\\\n",
    "\\end{align}\n",
    "$$\n",
    "\n",
    "$$\n",
    "\\begin{align}\\tag{6}\n",
    "& D = r_0(Z,X) + V, &\\quad E[V\\mid Z, X] = 0,\\\\\n",
    "\\end{align}\n",
    "$$\n",
    "\n",
    "$$\n",
    "\\begin{align}\\tag{7}\n",
    "& Z = m_0(X) + \\zeta, &\\quad E[\\zeta \\mid X] = 0.\n",
    "\\end{align}\n",
    "$$"
   ]
  },
  {
   "cell_type": "code",
   "execution_count": null,
   "metadata": {},
   "outputs": [],
   "source": [
    "# # Constructing the data (as DoubleMLData)\n",
    "# features = data.copy()[['marr', 'twoearn', 'db', 'pira', 'hown']]\n",
    "\n",
    "# poly_dict = {'age': 6,\n",
    "#              'inc': 8,\n",
    "#              'educ': 4,\n",
    "#              'fsize': 2}\n",
    "# for key, degree in poly_dict.items():\n",
    "#     poly = PolynomialFeatures(degree, include_bias=False)\n",
    "#     data_transf = poly.fit_transform(data[[key]])\n",
    "#     x_cols = poly.get_feature_names([key])\n",
    "#     data_transf = pd.DataFrame(data_transf, columns=x_cols)\n",
    "    \n",
    "#     features = pd.concat((features, data_transf),\n",
    "#                           axis=1, sort=False)\n",
    "\n",
    "# model_flex2 = pd.concat((data.copy()[['net_tfa', 'p401' , 'e401']], features.copy()),\n",
    "#                         axis=1, sort=False)\n",
    "\n",
    "# x_cols = model_flex2.columns.to_list()[3:]\n",
    "\n",
    "# # Initialize DoubleMLData (data-backend of DoubleML)\n",
    "# data_IV = dml.DoubleMLData(model_flex2, y_col='net_tfa', \\\n",
    "#                                d_cols ='p401' , z_cols = 'e401' , \\\n",
    "#                                x_cols = x_cols)"
   ]
  },
  {
   "cell_type": "code",
   "execution_count": 55,
   "metadata": {},
   "outputs": [],
   "source": [
    "# Constructing the data (as DoubleMLData)\n",
    "features = data.copy()[['marr', 'twoearn', 'db', 'pira', 'hown']]\n",
    "\n",
    "poly_dict = {'age': 6,\n",
    "             'inc': 6,\n",
    "             'educ': 4,\n",
    "             'fsize': 2}\n",
    "for key, degree in poly_dict.items():\n",
    "    poly = PolynomialFeatures(degree, include_bias=False)\n",
    "    data_transf = poly.fit_transform(data[[key]])\n",
    "    x_cols = poly.get_feature_names([key])\n",
    "    data_transf = pd.DataFrame(data_transf, columns=x_cols)\n",
    "    \n",
    "    features = pd.concat((features, data_transf),\n",
    "                          axis=1, sort=False)\n",
    "\n",
    "model_flex2 = pd.concat((data.copy()[['net_tfa', 'p401' , 'e401']], features.copy()),\n",
    "                        axis=1, sort=False)\n",
    "\n",
    "x_cols = model_flex2.columns.to_list()[3:]\n",
    "\n",
    "# Initialize DoubleMLData (data-backend of DoubleML)\n",
    "data_IV_aux = dml.DoubleMLData(model_flex2, y_col='net_tfa', \\\n",
    "                               d_cols ='p401' , z_cols = 'e401' , \\\n",
    "                               x_cols = x_cols)"
   ]
  },
  {
   "cell_type": "code",
   "execution_count": 56,
   "metadata": {},
   "outputs": [
    {
     "name": "stdout",
     "output_type": "stream",
     "text": [
      "              coef      std err         t         P>|t|        2.5 %  \\\n",
      "p401  11764.551405  1842.601194  6.384752  1.716756e-10  8153.119428   \n",
      "\n",
      "            97.5 %  \n",
      "p401  15375.983383  \n"
     ]
    }
   ],
   "source": [
    "# Lasso\n",
    "lasso = make_pipeline(StandardScaler(), LassoCV(cv=5, max_iter=20000))\n",
    "\n",
    "# Initialize DoubleMLIRM model\n",
    "np.random.seed(123)\n",
    "dml_MLIIVM = dml.DoubleMLIIVM(data_IV_aux,\n",
    "                                  ml_g = lasso,\n",
    "                                  ml_m = lasso_class,\n",
    "                                  ml_r = lasso_class,\n",
    "                                  subgroups = {'always_takers': False,\n",
    "                                             'never_takers': True},\n",
    "                                  trimming_threshold = 0.01,\n",
    "                                  n_folds = 3)\n",
    "\n",
    "dml_MLIIVM.fit(store_predictions=True)\n",
    "lasso_summary = dml_MLIIVM.summary\n",
    "print( lasso_summary )\n",
    "lasso_MLIIVM = dml_MLIIVM.coef[ 0 ]\n",
    "lasso_std_MLIIVM = dml_MLIIVM.se[ 0 ]"
   ]
  },
  {
   "cell_type": "markdown",
   "metadata": {
    "papermill": {
     "duration": 0.069118,
     "end_time": "2021-03-24T14:20:43.830269",
     "exception": false,
     "start_time": "2021-03-24T14:20:43.761151",
     "status": "completed"
    },
    "tags": []
   },
   "source": [
    "The confidence interval for the local average treatment effect of participation is given by"
   ]
  },
  {
   "cell_type": "code",
   "execution_count": 57,
   "metadata": {
    "scrolled": true
   },
   "outputs": [
    {
     "data": {
      "text/html": [
       "<div>\n",
       "<style scoped>\n",
       "    .dataframe tbody tr th:only-of-type {\n",
       "        vertical-align: middle;\n",
       "    }\n",
       "\n",
       "    .dataframe tbody tr th {\n",
       "        vertical-align: top;\n",
       "    }\n",
       "\n",
       "    .dataframe thead th {\n",
       "        text-align: right;\n",
       "    }\n",
       "</style>\n",
       "<table border=\"1\" class=\"dataframe\">\n",
       "  <thead>\n",
       "    <tr style=\"text-align: right;\">\n",
       "      <th></th>\n",
       "      <th>2.5 %</th>\n",
       "      <th>97.5 %</th>\n",
       "    </tr>\n",
       "  </thead>\n",
       "  <tbody>\n",
       "    <tr>\n",
       "      <th>p401</th>\n",
       "      <td>8153.119428</td>\n",
       "      <td>15375.983383</td>\n",
       "    </tr>\n",
       "  </tbody>\n",
       "</table>\n",
       "</div>"
      ],
      "text/plain": [
       "            2.5 %        97.5 %\n",
       "p401  8153.119428  15375.983383"
      ]
     },
     "execution_count": 57,
     "metadata": {},
     "output_type": "execute_result"
    }
   ],
   "source": [
    "dml_MLIIVM.confint()"
   ]
  },
  {
   "cell_type": "code",
   "execution_count": 58,
   "metadata": {},
   "outputs": [
    {
     "name": "stdout",
     "output_type": "stream",
     "text": [
      "['ml_g0', 'ml_g1', 'ml_m', 'ml_r0', 'ml_r1']\n",
      "54127.27882639755\n",
      "0.2786204170023307\n",
      "0.45851619758764794\n"
     ]
    }
   ],
   "source": [
    "# variables\n",
    "y = pension.net_tfa.to_numpy()\n",
    "d = pension.p401.to_numpy()\n",
    "z = pension.e401.to_numpy()\n",
    "\n",
    "# predictions\n",
    "print( dml_MLIIVM.params_names )\n",
    "g0_hat = dml_MLIIVM.predictions['ml_g0'].flatten() # predictions of g_0(z=0, X)\n",
    "g1_hat = dml_MLIIVM.predictions['ml_g1'].flatten() # predictions of g_0(z=1, X)\n",
    "g_hat = d * g1_hat + ( 1 - d )*g0_hat # predictions of g_0\n",
    "r0_hat = dml_MLIIVM.predictions['ml_r0'].flatten() # predictions of r_0(z=0, X)\n",
    "r1_hat = dml_MLIIVM.predictions['ml_r1'].flatten() # predictions of r_0(z=1, X)\n",
    "r_hat = z * r1_hat + (1 - z) * r0_hat # predictions of r_0\n",
    "m_hat = dml_MLIIVM.predictions['ml_m'].flatten() # predictions of m_o\n",
    "\n",
    "\n",
    "\n",
    "\n",
    "\n",
    "# cross-fitted RMSE: outcome\n",
    "lasso_y_MLIIVM = np.sqrt( np.mean( ( y - g_hat ) ** 2 ) ) \n",
    "print( lasso_y_MLIIVM )\n",
    "\n",
    "# cross-fitted RMSE: treatment\n",
    "lasso_d_MLIIVM = np.sqrt( np.mean( ( d - r_hat ) ** 2 ) )\n",
    "print( lasso_d_MLIIVM )\n",
    "\n",
    "# cross-fitted RMSE: instrument\n",
    "lasso_z_MLIIVM = np.sqrt( np.mean( ( z - m_hat ) ** 2 ) ) \n",
    "print( lasso_z_MLIIVM )"
   ]
  },
  {
   "cell_type": "markdown",
   "metadata": {
    "papermill": {
     "duration": 0.070907,
     "end_time": "2021-03-24T14:20:44.640829",
     "exception": false,
     "start_time": "2021-03-24T14:20:44.569922",
     "status": "completed"
    },
    "tags": []
   },
   "source": [
    "Again, we repeat the procedure for the other machine learning methods:"
   ]
  },
  {
   "cell_type": "code",
   "execution_count": 59,
   "metadata": {},
   "outputs": [
    {
     "name": "stdout",
     "output_type": "stream",
     "text": [
      "              coef      std err         t         P>|t|        2.5 %  \\\n",
      "p401  11823.312322  2162.030668  5.468615  4.535669e-08  7585.810079   \n",
      "\n",
      "            97.5 %  \n",
      "p401  16060.814565  \n",
      "['ml_g0', 'ml_g1', 'ml_m', 'ml_r0', 'ml_r1']\n",
      "57014.35978884377\n",
      "0.28397007364006993\n",
      "0.46312674664653625\n"
     ]
    }
   ],
   "source": [
    "# Random Forest\n",
    "randomForest = RandomForestRegressor(n_estimators=500)\n",
    "randomForest_class = RandomForestClassifier(n_estimators=500)\n",
    "\n",
    "np.random.seed(123)\n",
    "dml_MLIIVM = dml.DoubleMLIIVM(data_IV_aux,\n",
    "                                  ml_g = randomForest,\n",
    "                                  ml_m = randomForest_class,\n",
    "                                  ml_r = randomForest_class,\n",
    "                                  subgroups = {'always_takers': False,\n",
    "                                             'never_takers': True},\n",
    "                                  trimming_threshold = 0.01,\n",
    "                                  n_folds = 3)\n",
    "\n",
    "dml_MLIIVM.fit(store_predictions=True)\n",
    "forest_summary = dml_MLIIVM.summary\n",
    "print( forest_summary )\n",
    "forest_MLIIVM = dml_MLIIVM.coef[ 0 ]\n",
    "forest_std_MLIIVM = dml_MLIIVM.se[ 0 ]\n",
    "\n",
    "# variables\n",
    "y = pension.net_tfa.to_numpy()\n",
    "d = pension.p401.to_numpy()\n",
    "z = pension.e401.to_numpy()\n",
    "\n",
    "# predictions\n",
    "print( dml_MLIIVM.params_names )\n",
    "g0_hat = dml_MLIIVM.predictions['ml_g0'].flatten() # predictions of g_0(z=0, X)\n",
    "g1_hat = dml_MLIIVM.predictions['ml_g1'].flatten() # predictions of g_0(z=1, X)\n",
    "g_hat = d * g1_hat + ( 1 - d )*g0_hat # predictions of g_0\n",
    "r0_hat = dml_MLIIVM.predictions['ml_r0'].flatten() # predictions of r_0(z=0, X)\n",
    "r1_hat = dml_MLIIVM.predictions['ml_r1'].flatten() # predictions of r_0(z=1, X)\n",
    "r_hat = z * r1_hat + (1 - z) * r0_hat # predictions of r_0\n",
    "m_hat = dml_MLIIVM.predictions['ml_m'].flatten() # predictions of m_o\n",
    "\n",
    "# cross-fitted RMSE: outcome\n",
    "forest_y_MLIIVM = np.sqrt( np.mean( ( y - g_hat ) ** 2 ) ) \n",
    "print( forest_y_MLIIVM )\n",
    "\n",
    "# cross-fitted RMSE: treatment\n",
    "forest_d_MLIIVM = np.sqrt( np.mean( ( d - r_hat ) ** 2 ) )\n",
    "print( forest_d_MLIIVM )\n",
    "\n",
    "# cross-fitted RMSE: instrument\n",
    "forest_z_MLIIVM = np.sqrt( np.mean( ( z - m_hat ) ** 2 ) ) \n",
    "print( forest_z_MLIIVM )"
   ]
  },
  {
   "cell_type": "code",
   "execution_count": 60,
   "metadata": {},
   "outputs": [
    {
     "name": "stdout",
     "output_type": "stream",
     "text": [
      "              coef      std err         t         P>|t|        2.5 %  \\\n",
      "p401  10652.033245  1665.615224  6.395254  1.602802e-10  7387.487395   \n",
      "\n",
      "            97.5 %  \n",
      "p401  13916.579095  \n",
      "['ml_g0', 'ml_g1', 'ml_m', 'ml_r0', 'ml_r1']\n",
      "56317.410732152974\n",
      "0.278215621782697\n",
      "0.4546690531536573\n"
     ]
    }
   ],
   "source": [
    "# Random tree\n",
    "\n",
    "np.random.seed(123)\n",
    "dml_MLIIVM = dml.DoubleMLIIVM(data_IV_aux,\n",
    "                                  ml_g = trees,\n",
    "                                  ml_m = trees_class,\n",
    "                                  ml_r = trees_class,\n",
    "                                  subgroups = {'always_takers': False,\n",
    "                                             'never_takers': True},\n",
    "                                  trimming_threshold = 0.01,\n",
    "                                  n_folds = 3)\n",
    "\n",
    "dml_MLIIVM.fit(store_predictions=True)\n",
    "tree_summary = dml_MLIIVM.summary\n",
    "print( tree_summary )\n",
    "tree_MLIIVM = dml_MLIIVM.coef[ 0 ]\n",
    "tree_std_MLIIVM = dml_MLIIVM.se[ 0 ]\n",
    "\n",
    "# variables\n",
    "y = pension.net_tfa.to_numpy()\n",
    "d = pension.p401.to_numpy()\n",
    "z = pension.e401.to_numpy()\n",
    "\n",
    "# predictions\n",
    "print( dml_MLIIVM.params_names )\n",
    "g0_hat = dml_MLIIVM.predictions['ml_g0'].flatten() # predictions of g_0(z=0, X)\n",
    "g1_hat = dml_MLIIVM.predictions['ml_g1'].flatten() # predictions of g_0(z=1, X)\n",
    "g_hat = d * g1_hat + ( 1 - d )*g0_hat # predictions of g_0\n",
    "r0_hat = dml_MLIIVM.predictions['ml_r0'].flatten() # predictions of r_0(z=0, X)\n",
    "r1_hat = dml_MLIIVM.predictions['ml_r1'].flatten() # predictions of r_0(z=1, X)\n",
    "r_hat = z * r1_hat + (1 - z) * r0_hat # predictions of r_0\n",
    "m_hat = dml_MLIIVM.predictions['ml_m'].flatten() # predictions of m_o\n",
    "\n",
    "\n",
    "\n",
    "\n",
    "\n",
    "# cross-fitted RMSE: outcome\n",
    "tree_y_MLIIVM = np.sqrt( np.mean( ( y - g_hat ) ** 2 ) ) \n",
    "print( tree_y_MLIIVM )\n",
    "\n",
    "# cross-fitted RMSE: treatment\n",
    "tree_d_MLIIVM = np.sqrt( np.mean( ( d - r_hat ) ** 2 ) )\n",
    "print( tree_d_MLIIVM )\n",
    "\n",
    "# cross-fitted RMSE: instrument\n",
    "tree_z_MLIIVM = np.sqrt( np.mean( ( z - m_hat ) ** 2 ) ) \n",
    "print( tree_z_MLIIVM )"
   ]
  },
  {
   "cell_type": "code",
   "execution_count": 61,
   "metadata": {},
   "outputs": [
    {
     "name": "stdout",
     "output_type": "stream",
     "text": [
      "              coef      std err         t     P>|t|        2.5 %        97.5 %\n",
      "p401  13593.184614  3490.834608  3.893964  0.000099  6751.274506  20435.094721\n",
      "['ml_g0', 'ml_g1', 'ml_m', 'ml_r0', 'ml_r1']\n",
      "61407.11615253673\n",
      "0.2960100530837048\n",
      "0.46296289075787445\n"
     ]
    }
   ],
   "source": [
    "# Random boost\n",
    "\n",
    "np.random.seed(123)\n",
    "dml_MLIIVM = dml.DoubleMLIIVM(data_IV_aux,\n",
    "                                  ml_g = boost,\n",
    "                                  ml_m = boost_class,\n",
    "                                  ml_r = boost_class,\n",
    "                                  subgroups = {'always_takers': False,\n",
    "                                             'never_takers': True},\n",
    "                                  trimming_threshold = 0.01,\n",
    "                                  n_folds = 3)\n",
    "\n",
    "dml_MLIIVM.fit(store_predictions=True)\n",
    "boost_summary = dml_MLIIVM.summary\n",
    "print( boost_summary )\n",
    "boost_MLIIVM = dml_MLIIVM.coef[ 0 ]\n",
    "boost_std_MLIIVM = dml_MLIIVM.se[ 0 ]\n",
    "\n",
    "# variables\n",
    "y = pension.net_tfa.to_numpy()\n",
    "d = pension.p401.to_numpy()\n",
    "z = pension.e401.to_numpy()\n",
    "\n",
    "# predictions\n",
    "print( dml_MLIIVM.params_names )\n",
    "g0_hat = dml_MLIIVM.predictions['ml_g0'].flatten() # predictions of g_0(z=0, X)\n",
    "g1_hat = dml_MLIIVM.predictions['ml_g1'].flatten() # predictions of g_0(z=1, X)\n",
    "g_hat = d * g1_hat + ( 1 - d )*g0_hat # predictions of g_0\n",
    "r0_hat = dml_MLIIVM.predictions['ml_r0'].flatten() # predictions of r_0(z=0, X)\n",
    "r1_hat = dml_MLIIVM.predictions['ml_r1'].flatten() # predictions of r_0(z=1, X)\n",
    "r_hat = z * r1_hat + (1 - z) * r0_hat # predictions of r_0\n",
    "m_hat = dml_MLIIVM.predictions['ml_m'].flatten() # predictions of m_o\n",
    "\n",
    "\n",
    "\n",
    "\n",
    "\n",
    "# cross-fitted RMSE: outcome\n",
    "boost_y_MLIIVM = np.sqrt( np.mean( ( y - g_hat ) ** 2 ) ) \n",
    "print( boost_y_MLIIVM )\n",
    "\n",
    "# cross-fitted RMSE: treatment\n",
    "boost_d_MLIIVM = np.sqrt( np.mean( ( d - r_hat ) ** 2 ) )\n",
    "print( boost_d_MLIIVM )\n",
    "\n",
    "# cross-fitted RMSE: instrument\n",
    "boost_z_MLIIVM = np.sqrt( np.mean( ( z - m_hat ) ** 2 ) ) \n",
    "print( boost_z_MLIIVM )"
   ]
  },
  {
   "cell_type": "code",
   "execution_count": 62,
   "metadata": {},
   "outputs": [
    {
     "data": {
      "text/html": [
       "<div>\n",
       "<style scoped>\n",
       "    .dataframe tbody tr th:only-of-type {\n",
       "        vertical-align: middle;\n",
       "    }\n",
       "\n",
       "    .dataframe tbody tr th {\n",
       "        vertical-align: top;\n",
       "    }\n",
       "\n",
       "    .dataframe thead th {\n",
       "        text-align: right;\n",
       "    }\n",
       "</style>\n",
       "<table border=\"1\" class=\"dataframe\">\n",
       "  <thead>\n",
       "    <tr style=\"text-align: right;\">\n",
       "      <th></th>\n",
       "      <th>Lasso</th>\n",
       "      <th>Random Forest</th>\n",
       "      <th>Trees</th>\n",
       "      <th>Boosting</th>\n",
       "    </tr>\n",
       "  </thead>\n",
       "  <tbody>\n",
       "    <tr>\n",
       "      <th>Estimate</th>\n",
       "      <td>11764.551405</td>\n",
       "      <td>11823.312322</td>\n",
       "      <td>10652.033245</td>\n",
       "      <td>13593.184614</td>\n",
       "    </tr>\n",
       "    <tr>\n",
       "      <th>Std.Error</th>\n",
       "      <td>1842.601194</td>\n",
       "      <td>2162.030668</td>\n",
       "      <td>1665.615224</td>\n",
       "      <td>3490.834608</td>\n",
       "    </tr>\n",
       "    <tr>\n",
       "      <th>RMSE Y</th>\n",
       "      <td>54127.278826</td>\n",
       "      <td>57014.359789</td>\n",
       "      <td>56317.410732</td>\n",
       "      <td>61407.116153</td>\n",
       "    </tr>\n",
       "    <tr>\n",
       "      <th>RMSE D</th>\n",
       "      <td>0.278620</td>\n",
       "      <td>0.283970</td>\n",
       "      <td>0.278216</td>\n",
       "      <td>0.296010</td>\n",
       "    </tr>\n",
       "    <tr>\n",
       "      <th>RMSE Z</th>\n",
       "      <td>0.458516</td>\n",
       "      <td>0.463127</td>\n",
       "      <td>0.454669</td>\n",
       "      <td>0.462963</td>\n",
       "    </tr>\n",
       "  </tbody>\n",
       "</table>\n",
       "</div>"
      ],
      "text/plain": [
       "                  Lasso  Random Forest         Trees      Boosting\n",
       "Estimate   11764.551405   11823.312322  10652.033245  13593.184614\n",
       "Std.Error   1842.601194    2162.030668   1665.615224   3490.834608\n",
       "RMSE Y     54127.278826   57014.359789  56317.410732  61407.116153\n",
       "RMSE D         0.278620       0.283970      0.278216      0.296010\n",
       "RMSE Z         0.458516       0.463127      0.454669      0.462963"
      ]
     },
     "execution_count": 62,
     "metadata": {},
     "output_type": "execute_result"
    }
   ],
   "source": [
    "table3 = np.zeros( (5, 4) )\n",
    "table3[0,0:4] = lasso_MLIIVM,forest_MLIIVM,tree_MLIIVM,boost_MLIIVM\n",
    "table3[1,0:4] = lasso_std_MLIIVM,forest_std_MLIIVM,tree_std_MLIIVM,boost_std_MLIIVM\n",
    "table3[2,0:4] = lasso_y_MLIIVM,forest_y_MLIIVM,tree_y_MLIIVM,boost_y_MLIIVM\n",
    "table3[3,0:4] = lasso_d_MLIIVM,forest_d_MLIIVM,tree_d_MLIIVM,boost_d_MLIIVM\n",
    "table3[4,0:4] = lasso_z_MLIIVM,forest_z_MLIIVM,tree_z_MLIIVM,boost_z_MLIIVM\n",
    "\n",
    "table3_pd = pd.DataFrame( table3 , index = [\"Estimate\",\"Std.Error\",\"RMSE Y\",\"RMSE D\",\"RMSE Z\" ], \\\n",
    "            columns = [ \"Lasso\",\"Random Forest\",\"Trees\",\"Boosting\"])\n",
    "table3_pd"
   ]
  },
  {
   "cell_type": "markdown",
   "metadata": {
    "papermill": {
     "duration": 0.078988,
     "end_time": "2021-03-24T14:21:55.191630",
     "exception": false,
     "start_time": "2021-03-24T14:21:55.112642",
     "status": "completed"
    },
    "tags": []
   },
   "source": [
    "We report results based on four ML methods for estimating the nuisance functions used in\n",
    "forming the orthogonal estimating equations. We find again that the estimates of the treatment effect are stable across ML methods. The estimates are highly significant, hence we would reject the hypothesis\n",
    "that the effect of 401(k) participation has no effect on financial health."
   ]
  },
  {
   "cell_type": "markdown",
   "metadata": {
    "papermill": {
     "duration": 0.080777,
     "end_time": "2021-03-24T14:21:55.350975",
     "exception": false,
     "start_time": "2021-03-24T14:21:55.270198",
     "status": "completed"
    },
    "tags": []
   },
   "source": [
    "We might rerun the model using the best ML method for each equation to get a final estimate for the treatment effect of participation:"
   ]
  },
  {
   "cell_type": "code",
   "execution_count": 45,
   "metadata": {},
   "outputs": [
    {
     "name": "stdout",
     "output_type": "stream",
     "text": [
      "              coef      std err         t         P>|t|       2.5 %  \\\n",
      "p401  12220.624723  1957.387719  6.243334  4.283417e-10  8384.21529   \n",
      "\n",
      "            97.5 %  \n",
      "p401  16057.034157  \n"
     ]
    }
   ],
   "source": [
    "# Random best\n",
    "\n",
    "np.random.seed(123)\n",
    "dml_MLIIVM = dml.DoubleMLIIVM(data_IV_aux,\n",
    "                                  ml_g = randomForest,\n",
    "                                  ml_m = lasso_class,\n",
    "                                  ml_r = lasso_class,\n",
    "                                  subgroups = {'always_takers': False,\n",
    "                                             'never_takers': True},\n",
    "                                  trimming_threshold = 0.01,\n",
    "                                  n_folds = 3)\n",
    "\n",
    "dml_MLIIVM.fit(store_predictions=True)\n",
    "best_summary = dml_MLIIVM.summary\n",
    "print( best_summary )\n",
    "best_MLIIVM = dml_MLIIVM.coef[ 0 ]\n",
    "best_std_MLIIVM = dml_MLIIVM.se[ 0 ]"
   ]
  }
 ],
 "metadata": {
  "hide_input": false,
  "kernelspec": {
   "display_name": "Python 3 (ipykernel)",
   "language": "python",
   "name": "python3"
  },
  "language_info": {
   "codemirror_mode": {
    "name": "ipython",
    "version": 3
   },
   "file_extension": ".py",
   "mimetype": "text/x-python",
   "name": "python",
   "nbconvert_exporter": "python",
   "pygments_lexer": "ipython3",
   "version": "3.9.12"
  }
 },
 "nbformat": 4,
 "nbformat_minor": 4
}
