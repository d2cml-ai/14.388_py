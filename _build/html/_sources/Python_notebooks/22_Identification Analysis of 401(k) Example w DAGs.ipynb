{
 "cells": [
  {
   "cell_type": "markdown",
   "id": "9bb69f3b",
   "metadata": {},
   "source": [
    "# Identification Analysis of 401(k) Example w DAGs"
   ]
  },
  {
   "cell_type": "markdown",
   "id": "77392b65",
   "metadata": {},
   "source": [
    "Using Dagitty in the Analysis of Impact of 401(k) on Net Financial Wealth"
   ]
  },
  {
   "cell_type": "code",
   "execution_count": 1,
   "id": "2195fc91",
   "metadata": {},
   "outputs": [],
   "source": [
    "#install and load packages\n",
    "import graphviz as gv\n",
    "from matplotlib import style\n",
    "style.use(\"fivethirtyeight\")\n",
    "from statsmodels.iolib.summary2 import summary_col\n",
    "import matplotlib.pyplot as plt\n",
    "import networkx as nx\n",
    "from optimaladj.CausalGraph import CausalGraph"
   ]
  },
  {
   "cell_type": "markdown",
   "id": "c1414192",
   "metadata": {},
   "source": [
    "Graphs for 401(K) Analsyis"
   ]
  },
  {
   "cell_type": "markdown",
   "id": "fb000f4d",
   "metadata": {},
   "source": [
    " Here we have\n",
    "  * $Y$ -- net financial assets;\n",
    "  * $X$ -- worker characteristics (income, family size, other retirement plans; see lecture notes for details);\n",
    "  * $F$ -- latent (unobserved) firm characteristics\n",
    "  * $D$ -- 401(K) eligibility, deterimined by $F$ and $X$"
   ]
  },
  {
   "cell_type": "markdown",
   "id": "ac1de4ea-a364-4e3c-bcf4-c45aac3ea025",
   "metadata": {},
   "source": [
    "## State one graph (where F determines X) and plot it"
   ]
  },
  {
   "cell_type": "code",
   "execution_count": 2,
   "id": "6649a391-4cea-403b-bea1-12d70ddc68b8",
   "metadata": {},
   "outputs": [
    {
     "data": {
      "image/png": "[encoded data removed]",
      "text/plain": [
       "<Figure size 432x288 with 1 Axes>"
      ]
     },
     "metadata": {},
     "output_type": "display_data"
    }
   ],
   "source": [
    "G1 = CausalGraph()\n",
    "    \n",
    "G1.add_node('Y', latent=False, pos=(4,0))\n",
    "G1.add_node('D', latent=False, pos=(0,0))\n",
    "G1.add_node('X', latent=False, pos=(2,-2))\n",
    "G1.add_node(\"F\", latent=True, pos=(0,-1))\n",
    "pos=nx.get_node_attributes(G1,'pos')\n",
    "\n",
    "G1.add_edge(\"D\", \"Y\")\n",
    "G1.add_edge(\"X\", \"D\")\n",
    "G1.add_edge(\"F\", \"X\")\n",
    "G1.add_edge(\"F\", \"D\")\n",
    "G1.add_edge(\"X\", \"Y\")\n",
    "\n",
    "nx.draw(G1, pos, with_labels = True, style = 'solid',\n",
    "        edge_color=['red' if G1.nodes[e[0]]['latent'] else 'gray' for e in G1.edges],\n",
    "        font_weight='bold', font_size=15, font_color='black',\n",
    "        node_color='white', arrowsize=30)"
   ]
  },
  {
   "cell_type": "markdown",
   "id": "9b6255c9",
   "metadata": {},
   "source": [
    "List minimal adjustment sets to identify causal effecs $D \\to Y$\n"
   ]
  },
  {
   "cell_type": "code",
   "execution_count": 3,
   "id": "8c9e04d2",
   "metadata": {},
   "outputs": [
    {
     "data": {
      "text/plain": [
       "{'X'}"
      ]
     },
     "execution_count": 3,
     "metadata": {},
     "output_type": "execute_result"
    }
   ],
   "source": [
    "G1.optimal_minimal_adj_set(\"D\", \"Y\", [], [\"X\"])"
   ]
  },
  {
   "cell_type": "markdown",
   "id": "74125ceb",
   "metadata": {},
   "source": [
    "What is the underlying principle? \n",
    "\n",
    "Here condition on X blocks backdoor paths from Y to D (Pearl).  Dagitty correctly finds X (and does many more correct decisions, when we consider more elaborate structures. Why do we want to consider more elaborate structures? The very empirical problem requires us to do so!"
   ]
  },
  {
   "cell_type": "markdown",
   "id": "de764cdb",
   "metadata": {},
   "source": [
    "## Another Graph (wherere $X$ determine $F$):"
   ]
  },
  {
   "cell_type": "code",
   "execution_count": 5,
   "id": "41f16a90",
   "metadata": {},
   "outputs": [
    {
     "data": {
      "image/png": "[encoded data removed]",
      "text/plain": [
       "<Figure size 432x288 with 1 Axes>"
      ]
     },
     "metadata": {},
     "output_type": "display_data"
    }
   ],
   "source": [
    "G2 = CausalGraph()\n",
    "    \n",
    "G2.add_node('Y', latent=False, pos=(4,0))\n",
    "G2.add_node('D', latent=False, pos=(0,0))\n",
    "G2.add_node('X', latent=False, pos=(2,-2))\n",
    "G2.add_node(\"F\", latent=True, pos=(0,-1))\n",
    "pos=nx.get_node_attributes(G2,'pos')\n",
    "\n",
    "G2.add_edge(\"D\", \"Y\")\n",
    "G2.add_edge(\"X\", \"D\")\n",
    "G2.add_edge(\"X\", \"F\")\n",
    "G2.add_edge(\"F\", \"D\")\n",
    "G2.add_edge(\"X\", \"Y\")\n",
    "\n",
    "nx.draw(G2, pos, with_labels = True, style = 'solid',\n",
    "        edge_color=['red' if G2.nodes[e[0]]['latent'] else 'gray' for e in G2.edges],\n",
    "        font_weight='bold', font_size=15, font_color='black',\n",
    "        node_color='white', arrowsize=30)"
   ]
  },
  {
   "cell_type": "code",
   "execution_count": 6,
   "id": "42c13f3e",
   "metadata": {},
   "outputs": [
    {
     "data": {
      "text/plain": [
       "{'X'}"
      ]
     },
     "execution_count": 6,
     "metadata": {},
     "output_type": "execute_result"
    }
   ],
   "source": [
    "G2.optimal_minimal_adj_set(\"D\", \"Y\", [], [\"X\"])"
   ]
  },
  {
   "cell_type": "markdown",
   "id": "06f71648",
   "metadata": {},
   "source": [
    "## One more graph (encompassing previous ones), where (F, X) are jointly determined by latent factors $A$. We can allow in fact the whole triple (D, F, X) to be jointly determined by latent factors $A$."
   ]
  },
  {
   "cell_type": "markdown",
   "id": "02e8bbf6",
   "metadata": {},
   "source": [
    "This is much more realistic graph to consider."
   ]
  },
  {
   "cell_type": "code",
   "execution_count": 17,
   "id": "290ba6a4",
   "metadata": {},
   "outputs": [
    {
     "name": "stdout",
     "output_type": "stream",
     "text": [
      "{'X'}\n"
     ]
    },
    {
     "data": {
      "image/png": "[encoded data removed]",
      "text/plain": [
       "<Figure size 432x288 with 1 Axes>"
      ]
     },
     "metadata": {},
     "output_type": "display_data"
    }
   ],
   "source": [
    "G3 = CausalGraph()\n",
    "  \n",
    "G3.add_node('Y', latent=False, pos=(4,0))\n",
    "G3.add_node('D', latent=False, pos=(0,0))\n",
    "G3.add_node('X', latent=False, pos=(2,-2))\n",
    "G3.add_node(\"F\", latent=True, pos=(0,-1))\n",
    "G3.add_node(\"A\", latent=True, pos=(-1,-1))\n",
    "\n",
    "pos=nx.get_node_attributes(G3,'pos')\n",
    "\n",
    "G3.add_edge(\"D\", \"Y\")\n",
    "G3.add_edge(\"X\", \"D\")\n",
    "G3.add_edge(\"F\", \"D\")\n",
    "G3.add_edge(\"A\", \"F\")\n",
    "G3.add_edge(\"A\", \"X\")\n",
    "G3.add_edge(\"A\", \"D\")\n",
    "G3.add_edge(\"X\", \"Y\")\n",
    "\n",
    "print(G3.optimal_minimal_adj_set(\"D\", \"Y\", [], [\"X\"]))\n",
    "\n",
    "nx.draw(G3, pos, with_labels = True, style = 'solid',\n",
    "        edge_color=['red' if G3.nodes[e[0]]['latent'] else 'gray' for e in G3.edges],\n",
    "        font_weight='bold', font_size=15, font_color='black',\n",
    "        node_color='white', arrowsize=30)"
   ]
  },
  {
   "cell_type": "markdown",
   "id": "ea845684",
   "metadata": {},
   "source": [
    "## Threat to Idenitification: What if $F$ also directly affects $Y$? (Note that there are no valid adjustment sets in this case)"
   ]
  },
  {
   "cell_type": "code",
   "execution_count": 25,
   "id": "7cacd175",
   "metadata": {},
   "outputs": [
    {
     "data": {
      "image/png": "[encoded data removed]",
      "text/plain": [
       "<Figure size 432x288 with 1 Axes>"
      ]
     },
     "metadata": {},
     "output_type": "display_data"
    }
   ],
   "source": [
    "G4 = CausalGraph()\n",
    "  \n",
    "G4.add_node('Y', latent=False, pos=(4,0))\n",
    "G4.add_node('D', latent=False, pos=(0,0))\n",
    "G4.add_node('X', latent=False, pos=(2,-2))\n",
    "G4.add_node(\"F\", latent=True, pos=(0,-1))\n",
    "G4.add_node(\"A\", latent=True, pos=(-1,-1))\n",
    "\n",
    "pos=nx.get_node_attributes(G4,'pos')\n",
    "\n",
    "G4.add_edge(\"D\", \"Y\")\n",
    "G4.add_edge(\"X\", \"D\")\n",
    "G4.add_edge(\"F\", \"D\")\n",
    "G4.add_edge(\"A\", \"F\")\n",
    "G4.add_edge(\"A\", \"X\")\n",
    "G4.add_edge(\"A\", \"D\")\n",
    "G4.add_edge(\"F\", \"Y\")\n",
    "G4.add_edge(\"X\", \"Y\")\n",
    "\n",
    "nx.draw(G4, pos, with_labels = True, style = 'solid',\n",
    "        edge_color=['red' if G4.nodes[e[0]]['latent'] else 'gray' for e in G4.edges],\n",
    "        font_weight='bold', font_size=15, font_color='black',\n",
    "        node_color='white', arrowsize=30)"
   ]
  },
  {
   "cell_type": "code",
   "execution_count": 30,
   "id": "8d5d483c",
   "metadata": {},
   "outputs": [
    {
     "ename": "NoAdjException",
     "evalue": "An adjustment set formed by observable variables does not exist",
     "output_type": "error",
     "traceback": [
      "\u001b[1;31m---------------------------------------------------------------------------\u001b[0m",
      "\u001b[1;31mNoAdjException\u001b[0m                            Traceback (most recent call last)",
      "\u001b[1;32mc:\\Users\\User\\Machine_Learning\\book_ml\\Dags\\Dags1.ipynb Celda 20\u001b[0m in \u001b[0;36m<cell line: 1>\u001b[1;34m()\u001b[0m\n\u001b[1;32m----> <a href='vscode-notebook-cell:/c%3A/Users/User/Machine_Learning/book_ml/Dags/Dags1.ipynb#ch0000021?line=0'>1</a>\u001b[0m G4\u001b[39m.\u001b[39;49moptimal_minimal_adj_set(\u001b[39m\"\u001b[39;49m\u001b[39mD\u001b[39;49m\u001b[39m\"\u001b[39;49m, \u001b[39m\"\u001b[39;49m\u001b[39mY\u001b[39;49m\u001b[39m\"\u001b[39;49m, [], [\u001b[39m\"\u001b[39;49m\u001b[39mX\u001b[39;49m\u001b[39m\"\u001b[39;49m])\n",
      "File \u001b[1;32mc:\\Users\\User\\anaconda3\\lib\\site-packages\\optimaladj\\CausalGraph.py:393\u001b[0m, in \u001b[0;36mCausalGraph.optimal_minimal_adj_set\u001b[1;34m(self, treatment, outcome, L, N)\u001b[0m\n\u001b[0;32m    390\u001b[0m H1 \u001b[39m=\u001b[39m \u001b[39mself\u001b[39m\u001b[39m.\u001b[39mbuild_H1(treatment, outcome, L, N)\n\u001b[0;32m    392\u001b[0m \u001b[39mif\u001b[39;00m treatment \u001b[39min\u001b[39;00m H1\u001b[39m.\u001b[39mneighbors(outcome):\n\u001b[1;32m--> 393\u001b[0m     \u001b[39mraise\u001b[39;00m NoAdjException(EXCEPTION_NO_ADJ)\n\u001b[0;32m    394\u001b[0m \u001b[39melse\u001b[39;00m:\n\u001b[0;32m    395\u001b[0m     optimal_minimal \u001b[39m=\u001b[39m \u001b[39mself\u001b[39m\u001b[39m.\u001b[39munblocked(\n\u001b[0;32m    396\u001b[0m         H1, treatment, nx\u001b[39m.\u001b[39mnode_boundary(H1, \u001b[39mset\u001b[39m([outcome]))\n\u001b[0;32m    397\u001b[0m     )\n",
      "\u001b[1;31mNoAdjException\u001b[0m: An adjustment set formed by observable variables does not exist"
     ]
    }
   ],
   "source": [
    "G4.optimal_minimal_adj_set(\"D\", \"Y\", [], [\"X\"])"
   ]
  },
  {
   "cell_type": "markdown",
   "id": "b3a54776-a6c7-483e-b093-6fa5843a4bc8",
   "metadata": {},
   "source": [
    "This last code show us an error because  there is no valid adustment set (among observed variables)"
   ]
  },
  {
   "cell_type": "markdown",
   "id": "c375b47b",
   "metadata": {},
   "source": [
    "How can F affect Y directly? Is it reasonable?\n",
    "## Introduce Match Amount $M$ (very important mediator, why mediator?). $M$ is not observed.  Luckily adjusting for $X$ still works if there is no $F \\to M$ arrow."
   ]
  },
  {
   "cell_type": "code",
   "execution_count": 36,
   "id": "9f3ff25d",
   "metadata": {},
   "outputs": [
    {
     "name": "stdout",
     "output_type": "stream",
     "text": [
      "{'X'}\n"
     ]
    },
    {
     "data": {
      "image/png": "[encoded data removed]",
      "text/plain": [
       "<Figure size 432x288 with 1 Axes>"
      ]
     },
     "metadata": {},
     "output_type": "display_data"
    }
   ],
   "source": [
    "G5 = CausalGraph()\n",
    "  \n",
    "G5.add_node('Y', latent=False, pos=(4,0))\n",
    "G5.add_node('D', latent=False, pos=(0,0))\n",
    "G5.add_node('X', latent=False, pos=(2,-2))\n",
    "G5.add_node(\"F\", latent=True, pos=(0,-1))\n",
    "G5.add_node(\"A\", latent=True, pos=(-1,-1))\n",
    "G5.add_node(\"M\", latent=True, pos=(2,-.5))\n",
    "\n",
    "\n",
    "pos=nx.get_node_attributes(G5,'pos')\n",
    "\n",
    "G5.add_edge(\"D\", \"Y\")\n",
    "G5.add_edge(\"X\", \"D\")\n",
    "G5.add_edge(\"F\", \"D\")\n",
    "G5.add_edge(\"A\", \"F\")\n",
    "G5.add_edge(\"A\", \"X\")\n",
    "G5.add_edge(\"A\", \"D\")\n",
    "G5.add_edge(\"D\", \"M\")\n",
    "G5.add_edge(\"M\", \"Y\")\n",
    "G5.add_edge(\"X\", \"M\")\n",
    "G5.add_edge(\"X\", \"Y\")\n",
    "\n",
    "print(G5.optimal_minimal_adj_set(\"D\", \"Y\", [], [\"X\"]))\n",
    "\n",
    "nx.draw(G5, pos, with_labels = True, style = 'solid',\n",
    "        edge_color=['red' if G5.nodes[e[0]]['latent'] else 'gray' for e in G5.edges],\n",
    "        font_weight='bold', font_size=15, font_color='black',\n",
    "        node_color='white', arrowsize=30)"
   ]
  },
  {
   "cell_type": "markdown",
   "id": "4babd572",
   "metadata": {},
   "source": [
    "## If  there is $F \\to M$ arrow, then adjusting for $X$ is not sufficient."
   ]
  },
  {
   "cell_type": "code",
   "execution_count": 38,
   "id": "4b309b01",
   "metadata": {},
   "outputs": [
    {
     "data": {
      "image/png": "[encoded data removed]",
      "text/plain": [
       "<Figure size 432x288 with 1 Axes>"
      ]
     },
     "metadata": {},
     "output_type": "display_data"
    }
   ],
   "source": [
    "G6 = CausalGraph()\n",
    "  \n",
    "G6.add_node('Y', latent=False, pos=(4,0))\n",
    "G6.add_node('D', latent=False, pos=(0,0))\n",
    "G6.add_node('X', latent=False, pos=(2,-2))\n",
    "G6.add_node(\"F\", latent=True, pos=(0,-1))\n",
    "G6.add_node(\"A\", latent=True, pos=(-1,-1))\n",
    "G6.add_node(\"M\", latent=True, pos=(2,-.5))\n",
    "\n",
    "\n",
    "pos=nx.get_node_attributes(G6,'pos')\n",
    "\n",
    "G6.add_edge(\"D\", \"Y\")\n",
    "G6.add_edge(\"X\", \"D\")\n",
    "G6.add_edge(\"F\", \"D\")\n",
    "G6.add_edge(\"A\", \"F\")\n",
    "G6.add_edge(\"A\", \"X\")\n",
    "G6.add_edge(\"D\", \"M\")\n",
    "G6.add_edge(\"F\", \"M\")\n",
    "G6.add_edge(\"A\", \"D\")\n",
    "G6.add_edge(\"M\", \"Y\")\n",
    "G6.add_edge(\"X\", \"M\")\n",
    "G6.add_edge(\"X\", \"Y\")\n",
    "\n",
    "nx.draw(G6, pos, with_labels = True, style = 'solid',\n",
    "        edge_color=['red' if G6.nodes[e[0]]['latent'] else 'gray' for e in G6.edges],\n",
    "        font_weight='bold', font_size=15, font_color='black',\n",
    "        node_color='white', arrowsize=30)"
   ]
  },
  {
   "cell_type": "code",
   "execution_count": 39,
   "id": "ae025311",
   "metadata": {},
   "outputs": [
    {
     "ename": "NoAdjException",
     "evalue": "An adjustment set formed by observable variables does not exist",
     "output_type": "error",
     "traceback": [
      "\u001b[1;31m---------------------------------------------------------------------------\u001b[0m",
      "\u001b[1;31mNoAdjException\u001b[0m                            Traceback (most recent call last)",
      "\u001b[1;32mc:\\Users\\User\\Machine_Learning\\book_ml\\Dags\\Dags1.ipynb Celda 27\u001b[0m in \u001b[0;36m<cell line: 1>\u001b[1;34m()\u001b[0m\n\u001b[1;32m----> <a href='vscode-notebook-cell:/c%3A/Users/User/Machine_Learning/book_ml/Dags/Dags1.ipynb#ch0000029?line=0'>1</a>\u001b[0m G6\u001b[39m.\u001b[39;49moptimal_minimal_adj_set(\u001b[39m\"\u001b[39;49m\u001b[39mD\u001b[39;49m\u001b[39m\"\u001b[39;49m, \u001b[39m\"\u001b[39;49m\u001b[39mY\u001b[39;49m\u001b[39m\"\u001b[39;49m, [], [\u001b[39m\"\u001b[39;49m\u001b[39mX\u001b[39;49m\u001b[39m\"\u001b[39;49m])\n",
      "File \u001b[1;32mc:\\Users\\User\\anaconda3\\lib\\site-packages\\optimaladj\\CausalGraph.py:393\u001b[0m, in \u001b[0;36mCausalGraph.optimal_minimal_adj_set\u001b[1;34m(self, treatment, outcome, L, N)\u001b[0m\n\u001b[0;32m    390\u001b[0m H1 \u001b[39m=\u001b[39m \u001b[39mself\u001b[39m\u001b[39m.\u001b[39mbuild_H1(treatment, outcome, L, N)\n\u001b[0;32m    392\u001b[0m \u001b[39mif\u001b[39;00m treatment \u001b[39min\u001b[39;00m H1\u001b[39m.\u001b[39mneighbors(outcome):\n\u001b[1;32m--> 393\u001b[0m     \u001b[39mraise\u001b[39;00m NoAdjException(EXCEPTION_NO_ADJ)\n\u001b[0;32m    394\u001b[0m \u001b[39melse\u001b[39;00m:\n\u001b[0;32m    395\u001b[0m     optimal_minimal \u001b[39m=\u001b[39m \u001b[39mself\u001b[39m\u001b[39m.\u001b[39munblocked(\n\u001b[0;32m    396\u001b[0m         H1, treatment, nx\u001b[39m.\u001b[39mnode_boundary(H1, \u001b[39mset\u001b[39m([outcome]))\n\u001b[0;32m    397\u001b[0m     )\n",
      "\u001b[1;31mNoAdjException\u001b[0m: An adjustment set formed by observable variables does not exist"
     ]
    }
   ],
   "source": [
    "G6.optimal_minimal_adj_set(\"D\", \"Y\", [], [\"X\"])"
   ]
  },
  {
   "cell_type": "markdown",
   "id": "de08acb4-1de6-442a-80f5-34f28a68ca81",
   "metadata": {},
   "source": [
    "This last code show us an error because  there is no valid adustment set (among observed variables)"
   ]
  }
 ],
 "metadata": {
  "kernelspec": {
   "display_name": "Python 3 (ipykernel)",
   "language": "python",
   "name": "python3"
  },
  "language_info": {
   "codemirror_mode": {
    "name": "ipython",
    "version": 3
   },
   "file_extension": ".py",
   "mimetype": "text/x-python",
   "name": "python",
   "nbconvert_exporter": "python",
   "pygments_lexer": "ipython3",
   "version": "3.9.12"
  },
  "vscode": {
   "interpreter": {
    "hash": "f08154012ddadd8e950e6e9e035c7a7b32c136e7647e9b7c77e02eb723a8bedb"
   }
  }
 },
 "nbformat": 4,
 "nbformat_minor": 5
}
