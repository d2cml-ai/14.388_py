{
 "cells": [
  {
   "cell_type": "markdown",
   "metadata": {
    "_execution_state": "idle",
    "_uuid": "051d70d956493feee0c6d64651c6a088724dca2a",
    "papermill": {
     "duration": 0.036479,
     "end_time": "2021-02-13T18:19:43.396666",
     "exception": false,
     "start_time": "2021-02-13T18:19:43.360187",
     "status": "completed"
    },
    "tags": []
   },
   "source": [
    "# ML for wage prediction"
   ]
  },
  {
   "cell_type": "markdown",
   "metadata": {
    "papermill": {
     "duration": 0.036639,
     "end_time": "2021-02-13T18:19:43.468425",
     "exception": false,
     "start_time": "2021-02-13T18:19:43.431786",
     "status": "completed"
    },
    "tags": []
   },
   "source": [
    "We illustrate how to predict an outcome variable Y in a high-dimensional setting, where the number of covariates $p$ is large in relation to the sample size $n$. So far we have used linear prediction rules, e.g. Lasso regression, for estimation.\n",
    "Now, we also consider nonlinear prediction rules including tree-based methods."
   ]
  },
  {
   "cell_type": "markdown",
   "metadata": {
    "papermill": {
     "duration": 0.034705,
     "end_time": "2021-02-13T18:19:43.537814",
     "exception": false,
     "start_time": "2021-02-13T18:19:43.503109",
     "status": "completed"
    },
    "tags": []
   },
   "source": [
    "## Data"
   ]
  },
  {
   "cell_type": "markdown",
   "metadata": {
    "papermill": {
     "duration": 0.036082,
     "end_time": "2021-02-13T18:19:43.609347",
     "exception": false,
     "start_time": "2021-02-13T18:19:43.573265",
     "status": "completed"
    },
    "tags": []
   },
   "source": [
    "Again, we consider data from the U.S. March Supplement of the Current Population Survey (CPS) in 2015.\n",
    "The preproccessed sample consists of $5150$ never-married individuals."
   ]
  },
  {
   "cell_type": "code",
   "execution_count": 1,
   "metadata": {},
   "outputs": [],
   "source": [
    "import pandas as pd\n",
    "import numpy as np\n",
    "import pyreadr\n",
    "import os\n",
    "from urllib.request import urlopen\n",
    "import math\n",
    "import matplotlib.pyplot as plt\n",
    "import random\n",
    "import warnings\n",
    "warnings.filterwarnings('ignore')"
   ]
  },
  {
   "cell_type": "code",
   "execution_count": 2,
   "metadata": {},
   "outputs": [
    {
     "data": {
      "text/plain": [
       "(5150, 20)"
      ]
     },
     "execution_count": 2,
     "metadata": {},
     "output_type": "execute_result"
    }
   ],
   "source": [
    "link=\"https://raw.githubusercontent.com/d2cml-ai/14.388_py/main/data/wage2015_subsample_inference.Rdata\"\n",
    "response = urlopen(link)\n",
    "content = response.read()\n",
    "fhandle = open( 'wage2015_subsample_inference.Rdata', 'wb')\n",
    "fhandle.write(content)\n",
    "fhandle.close()\n",
    "result = pyreadr.read_r(\"wage2015_subsample_inference.Rdata\")\n",
    "os.remove(\"wage2015_subsample_inference.Rdata\")\n",
    "\n",
    "# Extracting the data frame from rdata_read\n",
    "data = result[ 'data' ]\n",
    "data.shape"
   ]
  },
  {
   "cell_type": "markdown",
   "metadata": {
    "papermill": {
     "duration": 0.034902,
     "end_time": "2021-02-13T18:19:43.994834",
     "exception": false,
     "start_time": "2021-02-13T18:19:43.959932",
     "status": "completed"
    },
    "tags": []
   },
   "source": [
    "The outcomes $Y_i$'s are hourly (log) wages of never-married workers living in the U.S. The raw regressors $Z_i$'s consist of a variety of characteristics, including experience, education and industry and occupation indicators."
   ]
  },
  {
   "cell_type": "code",
   "execution_count": 3,
   "metadata": {
    "papermill": {
     "duration": 0.091723,
     "end_time": "2021-02-13T18:19:44.123394",
     "exception": false,
     "start_time": "2021-02-13T18:19:44.031671",
     "status": "completed"
    },
    "tags": []
   },
   "outputs": [
    {
     "data": {
      "text/plain": [
       "Index(['sex', 'shs', 'hsg', 'scl', 'clg', 'ad', 'mw', 'so', 'we', 'ne', 'exp1',\n",
       "       'exp2', 'exp3', 'exp4', 'occ', 'occ2', 'ind', 'ind2'],\n",
       "      dtype='object')"
      ]
     },
     "execution_count": 3,
     "metadata": {},
     "output_type": "execute_result"
    }
   ],
   "source": [
    "Z = data.loc[:, 'sex':'ind2']\n",
    "Z.columns"
   ]
  },
  {
   "cell_type": "markdown",
   "metadata": {
    "papermill": {
     "duration": 0.037074,
     "end_time": "2021-02-13T18:19:44.196749",
     "exception": false,
     "start_time": "2021-02-13T18:19:44.159675",
     "status": "completed"
    },
    "tags": []
   },
   "source": [
    "The following figure shows the weekly wage distribution from the US survey data."
   ]
  },
  {
   "cell_type": "code",
   "execution_count": 4,
   "metadata": {},
   "outputs": [],
   "source": [
    "bins_hist = [0, 20, 40, 60, 80, 100, 120, 140, 160, 180, 200, 220, 240, 260, 280, 300 , 320, 340, 360, 380, 400, 420, 440, 460, 480, 500, 520, 540]"
   ]
  },
  {
   "cell_type": "code",
   "execution_count": 5,
   "metadata": {
    "papermill": {
     "duration": 0.443391,
     "end_time": "2021-02-13T18:19:44.677379",
     "exception": false,
     "start_time": "2021-02-13T18:19:44.233988",
     "status": "completed"
    },
    "scrolled": true,
    "tags": []
   },
   "outputs": [
    {
     "data": {
      "text/plain": [
       "(0.0, 3000.0)"
      ]
     },
     "execution_count": 5,
     "metadata": {},
     "output_type": "execute_result"
    },
    {
     "data": {
      "image/png": "[encoded data removed]",
      "text/plain": [
       "<Figure size 432x288 with 1 Axes>"
      ]
     },
     "metadata": {
      "filenames": {
       "image/png": "C:\\Users\\User\\Documents\\GitHub\\14.388_py\\_build\\jupyter_execute\\Python_notebooks\\08_ML_for_wage_prediction_10_1.png"
      },
      "needs_background": "light"
     },
     "output_type": "display_data"
    }
   ],
   "source": [
    "plt.hist(data.wage , bins = np.arange(0, 550, 20) )\n",
    "plt.xlabel('hourly wage')\n",
    "plt.ylabel('Frequency')\n",
    "plt.title( 'Empirical wage distribution from the US survey data' )\n",
    "plt.ylim((0, 3000))"
   ]
  },
  {
   "cell_type": "markdown",
   "metadata": {
    "papermill": {
     "duration": 0.036602,
     "end_time": "2021-02-13T18:19:44.752465",
     "exception": false,
     "start_time": "2021-02-13T18:19:44.715863",
     "status": "completed"
    },
    "tags": []
   },
   "source": [
    "Wages show a high degree of skewness. Hence, wages are transformed in almost all studies by\n",
    "the logarithm."
   ]
  },
  {
   "cell_type": "markdown",
   "metadata": {
    "papermill": {
     "duration": 0.036009,
     "end_time": "2021-02-13T18:19:44.826260",
     "exception": false,
     "start_time": "2021-02-13T18:19:44.790251",
     "status": "completed"
    },
    "tags": []
   },
   "source": [
    "## Analysis"
   ]
  },
  {
   "cell_type": "markdown",
   "metadata": {
    "papermill": {
     "duration": 0.036925,
     "end_time": "2021-02-13T18:19:44.899159",
     "exception": false,
     "start_time": "2021-02-13T18:19:44.862234",
     "status": "completed"
    },
    "tags": []
   },
   "source": [
    "Due to the skewness of the data, we are considering log wages which leads to the following regression model\n",
    "\n",
    "$$log(wage) = g(Z) + \\epsilon.$$"
   ]
  },
  {
   "cell_type": "markdown",
   "metadata": {
    "papermill": {
     "duration": 0.036183,
     "end_time": "2021-02-13T18:19:44.971528",
     "exception": false,
     "start_time": "2021-02-13T18:19:44.935345",
     "status": "completed"
    },
    "tags": []
   },
   "source": [
    "We will estimate the two sets of prediction rules: Linear and Nonlinear Models.\n",
    "In linear models, we estimate the prediction rule of the form\n",
    "\n",
    "$$\\hat g(Z) = \\hat \\beta'X.$$\n",
    "Again, we generate $X$ in two ways:\n",
    " \n",
    "1. Basic Model:   $X$ consists of a set of raw regressors (e.g. gender, experience, education indicators, regional indicators).\n",
    "\n",
    "\n",
    "2. Flexible Model:  $X$ consists of all raw regressors from the basic model plus occupation and industry indicators, transformations (e.g., ${exp}^2$ and ${exp}^3$) and additional two-way interactions.\n"
   ]
  },
  {
   "cell_type": "markdown",
   "metadata": {
    "papermill": {
     "duration": 0.037318,
     "end_time": "2021-02-13T18:19:45.044959",
     "exception": false,
     "start_time": "2021-02-13T18:19:45.007641",
     "status": "completed"
    },
    "tags": []
   },
   "source": [
    "To evaluate the out-of-sample performance, we split the data first."
   ]
  },
  {
   "cell_type": "code",
   "execution_count": 6,
   "metadata": {},
   "outputs": [],
   "source": [
    "nrow = data.shape[0]\n",
    "length = int(nrow*(3/4))\n",
    "data = data.reset_index().drop( 'rownames', axis = 1)"
   ]
  },
  {
   "cell_type": "code",
   "execution_count": 7,
   "metadata": {
    "papermill": {
     "duration": 0.062188,
     "end_time": "2021-02-13T18:19:45.143118",
     "exception": false,
     "start_time": "2021-02-13T18:19:45.080930",
     "status": "completed"
    },
    "tags": []
   },
   "outputs": [],
   "source": [
    "from numpy.random import default_rng\n",
    "\n",
    "\n",
    "random.seed(30)\n",
    "rng = default_rng()\n",
    "training = rng.choice(nrow, size = length, replace=False)\n",
    "training_bool = data.index.isin( training )\n",
    "\n",
    "data_train = data.iloc[training,:]\n",
    "data_test = data[~training_bool]"
   ]
  },
  {
   "cell_type": "code",
   "execution_count": 8,
   "metadata": {},
   "outputs": [
    {
     "data": {
      "text/html": [
       "<div>\n",
       "<style scoped>\n",
       "    .dataframe tbody tr th:only-of-type {\n",
       "        vertical-align: middle;\n",
       "    }\n",
       "\n",
       "    .dataframe tbody tr th {\n",
       "        vertical-align: top;\n",
       "    }\n",
       "\n",
       "    .dataframe thead th {\n",
       "        text-align: right;\n",
       "    }\n",
       "</style>\n",
       "<table border=\"1\" class=\"dataframe\">\n",
       "  <thead>\n",
       "    <tr style=\"text-align: right;\">\n",
       "      <th></th>\n",
       "      <th>wage</th>\n",
       "      <th>lwage</th>\n",
       "      <th>sex</th>\n",
       "      <th>shs</th>\n",
       "      <th>hsg</th>\n",
       "      <th>scl</th>\n",
       "      <th>clg</th>\n",
       "      <th>ad</th>\n",
       "      <th>mw</th>\n",
       "      <th>so</th>\n",
       "      <th>we</th>\n",
       "      <th>ne</th>\n",
       "      <th>exp1</th>\n",
       "      <th>exp2</th>\n",
       "      <th>exp3</th>\n",
       "      <th>exp4</th>\n",
       "      <th>occ</th>\n",
       "      <th>occ2</th>\n",
       "      <th>ind</th>\n",
       "      <th>ind2</th>\n",
       "    </tr>\n",
       "  </thead>\n",
       "  <tbody>\n",
       "    <tr>\n",
       "      <th>4600</th>\n",
       "      <td>17.788462</td>\n",
       "      <td>2.878550</td>\n",
       "      <td>0.0</td>\n",
       "      <td>0.0</td>\n",
       "      <td>0.0</td>\n",
       "      <td>0.0</td>\n",
       "      <td>1.0</td>\n",
       "      <td>0.0</td>\n",
       "      <td>0.0</td>\n",
       "      <td>0.0</td>\n",
       "      <td>1.0</td>\n",
       "      <td>0.0</td>\n",
       "      <td>5.0</td>\n",
       "      <td>0.2500</td>\n",
       "      <td>0.125000</td>\n",
       "      <td>0.062500</td>\n",
       "      <td>1240</td>\n",
       "      <td>3</td>\n",
       "      <td>7580</td>\n",
       "      <td>16</td>\n",
       "    </tr>\n",
       "    <tr>\n",
       "      <th>944</th>\n",
       "      <td>16.827885</td>\n",
       "      <td>2.823037</td>\n",
       "      <td>0.0</td>\n",
       "      <td>0.0</td>\n",
       "      <td>1.0</td>\n",
       "      <td>0.0</td>\n",
       "      <td>0.0</td>\n",
       "      <td>0.0</td>\n",
       "      <td>0.0</td>\n",
       "      <td>0.0</td>\n",
       "      <td>0.0</td>\n",
       "      <td>1.0</td>\n",
       "      <td>5.0</td>\n",
       "      <td>0.2500</td>\n",
       "      <td>0.125000</td>\n",
       "      <td>0.062500</td>\n",
       "      <td>6260</td>\n",
       "      <td>19</td>\n",
       "      <td>770</td>\n",
       "      <td>4</td>\n",
       "    </tr>\n",
       "    <tr>\n",
       "      <th>598</th>\n",
       "      <td>24.725275</td>\n",
       "      <td>3.207826</td>\n",
       "      <td>0.0</td>\n",
       "      <td>0.0</td>\n",
       "      <td>1.0</td>\n",
       "      <td>0.0</td>\n",
       "      <td>0.0</td>\n",
       "      <td>0.0</td>\n",
       "      <td>0.0</td>\n",
       "      <td>0.0</td>\n",
       "      <td>0.0</td>\n",
       "      <td>1.0</td>\n",
       "      <td>23.0</td>\n",
       "      <td>5.2900</td>\n",
       "      <td>12.167000</td>\n",
       "      <td>27.984100</td>\n",
       "      <td>6660</td>\n",
       "      <td>19</td>\n",
       "      <td>9570</td>\n",
       "      <td>22</td>\n",
       "    </tr>\n",
       "    <tr>\n",
       "      <th>4535</th>\n",
       "      <td>14.338731</td>\n",
       "      <td>2.662964</td>\n",
       "      <td>0.0</td>\n",
       "      <td>0.0</td>\n",
       "      <td>0.0</td>\n",
       "      <td>0.0</td>\n",
       "      <td>1.0</td>\n",
       "      <td>0.0</td>\n",
       "      <td>0.0</td>\n",
       "      <td>0.0</td>\n",
       "      <td>1.0</td>\n",
       "      <td>0.0</td>\n",
       "      <td>1.0</td>\n",
       "      <td>0.0100</td>\n",
       "      <td>0.001000</td>\n",
       "      <td>0.000100</td>\n",
       "      <td>340</td>\n",
       "      <td>1</td>\n",
       "      <td>8660</td>\n",
       "      <td>20</td>\n",
       "    </tr>\n",
       "    <tr>\n",
       "      <th>1680</th>\n",
       "      <td>13.846154</td>\n",
       "      <td>2.628007</td>\n",
       "      <td>0.0</td>\n",
       "      <td>0.0</td>\n",
       "      <td>0.0</td>\n",
       "      <td>1.0</td>\n",
       "      <td>0.0</td>\n",
       "      <td>0.0</td>\n",
       "      <td>1.0</td>\n",
       "      <td>0.0</td>\n",
       "      <td>0.0</td>\n",
       "      <td>0.0</td>\n",
       "      <td>10.5</td>\n",
       "      <td>1.1025</td>\n",
       "      <td>1.157625</td>\n",
       "      <td>1.215506</td>\n",
       "      <td>9130</td>\n",
       "      <td>22</td>\n",
       "      <td>6170</td>\n",
       "      <td>10</td>\n",
       "    </tr>\n",
       "    <tr>\n",
       "      <th>...</th>\n",
       "      <td>...</td>\n",
       "      <td>...</td>\n",
       "      <td>...</td>\n",
       "      <td>...</td>\n",
       "      <td>...</td>\n",
       "      <td>...</td>\n",
       "      <td>...</td>\n",
       "      <td>...</td>\n",
       "      <td>...</td>\n",
       "      <td>...</td>\n",
       "      <td>...</td>\n",
       "      <td>...</td>\n",
       "      <td>...</td>\n",
       "      <td>...</td>\n",
       "      <td>...</td>\n",
       "      <td>...</td>\n",
       "      <td>...</td>\n",
       "      <td>...</td>\n",
       "      <td>...</td>\n",
       "      <td>...</td>\n",
       "    </tr>\n",
       "    <tr>\n",
       "      <th>3611</th>\n",
       "      <td>37.393162</td>\n",
       "      <td>3.621488</td>\n",
       "      <td>1.0</td>\n",
       "      <td>0.0</td>\n",
       "      <td>0.0</td>\n",
       "      <td>1.0</td>\n",
       "      <td>0.0</td>\n",
       "      <td>0.0</td>\n",
       "      <td>0.0</td>\n",
       "      <td>1.0</td>\n",
       "      <td>0.0</td>\n",
       "      <td>0.0</td>\n",
       "      <td>4.5</td>\n",
       "      <td>0.2025</td>\n",
       "      <td>0.091125</td>\n",
       "      <td>0.041006</td>\n",
       "      <td>8600</td>\n",
       "      <td>21</td>\n",
       "      <td>570</td>\n",
       "      <td>3</td>\n",
       "    </tr>\n",
       "    <tr>\n",
       "      <th>3409</th>\n",
       "      <td>16.826923</td>\n",
       "      <td>2.822980</td>\n",
       "      <td>0.0</td>\n",
       "      <td>0.0</td>\n",
       "      <td>0.0</td>\n",
       "      <td>0.0</td>\n",
       "      <td>1.0</td>\n",
       "      <td>0.0</td>\n",
       "      <td>0.0</td>\n",
       "      <td>1.0</td>\n",
       "      <td>0.0</td>\n",
       "      <td>0.0</td>\n",
       "      <td>5.0</td>\n",
       "      <td>0.2500</td>\n",
       "      <td>0.125000</td>\n",
       "      <td>0.062500</td>\n",
       "      <td>5000</td>\n",
       "      <td>17</td>\n",
       "      <td>9370</td>\n",
       "      <td>22</td>\n",
       "    </tr>\n",
       "    <tr>\n",
       "      <th>3017</th>\n",
       "      <td>17.307692</td>\n",
       "      <td>2.851151</td>\n",
       "      <td>0.0</td>\n",
       "      <td>0.0</td>\n",
       "      <td>0.0</td>\n",
       "      <td>1.0</td>\n",
       "      <td>0.0</td>\n",
       "      <td>0.0</td>\n",
       "      <td>0.0</td>\n",
       "      <td>1.0</td>\n",
       "      <td>0.0</td>\n",
       "      <td>0.0</td>\n",
       "      <td>17.0</td>\n",
       "      <td>2.8900</td>\n",
       "      <td>4.913000</td>\n",
       "      <td>8.352100</td>\n",
       "      <td>4920</td>\n",
       "      <td>16</td>\n",
       "      <td>7070</td>\n",
       "      <td>13</td>\n",
       "    </tr>\n",
       "    <tr>\n",
       "      <th>4444</th>\n",
       "      <td>11.639676</td>\n",
       "      <td>2.454420</td>\n",
       "      <td>0.0</td>\n",
       "      <td>0.0</td>\n",
       "      <td>1.0</td>\n",
       "      <td>0.0</td>\n",
       "      <td>0.0</td>\n",
       "      <td>0.0</td>\n",
       "      <td>0.0</td>\n",
       "      <td>0.0</td>\n",
       "      <td>1.0</td>\n",
       "      <td>0.0</td>\n",
       "      <td>13.0</td>\n",
       "      <td>1.6900</td>\n",
       "      <td>2.197000</td>\n",
       "      <td>2.856100</td>\n",
       "      <td>4020</td>\n",
       "      <td>13</td>\n",
       "      <td>8680</td>\n",
       "      <td>20</td>\n",
       "    </tr>\n",
       "    <tr>\n",
       "      <th>1829</th>\n",
       "      <td>28.311154</td>\n",
       "      <td>3.343256</td>\n",
       "      <td>0.0</td>\n",
       "      <td>0.0</td>\n",
       "      <td>0.0</td>\n",
       "      <td>0.0</td>\n",
       "      <td>0.0</td>\n",
       "      <td>1.0</td>\n",
       "      <td>1.0</td>\n",
       "      <td>0.0</td>\n",
       "      <td>0.0</td>\n",
       "      <td>0.0</td>\n",
       "      <td>9.0</td>\n",
       "      <td>0.8100</td>\n",
       "      <td>0.729000</td>\n",
       "      <td>0.656100</td>\n",
       "      <td>2200</td>\n",
       "      <td>8</td>\n",
       "      <td>7870</td>\n",
       "      <td>17</td>\n",
       "    </tr>\n",
       "  </tbody>\n",
       "</table>\n",
       "<p>3862 rows × 20 columns</p>\n",
       "</div>"
      ],
      "text/plain": [
       "           wage     lwage  sex  shs  hsg  scl  clg   ad   mw   so   we   ne  \\\n",
       "4600  17.788462  2.878550  0.0  0.0  0.0  0.0  1.0  0.0  0.0  0.0  1.0  0.0   \n",
       "944   16.827885  2.823037  0.0  0.0  1.0  0.0  0.0  0.0  0.0  0.0  0.0  1.0   \n",
       "598   24.725275  3.207826  0.0  0.0  1.0  0.0  0.0  0.0  0.0  0.0  0.0  1.0   \n",
       "4535  14.338731  2.662964  0.0  0.0  0.0  0.0  1.0  0.0  0.0  0.0  1.0  0.0   \n",
       "1680  13.846154  2.628007  0.0  0.0  0.0  1.0  0.0  0.0  1.0  0.0  0.0  0.0   \n",
       "...         ...       ...  ...  ...  ...  ...  ...  ...  ...  ...  ...  ...   \n",
       "3611  37.393162  3.621488  1.0  0.0  0.0  1.0  0.0  0.0  0.0  1.0  0.0  0.0   \n",
       "3409  16.826923  2.822980  0.0  0.0  0.0  0.0  1.0  0.0  0.0  1.0  0.0  0.0   \n",
       "3017  17.307692  2.851151  0.0  0.0  0.0  1.0  0.0  0.0  0.0  1.0  0.0  0.0   \n",
       "4444  11.639676  2.454420  0.0  0.0  1.0  0.0  0.0  0.0  0.0  0.0  1.0  0.0   \n",
       "1829  28.311154  3.343256  0.0  0.0  0.0  0.0  0.0  1.0  1.0  0.0  0.0  0.0   \n",
       "\n",
       "      exp1    exp2       exp3       exp4   occ occ2   ind ind2  \n",
       "4600   5.0  0.2500   0.125000   0.062500  1240    3  7580   16  \n",
       "944    5.0  0.2500   0.125000   0.062500  6260   19   770    4  \n",
       "598   23.0  5.2900  12.167000  27.984100  6660   19  9570   22  \n",
       "4535   1.0  0.0100   0.001000   0.000100   340    1  8660   20  \n",
       "1680  10.5  1.1025   1.157625   1.215506  9130   22  6170   10  \n",
       "...    ...     ...        ...        ...   ...  ...   ...  ...  \n",
       "3611   4.5  0.2025   0.091125   0.041006  8600   21   570    3  \n",
       "3409   5.0  0.2500   0.125000   0.062500  5000   17  9370   22  \n",
       "3017  17.0  2.8900   4.913000   8.352100  4920   16  7070   13  \n",
       "4444  13.0  1.6900   2.197000   2.856100  4020   13  8680   20  \n",
       "1829   9.0  0.8100   0.729000   0.656100  2200    8  7870   17  \n",
       "\n",
       "[3862 rows x 20 columns]"
      ]
     },
     "execution_count": 8,
     "metadata": {},
     "output_type": "execute_result"
    }
   ],
   "source": [
    "data_train"
   ]
  },
  {
   "cell_type": "code",
   "execution_count": 9,
   "metadata": {},
   "outputs": [
    {
     "data": {
      "text/plain": [
       "(3862, 20)"
      ]
     },
     "execution_count": 9,
     "metadata": {},
     "output_type": "execute_result"
    }
   ],
   "source": [
    "data_train.shape"
   ]
  },
  {
   "cell_type": "markdown",
   "metadata": {
    "papermill": {
     "duration": 0.038774,
     "end_time": "2021-02-13T18:19:45.217757",
     "exception": false,
     "start_time": "2021-02-13T18:19:45.178983",
     "status": "completed"
    },
    "tags": []
   },
   "source": [
    "We construct the two different model matrices $X_{basic}$ and $X_{flex}$ for both the training and the test sample:"
   ]
  },
  {
   "cell_type": "code",
   "execution_count": 10,
   "metadata": {},
   "outputs": [],
   "source": [
    "import statsmodels.api as sm\n",
    "import statsmodels.formula.api as smf\n",
    "import patsy"
   ]
  },
  {
   "cell_type": "code",
   "execution_count": 11,
   "metadata": {
    "papermill": {
     "duration": 0.094135,
     "end_time": "2021-02-13T18:19:45.347955",
     "exception": false,
     "start_time": "2021-02-13T18:19:45.253820",
     "status": "completed"
    },
    "tags": []
   },
   "outputs": [],
   "source": [
    "formula_basic =  \"lwage ~ sex + exp1 + exp2+ shs + hsg+ scl + clg + mw + so + we + occ2+ ind2\"\n",
    "formula_flex = \"lwage ~ sex + exp1 + exp2 + shs+hsg+scl+clg+occ2+ind2+mw+so+we + (exp1+exp2+exp3+exp4)*(shs+hsg+scl+clg+occ2+ind2+mw+so+we)\"\n",
    "\n",
    "y_basic_train, model_X_basic_train = patsy.dmatrices(formula_basic, data_train, return_type='dataframe')\n",
    "y_basic_test, model_X_basic_test = patsy.dmatrices(formula_basic, data_test, return_type='dataframe')\n",
    "p_basic = model_X_basic_train.shape[ 1 ]\n",
    "\n",
    "y_flex_train, model_X_flex_train = patsy.dmatrices(formula_flex, data_train, return_type='dataframe')\n",
    "y_flex_test, model_X_flex_test = patsy.dmatrices(formula_flex, data_test, return_type='dataframe')\n",
    "p_flex = model_X_flex_train.shape[ 1 ]"
   ]
  },
  {
   "cell_type": "code",
   "execution_count": 12,
   "metadata": {},
   "outputs": [
    {
     "data": {
      "text/html": [
       "<div>\n",
       "<style scoped>\n",
       "    .dataframe tbody tr th:only-of-type {\n",
       "        vertical-align: middle;\n",
       "    }\n",
       "\n",
       "    .dataframe tbody tr th {\n",
       "        vertical-align: top;\n",
       "    }\n",
       "\n",
       "    .dataframe thead th {\n",
       "        text-align: right;\n",
       "    }\n",
       "</style>\n",
       "<table border=\"1\" class=\"dataframe\">\n",
       "  <thead>\n",
       "    <tr style=\"text-align: right;\">\n",
       "      <th></th>\n",
       "      <th>Intercept</th>\n",
       "      <th>occ2[T.10]</th>\n",
       "      <th>occ2[T.11]</th>\n",
       "      <th>occ2[T.12]</th>\n",
       "      <th>occ2[T.13]</th>\n",
       "      <th>occ2[T.14]</th>\n",
       "      <th>occ2[T.15]</th>\n",
       "      <th>occ2[T.16]</th>\n",
       "      <th>occ2[T.17]</th>\n",
       "      <th>occ2[T.18]</th>\n",
       "      <th>...</th>\n",
       "      <th>sex</th>\n",
       "      <th>exp1</th>\n",
       "      <th>exp2</th>\n",
       "      <th>shs</th>\n",
       "      <th>hsg</th>\n",
       "      <th>scl</th>\n",
       "      <th>clg</th>\n",
       "      <th>mw</th>\n",
       "      <th>so</th>\n",
       "      <th>we</th>\n",
       "    </tr>\n",
       "  </thead>\n",
       "  <tbody>\n",
       "    <tr>\n",
       "      <th>4600</th>\n",
       "      <td>1.0</td>\n",
       "      <td>0.0</td>\n",
       "      <td>0.0</td>\n",
       "      <td>0.0</td>\n",
       "      <td>0.0</td>\n",
       "      <td>0.0</td>\n",
       "      <td>0.0</td>\n",
       "      <td>0.0</td>\n",
       "      <td>0.0</td>\n",
       "      <td>0.0</td>\n",
       "      <td>...</td>\n",
       "      <td>0.0</td>\n",
       "      <td>5.0</td>\n",
       "      <td>0.2500</td>\n",
       "      <td>0.0</td>\n",
       "      <td>0.0</td>\n",
       "      <td>0.0</td>\n",
       "      <td>1.0</td>\n",
       "      <td>0.0</td>\n",
       "      <td>0.0</td>\n",
       "      <td>1.0</td>\n",
       "    </tr>\n",
       "    <tr>\n",
       "      <th>944</th>\n",
       "      <td>1.0</td>\n",
       "      <td>0.0</td>\n",
       "      <td>0.0</td>\n",
       "      <td>0.0</td>\n",
       "      <td>0.0</td>\n",
       "      <td>0.0</td>\n",
       "      <td>0.0</td>\n",
       "      <td>0.0</td>\n",
       "      <td>0.0</td>\n",
       "      <td>0.0</td>\n",
       "      <td>...</td>\n",
       "      <td>0.0</td>\n",
       "      <td>5.0</td>\n",
       "      <td>0.2500</td>\n",
       "      <td>0.0</td>\n",
       "      <td>1.0</td>\n",
       "      <td>0.0</td>\n",
       "      <td>0.0</td>\n",
       "      <td>0.0</td>\n",
       "      <td>0.0</td>\n",
       "      <td>0.0</td>\n",
       "    </tr>\n",
       "    <tr>\n",
       "      <th>598</th>\n",
       "      <td>1.0</td>\n",
       "      <td>0.0</td>\n",
       "      <td>0.0</td>\n",
       "      <td>0.0</td>\n",
       "      <td>0.0</td>\n",
       "      <td>0.0</td>\n",
       "      <td>0.0</td>\n",
       "      <td>0.0</td>\n",
       "      <td>0.0</td>\n",
       "      <td>0.0</td>\n",
       "      <td>...</td>\n",
       "      <td>0.0</td>\n",
       "      <td>23.0</td>\n",
       "      <td>5.2900</td>\n",
       "      <td>0.0</td>\n",
       "      <td>1.0</td>\n",
       "      <td>0.0</td>\n",
       "      <td>0.0</td>\n",
       "      <td>0.0</td>\n",
       "      <td>0.0</td>\n",
       "      <td>0.0</td>\n",
       "    </tr>\n",
       "    <tr>\n",
       "      <th>4535</th>\n",
       "      <td>1.0</td>\n",
       "      <td>0.0</td>\n",
       "      <td>0.0</td>\n",
       "      <td>0.0</td>\n",
       "      <td>0.0</td>\n",
       "      <td>0.0</td>\n",
       "      <td>0.0</td>\n",
       "      <td>0.0</td>\n",
       "      <td>0.0</td>\n",
       "      <td>0.0</td>\n",
       "      <td>...</td>\n",
       "      <td>0.0</td>\n",
       "      <td>1.0</td>\n",
       "      <td>0.0100</td>\n",
       "      <td>0.0</td>\n",
       "      <td>0.0</td>\n",
       "      <td>0.0</td>\n",
       "      <td>1.0</td>\n",
       "      <td>0.0</td>\n",
       "      <td>0.0</td>\n",
       "      <td>1.0</td>\n",
       "    </tr>\n",
       "    <tr>\n",
       "      <th>1680</th>\n",
       "      <td>1.0</td>\n",
       "      <td>0.0</td>\n",
       "      <td>0.0</td>\n",
       "      <td>0.0</td>\n",
       "      <td>0.0</td>\n",
       "      <td>0.0</td>\n",
       "      <td>0.0</td>\n",
       "      <td>0.0</td>\n",
       "      <td>0.0</td>\n",
       "      <td>0.0</td>\n",
       "      <td>...</td>\n",
       "      <td>0.0</td>\n",
       "      <td>10.5</td>\n",
       "      <td>1.1025</td>\n",
       "      <td>0.0</td>\n",
       "      <td>0.0</td>\n",
       "      <td>1.0</td>\n",
       "      <td>0.0</td>\n",
       "      <td>1.0</td>\n",
       "      <td>0.0</td>\n",
       "      <td>0.0</td>\n",
       "    </tr>\n",
       "    <tr>\n",
       "      <th>...</th>\n",
       "      <td>...</td>\n",
       "      <td>...</td>\n",
       "      <td>...</td>\n",
       "      <td>...</td>\n",
       "      <td>...</td>\n",
       "      <td>...</td>\n",
       "      <td>...</td>\n",
       "      <td>...</td>\n",
       "      <td>...</td>\n",
       "      <td>...</td>\n",
       "      <td>...</td>\n",
       "      <td>...</td>\n",
       "      <td>...</td>\n",
       "      <td>...</td>\n",
       "      <td>...</td>\n",
       "      <td>...</td>\n",
       "      <td>...</td>\n",
       "      <td>...</td>\n",
       "      <td>...</td>\n",
       "      <td>...</td>\n",
       "      <td>...</td>\n",
       "    </tr>\n",
       "    <tr>\n",
       "      <th>3611</th>\n",
       "      <td>1.0</td>\n",
       "      <td>0.0</td>\n",
       "      <td>0.0</td>\n",
       "      <td>0.0</td>\n",
       "      <td>0.0</td>\n",
       "      <td>0.0</td>\n",
       "      <td>0.0</td>\n",
       "      <td>0.0</td>\n",
       "      <td>0.0</td>\n",
       "      <td>0.0</td>\n",
       "      <td>...</td>\n",
       "      <td>1.0</td>\n",
       "      <td>4.5</td>\n",
       "      <td>0.2025</td>\n",
       "      <td>0.0</td>\n",
       "      <td>0.0</td>\n",
       "      <td>1.0</td>\n",
       "      <td>0.0</td>\n",
       "      <td>0.0</td>\n",
       "      <td>1.0</td>\n",
       "      <td>0.0</td>\n",
       "    </tr>\n",
       "    <tr>\n",
       "      <th>3409</th>\n",
       "      <td>1.0</td>\n",
       "      <td>0.0</td>\n",
       "      <td>0.0</td>\n",
       "      <td>0.0</td>\n",
       "      <td>0.0</td>\n",
       "      <td>0.0</td>\n",
       "      <td>0.0</td>\n",
       "      <td>0.0</td>\n",
       "      <td>1.0</td>\n",
       "      <td>0.0</td>\n",
       "      <td>...</td>\n",
       "      <td>0.0</td>\n",
       "      <td>5.0</td>\n",
       "      <td>0.2500</td>\n",
       "      <td>0.0</td>\n",
       "      <td>0.0</td>\n",
       "      <td>0.0</td>\n",
       "      <td>1.0</td>\n",
       "      <td>0.0</td>\n",
       "      <td>1.0</td>\n",
       "      <td>0.0</td>\n",
       "    </tr>\n",
       "    <tr>\n",
       "      <th>3017</th>\n",
       "      <td>1.0</td>\n",
       "      <td>0.0</td>\n",
       "      <td>0.0</td>\n",
       "      <td>0.0</td>\n",
       "      <td>0.0</td>\n",
       "      <td>0.0</td>\n",
       "      <td>0.0</td>\n",
       "      <td>1.0</td>\n",
       "      <td>0.0</td>\n",
       "      <td>0.0</td>\n",
       "      <td>...</td>\n",
       "      <td>0.0</td>\n",
       "      <td>17.0</td>\n",
       "      <td>2.8900</td>\n",
       "      <td>0.0</td>\n",
       "      <td>0.0</td>\n",
       "      <td>1.0</td>\n",
       "      <td>0.0</td>\n",
       "      <td>0.0</td>\n",
       "      <td>1.0</td>\n",
       "      <td>0.0</td>\n",
       "    </tr>\n",
       "    <tr>\n",
       "      <th>4444</th>\n",
       "      <td>1.0</td>\n",
       "      <td>0.0</td>\n",
       "      <td>0.0</td>\n",
       "      <td>0.0</td>\n",
       "      <td>1.0</td>\n",
       "      <td>0.0</td>\n",
       "      <td>0.0</td>\n",
       "      <td>0.0</td>\n",
       "      <td>0.0</td>\n",
       "      <td>0.0</td>\n",
       "      <td>...</td>\n",
       "      <td>0.0</td>\n",
       "      <td>13.0</td>\n",
       "      <td>1.6900</td>\n",
       "      <td>0.0</td>\n",
       "      <td>1.0</td>\n",
       "      <td>0.0</td>\n",
       "      <td>0.0</td>\n",
       "      <td>0.0</td>\n",
       "      <td>0.0</td>\n",
       "      <td>1.0</td>\n",
       "    </tr>\n",
       "    <tr>\n",
       "      <th>1829</th>\n",
       "      <td>1.0</td>\n",
       "      <td>0.0</td>\n",
       "      <td>0.0</td>\n",
       "      <td>0.0</td>\n",
       "      <td>0.0</td>\n",
       "      <td>0.0</td>\n",
       "      <td>0.0</td>\n",
       "      <td>0.0</td>\n",
       "      <td>0.0</td>\n",
       "      <td>0.0</td>\n",
       "      <td>...</td>\n",
       "      <td>0.0</td>\n",
       "      <td>9.0</td>\n",
       "      <td>0.8100</td>\n",
       "      <td>0.0</td>\n",
       "      <td>0.0</td>\n",
       "      <td>0.0</td>\n",
       "      <td>0.0</td>\n",
       "      <td>1.0</td>\n",
       "      <td>0.0</td>\n",
       "      <td>0.0</td>\n",
       "    </tr>\n",
       "  </tbody>\n",
       "</table>\n",
       "<p>3862 rows × 52 columns</p>\n",
       "</div>"
      ],
      "text/plain": [
       "      Intercept  occ2[T.10]  occ2[T.11]  occ2[T.12]  occ2[T.13]  occ2[T.14]  \\\n",
       "4600        1.0         0.0         0.0         0.0         0.0         0.0   \n",
       "944         1.0         0.0         0.0         0.0         0.0         0.0   \n",
       "598         1.0         0.0         0.0         0.0         0.0         0.0   \n",
       "4535        1.0         0.0         0.0         0.0         0.0         0.0   \n",
       "1680        1.0         0.0         0.0         0.0         0.0         0.0   \n",
       "...         ...         ...         ...         ...         ...         ...   \n",
       "3611        1.0         0.0         0.0         0.0         0.0         0.0   \n",
       "3409        1.0         0.0         0.0         0.0         0.0         0.0   \n",
       "3017        1.0         0.0         0.0         0.0         0.0         0.0   \n",
       "4444        1.0         0.0         0.0         0.0         1.0         0.0   \n",
       "1829        1.0         0.0         0.0         0.0         0.0         0.0   \n",
       "\n",
       "      occ2[T.15]  occ2[T.16]  occ2[T.17]  occ2[T.18]  ...  sex  exp1    exp2  \\\n",
       "4600         0.0         0.0         0.0         0.0  ...  0.0   5.0  0.2500   \n",
       "944          0.0         0.0         0.0         0.0  ...  0.0   5.0  0.2500   \n",
       "598          0.0         0.0         0.0         0.0  ...  0.0  23.0  5.2900   \n",
       "4535         0.0         0.0         0.0         0.0  ...  0.0   1.0  0.0100   \n",
       "1680         0.0         0.0         0.0         0.0  ...  0.0  10.5  1.1025   \n",
       "...          ...         ...         ...         ...  ...  ...   ...     ...   \n",
       "3611         0.0         0.0         0.0         0.0  ...  1.0   4.5  0.2025   \n",
       "3409         0.0         0.0         1.0         0.0  ...  0.0   5.0  0.2500   \n",
       "3017         0.0         1.0         0.0         0.0  ...  0.0  17.0  2.8900   \n",
       "4444         0.0         0.0         0.0         0.0  ...  0.0  13.0  1.6900   \n",
       "1829         0.0         0.0         0.0         0.0  ...  0.0   9.0  0.8100   \n",
       "\n",
       "      shs  hsg  scl  clg   mw   so   we  \n",
       "4600  0.0  0.0  0.0  1.0  0.0  0.0  1.0  \n",
       "944   0.0  1.0  0.0  0.0  0.0  0.0  0.0  \n",
       "598   0.0  1.0  0.0  0.0  0.0  0.0  0.0  \n",
       "4535  0.0  0.0  0.0  1.0  0.0  0.0  1.0  \n",
       "1680  0.0  0.0  1.0  0.0  1.0  0.0  0.0  \n",
       "...   ...  ...  ...  ...  ...  ...  ...  \n",
       "3611  0.0  0.0  1.0  0.0  0.0  1.0  0.0  \n",
       "3409  0.0  0.0  0.0  1.0  0.0  1.0  0.0  \n",
       "3017  0.0  0.0  1.0  0.0  0.0  1.0  0.0  \n",
       "4444  0.0  1.0  0.0  0.0  0.0  0.0  1.0  \n",
       "1829  0.0  0.0  0.0  0.0  1.0  0.0  0.0  \n",
       "\n",
       "[3862 rows x 52 columns]"
      ]
     },
     "execution_count": 12,
     "metadata": {},
     "output_type": "execute_result"
    }
   ],
   "source": [
    "model_X_basic_train"
   ]
  },
  {
   "cell_type": "code",
   "execution_count": 13,
   "metadata": {
    "papermill": {
     "duration": 0.060969,
     "end_time": "2021-02-13T18:19:45.445389",
     "exception": false,
     "start_time": "2021-02-13T18:19:45.384420",
     "status": "completed"
    },
    "tags": []
   },
   "outputs": [],
   "source": [
    "Y_train = data_train['lwage']\n",
    "Y_test = data_test['lwage']\n"
   ]
  },
  {
   "cell_type": "code",
   "execution_count": 14,
   "metadata": {
    "papermill": {
     "duration": 0.062723,
     "end_time": "2021-02-13T18:19:45.545189",
     "exception": false,
     "start_time": "2021-02-13T18:19:45.482466",
     "status": "completed"
    },
    "tags": []
   },
   "outputs": [
    {
     "name": "stdout",
     "output_type": "stream",
     "text": [
      "52\n",
      "246\n"
     ]
    }
   ],
   "source": [
    "print(p_basic)\n",
    "print(p_flex)"
   ]
  },
  {
   "cell_type": "markdown",
   "metadata": {
    "papermill": {
     "duration": 0.037704,
     "end_time": "2021-02-13T18:19:45.622370",
     "exception": false,
     "start_time": "2021-02-13T18:19:45.584666",
     "status": "completed"
    },
    "tags": []
   },
   "source": [
    "As known from our first lab, the basic model consists of $10$ regressors and the flexible model of $246$ regressors. Let us fit our models to the training sample using the two different model specifications. We are starting by running a simple ols regression. "
   ]
  },
  {
   "cell_type": "markdown",
   "metadata": {
    "papermill": {
     "duration": 0.038763,
     "end_time": "2021-02-13T18:19:45.699126",
     "exception": false,
     "start_time": "2021-02-13T18:19:45.660363",
     "status": "completed"
    },
    "tags": []
   },
   "source": [
    "### OLS"
   ]
  },
  {
   "cell_type": "markdown",
   "metadata": {
    "papermill": {
     "duration": 0.039458,
     "end_time": "2021-02-13T18:19:45.779460",
     "exception": false,
     "start_time": "2021-02-13T18:19:45.740002",
     "status": "completed"
    },
    "tags": []
   },
   "source": [
    "We fit the basic model to our training data by running an ols regression and compute the mean squared error on the test sample."
   ]
  },
  {
   "cell_type": "code",
   "execution_count": 15,
   "metadata": {
    "papermill": {
     "duration": 0.069537,
     "end_time": "2021-02-13T18:19:45.887169",
     "exception": false,
     "start_time": "2021-02-13T18:19:45.817632",
     "status": "completed"
    },
    "tags": []
   },
   "outputs": [
    {
     "name": "stdout",
     "output_type": "stream",
     "text": [
      "The mean squared error (MSE) using the basic model is equal to , 0.23027270224522275 \n"
     ]
    }
   ],
   "source": [
    "# ols (basic model)\n",
    "lm_basic = sm.OLS( Y_train, model_X_basic_train )\n",
    "fit_lm_basic = lm_basic.fit()\n",
    "\n",
    "# Compute the Out-Of-Sample Performance\n",
    "yhat_lm_basic = fit_lm_basic.predict( model_X_basic_test )\n",
    "print( f\"The mean squared error (MSE) using the basic model is equal to , {np.mean((Y_test-yhat_lm_basic)**2)} \") # MSE OLS (basic model)    "
   ]
  },
  {
   "cell_type": "markdown",
   "metadata": {
    "execution": {
     "iopub.execute_input": "2021-02-13T18:19:45.861949Z",
     "iopub.status.busy": "2021-02-13T18:19:45.860219Z",
     "iopub.status.idle": "2021-02-13T18:19:45.887011Z",
     "shell.execute_reply": "2021-02-13T18:19:45.885343Z"
    },
    "papermill": {
     "duration": 0.069537,
     "end_time": "2021-02-13T18:19:45.887169",
     "exception": false,
     "start_time": "2021-02-13T18:19:45.817632",
     "status": "completed"
    },
    "tags": []
   },
   "source": [
    "To determine the out-of-sample $MSE$ and the standard error in one step, we can use the function *lm*:"
   ]
  },
  {
   "cell_type": "code",
   "execution_count": 16,
   "metadata": {
    "papermill": {
     "duration": 0.069537,
     "end_time": "2021-02-13T18:19:45.887169",
     "exception": false,
     "start_time": "2021-02-13T18:19:45.817632",
     "status": "completed"
    },
    "tags": []
   },
   "outputs": [
    {
     "data": {
      "text/plain": [
       "Coef.       0.230273\n",
       "Std.Err.    0.014667\n",
       "Name: const, dtype: float64"
      ]
     },
     "execution_count": 16,
     "metadata": {},
     "output_type": "execute_result"
    }
   ],
   "source": [
    "resid_basic = (Y_test-yhat_lm_basic)**2\n",
    "\n",
    "MSE_lm_basic = sm.OLS( resid_basic , np.ones( resid_basic.shape[0] ) ).fit().summary2().tables[1].iloc[0, 0:2]\n",
    "MSE_lm_basic"
   ]
  },
  {
   "cell_type": "markdown",
   "metadata": {
    "execution": {
     "iopub.execute_input": "2021-02-13T18:19:45.861949Z",
     "iopub.status.busy": "2021-02-13T18:19:45.860219Z",
     "iopub.status.idle": "2021-02-13T18:19:45.887011Z",
     "shell.execute_reply": "2021-02-13T18:19:45.885343Z"
    },
    "papermill": {
     "duration": 0.069537,
     "end_time": "2021-02-13T18:19:45.887169",
     "exception": false,
     "start_time": "2021-02-13T18:19:45.817632",
     "status": "completed"
    },
    "tags": []
   },
   "source": [
    "We also compute the out-of-sample $R^2$:"
   ]
  },
  {
   "cell_type": "code",
   "execution_count": 17,
   "metadata": {
    "papermill": {
     "duration": 0.069537,
     "end_time": "2021-02-13T18:19:45.887169",
     "exception": false,
     "start_time": "2021-02-13T18:19:45.817632",
     "status": "completed"
    },
    "tags": []
   },
   "outputs": [
    {
     "name": "stdout",
     "output_type": "stream",
     "text": [
      "The R^2 using the basic model is equal to, 0.2920387407012123\n"
     ]
    }
   ],
   "source": [
    "R2_lm_basic = 1 - ( MSE_lm_basic[0]/Y_test.var() )\n",
    "print( f\"The R^2 using the basic model is equal to, {R2_lm_basic}\" ) # MSE OLS (basic model) "
   ]
  },
  {
   "cell_type": "markdown",
   "metadata": {
    "papermill": {
     "duration": 0.039585,
     "end_time": "2021-02-13T18:19:46.492903",
     "exception": false,
     "start_time": "2021-02-13T18:19:46.453318",
     "status": "completed"
    },
    "tags": []
   },
   "source": [
    "We repeat the same procedure for the flexible model."
   ]
  },
  {
   "cell_type": "code",
   "execution_count": 18,
   "metadata": {},
   "outputs": [
    {
     "name": "stdout",
     "output_type": "stream",
     "text": [
      "The R^2 using the flex model is equal to, 0.26595449541186156\n"
     ]
    }
   ],
   "source": [
    "# ols (flex model)\n",
    "lm_flex = sm.OLS( Y_train, model_X_flex_train )\n",
    "fit_lm_flex = lm_flex.fit()\n",
    "\n",
    "yhat_lm_flex = fit_lm_flex.predict( model_X_flex_test )\n",
    "\n",
    "resid_flex = (Y_test-yhat_lm_flex)**2\n",
    "\n",
    "MSE_lm_flex = sm.OLS( resid_flex , np.ones( resid_flex.shape[0] ) ).fit().summary2().tables[1].iloc[0, 0:2]\n",
    "MSE_lm_flex\n",
    "\n",
    "R2_lm_flex = 1 - ( MSE_lm_flex[0]/Y_test.var() )\n",
    "print( f\"The R^2 using the flex model is equal to, {R2_lm_flex}\" ) # MSE OLS (flex model) "
   ]
  },
  {
   "cell_type": "markdown",
   "metadata": {
    "papermill": {
     "duration": 0.051953,
     "end_time": "2021-02-13T18:19:46.853182",
     "exception": false,
     "start_time": "2021-02-13T18:19:46.801229",
     "status": "completed"
    },
    "tags": []
   },
   "source": [
    "We observe that ols regression works better for the basic model with smaller $p/n$ ratio. We are proceeding by running lasso regressions and its versions."
   ]
  },
  {
   "cell_type": "markdown",
   "metadata": {
    "papermill": {
     "duration": 0.042521,
     "end_time": "2021-02-13T18:19:46.935859",
     "exception": false,
     "start_time": "2021-02-13T18:19:46.893338",
     "status": "completed"
    },
    "tags": []
   },
   "source": [
    "### Lasso, Ridge and Elastic Net\n"
   ]
  },
  {
   "cell_type": "markdown",
   "metadata": {
    "papermill": {
     "duration": 0.040161,
     "end_time": "2021-02-13T18:19:47.015626",
     "exception": false,
     "start_time": "2021-02-13T18:19:46.975465",
     "status": "completed"
    },
    "tags": []
   },
   "source": [
    "Considering the basic model, we run a lasso/post-lasso regression first and then we compute the measures for the out-of-sample performance. Note that applying the package *hdm* and the function *rlasso* we rely on a theoretical based choice of the penalty level $\\lambda$ in the lasso regression."
   ]
  },
  {
   "cell_type": "code",
   "execution_count": 19,
   "metadata": {},
   "outputs": [],
   "source": [
    "import hdmpy"
   ]
  },
  {
   "cell_type": "code",
   "execution_count": 20,
   "metadata": {},
   "outputs": [],
   "source": [
    "fit_rlasso = hdmpy.rlasso( model_X_basic_train.to_numpy() , Y_train.to_numpy().reshape( Y_train.size , 1 ) , post = False )\n",
    "fit_rlasso_post = hdmpy.rlasso( model_X_basic_train.to_numpy() , Y_train.to_numpy().reshape( Y_train.size , 1 ) , post = True )"
   ]
  },
  {
   "cell_type": "markdown",
   "metadata": {},
   "source": [
    "#### Estimating the predictions from rlasso models\n",
    "We have to know that the residuals output come from this formula:\n",
    "\n",
    "- x1 = x - np.ones( (x.shape[1] , 1) ) @ x.mean( axis = 0 )\n",
    "- beta = model.est['beta'].loc[ fit_rlasso.est['index'].iloc[:, 0].to_list(), ].to_numpy()\n",
    "- y1 = y - y.mean()\n",
    "- yhat = x1 @ beta + y.mean()\n",
    "\n",
    "So we have to apply those transfomations to original test data\n"
   ]
  },
  {
   "cell_type": "code",
   "execution_count": 21,
   "metadata": {},
   "outputs": [],
   "source": [
    "# Getting mean of each variable\n",
    "meanx = model_X_basic_test.mean( axis = 0 ).values.\\\n",
    "                        reshape( model_X_basic_test.shape[ 1 ] , 1 )\n",
    "\n",
    "# Reducing the mean\n",
    "new_x1 = model_X_basic_test.to_numpy() - \\\n",
    "                    (np.ones( ( model_X_basic_test.shape[ 0 ] , 1 ) ) @ meanx.T)\n",
    "\n",
    "# Getting the significant variables\n",
    "x1_est_rlasso = new_x1[ :, fit_rlasso.est['index'].iloc[:, 0].to_list()]\n",
    "\n",
    "# Getting the coef. from significant variables\n",
    "beta_rlasso = fit_rlasso.est['beta'].loc[ fit_rlasso.est['index'].\\\n",
    "                                     iloc[:, 0].to_list(), ].to_numpy()\n",
    "\n",
    "# yhat\n",
    "yhat_rlasso = (x1_est_rlasso @ beta_rlasso) + np.mean( Y_test.to_numpy() )\n",
    "residuals_rlasso = Y_test.to_numpy().reshape( Y_test.to_numpy().size, 1)  - yhat_rlasso"
   ]
  },
  {
   "cell_type": "code",
   "execution_count": 22,
   "metadata": {},
   "outputs": [],
   "source": [
    "# Getting mean of each variable\n",
    "meanx = model_X_basic_test.mean( axis = 0 ).values.\\\n",
    "                        reshape( model_X_basic_test.shape[ 1 ] , 1 )\n",
    "\n",
    "# Reducing the mean\n",
    "new_x1 = model_X_basic_test.to_numpy() - \\\n",
    "                    (np.ones( ( model_X_basic_test.shape[ 0 ] , 1 ) ) @ meanx.T)\n",
    "\n",
    "# Getting the significant variables\n",
    "x1_est_rlasso_post = new_x1[ :, fit_rlasso_post.est['index'].iloc[:, 0].to_list()]\n",
    "\n",
    "# Getting the coef. from significant variables\n",
    "beta_rlasso_post = fit_rlasso_post.est['beta'].loc[ fit_rlasso_post.est['index'].\\\n",
    "                                     iloc[:, 0].to_list(), ].to_numpy()\n",
    "\n",
    "# yhat\n",
    "yhat_rlasso_post = (x1_est_rlasso_post @ beta_rlasso_post) + np.mean( Y_test.to_numpy() )\n",
    "residuals_rlasso_post = Y_test.to_numpy().reshape( Y_test.to_numpy().size, 1)  - yhat_rlasso_post"
   ]
  },
  {
   "cell_type": "code",
   "execution_count": 23,
   "metadata": {},
   "outputs": [
    {
     "name": "stdout",
     "output_type": "stream",
     "text": [
      "The R^2 using the basic model is equal to 0.26155935409885656,for lasso and 0.2677130261480327 for post-lasso\n"
     ]
    }
   ],
   "source": [
    "MSE_lasso = sm.OLS( ( residuals_rlasso )**2 , np.ones( yhat_rlasso.size )  ).fit().summary2().tables[1].round(3)\n",
    "MSE_lasso_post = sm.OLS( ( residuals_rlasso_post )**2  , np.ones( yhat_rlasso_post.size )  ).fit().summary2().tables[1].round(3)\n",
    "\n",
    "R2_lasso = 1 - MSE_lasso.iloc[0, 0]/ np.var( Y_test )\n",
    "R2_lasso_post = 1 - MSE_lasso_post.iloc[0, 0]/ np.var( Y_test )\n",
    "\n",
    "print( f\"The R^2 using the basic model is equal to {R2_lasso},for lasso and {R2_lasso_post} for post-lasso\") # R^2 lasso/post-lasso (basic model) "
   ]
  },
  {
   "cell_type": "markdown",
   "metadata": {
    "papermill": {
     "duration": 0.049543,
     "end_time": "2021-02-13T18:19:47.757271",
     "exception": false,
     "start_time": "2021-02-13T18:19:47.707728",
     "status": "completed"
    },
    "tags": []
   },
   "source": [
    "Now, we repeat the same procedure for the flexible model."
   ]
  },
  {
   "cell_type": "code",
   "execution_count": 24,
   "metadata": {},
   "outputs": [],
   "source": [
    "fit_rlasso_flex = hdmpy.rlasso( model_X_flex_train.to_numpy() , Y_train.to_numpy().reshape( Y_train.size , 1 ) , post = False )\n",
    "fit_rlasso_post_flex = hdmpy.rlasso( model_X_flex_train.to_numpy() , Y_train.to_numpy().reshape( Y_train.size , 1 ) , post = True )"
   ]
  },
  {
   "cell_type": "code",
   "execution_count": 25,
   "metadata": {},
   "outputs": [],
   "source": [
    "# Getting mean of each variable\n",
    "meanx = model_X_flex_test.mean( axis = 0 ).values.\\\n",
    "                        reshape( model_X_flex_test.shape[ 1 ] , 1 )\n",
    "\n",
    "# Reducing the mean\n",
    "new_x1 = model_X_flex_test.to_numpy() - \\\n",
    "                    (np.ones( ( model_X_flex_test.shape[ 0 ] , 1 ) ) @ meanx.T)\n",
    "\n",
    "# Getting the significant variables\n",
    "x1_est_rlasso_flex = new_x1[ :, fit_rlasso_flex.est['index'].iloc[:, 0].to_list()]\n",
    "\n",
    "# Getting the coef. from significant variables\n",
    "beta_rlasso_flex = fit_rlasso_flex.est['beta'].loc[ fit_rlasso_flex.est['index'].\\\n",
    "                                     iloc[:, 0].to_list(), ].to_numpy()\n",
    "\n",
    "# yhat\n",
    "yhat_rlasso_flex = (x1_est_rlasso_flex @ beta_rlasso_flex) + np.mean( Y_test.to_numpy() )\n",
    "residuals_rlasso_flex = Y_test.to_numpy().reshape( Y_test.to_numpy().size, 1)  - yhat_rlasso_flex"
   ]
  },
  {
   "cell_type": "code",
   "execution_count": 26,
   "metadata": {},
   "outputs": [],
   "source": [
    "# Getting mean of each variable\n",
    "meanx = model_X_flex_test.mean( axis = 0 ).values.\\\n",
    "                        reshape( model_X_flex_test.shape[ 1 ] , 1 )\n",
    "\n",
    "# Reducing the mean\n",
    "new_x1 = model_X_flex_test.to_numpy() - \\\n",
    "                    (np.ones( ( model_X_flex_test.shape[ 0 ] , 1 ) ) @ meanx.T)\n",
    "\n",
    "# Getting the significant variables\n",
    "x1_est_rlasso_post_flex = new_x1[ :, fit_rlasso_post_flex.est['index'].iloc[:, 0].to_list()]\n",
    "\n",
    "# Getting the coef. from significant variables\n",
    "beta_rlasso_post_flex = fit_rlasso_post_flex.est['beta'].loc[ fit_rlasso_post_flex.est['index'].\\\n",
    "                                     iloc[:, 0].to_list(), ].to_numpy()\n",
    "\n",
    "# yhat\n",
    "yhat_rlasso_post_flex = (x1_est_rlasso_post_flex @ beta_rlasso_post_flex) + np.mean( Y_test.to_numpy() )\n",
    "residuals_rlasso_post_flex = Y_test.to_numpy().reshape( Y_test.to_numpy().size, 1)  - yhat_rlasso_post_flex"
   ]
  },
  {
   "cell_type": "code",
   "execution_count": 27,
   "metadata": {},
   "outputs": [
    {
     "name": "stdout",
     "output_type": "stream",
     "text": [
      "The R^2 using the basic model is equal to 0.26155935409885656,for lasso and 0.2677130261480327 for post-lasso\n"
     ]
    }
   ],
   "source": [
    "MSE_lasso_flex = sm.OLS( ( residuals_rlasso_flex )**2 , np.ones( yhat_rlasso_flex.size )  ).fit().summary2().tables[1].round(3)\n",
    "MSE_lasso_post_flex = sm.OLS( ( residuals_rlasso_post_flex )**2  , np.ones( yhat_rlasso_post_flex.size )  ).fit().summary2().tables[1].round(3)\n",
    "\n",
    "R2_lasso_flex = 1 - MSE_lasso.iloc[0, 0]/ np.var( Y_test )\n",
    "R2_lasso_post_flex = 1 - MSE_lasso_post_flex.iloc[0, 0]/ np.var( Y_test )\n",
    "\n",
    "print( f\"The R^2 using the basic model is equal to {R2_lasso_flex},for lasso and {R2_lasso_post_flex} for post-lasso\") # R^2 lasso/post-lasso (basic model) "
   ]
  },
  {
   "cell_type": "markdown",
   "metadata": {
    "papermill": {
     "duration": 0.04206,
     "end_time": "2021-02-13T18:19:51.353816",
     "exception": false,
     "start_time": "2021-02-13T18:19:51.311756",
     "status": "completed"
    },
    "tags": []
   },
   "source": [
    "It is worth to notice that lasso regression works better for the more complex model."
   ]
  },
  {
   "cell_type": "markdown",
   "metadata": {
    "papermill": {
     "duration": 0.041452,
     "end_time": "2021-02-13T18:19:51.436401",
     "exception": false,
     "start_time": "2021-02-13T18:19:51.394949",
     "status": "completed"
    },
    "tags": []
   },
   "source": [
    "In contrast to a theoretical based choice of the tuning parameter $\\lambda$ in the lasso regression, we can also use cross-validation to determine the penalty level by applying the package *glmnet* and the function cv.glmnet. In this context, we also run a ridge and a elastic net regression by adjusting the parameter *alpha*."
   ]
  },
  {
   "cell_type": "code",
   "execution_count": 28,
   "metadata": {},
   "outputs": [],
   "source": [
    "from sklearn.linear_model import LassoCV\n",
    "from sklearn.preprocessing import StandardScaler\n",
    "from sklearn.linear_model import RidgeCV, ElasticNetCV\n",
    "import statsmodels.api as sm"
   ]
  },
  {
   "cell_type": "code",
   "execution_count": 29,
   "metadata": {},
   "outputs": [],
   "source": [
    "# Reshaping Y variable\n",
    "Y_vec = Y_train.to_numpy().reshape( Y_train.to_numpy().size, 1)\n",
    "\n",
    "# Scalar distribution\n",
    "scaler = StandardScaler()\n",
    "scaler.fit( Y_vec )\n",
    "std_Y = scaler.transform( Y_vec )\n",
    "\n",
    "# Regressions\n",
    "fit_lasso_cv_basic = LassoCV(cv = 10 , random_state = 0 , normalize = True ).fit( model_X_basic_train, std_Y )\n",
    "fit_ridge_basic = ElasticNetCV( cv = 10 , normalize = True , random_state = 0 , l1_ratio = 0.0001 ).fit( model_X_basic_train , std_Y )\n",
    "fit_elnet_basic = ElasticNetCV( cv = 10 , normalize = True , random_state = 0 , l1_ratio = 0.5, max_iter = 100000 ).fit( model_X_basic_train , std_Y )\n",
    "\n",
    "# Predictions\n",
    "yhat_lasso_cv_basic = scaler.inverse_transform( fit_lasso_cv_basic.predict( model_X_basic_test ).reshape(-1,1) )\n",
    "yhat_ridge_basic = scaler.inverse_transform( fit_ridge_basic.predict( model_X_basic_test ).reshape(-1,1) )\n",
    "yhat_elnet_basic = scaler.inverse_transform( fit_elnet_basic.predict( model_X_basic_test ).reshape(-1,1) )"
   ]
  },
  {
   "cell_type": "code",
   "execution_count": 30,
   "metadata": {},
   "outputs": [],
   "source": [
    "MSE_lasso_cv_basic = sm.OLS( ((Y_test.to_numpy().reshape(-1,1) - yhat_lasso_cv_basic)**2 ) , np.ones( yhat_lasso_cv_basic.shape )  ).fit().summary2().tables[1].round(3)\n",
    "MSE_ridge_basic = sm.OLS( ((Y_test.to_numpy().reshape(-1,1) - yhat_ridge_basic)**2 ) , np.ones( yhat_ridge_basic.size )  ).fit().summary2().tables[1].round(3)\n",
    "MSE_elnet_basic = sm.OLS( ((Y_test.to_numpy().reshape(-1,1) - yhat_elnet_basic)**2 ) , np.ones( yhat_elnet_basic.size )  ).fit().summary2().tables[1].round(3)\n",
    "# our coefficient of MSE_elnet are far from r output"
   ]
  },
  {
   "cell_type": "code",
   "execution_count": 31,
   "metadata": {},
   "outputs": [],
   "source": [
    "R2_lasso_cv_basic = 1- MSE_ridge_basic.iloc[0,0] / np.var( Y_test )\n",
    "R2_ridge_basic = 1- MSE_lasso_cv_basic.iloc[0,0] / np.var( Y_test )\n",
    "R2_elnet_basic = 1- MSE_elnet_basic.iloc[0,0] / np.var( Y_test )"
   ]
  },
  {
   "cell_type": "code",
   "execution_count": 32,
   "metadata": {},
   "outputs": [
    {
     "name": "stdout",
     "output_type": "stream",
     "text": [
      "R^2 using cross-validation for lasso, ridge and elastic net in the basic model: 0.006181964058044276,0.2923277143447375,0.2923277143447375\n"
     ]
    }
   ],
   "source": [
    "print( f\"R^2 using cross-validation for lasso, ridge and elastic net in the basic model: {R2_lasso_cv_basic},{R2_ridge_basic},{R2_elnet_basic}\")"
   ]
  },
  {
   "cell_type": "code",
   "execution_count": 33,
   "metadata": {},
   "outputs": [],
   "source": [
    "# Reshaping Y variable\n",
    "Y_vec = Y_train.to_numpy().reshape( Y_train.to_numpy().size, 1)\n",
    "\n",
    "# Scalar distribution\n",
    "scaler = StandardScaler()\n",
    "scaler.fit( Y_vec )\n",
    "std_Y = scaler.transform( Y_vec )\n",
    "\n",
    "# Regressions\n",
    "fit_lasso_cv_flex = LassoCV(cv = 10 , random_state = 0 , normalize = True ).fit( model_X_flex_train, std_Y )\n",
    "fit_ridge_flex = ElasticNetCV( cv = 10 , normalize = True , random_state = 0 , l1_ratio = 0.0001 ).fit( model_X_flex_train , std_Y )\n",
    "fit_elnet_flex = ElasticNetCV( cv = 10 , normalize = True , random_state = 0 , l1_ratio = 0.5, max_iter = 100000 ).fit( model_X_flex_train , std_Y )\n",
    "\n",
    "# Predictions\n",
    "yhat_lasso_cv_flex = scaler.inverse_transform( fit_lasso_cv_flex.predict( model_X_flex_test ).reshape(-1,1) )\n",
    "yhat_ridge_flex = scaler.inverse_transform( fit_ridge_flex.predict( model_X_flex_test ).reshape(-1,1) )\n",
    "yhat_elnet_flex = scaler.inverse_transform( fit_elnet_flex.predict( model_X_flex_test ).reshape(-1,1) )"
   ]
  },
  {
   "cell_type": "code",
   "execution_count": 34,
   "metadata": {},
   "outputs": [],
   "source": [
    "MSE_lasso_cv_flex = sm.OLS( ((Y_test.to_numpy().reshape(-1,1) - yhat_lasso_cv_flex)**2 ) , np.ones( yhat_lasso_cv_flex.shape )  ).fit().summary2().tables[1].round(3)\n",
    "MSE_ridge_flex = sm.OLS( ((Y_test.to_numpy().reshape(-1,1) - yhat_ridge_flex)**2 ) , np.ones( yhat_ridge_flex.size )  ).fit().summary2().tables[1].round(3)\n",
    "MSE_elnet_flex = sm.OLS( ((Y_test.to_numpy().reshape(-1,1) - yhat_elnet_flex)**2 ) , np.ones( yhat_elnet_flex.size )  ).fit().summary2().tables[1].round(3)\n",
    "# our coefficient of MSE_elnet are far from r output"
   ]
  },
  {
   "cell_type": "code",
   "execution_count": 35,
   "metadata": {},
   "outputs": [],
   "source": [
    "R2_lasso_cv_flex = 1- MSE_ridge_flex.iloc[0,0] / np.var( Y_test )\n",
    "R2_ridge_flex = 1- MSE_lasso_cv_flex.iloc[0,0] / np.var( Y_test )\n",
    "R2_elnet_flex = 1- MSE_elnet_flex.iloc[0,0] / np.var( Y_test )"
   ]
  },
  {
   "cell_type": "code",
   "execution_count": 36,
   "metadata": {},
   "outputs": [
    {
     "name": "stdout",
     "output_type": "stream",
     "text": [
      "R^2 using cross-validation for lasso, ridge and elastic net in the basic model: 0.012335636107220549,0.2892508783201493,0.2830972062709731\n"
     ]
    }
   ],
   "source": [
    "print( f\"R^2 using cross-validation for lasso, ridge and elastic net in the basic model: {R2_lasso_cv_flex},{R2_ridge_flex},{R2_elnet_flex}\")"
   ]
  },
  {
   "cell_type": "markdown",
   "metadata": {
    "papermill": {
     "duration": 0.04263,
     "end_time": "2021-02-13T18:20:07.529566",
     "exception": false,
     "start_time": "2021-02-13T18:20:07.486936",
     "status": "completed"
    },
    "tags": []
   },
   "source": [
    "The performance of the lasso regression with cross-validated penalty is quite similar to the performance of lasso using a theoretical based choice of the tuning parameter."
   ]
  },
  {
   "cell_type": "markdown",
   "metadata": {
    "papermill": {
     "duration": 0.042859,
     "end_time": "2021-02-13T18:20:07.614751",
     "exception": false,
     "start_time": "2021-02-13T18:20:07.571892",
     "status": "completed"
    },
    "tags": []
   },
   "source": [
    "## Non-linear models"
   ]
  },
  {
   "cell_type": "markdown",
   "metadata": {
    "papermill": {
     "duration": 0.042125,
     "end_time": "2021-02-13T18:20:07.699092",
     "exception": false,
     "start_time": "2021-02-13T18:20:07.656967",
     "status": "completed"
    },
    "tags": []
   },
   "source": [
    "Besides linear regression models, we consider nonlinear regression models to build a predictive model. We are applying regression trees, random forests, boosted trees and neural nets to estimate the regression function $g(X)$. First, we load the relevant libraries"
   ]
  },
  {
   "cell_type": "markdown",
   "metadata": {
    "papermill": {
     "duration": 0.043418,
     "end_time": "2021-02-13T18:20:08.174622",
     "exception": false,
     "start_time": "2021-02-13T18:20:08.131204",
     "status": "completed"
    },
    "tags": []
   },
   "source": [
    "and we illustrate the application of regression trees."
   ]
  },
  {
   "cell_type": "markdown",
   "metadata": {
    "papermill": {
     "duration": 0.043267,
     "end_time": "2021-02-13T18:20:08.261600",
     "exception": false,
     "start_time": "2021-02-13T18:20:08.218333",
     "status": "completed"
    },
    "tags": []
   },
   "source": [
    "### Regression Trees"
   ]
  },
  {
   "cell_type": "markdown",
   "metadata": {
    "papermill": {
     "duration": 0.043445,
     "end_time": "2021-02-13T18:20:08.348402",
     "exception": false,
     "start_time": "2021-02-13T18:20:08.304957",
     "status": "completed"
    },
    "tags": []
   },
   "source": [
    "We fit a regression tree to the training data using the basic model. The variable *cp* controls the complexity of the regression tree, i.e. how deep we build the tree."
   ]
  },
  {
   "cell_type": "code",
   "execution_count": 37,
   "metadata": {},
   "outputs": [],
   "source": [
    "import os\n",
    "import pandas as pd\n",
    "import numpy as np\n",
    "import matplotlib.pyplot as plt\n",
    "from sklearn.model_selection import train_test_split\n",
    "from sklearn.tree import DecisionTreeRegressor\n",
    "from sklearn.ensemble import RandomForestRegressor\n",
    "from sklearn import tree\n",
    "from scipy.sparse import diags\n",
    "from IPython.display import Image, display"
   ]
  },
  {
   "cell_type": "markdown",
   "metadata": {},
   "source": [
    "**cp** = It is the amout by which splitting that node would decarease the relative error.\\\n",
    "It has the same meaning as min_impurity_decrease \n",
    "Apparently, Sklearn does not have tree prune function as stated in theis user guide. I take the info from [this link](https://stats.stackexchange.com/questions/152553/what-is-the-equivalent-of-the-complexity-parameter-rpart-in-r-in-python-for)"
   ]
  },
  {
   "cell_type": "markdown",
   "metadata": {},
   "source": [
    "we can Preprune and postprune decission trees.\n",
    "\n",
    "Preprunning is stopping the growth of decision tree on an early stage. we can limit paramters like max_depth, min_samples. We can grid search those parameters and choose the optimum values that gives better performance on test data. \n",
    "\n",
    "Cost complexity pruning\\\n",
    "It is all about finding the right parameter for alpha. We will get the alpha values for this tree\n",
    "\n",
    "we are going to cut some threes in order to not overfitting data. We will calculate the total sum of squared residuals from each leaf of each type of three and store that results.\n",
    "\n",
    "how to compare these threes?\n",
    "\n",
    "Tree Scores = SSR + alpha(Number of leafs) We will penalize for each additional three.\n",
    "We will get the alpha value from cross validation. We can check the code [here](https://www.kaggle.com/arunmohan003/pruning-decision-trees)."
   ]
  },
  {
   "cell_type": "markdown",
   "metadata": {},
   "source": [
    "cp = It is the minimum value that the R-squared should decrease in order to make the next splitting \\\n",
    "Xerror = Cross-Validated Error Rate "
   ]
  },
  {
   "cell_type": "code",
   "execution_count": 38,
   "metadata": {},
   "outputs": [],
   "source": [
    "trees = DecisionTreeRegressor( random_state = 0, min_impurity_decrease = 0.001 )"
   ]
  },
  {
   "cell_type": "code",
   "execution_count": 39,
   "metadata": {},
   "outputs": [
    {
     "data": {
      "text/html": [
       "<div>\n",
       "<style scoped>\n",
       "    .dataframe tbody tr th:only-of-type {\n",
       "        vertical-align: middle;\n",
       "    }\n",
       "\n",
       "    .dataframe tbody tr th {\n",
       "        vertical-align: top;\n",
       "    }\n",
       "\n",
       "    .dataframe thead th {\n",
       "        text-align: right;\n",
       "    }\n",
       "</style>\n",
       "<table border=\"1\" class=\"dataframe\">\n",
       "  <thead>\n",
       "    <tr style=\"text-align: right;\">\n",
       "      <th></th>\n",
       "      <th>ccp_alphas</th>\n",
       "      <th>impurities</th>\n",
       "    </tr>\n",
       "  </thead>\n",
       "  <tbody>\n",
       "    <tr>\n",
       "      <th>0</th>\n",
       "      <td>0.000000</td>\n",
       "      <td>2.406771</td>\n",
       "    </tr>\n",
       "    <tr>\n",
       "      <th>1</th>\n",
       "      <td>0.001046</td>\n",
       "      <td>2.407817</td>\n",
       "    </tr>\n",
       "    <tr>\n",
       "      <th>2</th>\n",
       "      <td>0.001194</td>\n",
       "      <td>2.409011</td>\n",
       "    </tr>\n",
       "    <tr>\n",
       "      <th>3</th>\n",
       "      <td>0.001439</td>\n",
       "      <td>2.410450</td>\n",
       "    </tr>\n",
       "    <tr>\n",
       "      <th>4</th>\n",
       "      <td>0.001572</td>\n",
       "      <td>2.413593</td>\n",
       "    </tr>\n",
       "    <tr>\n",
       "      <th>5</th>\n",
       "      <td>0.001620</td>\n",
       "      <td>2.415214</td>\n",
       "    </tr>\n",
       "    <tr>\n",
       "      <th>6</th>\n",
       "      <td>0.001642</td>\n",
       "      <td>2.418497</td>\n",
       "    </tr>\n",
       "    <tr>\n",
       "      <th>7</th>\n",
       "      <td>0.001692</td>\n",
       "      <td>2.421882</td>\n",
       "    </tr>\n",
       "    <tr>\n",
       "      <th>8</th>\n",
       "      <td>0.001715</td>\n",
       "      <td>2.423597</td>\n",
       "    </tr>\n",
       "    <tr>\n",
       "      <th>9</th>\n",
       "      <td>0.001736</td>\n",
       "      <td>2.427068</td>\n",
       "    </tr>\n",
       "    <tr>\n",
       "      <th>10</th>\n",
       "      <td>0.001980</td>\n",
       "      <td>2.429048</td>\n",
       "    </tr>\n",
       "    <tr>\n",
       "      <th>11</th>\n",
       "      <td>0.002068</td>\n",
       "      <td>2.431116</td>\n",
       "    </tr>\n",
       "    <tr>\n",
       "      <th>12</th>\n",
       "      <td>0.002071</td>\n",
       "      <td>2.435257</td>\n",
       "    </tr>\n",
       "    <tr>\n",
       "      <th>13</th>\n",
       "      <td>0.002119</td>\n",
       "      <td>2.445851</td>\n",
       "    </tr>\n",
       "    <tr>\n",
       "      <th>14</th>\n",
       "      <td>0.002162</td>\n",
       "      <td>2.448013</td>\n",
       "    </tr>\n",
       "    <tr>\n",
       "      <th>15</th>\n",
       "      <td>0.002262</td>\n",
       "      <td>2.450275</td>\n",
       "    </tr>\n",
       "    <tr>\n",
       "      <th>16</th>\n",
       "      <td>0.002281</td>\n",
       "      <td>2.454837</td>\n",
       "    </tr>\n",
       "    <tr>\n",
       "      <th>17</th>\n",
       "      <td>0.002301</td>\n",
       "      <td>2.459438</td>\n",
       "    </tr>\n",
       "    <tr>\n",
       "      <th>18</th>\n",
       "      <td>0.002563</td>\n",
       "      <td>2.467129</td>\n",
       "    </tr>\n",
       "    <tr>\n",
       "      <th>19</th>\n",
       "      <td>0.002661</td>\n",
       "      <td>2.475112</td>\n",
       "    </tr>\n",
       "    <tr>\n",
       "      <th>20</th>\n",
       "      <td>0.002708</td>\n",
       "      <td>2.480527</td>\n",
       "    </tr>\n",
       "    <tr>\n",
       "      <th>21</th>\n",
       "      <td>0.002797</td>\n",
       "      <td>2.505696</td>\n",
       "    </tr>\n",
       "    <tr>\n",
       "      <th>22</th>\n",
       "      <td>0.002955</td>\n",
       "      <td>2.508651</td>\n",
       "    </tr>\n",
       "    <tr>\n",
       "      <th>23</th>\n",
       "      <td>0.002978</td>\n",
       "      <td>2.511629</td>\n",
       "    </tr>\n",
       "    <tr>\n",
       "      <th>24</th>\n",
       "      <td>0.003560</td>\n",
       "      <td>2.532991</td>\n",
       "    </tr>\n",
       "    <tr>\n",
       "      <th>25</th>\n",
       "      <td>0.003803</td>\n",
       "      <td>2.552008</td>\n",
       "    </tr>\n",
       "    <tr>\n",
       "      <th>26</th>\n",
       "      <td>0.004023</td>\n",
       "      <td>2.556030</td>\n",
       "    </tr>\n",
       "    <tr>\n",
       "      <th>27</th>\n",
       "      <td>0.004608</td>\n",
       "      <td>2.565247</td>\n",
       "    </tr>\n",
       "    <tr>\n",
       "      <th>28</th>\n",
       "      <td>0.012958</td>\n",
       "      <td>2.578205</td>\n",
       "    </tr>\n",
       "  </tbody>\n",
       "</table>\n",
       "</div>"
      ],
      "text/plain": [
       "    ccp_alphas  impurities\n",
       "0     0.000000    2.406771\n",
       "1     0.001046    2.407817\n",
       "2     0.001194    2.409011\n",
       "3     0.001439    2.410450\n",
       "4     0.001572    2.413593\n",
       "5     0.001620    2.415214\n",
       "6     0.001642    2.418497\n",
       "7     0.001692    2.421882\n",
       "8     0.001715    2.423597\n",
       "9     0.001736    2.427068\n",
       "10    0.001980    2.429048\n",
       "11    0.002068    2.431116\n",
       "12    0.002071    2.435257\n",
       "13    0.002119    2.445851\n",
       "14    0.002162    2.448013\n",
       "15    0.002262    2.450275\n",
       "16    0.002281    2.454837\n",
       "17    0.002301    2.459438\n",
       "18    0.002563    2.467129\n",
       "19    0.002661    2.475112\n",
       "20    0.002708    2.480527\n",
       "21    0.002797    2.505696\n",
       "22    0.002955    2.508651\n",
       "23    0.002978    2.511629\n",
       "24    0.003560    2.532991\n",
       "25    0.003803    2.552008\n",
       "26    0.004023    2.556030\n",
       "27    0.004608    2.565247\n",
       "28    0.012958    2.578205"
      ]
     },
     "execution_count": 39,
     "metadata": {},
     "output_type": "execute_result"
    }
   ],
   "source": [
    "pd.DataFrame(trees.cost_complexity_pruning_path( y_basic_train, model_X_basic_train ))"
   ]
  },
  {
   "cell_type": "code",
   "execution_count": 40,
   "metadata": {},
   "outputs": [],
   "source": [
    "trees_fit =  trees.fit( y_basic_train, model_X_basic_train )"
   ]
  },
  {
   "cell_type": "code",
   "execution_count": 41,
   "metadata": {
    "scrolled": true
   },
   "outputs": [
    {
     "data": {
      "image/png": "[encoded data removed]",
      "text/plain": [
       "<Figure size 1800x1440 with 1 Axes>"
      ]
     },
     "metadata": {
      "filenames": {
       "image/png": "C:\\Users\\User\\Documents\\GitHub\\14.388_py\\_build\\jupyter_execute\\Python_notebooks\\08_ML_for_wage_prediction_74_0.png"
      },
      "needs_background": "light"
     },
     "output_type": "display_data"
    }
   ],
   "source": [
    "# tree\n",
    "fig = plt.figure(figsize=(25,20))\n",
    "_ = tree.plot_tree( trees_fit , filled = True , rounded = True  )"
   ]
  },
  {
   "cell_type": "markdown",
   "metadata": {
    "papermill": {
     "duration": 0.046456,
     "end_time": "2021-02-13T18:20:10.328795",
     "exception": false,
     "start_time": "2021-02-13T18:20:10.282339",
     "status": "completed"
    },
    "tags": []
   },
   "source": [
    "An important method to improve predictive performance is called \"Pruning the Tree\". This\n",
    "means the process of cutting down the branches of a tree. We apply pruning to the complex tree above to reduce the depth. Initially, we determine the optimal complexity of the regression tree."
   ]
  },
  {
   "cell_type": "code",
   "execution_count": 42,
   "metadata": {
    "scrolled": true
   },
   "outputs": [
    {
     "data": {
      "text/plain": [
       "['__abstractmethods__',\n",
       " '__class__',\n",
       " '__delattr__',\n",
       " '__dict__',\n",
       " '__dir__',\n",
       " '__doc__',\n",
       " '__eq__',\n",
       " '__format__',\n",
       " '__ge__',\n",
       " '__getattribute__',\n",
       " '__getstate__',\n",
       " '__gt__',\n",
       " '__hash__',\n",
       " '__init__',\n",
       " '__init_subclass__',\n",
       " '__le__',\n",
       " '__lt__',\n",
       " '__module__',\n",
       " '__ne__',\n",
       " '__new__',\n",
       " '__reduce__',\n",
       " '__reduce_ex__',\n",
       " '__repr__',\n",
       " '__setattr__',\n",
       " '__setstate__',\n",
       " '__sizeof__',\n",
       " '__str__',\n",
       " '__subclasshook__',\n",
       " '__weakref__',\n",
       " '_abc_impl',\n",
       " '_check_feature_names',\n",
       " '_check_n_features',\n",
       " '_compute_partial_dependence_recursion',\n",
       " '_estimator_type',\n",
       " '_get_param_names',\n",
       " '_get_tags',\n",
       " '_more_tags',\n",
       " '_prune_tree',\n",
       " '_repr_html_',\n",
       " '_repr_html_inner',\n",
       " '_repr_mimebundle_',\n",
       " '_validate_X_predict',\n",
       " '_validate_data',\n",
       " 'apply',\n",
       " 'ccp_alpha',\n",
       " 'class_weight',\n",
       " 'cost_complexity_pruning_path',\n",
       " 'criterion',\n",
       " 'decision_path',\n",
       " 'feature_importances_',\n",
       " 'feature_names_in_',\n",
       " 'fit',\n",
       " 'get_depth',\n",
       " 'get_n_leaves',\n",
       " 'get_params',\n",
       " 'max_depth',\n",
       " 'max_features',\n",
       " 'max_features_',\n",
       " 'max_leaf_nodes',\n",
       " 'min_impurity_decrease',\n",
       " 'min_samples_leaf',\n",
       " 'min_samples_split',\n",
       " 'min_weight_fraction_leaf',\n",
       " 'n_features_',\n",
       " 'n_features_in_',\n",
       " 'n_outputs_',\n",
       " 'predict',\n",
       " 'random_state',\n",
       " 'score',\n",
       " 'set_params',\n",
       " 'splitter',\n",
       " 'tree_']"
      ]
     },
     "execution_count": 42,
     "metadata": {},
     "output_type": "execute_result"
    }
   ],
   "source": [
    "dir(trees_fit)"
   ]
  },
  {
   "cell_type": "markdown",
   "metadata": {
    "papermill": {
     "duration": 0.047157,
     "end_time": "2021-02-13T18:20:10.540327",
     "exception": false,
     "start_time": "2021-02-13T18:20:10.493170",
     "status": "completed"
    },
    "tags": []
   },
   "source": [
    "Now, we can prune the tree and visualize the prediction rule."
   ]
  },
  {
   "cell_type": "code",
   "execution_count": null,
   "metadata": {},
   "outputs": [],
   "source": []
  },
  {
   "cell_type": "markdown",
   "metadata": {
    "papermill": {
     "duration": 0.052169,
     "end_time": "2021-02-13T18:20:11.234467",
     "exception": false,
     "start_time": "2021-02-13T18:20:11.182298",
     "status": "completed"
    },
    "tags": []
   },
   "source": [
    "E.g., in the pruned tree the predicted hourly log wage for high-school graduates with more than $9.5$ years of experience is $2.8$, and otherwise is $2.6$."
   ]
  },
  {
   "cell_type": "markdown",
   "metadata": {
    "papermill": {
     "duration": 0.04994,
     "end_time": "2021-02-13T18:20:11.334448",
     "exception": false,
     "start_time": "2021-02-13T18:20:11.284508",
     "status": "completed"
    },
    "tags": []
   },
   "source": [
    "Finally, we calculate the mean-squared error and the $R^2$ on the test sample to evaluate the out-of-sample performance of the pruned tree."
   ]
  },
  {
   "cell_type": "code",
   "execution_count": null,
   "metadata": {},
   "outputs": [],
   "source": []
  },
  {
   "cell_type": "markdown",
   "metadata": {
    "papermill": {
     "duration": 0.052287,
     "end_time": "2021-02-13T18:20:11.566330",
     "exception": false,
     "start_time": "2021-02-13T18:20:11.514043",
     "status": "completed"
    },
    "tags": []
   },
   "source": [
    "### Random Forest and Boosted Trees"
   ]
  },
  {
   "cell_type": "markdown",
   "metadata": {
    "papermill": {
     "duration": 0.050794,
     "end_time": "2021-02-13T18:20:11.667980",
     "exception": false,
     "start_time": "2021-02-13T18:20:11.617186",
     "status": "completed"
    },
    "tags": []
   },
   "source": [
    "In the next step, we apply the more advanced tree-based methods random forest and boosted trees."
   ]
  },
  {
   "cell_type": "code",
   "execution_count": null,
   "metadata": {},
   "outputs": [],
   "source": []
  },
  {
   "cell_type": "markdown",
   "metadata": {
    "papermill": {
     "duration": 0.051225,
     "end_time": "2021-02-13T18:21:08.500313",
     "exception": false,
     "start_time": "2021-02-13T18:21:08.449088",
     "status": "completed"
    },
    "tags": []
   },
   "source": [
    "To conclude, let us have a look at our results."
   ]
  },
  {
   "cell_type": "markdown",
   "metadata": {
    "papermill": {
     "duration": 0.052403,
     "end_time": "2021-02-13T18:21:08.603976",
     "exception": false,
     "start_time": "2021-02-13T18:21:08.551573",
     "status": "completed"
    },
    "tags": []
   },
   "source": [
    "## Results"
   ]
  },
  {
   "cell_type": "code",
   "execution_count": null,
   "metadata": {},
   "outputs": [],
   "source": []
  },
  {
   "cell_type": "markdown",
   "metadata": {
    "papermill": {
     "duration": 0.052897,
     "end_time": "2021-02-13T18:21:08.930888",
     "exception": false,
     "start_time": "2021-02-13T18:21:08.877991",
     "status": "completed"
    },
    "tags": []
   },
   "source": [
    "Above, we displayed the results for a single split of data into the training and testing part. The table shows the test MSE in column 1 as well as the standard error in column 2 and the test $R^2$\n",
    "in column 3. We see that the prediction rule produced by Elastic Net using the flexible model performs the best here, giving the lowest test MSE. Cross-Validated Lasso and Ridge, perform nearly as well. For any two of these methods, their testing MSEs are within one standard error of each other. Remarkably, OLS on a simple model performs extremely well, almost as well as best tree based method Random Forest. On the other hand, OLS on a flexible model with many regressors performs very poorly giving the highest test MSE. It is worth to notice that the nonlinear models, e.g. Random Forest, are not tuned. Thus, there is a lot of potential to improve the performance of the nonlinear methods we used in the analysis."
   ]
  },
  {
   "cell_type": "markdown",
   "metadata": {
    "papermill": {
     "duration": 0.052594,
     "end_time": "2021-02-13T18:21:09.036009",
     "exception": false,
     "start_time": "2021-02-13T18:21:08.983415",
     "status": "completed"
    },
    "tags": []
   },
   "source": [
    "### Ensemble learning"
   ]
  },
  {
   "cell_type": "markdown",
   "metadata": {
    "papermill": {
     "duration": 0.053134,
     "end_time": "2021-02-13T18:21:09.146558",
     "exception": false,
     "start_time": "2021-02-13T18:21:09.093424",
     "status": "completed"
    },
    "tags": []
   },
   "source": [
    "In the final step, we can build a prediction model by combing the strengths of the models we considered so far. This ensemble method is of the form \n",
    "\n",
    "$$\n",
    "\\begin{align}\n",
    "f(x) = \\sum_{k=1}^K \\alpha_k f_k(x) \n",
    "\\end{align}\n",
    "$$\n",
    "\n",
    "where the $f_k$'s denote our prediction rules from the table above and the $\\alpha_k$'s are the corresponding weights."
   ]
  },
  {
   "cell_type": "markdown",
   "metadata": {
    "papermill": {
     "duration": 0.053696,
     "end_time": "2021-02-13T18:21:09.254342",
     "exception": false,
     "start_time": "2021-02-13T18:21:09.200646",
     "status": "completed"
    },
    "tags": []
   },
   "source": [
    "We focus on the prediction rules based on OLS, Post-Lasso, Elastic Net, Pruned Tree, Random Forest, Boosted Trees, and Neural Network and combine these methods into an ensemble method. The weights can be determined by a simple ols regression:"
   ]
  },
  {
   "cell_type": "markdown",
   "metadata": {
    "papermill": {
     "duration": 0.054822,
     "end_time": "2021-02-13T18:21:09.498067",
     "exception": false,
     "start_time": "2021-02-13T18:21:09.443245",
     "status": "completed"
    },
    "tags": []
   },
   "source": [
    "Alternatively, we can determine the weights via lasso regression. "
   ]
  },
  {
   "cell_type": "code",
   "execution_count": null,
   "metadata": {},
   "outputs": [],
   "source": []
  },
  {
   "cell_type": "markdown",
   "metadata": {
    "papermill": {
     "duration": 0.055874,
     "end_time": "2021-02-13T18:21:09.838636",
     "exception": false,
     "start_time": "2021-02-13T18:21:09.782762",
     "status": "completed"
    },
    "tags": []
   },
   "source": [
    "The estimated weights are shown in the following table."
   ]
  },
  {
   "cell_type": "code",
   "execution_count": null,
   "metadata": {},
   "outputs": [],
   "source": []
  },
  {
   "cell_type": "markdown",
   "metadata": {
    "papermill": {
     "duration": 0.056002,
     "end_time": "2021-02-13T18:21:10.101284",
     "exception": false,
     "start_time": "2021-02-13T18:21:10.045282",
     "status": "completed"
    },
    "tags": []
   },
   "source": [
    "Further, the $R^2$ for the test sample gets improved from $30\\%$ obtained by OLS to about $31\\%$ obtained by the ensemble method. We see that it is very powerful to aggregate prediction rules into an ensemble rule. Nevertheless, it is worth to notice that we should compare the ensemble method and the single rules on an additional validation set to ensure a fair comparison."
   ]
  },
  {
   "cell_type": "code",
   "execution_count": 43,
   "metadata": {},
   "outputs": [
    {
     "data": {
      "text/html": [
       "<div>\n",
       "<style scoped>\n",
       "    .dataframe tbody tr th:only-of-type {\n",
       "        vertical-align: middle;\n",
       "    }\n",
       "\n",
       "    .dataframe tbody tr th {\n",
       "        vertical-align: top;\n",
       "    }\n",
       "\n",
       "    .dataframe thead th {\n",
       "        text-align: right;\n",
       "    }\n",
       "</style>\n",
       "<table border=\"1\" class=\"dataframe\">\n",
       "  <thead>\n",
       "    <tr style=\"text-align: right;\">\n",
       "      <th></th>\n",
       "      <th>MSE</th>\n",
       "      <th>S_E_ for MSE</th>\n",
       "      <th>R-squared</th>\n",
       "    </tr>\n",
       "  </thead>\n",
       "  <tbody>\n",
       "    <tr>\n",
       "      <th>Least Squares (basic)</th>\n",
       "      <td>0.230</td>\n",
       "      <td>0.015</td>\n",
       "      <td>0.292</td>\n",
       "    </tr>\n",
       "    <tr>\n",
       "      <th>Least Squares (flexible)</th>\n",
       "      <td>0.239</td>\n",
       "      <td>0.014</td>\n",
       "      <td>0.266</td>\n",
       "    </tr>\n",
       "    <tr>\n",
       "      <th>Lasso</th>\n",
       "      <td>0.240</td>\n",
       "      <td>0.015</td>\n",
       "      <td>0.262</td>\n",
       "    </tr>\n",
       "    <tr>\n",
       "      <th>Post-Lasso</th>\n",
       "      <td>0.238</td>\n",
       "      <td>0.015</td>\n",
       "      <td>0.268</td>\n",
       "    </tr>\n",
       "    <tr>\n",
       "      <th>Lasso (flexible)</th>\n",
       "      <td>0.240</td>\n",
       "      <td>0.015</td>\n",
       "      <td>0.262</td>\n",
       "    </tr>\n",
       "    <tr>\n",
       "      <th>Post-Lasso (flexible)</th>\n",
       "      <td>0.238</td>\n",
       "      <td>0.015</td>\n",
       "      <td>0.268</td>\n",
       "    </tr>\n",
       "    <tr>\n",
       "      <th>Cross-Validated lasso</th>\n",
       "      <td>0.230</td>\n",
       "      <td>0.015</td>\n",
       "      <td>0.006</td>\n",
       "    </tr>\n",
       "    <tr>\n",
       "      <th>Cross-Validated ridge</th>\n",
       "      <td>0.323</td>\n",
       "      <td>0.016</td>\n",
       "      <td>0.292</td>\n",
       "    </tr>\n",
       "    <tr>\n",
       "      <th>Cross-Validated elnet</th>\n",
       "      <td>0.230</td>\n",
       "      <td>0.015</td>\n",
       "      <td>0.292</td>\n",
       "    </tr>\n",
       "    <tr>\n",
       "      <th>Cross-Validated lasso (flexible)</th>\n",
       "      <td>0.231</td>\n",
       "      <td>0.015</td>\n",
       "      <td>0.012</td>\n",
       "    </tr>\n",
       "    <tr>\n",
       "      <th>Cross-Validated ridge (flexible)</th>\n",
       "      <td>0.321</td>\n",
       "      <td>0.016</td>\n",
       "      <td>0.289</td>\n",
       "    </tr>\n",
       "    <tr>\n",
       "      <th>Cross-Validated elnet (flexible)</th>\n",
       "      <td>0.233</td>\n",
       "      <td>0.014</td>\n",
       "      <td>0.283</td>\n",
       "    </tr>\n",
       "    <tr>\n",
       "      <th>Random Forest</th>\n",
       "      <td>0.000</td>\n",
       "      <td>0.000</td>\n",
       "      <td>0.000</td>\n",
       "    </tr>\n",
       "    <tr>\n",
       "      <th>Boosted Trees</th>\n",
       "      <td>0.000</td>\n",
       "      <td>0.000</td>\n",
       "      <td>0.000</td>\n",
       "    </tr>\n",
       "    <tr>\n",
       "      <th>Pruned Tree</th>\n",
       "      <td>0.000</td>\n",
       "      <td>0.000</td>\n",
       "      <td>0.000</td>\n",
       "    </tr>\n",
       "  </tbody>\n",
       "</table>\n",
       "</div>"
      ],
      "text/plain": [
       "                                    MSE  S_E_ for MSE  R-squared\n",
       "Least Squares (basic)             0.230         0.015      0.292\n",
       "Least Squares (flexible)          0.239         0.014      0.266\n",
       "Lasso                             0.240         0.015      0.262\n",
       "Post-Lasso                        0.238         0.015      0.268\n",
       "Lasso (flexible)                  0.240         0.015      0.262\n",
       "Post-Lasso (flexible)             0.238         0.015      0.268\n",
       "Cross-Validated lasso             0.230         0.015      0.006\n",
       "Cross-Validated ridge             0.323         0.016      0.292\n",
       "Cross-Validated elnet             0.230         0.015      0.292\n",
       "Cross-Validated lasso (flexible)  0.231         0.015      0.012\n",
       "Cross-Validated ridge (flexible)  0.321         0.016      0.289\n",
       "Cross-Validated elnet (flexible)  0.233         0.014      0.283\n",
       "Random Forest                     0.000         0.000      0.000\n",
       "Boosted Trees                     0.000         0.000      0.000\n",
       "Pruned Tree                       0.000         0.000      0.000"
      ]
     },
     "execution_count": 43,
     "metadata": {},
     "output_type": "execute_result"
    }
   ],
   "source": [
    "table= np.zeros( (15, 3) )\n",
    "table[0,0:2]   = MSE_lm_basic\n",
    "table[1,0:2]   = MSE_lm_flex\n",
    "table[2,0:2]   = MSE_lasso.iloc[0, [0, 1]]\n",
    "table[3,0:2]   = MSE_lasso_post.iloc[0, [0, 1]]\n",
    "table[4,0:2]   = MSE_lasso_flex.iloc[0, [0, 1]]\n",
    "table[5,0:2]   = MSE_lasso_post_flex.iloc[0, [0, 1]]\n",
    "table[6,0:2]   = MSE_lasso_cv_basic.iloc[0, [0, 1]]\n",
    "table[7,0:2]   = MSE_ridge_basic.iloc[0, [0, 1]]\n",
    "table[8,0:2]   = MSE_elnet_basic.iloc[0, [0, 1]]\n",
    "table[9,0:2]   = MSE_lasso_cv_flex.iloc[0, [0, 1]]\n",
    "table[10,0:2]  = MSE_ridge_flex.iloc[0, [0, 1]]\n",
    "table[11,0:2]  = MSE_elnet_flex.iloc[0, [0, 1]]\n",
    "# table[13,1:2]  = MSE_rf\n",
    "# table[14,1:2]  = MSE_boost\n",
    "# table[15,1:2]  = MSE_pt\n",
    "\n",
    "\n",
    "\n",
    "table[0,2]   = R2_lm_basic\n",
    "table[1,2]   = R2_lm_flex\n",
    "table[2,2]   = R2_lasso\n",
    "table[3,2]   = R2_lasso_post\n",
    "table[4,2]   = R2_lasso_flex\n",
    "table[5,2]   = R2_lasso_post_flex\n",
    "table[6,2]   = R2_lasso_cv_basic\n",
    "table[7,2]   = R2_ridge_basic\n",
    "table[8,2]   = R2_elnet_basic\n",
    "table[9,2]   = R2_lasso_cv_flex\n",
    "table[10,2]  = R2_ridge_flex\n",
    "table[11,2]  = R2_elnet_flex\n",
    "# table[13,3]  = R2_rf\n",
    "# table[14,3]  = R2_boost\n",
    "# table[15,3]  = R2_pt\n",
    "\n",
    "\n",
    "\n",
    "\n",
    "colnames_table= [\"MSE\", \"S_E_ for MSE\", \"R-squared\"]\n",
    "rownames_table= [\"Least Squares (basic)\",\"Least Squares (flexible)\", \"Lasso\", \"Post-Lasso\",\"Lasso (flexible)\",\"Post-Lasso (flexible)\", \\\n",
    "                    \"Cross-Validated lasso\", \"Cross-Validated ridge\",\"Cross-Validated elnet\",\"Cross-Validated lasso (flexible)\",\"Cross-Validated ridge (flexible)\",\"Cross-Validated elnet (flexible)\",  \\\n",
    "                    \"Random Forest\",\"Boosted Trees\", \"Pruned Tree\"]\n",
    "table_pandas = pd.DataFrame( table, columns = colnames_table )\n",
    "table_pandas.index = rownames_table\n",
    "\n",
    "table_pandas = table_pandas.round(3)\n",
    "table_html = table_pandas.to_latex()\n",
    "table_pandas"
   ]
  }
 ],
 "metadata": {
  "hide_input": false,
  "kernelspec": {
   "display_name": "Python 3 (ipykernel)",
   "language": "python",
   "name": "python3"
  },
  "language_info": {
   "codemirror_mode": {
    "name": "ipython",
    "version": 3
   },
   "file_extension": ".py",
   "mimetype": "text/x-python",
   "name": "python",
   "nbconvert_exporter": "python",
   "pygments_lexer": "ipython3",
   "version": "3.9.12"
  }
 },
 "nbformat": 4,
 "nbformat_minor": 4
}