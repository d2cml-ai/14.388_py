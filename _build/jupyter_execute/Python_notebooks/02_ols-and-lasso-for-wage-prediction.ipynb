{
 "cells": [
  {
   "cell_type": "markdown",
   "metadata": {},
   "source": [
    "# OLS and lasso for wage prediction"
   ]
  },
  {
   "cell_type": "markdown",
   "metadata": {},
   "source": [
    "This notebook contains an example for teaching."
   ]
  },
  {
   "cell_type": "markdown",
   "metadata": {},
   "source": [
    "## Introduction"
   ]
  },
  {
   "cell_type": "markdown",
   "metadata": {},
   "source": [
    "In labor economics an important question is what determines the wage of workers. This is a causal question, but we could begin to investigate from a predictive perspective.\n",
    "\n",
    "In the following wage example,  Y  is the hourly wage of a worker and  X  is a vector of worker's characteristics, e.g., education, experience, gender. Two main questions here are:\n",
    "\n",
    "* How to use job-relevant characteristics, such as education and experience, to best predict wages?\n",
    "\n",
    "* What is the difference in predicted wages between men and women with the same job-relevant characteristics?\n",
    "\n",
    "In this lab, we focus on the prediction question first."
   ]
  },
  {
   "cell_type": "markdown",
   "metadata": {},
   "source": [
    "## Data"
   ]
  },
  {
   "cell_type": "markdown",
   "metadata": {},
   "source": [
    "The data set we consider is from the March Supplement of the U.S. Current Population Survey, year 2015. We select white non-hispanic individuals, aged 25 to 64 years, and working more than 35 hours per week during at least 50 weeks of the year. We exclude self-employed workers; individuals living in group quarters; individuals in the military, agricultural or private household sectors; individuals with inconsistent reports on earnings and employment status; individuals with allocated or missing information in any of the variables used in the analysis; and individuals with hourly wage below  3 .\n",
    "\n",
    "The variable of interest  Y  is the hourly wage rate constructed as the ratio of the annual earnings to the total number of hours worked, which is constructed in turn as the product of number of weeks worked and the usual number of hours worked per week. In our analysis, we also focus on single (never married) workers. The final sample is of size  **n=5150** ."
   ]
  },
  {
   "cell_type": "markdown",
   "metadata": {},
   "source": [
    "## Data analysis\n"
   ]
  },
  {
   "cell_type": "markdown",
   "metadata": {},
   "source": [
    "We start by loading the data set."
   ]
  },
  {
   "cell_type": "code",
   "execution_count": 1,
   "metadata": {},
   "outputs": [],
   "source": [
    "# Import relevant packages\n",
    "import pandas as pd\n",
    "import numpy as np\n",
    "import pyreadr\n",
    "import os\n",
    "import warnings\n",
    "import pyreadr\n",
    "from urllib.request import urlopen\n",
    "warnings.filterwarnings('ignore')"
   ]
  },
  {
   "cell_type": "code",
   "execution_count": 2,
   "metadata": {},
   "outputs": [
    {
     "data": {
      "text/plain": [
       "(5150, 20)"
      ]
     },
     "execution_count": 2,
     "metadata": {},
     "output_type": "execute_result"
    }
   ],
   "source": [
    "link=\"https://raw.githubusercontent.com/d2cml-ai/14.388_py/main/data/wage2015_subsample_inference.Rdata\"\n",
    "response = urlopen(link)\n",
    "content = response.read()\n",
    "fhandle = open( 'wage2015_subsample_inference.Rdata', 'wb')\n",
    "fhandle.write(content)\n",
    "fhandle.close()\n",
    "result = pyreadr.read_r(\"wage2015_subsample_inference.Rdata\")\n",
    "os.remove(\"wage2015_subsample_inference.Rdata\")\n",
    "\n",
    "# Extracting the data frame from rdata_read\n",
    "data = result[ 'data' ]\n",
    "data.shape"
   ]
  },
  {
   "cell_type": "markdown",
   "metadata": {},
   "source": [
    "Let's have a look at the structure of the data."
   ]
  },
  {
   "cell_type": "code",
   "execution_count": 3,
   "metadata": {},
   "outputs": [
    {
     "name": "stdout",
     "output_type": "stream",
     "text": [
      "<class 'pandas.core.frame.DataFrame'>\n",
      "Index: 5150 entries, 10 to 32643\n",
      "Data columns (total 20 columns):\n",
      " #   Column  Non-Null Count  Dtype   \n",
      "---  ------  --------------  -----   \n",
      " 0   wage    5150 non-null   float64 \n",
      " 1   lwage   5150 non-null   float64 \n",
      " 2   sex     5150 non-null   float64 \n",
      " 3   shs     5150 non-null   float64 \n",
      " 4   hsg     5150 non-null   float64 \n",
      " 5   scl     5150 non-null   float64 \n",
      " 6   clg     5150 non-null   float64 \n",
      " 7   ad      5150 non-null   float64 \n",
      " 8   mw      5150 non-null   float64 \n",
      " 9   so      5150 non-null   float64 \n",
      " 10  we      5150 non-null   float64 \n",
      " 11  ne      5150 non-null   float64 \n",
      " 12  exp1    5150 non-null   float64 \n",
      " 13  exp2    5150 non-null   float64 \n",
      " 14  exp3    5150 non-null   float64 \n",
      " 15  exp4    5150 non-null   float64 \n",
      " 16  occ     5150 non-null   category\n",
      " 17  occ2    5150 non-null   category\n",
      " 18  ind     5150 non-null   category\n",
      " 19  ind2    5150 non-null   category\n",
      "dtypes: category(4), float64(16)\n",
      "memory usage: 736.3+ KB\n"
     ]
    }
   ],
   "source": [
    "data.info()"
   ]
  },
  {
   "cell_type": "code",
   "execution_count": 4,
   "metadata": {},
   "outputs": [
    {
     "data": {
      "text/html": [
       "<div>\n",
       "<style scoped>\n",
       "    .dataframe tbody tr th:only-of-type {\n",
       "        vertical-align: middle;\n",
       "    }\n",
       "\n",
       "    .dataframe tbody tr th {\n",
       "        vertical-align: top;\n",
       "    }\n",
       "\n",
       "    .dataframe thead th {\n",
       "        text-align: right;\n",
       "    }\n",
       "</style>\n",
       "<table border=\"1\" class=\"dataframe\">\n",
       "  <thead>\n",
       "    <tr style=\"text-align: right;\">\n",
       "      <th></th>\n",
       "      <th>wage</th>\n",
       "      <th>lwage</th>\n",
       "      <th>sex</th>\n",
       "      <th>shs</th>\n",
       "      <th>hsg</th>\n",
       "      <th>scl</th>\n",
       "      <th>clg</th>\n",
       "      <th>ad</th>\n",
       "      <th>mw</th>\n",
       "      <th>so</th>\n",
       "      <th>we</th>\n",
       "      <th>ne</th>\n",
       "      <th>exp1</th>\n",
       "      <th>exp2</th>\n",
       "      <th>exp3</th>\n",
       "      <th>exp4</th>\n",
       "    </tr>\n",
       "  </thead>\n",
       "  <tbody>\n",
       "    <tr>\n",
       "      <th>count</th>\n",
       "      <td>5150.000000</td>\n",
       "      <td>5150.000000</td>\n",
       "      <td>5150.000000</td>\n",
       "      <td>5150.000000</td>\n",
       "      <td>5150.000000</td>\n",
       "      <td>5150.000000</td>\n",
       "      <td>5150.000000</td>\n",
       "      <td>5150.000000</td>\n",
       "      <td>5150.000000</td>\n",
       "      <td>5150.000000</td>\n",
       "      <td>5150.000000</td>\n",
       "      <td>5150.000000</td>\n",
       "      <td>5150.000000</td>\n",
       "      <td>5150.000000</td>\n",
       "      <td>5150.000000</td>\n",
       "      <td>5150.000000</td>\n",
       "    </tr>\n",
       "    <tr>\n",
       "      <th>mean</th>\n",
       "      <td>23.410410</td>\n",
       "      <td>2.970787</td>\n",
       "      <td>0.444466</td>\n",
       "      <td>0.023301</td>\n",
       "      <td>0.243883</td>\n",
       "      <td>0.278058</td>\n",
       "      <td>0.317670</td>\n",
       "      <td>0.137087</td>\n",
       "      <td>0.259612</td>\n",
       "      <td>0.296505</td>\n",
       "      <td>0.216117</td>\n",
       "      <td>0.227767</td>\n",
       "      <td>13.760583</td>\n",
       "      <td>3.018925</td>\n",
       "      <td>8.235867</td>\n",
       "      <td>25.118038</td>\n",
       "    </tr>\n",
       "    <tr>\n",
       "      <th>std</th>\n",
       "      <td>21.003016</td>\n",
       "      <td>0.570385</td>\n",
       "      <td>0.496955</td>\n",
       "      <td>0.150872</td>\n",
       "      <td>0.429465</td>\n",
       "      <td>0.448086</td>\n",
       "      <td>0.465616</td>\n",
       "      <td>0.343973</td>\n",
       "      <td>0.438464</td>\n",
       "      <td>0.456761</td>\n",
       "      <td>0.411635</td>\n",
       "      <td>0.419432</td>\n",
       "      <td>10.609465</td>\n",
       "      <td>4.000904</td>\n",
       "      <td>14.488962</td>\n",
       "      <td>53.530225</td>\n",
       "    </tr>\n",
       "    <tr>\n",
       "      <th>min</th>\n",
       "      <td>3.021978</td>\n",
       "      <td>1.105912</td>\n",
       "      <td>0.000000</td>\n",
       "      <td>0.000000</td>\n",
       "      <td>0.000000</td>\n",
       "      <td>0.000000</td>\n",
       "      <td>0.000000</td>\n",
       "      <td>0.000000</td>\n",
       "      <td>0.000000</td>\n",
       "      <td>0.000000</td>\n",
       "      <td>0.000000</td>\n",
       "      <td>0.000000</td>\n",
       "      <td>0.000000</td>\n",
       "      <td>0.000000</td>\n",
       "      <td>0.000000</td>\n",
       "      <td>0.000000</td>\n",
       "    </tr>\n",
       "    <tr>\n",
       "      <th>25%</th>\n",
       "      <td>13.461538</td>\n",
       "      <td>2.599837</td>\n",
       "      <td>0.000000</td>\n",
       "      <td>0.000000</td>\n",
       "      <td>0.000000</td>\n",
       "      <td>0.000000</td>\n",
       "      <td>0.000000</td>\n",
       "      <td>0.000000</td>\n",
       "      <td>0.000000</td>\n",
       "      <td>0.000000</td>\n",
       "      <td>0.000000</td>\n",
       "      <td>0.000000</td>\n",
       "      <td>5.000000</td>\n",
       "      <td>0.250000</td>\n",
       "      <td>0.125000</td>\n",
       "      <td>0.062500</td>\n",
       "    </tr>\n",
       "    <tr>\n",
       "      <th>50%</th>\n",
       "      <td>19.230769</td>\n",
       "      <td>2.956512</td>\n",
       "      <td>0.000000</td>\n",
       "      <td>0.000000</td>\n",
       "      <td>0.000000</td>\n",
       "      <td>0.000000</td>\n",
       "      <td>0.000000</td>\n",
       "      <td>0.000000</td>\n",
       "      <td>0.000000</td>\n",
       "      <td>0.000000</td>\n",
       "      <td>0.000000</td>\n",
       "      <td>0.000000</td>\n",
       "      <td>10.000000</td>\n",
       "      <td>1.000000</td>\n",
       "      <td>1.000000</td>\n",
       "      <td>1.000000</td>\n",
       "    </tr>\n",
       "    <tr>\n",
       "      <th>75%</th>\n",
       "      <td>27.777778</td>\n",
       "      <td>3.324236</td>\n",
       "      <td>1.000000</td>\n",
       "      <td>0.000000</td>\n",
       "      <td>0.000000</td>\n",
       "      <td>1.000000</td>\n",
       "      <td>1.000000</td>\n",
       "      <td>0.000000</td>\n",
       "      <td>1.000000</td>\n",
       "      <td>1.000000</td>\n",
       "      <td>0.000000</td>\n",
       "      <td>0.000000</td>\n",
       "      <td>21.000000</td>\n",
       "      <td>4.410000</td>\n",
       "      <td>9.261000</td>\n",
       "      <td>19.448100</td>\n",
       "    </tr>\n",
       "    <tr>\n",
       "      <th>max</th>\n",
       "      <td>528.845673</td>\n",
       "      <td>6.270697</td>\n",
       "      <td>1.000000</td>\n",
       "      <td>1.000000</td>\n",
       "      <td>1.000000</td>\n",
       "      <td>1.000000</td>\n",
       "      <td>1.000000</td>\n",
       "      <td>1.000000</td>\n",
       "      <td>1.000000</td>\n",
       "      <td>1.000000</td>\n",
       "      <td>1.000000</td>\n",
       "      <td>1.000000</td>\n",
       "      <td>47.000000</td>\n",
       "      <td>22.090000</td>\n",
       "      <td>103.823000</td>\n",
       "      <td>487.968100</td>\n",
       "    </tr>\n",
       "  </tbody>\n",
       "</table>\n",
       "</div>"
      ],
      "text/plain": [
       "              wage        lwage          sex          shs          hsg  \\\n",
       "count  5150.000000  5150.000000  5150.000000  5150.000000  5150.000000   \n",
       "mean     23.410410     2.970787     0.444466     0.023301     0.243883   \n",
       "std      21.003016     0.570385     0.496955     0.150872     0.429465   \n",
       "min       3.021978     1.105912     0.000000     0.000000     0.000000   \n",
       "25%      13.461538     2.599837     0.000000     0.000000     0.000000   \n",
       "50%      19.230769     2.956512     0.000000     0.000000     0.000000   \n",
       "75%      27.777778     3.324236     1.000000     0.000000     0.000000   \n",
       "max     528.845673     6.270697     1.000000     1.000000     1.000000   \n",
       "\n",
       "               scl          clg           ad           mw           so  \\\n",
       "count  5150.000000  5150.000000  5150.000000  5150.000000  5150.000000   \n",
       "mean      0.278058     0.317670     0.137087     0.259612     0.296505   \n",
       "std       0.448086     0.465616     0.343973     0.438464     0.456761   \n",
       "min       0.000000     0.000000     0.000000     0.000000     0.000000   \n",
       "25%       0.000000     0.000000     0.000000     0.000000     0.000000   \n",
       "50%       0.000000     0.000000     0.000000     0.000000     0.000000   \n",
       "75%       1.000000     1.000000     0.000000     1.000000     1.000000   \n",
       "max       1.000000     1.000000     1.000000     1.000000     1.000000   \n",
       "\n",
       "                we           ne         exp1         exp2         exp3  \\\n",
       "count  5150.000000  5150.000000  5150.000000  5150.000000  5150.000000   \n",
       "mean      0.216117     0.227767    13.760583     3.018925     8.235867   \n",
       "std       0.411635     0.419432    10.609465     4.000904    14.488962   \n",
       "min       0.000000     0.000000     0.000000     0.000000     0.000000   \n",
       "25%       0.000000     0.000000     5.000000     0.250000     0.125000   \n",
       "50%       0.000000     0.000000    10.000000     1.000000     1.000000   \n",
       "75%       0.000000     0.000000    21.000000     4.410000     9.261000   \n",
       "max       1.000000     1.000000    47.000000    22.090000   103.823000   \n",
       "\n",
       "              exp4  \n",
       "count  5150.000000  \n",
       "mean     25.118038  \n",
       "std      53.530225  \n",
       "min       0.000000  \n",
       "25%       0.062500  \n",
       "50%       1.000000  \n",
       "75%      19.448100  \n",
       "max     487.968100  "
      ]
     },
     "execution_count": 4,
     "metadata": {},
     "output_type": "execute_result"
    }
   ],
   "source": [
    "data.describe()"
   ]
  },
  {
   "cell_type": "markdown",
   "metadata": {},
   "source": [
    "We are constructing the output variable  **Y**  and the matrix  **Z**  which includes the characteristics of workers that are given in the data."
   ]
  },
  {
   "cell_type": "code",
   "execution_count": 5,
   "metadata": {},
   "outputs": [
    {
     "name": "stdout",
     "output_type": "stream",
     "text": [
      "Number of observation: 5150 \n",
      "\n",
      "Number of raw regressors: 18\n"
     ]
    }
   ],
   "source": [
    "Y = np.log2(data['wage']) \n",
    "n = len(Y)\n",
    "z = data.loc[:, ~data.columns.isin(['wage', 'lwage','Unnamed: 0'])]\n",
    "p = z.shape[1]\n",
    "\n",
    "print(\"Number of observation:\", n, '\\n')\n",
    "print( \"Number of raw regressors:\", p)"
   ]
  },
  {
   "cell_type": "markdown",
   "metadata": {},
   "source": [
    "For the outcome variable *wage* and a subset of the raw regressors, we calculate the empirical mean to get familiar with the data."
   ]
  },
  {
   "cell_type": "code",
   "execution_count": 6,
   "metadata": {},
   "outputs": [
    {
     "data": {
      "text/plain": [
       "lwage     2.970787\n",
       "sex       0.444466\n",
       "shs       0.023301\n",
       "hsg       0.243883\n",
       "scl       0.278058\n",
       "clg       0.317670\n",
       "ad        0.137087\n",
       "mw        0.259612\n",
       "so        0.296505\n",
       "we        0.216117\n",
       "ne        0.227767\n",
       "exp1     13.760583\n",
       "dtype: float64"
      ]
     },
     "execution_count": 6,
     "metadata": {},
     "output_type": "execute_result"
    }
   ],
   "source": [
    "Z_subset = data.loc[:, data.columns.isin([\"lwage\",\"sex\",\"shs\",\"hsg\",\"scl\",\"clg\",\"ad\",\"mw\",\"so\",\"we\",\"ne\",\"exp1\"])]\n",
    "table = Z_subset.mean(axis=0)\n",
    "table"
   ]
  },
  {
   "cell_type": "code",
   "execution_count": 7,
   "metadata": {},
   "outputs": [],
   "source": [
    "table = pd.DataFrame(data=table, columns={\"Sample mean\":\"0\"} )\n",
    "table.index\n",
    "index1 = list(table.index)\n",
    "index2 = [\"Log Wage\",\"Sex\",\"Some High School\",\"High School Graduate\",\\\n",
    "          \"Some College\",\"College Graduate\", \"Advanced Degree\",\"Midwest\",\\\n",
    "          \"South\",\"West\",\"Northeast\",\"Experience\"]"
   ]
  },
  {
   "cell_type": "code",
   "execution_count": 8,
   "metadata": {},
   "outputs": [
    {
     "data": {
      "text/html": [
       "<div>\n",
       "<style scoped>\n",
       "    .dataframe tbody tr th:only-of-type {\n",
       "        vertical-align: middle;\n",
       "    }\n",
       "\n",
       "    .dataframe tbody tr th {\n",
       "        vertical-align: top;\n",
       "    }\n",
       "\n",
       "    .dataframe thead th {\n",
       "        text-align: right;\n",
       "    }\n",
       "</style>\n",
       "<table border=\"1\" class=\"dataframe\">\n",
       "  <thead>\n",
       "    <tr style=\"text-align: right;\">\n",
       "      <th></th>\n",
       "      <th>Sample mean</th>\n",
       "    </tr>\n",
       "  </thead>\n",
       "  <tbody>\n",
       "    <tr>\n",
       "      <th>Log Wage</th>\n",
       "      <td>2.970787</td>\n",
       "    </tr>\n",
       "    <tr>\n",
       "      <th>Sex</th>\n",
       "      <td>0.444466</td>\n",
       "    </tr>\n",
       "    <tr>\n",
       "      <th>Some High School</th>\n",
       "      <td>0.023301</td>\n",
       "    </tr>\n",
       "    <tr>\n",
       "      <th>High School Graduate</th>\n",
       "      <td>0.243883</td>\n",
       "    </tr>\n",
       "    <tr>\n",
       "      <th>Some College</th>\n",
       "      <td>0.278058</td>\n",
       "    </tr>\n",
       "    <tr>\n",
       "      <th>College Graduate</th>\n",
       "      <td>0.317670</td>\n",
       "    </tr>\n",
       "    <tr>\n",
       "      <th>Advanced Degree</th>\n",
       "      <td>0.137087</td>\n",
       "    </tr>\n",
       "    <tr>\n",
       "      <th>Midwest</th>\n",
       "      <td>0.259612</td>\n",
       "    </tr>\n",
       "    <tr>\n",
       "      <th>South</th>\n",
       "      <td>0.296505</td>\n",
       "    </tr>\n",
       "    <tr>\n",
       "      <th>West</th>\n",
       "      <td>0.216117</td>\n",
       "    </tr>\n",
       "    <tr>\n",
       "      <th>Northeast</th>\n",
       "      <td>0.227767</td>\n",
       "    </tr>\n",
       "    <tr>\n",
       "      <th>Experience</th>\n",
       "      <td>13.760583</td>\n",
       "    </tr>\n",
       "  </tbody>\n",
       "</table>\n",
       "</div>"
      ],
      "text/plain": [
       "                      Sample mean\n",
       "Log Wage                 2.970787\n",
       "Sex                      0.444466\n",
       "Some High School         0.023301\n",
       "High School Graduate     0.243883\n",
       "Some College             0.278058\n",
       "College Graduate         0.317670\n",
       "Advanced Degree          0.137087\n",
       "Midwest                  0.259612\n",
       "South                    0.296505\n",
       "West                     0.216117\n",
       "Northeast                0.227767\n",
       "Experience              13.760583"
      ]
     },
     "execution_count": 8,
     "metadata": {},
     "output_type": "execute_result"
    }
   ],
   "source": [
    "table = table.rename(index=dict(zip(index1,index2)))\n",
    "table"
   ]
  },
  {
   "cell_type": "markdown",
   "metadata": {},
   "source": [
    "E.g., the share of female workers in our sample is ~44% ($sex=1$ if female)."
   ]
  },
  {
   "cell_type": "markdown",
   "metadata": {},
   "source": [
    "Alternatively, we can also print the table as latex."
   ]
  },
  {
   "cell_type": "markdown",
   "metadata": {},
   "source": [
    "## Prediction Question"
   ]
  },
  {
   "cell_type": "markdown",
   "metadata": {},
   "source": [
    "Now, we will construct a prediction rule for hourly wage $Y$, which depends linearly on job-relevant characteristics $X$:\n",
    "\n",
    "$$\n",
    "\\begin{align}\n",
    "Y = \\beta'X+ \\epsilon.\n",
    "\\end{align}\n",
    "$$"
   ]
  },
  {
   "cell_type": "markdown",
   "metadata": {},
   "source": [
    "Our goals are\n",
    "\n",
    "* Predict wages  using various characteristics of workers.\n",
    "\n",
    "* Assess the predictive performance using the (adjusted) sample MSE, the (adjusted) sample $R^2$ and the out-of-sample MSE and $R^2$.\n",
    "\n",
    "\n",
    "We employ two different specifications for prediction:\n",
    "\n",
    "\n",
    "1. Basic Model:   $X$ consists of a set of raw regressors (e.g. gender, experience, education indicators,  occupation and industry indicators, regional indicators).\n",
    "\n",
    "\n",
    "2. Flexible Model:  $X$ consists of all raw regressors from the basic model plus occupation and industry indicators, transformations (e.g., ${exp}^2$ and ${exp}^3$) and additional two-way interactions of polynomial in experience with other regressors. An example of a regressor created through a two-way interaction is *experience* times the indicator of having a *college degree*.\n",
    "\n",
    "Using the **Flexible Model**, enables us to approximate the real relationship by a\n",
    " more complex regression model and therefore to reduce the bias. The **Flexible Model** increases the range of potential shapes of the estimated regression function. In general, flexible models often deliver good prediction accuracy but give models which are harder to interpret."
   ]
  },
  {
   "cell_type": "markdown",
   "metadata": {},
   "source": [
    "Now, let us fit both models to our data by running ordinary least squares (ols):"
   ]
  },
  {
   "cell_type": "code",
   "execution_count": 9,
   "metadata": {},
   "outputs": [
    {
     "name": "stdout",
     "output_type": "stream",
     "text": [
      "                            OLS Regression Results                            \n",
      "==============================================================================\n",
      "Dep. Variable:                  lwage   R-squared:                       0.310\n",
      "Model:                            OLS   Adj. R-squared:                  0.303\n",
      "Method:                 Least Squares   F-statistic:                     45.83\n",
      "Date:                Thu, 04 Aug 2022   Prob (F-statistic):               0.00\n",
      "Time:                        04:05:32   Log-Likelihood:                -3459.9\n",
      "No. Observations:                5150   AIC:                             7022.\n",
      "Df Residuals:                    5099   BIC:                             7356.\n",
      "Df Model:                          50                                         \n",
      "Covariance Type:            nonrobust                                         \n",
      "==============================================================================\n",
      "                 coef    std err          t      P>|t|      [0.025      0.975]\n",
      "------------------------------------------------------------------------------\n",
      "Intercept      3.5284      0.054     65.317      0.000       3.422       3.634\n",
      "occ2[T.10]    -0.0106      0.040     -0.268      0.789      -0.088       0.067\n",
      "occ2[T.11]    -0.4558      0.059     -7.669      0.000      -0.572      -0.339\n",
      "occ2[T.12]    -0.3076      0.056     -5.541      0.000      -0.416      -0.199\n",
      "occ2[T.13]    -0.3614      0.046     -7.937      0.000      -0.451      -0.272\n",
      "occ2[T.14]    -0.4995      0.051     -9.867      0.000      -0.599      -0.400\n",
      "occ2[T.15]    -0.4645      0.052     -8.973      0.000      -0.566      -0.363\n",
      "occ2[T.16]    -0.2337      0.032     -7.206      0.000      -0.297      -0.170\n",
      "occ2[T.17]    -0.4126      0.028    -14.784      0.000      -0.467      -0.358\n",
      "occ2[T.18]    -0.3404      0.197     -1.731      0.083      -0.726       0.045\n",
      "occ2[T.19]    -0.2415      0.049     -4.880      0.000      -0.338      -0.144\n",
      "occ2[T.2]     -0.0765      0.034     -2.236      0.025      -0.144      -0.009\n",
      "occ2[T.20]    -0.2126      0.041     -5.201      0.000      -0.293      -0.132\n",
      "occ2[T.21]    -0.2884      0.038     -7.573      0.000      -0.363      -0.214\n",
      "occ2[T.22]    -0.4224      0.041    -10.187      0.000      -0.504      -0.341\n",
      "occ2[T.3]     -0.0347      0.039     -0.895      0.371      -0.111       0.041\n",
      "occ2[T.4]     -0.0962      0.052     -1.853      0.064      -0.198       0.006\n",
      "occ2[T.5]     -0.1879      0.060     -3.111      0.002      -0.306      -0.070\n",
      "occ2[T.6]     -0.4149      0.050     -8.263      0.000      -0.513      -0.316\n",
      "occ2[T.7]     -0.0460      0.057     -0.814      0.416      -0.157       0.065\n",
      "occ2[T.8]     -0.3778      0.044     -8.601      0.000      -0.464      -0.292\n",
      "occ2[T.9]     -0.2158      0.046     -4.678      0.000      -0.306      -0.125\n",
      "ind2[T.11]     0.0248      0.058      0.427      0.669      -0.089       0.139\n",
      "ind2[T.12]     0.1164      0.053      2.201      0.028       0.013       0.220\n",
      "ind2[T.13]     0.0212      0.068      0.312      0.755      -0.112       0.155\n",
      "ind2[T.14]     0.0068      0.050      0.136      0.892      -0.092       0.106\n",
      "ind2[T.15]    -0.1315      0.137     -0.959      0.338      -0.400       0.137\n",
      "ind2[T.16]    -0.1215      0.056     -2.177      0.029      -0.231      -0.012\n",
      "ind2[T.17]    -0.1106      0.056     -1.987      0.047      -0.220      -0.001\n",
      "ind2[T.18]    -0.1415      0.051     -2.774      0.006      -0.242      -0.042\n",
      "ind2[T.19]    -0.1803      0.065     -2.761      0.006      -0.308      -0.052\n",
      "ind2[T.2]      0.1939      0.084      2.301      0.021       0.029       0.359\n",
      "ind2[T.20]    -0.3581      0.057     -6.332      0.000      -0.469      -0.247\n",
      "ind2[T.21]    -0.1228      0.055     -2.239      0.025      -0.230      -0.015\n",
      "ind2[T.22]     0.0749      0.053      1.407      0.160      -0.029       0.179\n",
      "ind2[T.3]      0.0770      0.079      0.972      0.331      -0.078       0.232\n",
      "ind2[T.4]     -0.0506      0.058     -0.874      0.382      -0.164       0.063\n",
      "ind2[T.5]     -0.0797      0.056     -1.432      0.152      -0.189       0.029\n",
      "ind2[T.6]     -0.0555      0.052     -1.072      0.284      -0.157       0.046\n",
      "ind2[T.7]      0.0543      0.072      0.756      0.450      -0.086       0.195\n",
      "ind2[T.8]     -0.0491      0.072     -0.679      0.497      -0.191       0.093\n",
      "ind2[T.9]     -0.1936      0.048     -4.017      0.000      -0.288      -0.099\n",
      "sex           -0.0729      0.015     -4.848      0.000      -0.102      -0.043\n",
      "exp1           0.0086      0.001     13.106      0.000       0.007       0.010\n",
      "shs           -0.5928      0.051    -11.726      0.000      -0.692      -0.494\n",
      "hsg           -0.5043      0.027    -18.626      0.000      -0.557      -0.451\n",
      "scl           -0.4120      0.025    -16.347      0.000      -0.461      -0.363\n",
      "clg           -0.1822      0.023     -7.939      0.000      -0.227      -0.137\n",
      "mw            -0.0275      0.019     -1.425      0.154      -0.065       0.010\n",
      "so            -0.0345      0.019     -1.842      0.066      -0.071       0.002\n",
      "we             0.0172      0.020      0.859      0.391      -0.022       0.057\n",
      "==============================================================================\n",
      "Omnibus:                      437.645   Durbin-Watson:                   1.885\n",
      "Prob(Omnibus):                  0.000   Jarque-Bera (JB):             1862.313\n",
      "Skew:                           0.322   Prob(JB):                         0.00\n",
      "Kurtosis:                       5.875   Cond. No.                         541.\n",
      "==============================================================================\n",
      "\n",
      "Notes:\n",
      "[1] Standard Errors assume that the covariance matrix of the errors is correctly specified.\n",
      "Number of regressors in the basic model: 51 \n",
      "\n"
     ]
    }
   ],
   "source": [
    "# Import packages for OLS regression\n",
    "import statsmodels.api as sm\n",
    "import statsmodels.formula.api as smf\n",
    "\n",
    "# 1. basic model\n",
    "basic = 'lwage ~ sex + exp1 + shs + hsg+ scl + clg + mw + so + we + occ2+ ind2'\n",
    "basic_results = smf.ols(basic , data=data).fit()\n",
    "print(basic_results.summary()) # estimated coefficients\n",
    "print( \"Number of regressors in the basic model:\",len(basic_results.params), '\\n')  # number of regressors in the Basic Model"
   ]
  },
  {
   "cell_type": "markdown",
   "metadata": {},
   "source": [
    "##### Note that the basic model consists of $51$ regressors."
   ]
  },
  {
   "cell_type": "code",
   "execution_count": 10,
   "metadata": {},
   "outputs": [
    {
     "name": "stdout",
     "output_type": "stream",
     "text": [
      "                            OLS Regression Results                            \n",
      "==============================================================================\n",
      "Dep. Variable:                  lwage   R-squared:                       0.351\n",
      "Model:                            OLS   Adj. R-squared:                  0.319\n",
      "Method:                 Least Squares   F-statistic:                     10.83\n",
      "Date:                Thu, 04 Aug 2022   Prob (F-statistic):          2.69e-305\n",
      "Time:                        04:05:33   Log-Likelihood:                -3301.9\n",
      "No. Observations:                5150   AIC:                             7096.\n",
      "Df Residuals:                    4904   BIC:                             8706.\n",
      "Df Model:                         245                                         \n",
      "Covariance Type:            nonrobust                                         \n",
      "===================================================================================\n",
      "                      coef    std err          t      P>|t|      [0.025      0.975]\n",
      "-----------------------------------------------------------------------------------\n",
      "Intercept           3.2797      0.284     11.540      0.000       2.723       3.837\n",
      "occ2[T.10]          0.0210      0.156      0.134      0.893      -0.286       0.328\n",
      "occ2[T.11]         -0.6424      0.309     -2.078      0.038      -1.248      -0.036\n",
      "occ2[T.12]         -0.0675      0.252     -0.268      0.789      -0.562       0.427\n",
      "occ2[T.13]         -0.2330      0.232     -1.006      0.314      -0.687       0.221\n",
      "occ2[T.14]          0.2562      0.323      0.794      0.427      -0.376       0.889\n",
      "occ2[T.15]         -0.1939      0.260     -0.747      0.455      -0.703       0.315\n",
      "occ2[T.16]         -0.0551      0.147     -0.375      0.708      -0.343       0.233\n",
      "occ2[T.17]         -0.4156      0.136     -3.053      0.002      -0.682      -0.149\n",
      "occ2[T.18]         -0.4822      1.044     -0.462      0.644      -2.530       1.565\n",
      "occ2[T.19]         -0.2579      0.333     -0.776      0.438      -0.910       0.394\n",
      "occ2[T.2]           0.1613      0.130      1.244      0.214      -0.093       0.416\n",
      "occ2[T.20]         -0.3010      0.234     -1.286      0.199      -0.760       0.158\n",
      "occ2[T.21]         -0.4272      0.221     -1.936      0.053      -0.860       0.005\n",
      "occ2[T.22]         -0.8695      0.298     -2.922      0.003      -1.453      -0.286\n",
      "occ2[T.3]           0.2102      0.169      1.246      0.213      -0.121       0.541\n",
      "occ2[T.4]           0.0709      0.184      0.386      0.700      -0.289       0.431\n",
      "occ2[T.5]          -0.3960      0.189     -2.100      0.036      -0.766      -0.026\n",
      "occ2[T.6]          -0.2311      0.187     -1.236      0.217      -0.598       0.135\n",
      "occ2[T.7]           0.3147      0.194      1.621      0.105      -0.066       0.695\n",
      "occ2[T.8]          -0.1875      0.169     -1.108      0.268      -0.519       0.144\n",
      "occ2[T.9]          -0.3390      0.167     -2.027      0.043      -0.667      -0.011\n",
      "ind2[T.11]         -0.4047      0.314     -1.288      0.198      -1.021       0.211\n",
      "ind2[T.12]         -0.1570      0.279     -0.562      0.574      -0.705       0.391\n",
      "ind2[T.13]         -0.4377      0.362     -1.210      0.226      -1.147       0.271\n",
      "ind2[T.14]         -0.0054      0.270     -0.020      0.984      -0.535       0.524\n",
      "ind2[T.15]          0.2004      0.501      0.400      0.689      -0.781       1.182\n",
      "ind2[T.16]          0.0102      0.300      0.034      0.973      -0.577       0.598\n",
      "ind2[T.17]         -0.2396      0.285     -0.841      0.401      -0.798       0.319\n",
      "ind2[T.18]         -0.1808      0.278     -0.649      0.516      -0.727       0.365\n",
      "ind2[T.19]         -0.3007      0.327     -0.921      0.357      -0.941       0.339\n",
      "ind2[T.2]           0.5806      0.481      1.207      0.227      -0.362       1.523\n",
      "ind2[T.20]         -0.3293      0.313     -1.052      0.293      -0.943       0.284\n",
      "ind2[T.21]         -0.1781      0.304     -0.586      0.558      -0.773       0.417\n",
      "ind2[T.22]          0.1765      0.296      0.596      0.551      -0.404       0.757\n",
      "ind2[T.3]          -0.6668      0.561     -1.189      0.234      -1.766       0.433\n",
      "ind2[T.4]           0.4858      0.350      1.389      0.165      -0.200       1.171\n",
      "ind2[T.5]           0.0512      0.298      0.172      0.863      -0.532       0.635\n",
      "ind2[T.6]          -0.0416      0.299     -0.139      0.889      -0.628       0.545\n",
      "ind2[T.7]           0.0758      0.387      0.196      0.845      -0.683       0.835\n",
      "ind2[T.8]          -0.1490      0.337     -0.441      0.659      -0.811       0.513\n",
      "ind2[T.9]          -0.2219      0.275     -0.808      0.419      -0.760       0.316\n",
      "sex                -0.0696      0.015     -4.570      0.000      -0.099      -0.040\n",
      "shs                -0.1233      0.907     -0.136      0.892      -1.901       1.654\n",
      "hsg                -0.5289      0.198     -2.675      0.008      -0.917      -0.141\n",
      "scl                -0.2921      0.126     -2.318      0.021      -0.539      -0.045\n",
      "clg                -0.0412      0.070     -0.585      0.559      -0.179       0.097\n",
      "mw                  0.1107      0.081      1.359      0.174      -0.049       0.270\n",
      "so                  0.0224      0.074      0.301      0.763      -0.123       0.168\n",
      "we                 -0.0216      0.084     -0.256      0.798      -0.187       0.143\n",
      "exp1                0.0835      0.094      0.884      0.377      -0.102       0.269\n",
      "exp1:occ2[T.10]     0.0076      0.058      0.130      0.897      -0.106       0.122\n",
      "exp1:occ2[T.11]     0.1014      0.101      1.009      0.313      -0.096       0.298\n",
      "exp1:occ2[T.12]    -0.0863      0.087     -0.986      0.324      -0.258       0.085\n",
      "exp1:occ2[T.13]     0.0067      0.076      0.088      0.930      -0.143       0.156\n",
      "exp1:occ2[T.14]    -0.1369      0.097     -1.405      0.160      -0.328       0.054\n",
      "exp1:occ2[T.15]    -0.0400      0.090     -0.445      0.656      -0.216       0.136\n",
      "exp1:occ2[T.16]    -0.0539      0.052     -1.035      0.301      -0.156       0.048\n",
      "exp1:occ2[T.17]     0.0147      0.047      0.315      0.753      -0.077       0.106\n",
      "exp1:occ2[T.18]     0.1074      0.472      0.228      0.820      -0.818       1.032\n",
      "exp1:occ2[T.19]     0.0047      0.106      0.044      0.965      -0.203       0.213\n",
      "exp1:occ2[T.2]     -0.0736      0.050     -1.469      0.142      -0.172       0.025\n",
      "exp1:occ2[T.20]     0.0243      0.074      0.327      0.744      -0.121       0.170\n",
      "exp1:occ2[T.21]     0.0792      0.070      1.136      0.256      -0.057       0.216\n",
      "exp1:occ2[T.22]     0.1093      0.088      1.241      0.215      -0.063       0.282\n",
      "exp1:occ2[T.3]     -0.0715      0.064     -1.121      0.262      -0.197       0.054\n",
      "exp1:occ2[T.4]     -0.0724      0.075     -0.968      0.333      -0.219       0.074\n",
      "exp1:occ2[T.5]      0.0947      0.079      1.192      0.233      -0.061       0.250\n",
      "exp1:occ2[T.6]     -0.0349      0.071     -0.490      0.624      -0.175       0.105\n",
      "exp1:occ2[T.7]     -0.2279      0.078     -2.904      0.004      -0.382      -0.074\n",
      "exp1:occ2[T.8]     -0.0727      0.065     -1.126      0.260      -0.199       0.054\n",
      "exp1:occ2[T.9]      0.0274      0.067      0.409      0.682      -0.104       0.159\n",
      "exp1:ind2[T.11]     0.1662      0.106      1.570      0.116      -0.041       0.374\n",
      "exp1:ind2[T.12]     0.1079      0.093      1.156      0.248      -0.075       0.291\n",
      "exp1:ind2[T.13]     0.1884      0.117      1.605      0.109      -0.042       0.418\n",
      "exp1:ind2[T.14]    -0.0071      0.089     -0.080      0.936      -0.182       0.168\n",
      "exp1:ind2[T.15]    -0.2081      0.203     -1.024      0.306      -0.607       0.190\n",
      "exp1:ind2[T.16]    -0.0665      0.099     -0.671      0.502      -0.261       0.128\n",
      "exp1:ind2[T.17]     0.0216      0.095      0.229      0.819      -0.164       0.207\n",
      "exp1:ind2[T.18]     0.0053      0.091      0.058      0.954      -0.172       0.183\n",
      "exp1:ind2[T.19]     0.0004      0.111      0.003      0.997      -0.217       0.217\n",
      "exp1:ind2[T.2]     -0.1513      0.164     -0.920      0.358      -0.474       0.171\n",
      "exp1:ind2[T.20]    -0.0186      0.102     -0.182      0.855      -0.219       0.182\n",
      "exp1:ind2[T.21]     0.0678      0.101      0.673      0.501      -0.130       0.265\n",
      "exp1:ind2[T.22]    -0.0367      0.096     -0.380      0.704      -0.226       0.152\n",
      "exp1:ind2[T.3]      0.3246      0.188      1.722      0.085      -0.045       0.694\n",
      "exp1:ind2[T.4]     -0.1365      0.114     -1.194      0.233      -0.361       0.088\n",
      "exp1:ind2[T.5]     -0.0256      0.096     -0.265      0.791      -0.215       0.163\n",
      "exp1:ind2[T.6]      0.0028      0.096      0.029      0.977      -0.185       0.191\n",
      "exp1:ind2[T.7]     -0.0483      0.133     -0.364      0.716      -0.309       0.212\n",
      "exp1:ind2[T.8]      0.0845      0.118      0.715      0.475      -0.147       0.316\n",
      "exp1:ind2[T.9]     -0.0153      0.087     -0.176      0.860      -0.186       0.156\n",
      "exp2               -0.5610      0.949     -0.591      0.554      -2.421       1.299\n",
      "exp2:occ2[T.10]    -0.2692      0.641     -0.420      0.674      -1.525       0.986\n",
      "exp2:occ2[T.11]    -1.0817      1.006     -1.075      0.282      -3.053       0.890\n",
      "exp2:occ2[T.12]     0.8324      0.934      0.891      0.373      -0.999       2.664\n",
      "exp2:occ2[T.13]    -0.2210      0.773     -0.286      0.775      -1.736       1.294\n",
      "exp2:occ2[T.14]     0.7511      0.927      0.810      0.418      -1.067       2.569\n",
      "exp2:occ2[T.15]    -0.0327      0.941     -0.035      0.972      -1.877       1.812\n",
      "exp2:occ2[T.16]     0.3636      0.551      0.660      0.509      -0.717       1.444\n",
      "exp2:occ2[T.17]    -0.2659      0.486     -0.547      0.584      -1.219       0.687\n",
      "exp2:occ2[T.18]    -2.5609      5.170     -0.495      0.620     -12.697       7.575\n",
      "exp2:occ2[T.19]    -0.1292      1.062     -0.122      0.903      -2.211       1.952\n",
      "exp2:occ2[T.2]      0.6632      0.552      1.201      0.230      -0.420       1.746\n",
      "exp2:occ2[T.20]    -0.3323      0.723     -0.460      0.646      -1.750       1.085\n",
      "exp2:occ2[T.21]    -0.9100      0.685     -1.328      0.184      -2.254       0.434\n",
      "exp2:occ2[T.22]    -0.8551      0.828     -1.033      0.302      -2.478       0.768\n",
      "exp2:occ2[T.3]      0.6415      0.710      0.903      0.366      -0.751       2.034\n",
      "exp2:occ2[T.4]      0.9748      0.866      1.126      0.260      -0.722       2.672\n",
      "exp2:occ2[T.5]     -0.9779      0.974     -1.004      0.315      -2.887       0.931\n",
      "exp2:occ2[T.6]      0.1051      0.800      0.131      0.896      -1.464       1.674\n",
      "exp2:occ2[T.7]      3.1407      0.939      3.345      0.001       1.300       4.981\n",
      "exp2:occ2[T.8]      0.6711      0.719      0.933      0.351      -0.739       2.081\n",
      "exp2:occ2[T.9]      0.0232      0.763      0.030      0.976      -1.472       1.519\n",
      "exp2:ind2[T.11]    -1.6804      1.080     -1.555      0.120      -3.798       0.438\n",
      "exp2:ind2[T.12]    -0.9717      0.935     -1.039      0.299      -2.804       0.861\n",
      "exp2:ind2[T.13]    -1.7679      1.156     -1.529      0.126      -4.035       0.499\n",
      "exp2:ind2[T.14]     0.1190      0.888      0.134      0.893      -1.622       1.860\n",
      "exp2:ind2[T.15]     2.3885      2.202      1.085      0.278      -1.928       6.705\n",
      "exp2:ind2[T.16]     0.8707      0.990      0.879      0.379      -1.070       2.812\n",
      "exp2:ind2[T.17]    -0.0030      0.948     -0.003      0.998      -1.862       1.856\n",
      "exp2:ind2[T.18]    -0.0033      0.889     -0.004      0.997      -1.746       1.740\n",
      "exp2:ind2[T.19]     0.2665      1.119      0.238      0.812      -1.927       2.460\n",
      "exp2:ind2[T.2]      2.1973      1.774      1.239      0.216      -1.280       5.675\n",
      "exp2:ind2[T.20]     0.2506      1.010      0.248      0.804      -1.729       2.231\n",
      "exp2:ind2[T.21]    -0.9154      1.015     -0.902      0.367      -2.904       1.074\n",
      "exp2:ind2[T.22]     0.3395      0.949      0.358      0.721      -1.522       2.201\n",
      "exp2:ind2[T.3]     -3.7396      1.959     -1.908      0.056      -7.581       0.102\n",
      "exp2:ind2[T.4]      1.0920      1.143      0.955      0.339      -1.149       3.333\n",
      "exp2:ind2[T.5]      0.1824      0.939      0.194      0.846      -1.658       2.023\n",
      "exp2:ind2[T.6]     -0.0304      0.930     -0.033      0.974      -1.853       1.792\n",
      "exp2:ind2[T.7]      0.7325      1.440      0.509      0.611      -2.090       3.555\n",
      "exp2:ind2[T.8]     -0.7507      1.203     -0.624      0.533      -3.108       1.607\n",
      "exp2:ind2[T.9]      0.4177      0.839      0.498      0.619      -1.227       2.062\n",
      "exp3                0.1293      0.357      0.363      0.717      -0.570       0.828\n",
      "exp3:occ2[T.10]     0.1855      0.258      0.720      0.471      -0.319       0.690\n",
      "exp3:occ2[T.11]     0.3932      0.382      1.030      0.303      -0.355       1.142\n",
      "exp3:occ2[T.12]    -0.2203      0.366     -0.602      0.547      -0.938       0.497\n",
      "exp3:occ2[T.13]     0.0950      0.290      0.327      0.744      -0.474       0.664\n",
      "exp3:occ2[T.14]    -0.1444      0.334     -0.432      0.666      -0.800       0.511\n",
      "exp3:occ2[T.15]     0.1477      0.365      0.405      0.685      -0.567       0.862\n",
      "exp3:occ2[T.16]    -0.0379      0.215     -0.176      0.860      -0.460       0.384\n",
      "exp3:occ2[T.17]     0.1510      0.188      0.804      0.421      -0.217       0.519\n",
      "exp3:occ2[T.18]     1.4084      1.885      0.747      0.455      -2.287       5.104\n",
      "exp3:occ2[T.19]     0.0923      0.404      0.228      0.819      -0.700       0.885\n",
      "exp3:occ2[T.2]     -0.2039      0.221     -0.922      0.356      -0.637       0.230\n",
      "exp3:occ2[T.20]     0.1807      0.265      0.681      0.496      -0.339       0.701\n",
      "exp3:occ2[T.21]     0.3779      0.255      1.480      0.139      -0.123       0.878\n",
      "exp3:occ2[T.22]     0.2855      0.298      0.957      0.339      -0.300       0.871\n",
      "exp3:occ2[T.3]     -0.2370      0.287     -0.826      0.409      -0.800       0.326\n",
      "exp3:occ2[T.4]     -0.4367      0.352     -1.241      0.215      -1.127       0.253\n",
      "exp3:occ2[T.5]      0.3885      0.412      0.943      0.346      -0.419       1.196\n",
      "exp3:occ2[T.6]      0.0485      0.329      0.147      0.883      -0.597       0.694\n",
      "exp3:occ2[T.7]     -1.3949      0.405     -3.444      0.001      -2.189      -0.601\n",
      "exp3:occ2[T.8]     -0.2054      0.290     -0.709      0.478      -0.773       0.362\n",
      "exp3:occ2[T.9]     -0.0910      0.314     -0.289      0.772      -0.707       0.525\n",
      "exp3:ind2[T.11]     0.6429      0.411      1.564      0.118      -0.163       1.449\n",
      "exp3:ind2[T.12]     0.3286      0.347      0.947      0.344      -0.351       1.009\n",
      "exp3:ind2[T.13]     0.5929      0.426      1.392      0.164      -0.242       1.428\n",
      "exp3:ind2[T.14]    -0.0285      0.328     -0.087      0.931      -0.672       0.615\n",
      "exp3:ind2[T.15]    -0.8569      0.844     -1.016      0.310      -2.511       0.797\n",
      "exp3:ind2[T.16]    -0.3558      0.368     -0.968      0.333      -1.077       0.365\n",
      "exp3:ind2[T.17]    -0.0363      0.352     -0.103      0.918      -0.727       0.654\n",
      "exp3:ind2[T.18]     0.0157      0.325      0.048      0.961      -0.621       0.653\n",
      "exp3:ind2[T.19]    -0.1488      0.421     -0.354      0.724      -0.974       0.676\n",
      "exp3:ind2[T.2]     -1.0448      0.707     -1.479      0.139      -2.430       0.341\n",
      "exp3:ind2[T.20]    -0.0679      0.370     -0.183      0.855      -0.794       0.658\n",
      "exp3:ind2[T.21]     0.3967      0.381      1.041      0.298      -0.351       1.144\n",
      "exp3:ind2[T.22]    -0.0760      0.349     -0.218      0.827      -0.760       0.608\n",
      "exp3:ind2[T.3]      1.6218      0.785      2.067      0.039       0.084       3.160\n",
      "exp3:ind2[T.4]     -0.3150      0.429     -0.735      0.463      -1.155       0.526\n",
      "exp3:ind2[T.5]     -0.0506      0.340     -0.149      0.882      -0.717       0.616\n",
      "exp3:ind2[T.6]      0.0193      0.336      0.058      0.954      -0.639       0.678\n",
      "exp3:ind2[T.7]     -0.3359      0.586     -0.573      0.567      -1.485       0.813\n",
      "exp3:ind2[T.8]      0.1893      0.452      0.419      0.675      -0.696       1.075\n",
      "exp3:ind2[T.9]     -0.2161      0.300     -0.721      0.471      -0.804       0.372\n",
      "exp4               -0.0053      0.045     -0.120      0.904      -0.093       0.082\n",
      "exp4:occ2[T.10]    -0.0333      0.034     -0.984      0.325      -0.100       0.033\n",
      "exp4:occ2[T.11]    -0.0466      0.048     -0.973      0.331      -0.141       0.047\n",
      "exp4:occ2[T.12]     0.0110      0.047      0.234      0.815      -0.081       0.103\n",
      "exp4:occ2[T.13]    -0.0137      0.036     -0.381      0.703      -0.084       0.057\n",
      "exp4:occ2[T.14]     0.0056      0.040      0.139      0.890      -0.073       0.084\n",
      "exp4:occ2[T.15]    -0.0327      0.046     -0.708      0.479      -0.123       0.058\n",
      "exp4:occ2[T.16]    -0.0090      0.028     -0.325      0.745      -0.063       0.045\n",
      "exp4:occ2[T.17]    -0.0257      0.024     -1.073      0.283      -0.073       0.021\n",
      "exp4:occ2[T.18]    -0.2121      0.220     -0.963      0.336      -0.644       0.220\n",
      "exp4:occ2[T.19]    -0.0169      0.051     -0.330      0.741      -0.118       0.084\n",
      "exp4:occ2[T.2]      0.0176      0.029      0.610      0.542      -0.039       0.074\n",
      "exp4:occ2[T.20]    -0.0296      0.032     -0.916      0.360      -0.093       0.034\n",
      "exp4:occ2[T.21]    -0.0525      0.032     -1.654      0.098      -0.115       0.010\n",
      "exp4:occ2[T.22]    -0.0351      0.036     -0.972      0.331      -0.106       0.036\n",
      "exp4:occ2[T.3]      0.0303      0.038      0.805      0.421      -0.044       0.104\n",
      "exp4:occ2[T.4]      0.0584      0.046      1.276      0.202      -0.031       0.148\n",
      "exp4:occ2[T.5]     -0.0515      0.055     -0.938      0.349      -0.159       0.056\n",
      "exp4:occ2[T.6]     -0.0170      0.044     -0.386      0.699      -0.103       0.069\n",
      "exp4:occ2[T.7]      0.1905      0.056      3.410      0.001       0.081       0.300\n",
      "exp4:occ2[T.8]      0.0197      0.038      0.518      0.604      -0.055       0.094\n",
      "exp4:occ2[T.9]      0.0190      0.042      0.451      0.652      -0.064       0.102\n",
      "exp4:ind2[T.11]    -0.0840      0.052     -1.619      0.106      -0.186       0.018\n",
      "exp4:ind2[T.12]    -0.0390      0.042     -0.918      0.359      -0.122       0.044\n",
      "exp4:ind2[T.13]    -0.0673      0.052     -1.297      0.195      -0.169       0.034\n",
      "exp4:ind2[T.14] -6.822e-05      0.040     -0.002      0.999      -0.079       0.078\n",
      "exp4:ind2[T.15]     0.0951      0.104      0.911      0.362      -0.110       0.300\n",
      "exp4:ind2[T.16]     0.0439      0.045      0.970      0.332      -0.045       0.132\n",
      "exp4:ind2[T.17]     0.0055      0.043      0.129      0.898      -0.079       0.090\n",
      "exp4:ind2[T.18]    -0.0063      0.039     -0.161      0.872      -0.084       0.071\n",
      "exp4:ind2[T.19]     0.0213      0.052      0.407      0.684      -0.081       0.124\n",
      "exp4:ind2[T.2]      0.1483      0.092      1.615      0.106      -0.032       0.328\n",
      "exp4:ind2[T.20]     0.0014      0.045      0.032      0.975      -0.087       0.089\n",
      "exp4:ind2[T.21]    -0.0550      0.047     -1.160      0.246      -0.148       0.038\n",
      "exp4:ind2[T.22]     0.0002      0.042      0.004      0.996      -0.083       0.083\n",
      "exp4:ind2[T.3]     -0.2369      0.107     -2.220      0.026      -0.446      -0.028\n",
      "exp4:ind2[T.4]      0.0273      0.053      0.511      0.609      -0.077       0.132\n",
      "exp4:ind2[T.5]      0.0042      0.041      0.103      0.918      -0.076       0.084\n",
      "exp4:ind2[T.6]     -0.0043      0.040     -0.108      0.914      -0.083       0.075\n",
      "exp4:ind2[T.7]      0.0481      0.078      0.613      0.540      -0.106       0.202\n",
      "exp4:ind2[T.8]     -0.0127      0.056     -0.226      0.821      -0.123       0.097\n",
      "exp4:ind2[T.9]      0.0305      0.035      0.861      0.389      -0.039       0.100\n",
      "exp1:shs           -0.1920      0.196     -0.982      0.326      -0.575       0.191\n",
      "exp1:hsg           -0.0173      0.057     -0.303      0.762      -0.130       0.095\n",
      "exp1:scl           -0.0665      0.043     -1.532      0.126      -0.151       0.019\n",
      "exp1:clg           -0.0550      0.031     -1.774      0.076      -0.116       0.006\n",
      "exp1:mw            -0.0280      0.030     -0.944      0.345      -0.086       0.030\n",
      "exp1:so            -0.0100      0.027     -0.374      0.709      -0.062       0.042\n",
      "exp1:we             0.0063      0.030      0.209      0.834      -0.053       0.065\n",
      "exp2:shs            1.9005      1.450      1.310      0.190      -0.943       4.744\n",
      "exp2:hsg            0.1172      0.551      0.213      0.832      -0.963       1.197\n",
      "exp2:scl            0.6218      0.463      1.343      0.179      -0.286       1.529\n",
      "exp2:clg            0.4097      0.380      1.077      0.281      -0.336       1.155\n",
      "exp2:mw             0.2006      0.317      0.632      0.527      -0.421       0.823\n",
      "exp2:so             0.0544      0.282      0.193      0.847      -0.498       0.606\n",
      "exp2:we             0.0013      0.321      0.004      0.997      -0.628       0.630\n",
      "exp3:shs           -0.6721      0.443     -1.518      0.129      -1.540       0.196\n",
      "exp3:hsg           -0.0180      0.208     -0.086      0.931      -0.426       0.390\n",
      "exp3:scl           -0.1998      0.186     -1.077      0.282      -0.563       0.164\n",
      "exp3:clg           -0.1025      0.164     -0.624      0.533      -0.425       0.220\n",
      "exp3:mw            -0.0626      0.124     -0.504      0.614      -0.306       0.181\n",
      "exp3:so            -0.0116      0.108     -0.107      0.915      -0.224       0.201\n",
      "exp3:we            -0.0125      0.125     -0.100      0.921      -0.258       0.233\n",
      "exp4:shs            0.0777      0.048      1.635      0.102      -0.015       0.171\n",
      "exp4:hsg            0.0005      0.027      0.018      0.985      -0.052       0.053\n",
      "exp4:scl            0.0211      0.025      0.859      0.390      -0.027       0.069\n",
      "exp4:clg            0.0079      0.023      0.346      0.729      -0.037       0.052\n",
      "exp4:mw             0.0062      0.016      0.393      0.694      -0.025       0.037\n",
      "exp4:so             0.0003      0.014      0.023      0.982      -0.026       0.027\n",
      "exp4:we             0.0018      0.016      0.111      0.912      -0.030       0.033\n",
      "==============================================================================\n",
      "Omnibus:                      395.012   Durbin-Watson:                   1.898\n",
      "Prob(Omnibus):                  0.000   Jarque-Bera (JB):             1529.250\n",
      "Skew:                           0.303   Prob(JB):                         0.00\n",
      "Kurtosis:                       5.600   Cond. No.                     6.87e+04\n",
      "==============================================================================\n",
      "\n",
      "Notes:\n",
      "[1] Standard Errors assume that the covariance matrix of the errors is correctly specified.\n",
      "[2] The condition number is large, 6.87e+04. This might indicate that there are\n",
      "strong multicollinearity or other numerical problems.\n",
      "Number of regressors in the basic model: 246 \n",
      "\n"
     ]
    }
   ],
   "source": [
    "# 2. flexible model\n",
    "flex = 'lwage ~ sex + shs+hsg+scl+clg+occ2+ind2+mw+so+we + (exp1+exp2+exp3+exp4)*(shs+hsg+scl+clg+occ2+ind2+mw+so+we)'\n",
    "flex_results_0 = smf.ols(flex , data=data)\n",
    "flex_results = smf.ols(flex , data=data).fit()\n",
    "print(flex_results.summary()) # estimated coefficients\n",
    "print( \"Number of regressors in the basic model:\",len(flex_results.params), '\\n') # number of regressors in the Flexible Model"
   ]
  },
  {
   "cell_type": "markdown",
   "metadata": {},
   "source": [
    "Note that the flexible model consists of $246$ regressors."
   ]
  },
  {
   "cell_type": "markdown",
   "metadata": {},
   "source": [
    "## Try Lasso next"
   ]
  },
  {
   "cell_type": "code",
   "execution_count": 11,
   "metadata": {},
   "outputs": [],
   "source": [
    "# Import relevant packages for lasso \n",
    "from sklearn.linear_model import LassoCV\n",
    "from sklearn import linear_model\n",
    "from sklearn.preprocessing import PolynomialFeatures\n",
    "from sklearn.metrics import mean_squared_error"
   ]
  },
  {
   "cell_type": "code",
   "execution_count": 12,
   "metadata": {},
   "outputs": [
    {
     "data": {
      "text/plain": [
       "(5150, 246)"
      ]
     },
     "execution_count": 12,
     "metadata": {},
     "output_type": "execute_result"
    }
   ],
   "source": [
    "# Get exogenous variables from flexible model\n",
    "X = flex_results_0.exog\n",
    "X.shape"
   ]
  },
  {
   "cell_type": "code",
   "execution_count": 13,
   "metadata": {},
   "outputs": [
    {
     "data": {
      "text/plain": [
       "(5150,)"
      ]
     },
     "execution_count": 13,
     "metadata": {},
     "output_type": "execute_result"
    }
   ],
   "source": [
    "# Set endogenous variable\n",
    "lwage = data[\"lwage\"]\n",
    "lwage.shape"
   ]
  },
  {
   "cell_type": "code",
   "execution_count": 14,
   "metadata": {},
   "outputs": [],
   "source": [
    "alpha=0.1"
   ]
  },
  {
   "cell_type": "code",
   "execution_count": 15,
   "metadata": {},
   "outputs": [
    {
     "name": "stdout",
     "output_type": "stream",
     "text": [
      "Lasso Regression: R^2 score 0.1604784962552065\n"
     ]
    }
   ],
   "source": [
    "# Set penalty value = 0.1\n",
    "#reg = linear_model.Lasso(alpha=0.1/np.log(len(lwage)))\n",
    "reg = linear_model.Lasso(alpha = alpha)\n",
    "\n",
    "# LASSO regression for flexible model\n",
    "reg.fit(X, lwage)\n",
    "lwage_lasso_fitted = reg.fit(X, lwage).predict( X )\n",
    "\n",
    "# coefficients \n",
    "reg.coef_\n",
    "print('Lasso Regression: R^2 score', reg.score(X, lwage))"
   ]
  },
  {
   "cell_type": "code",
   "execution_count": 16,
   "metadata": {},
   "outputs": [
    {
     "data": {
      "text/plain": [
       "array([3.03889357, 3.27908164, 2.82185985, ..., 3.07156184, 2.85967102,\n",
       "       3.21586563])"
      ]
     },
     "execution_count": 16,
     "metadata": {},
     "output_type": "execute_result"
    }
   ],
   "source": [
    "# Check predicted values\n",
    "lwage_lasso_fitted"
   ]
  },
  {
   "cell_type": "markdown",
   "metadata": {},
   "source": [
    "Now, we can evaluate the performance of both models based on the (adjusted) $R^2_{sample}$ and the (adjusted) $MSE_{sample}$:"
   ]
  },
  {
   "cell_type": "code",
   "execution_count": 17,
   "metadata": {},
   "outputs": [],
   "source": [
    "# Basic Model\n",
    "basic = 'lwage ~ sex + exp1 + shs + hsg+ scl + clg + mw + so + we + occ2+ ind2'\n",
    "basic_results = smf.ols(basic , data=data).fit()\n",
    "\n",
    "# Flexible model \n",
    "flex = 'lwage ~ sex + shs+hsg+scl+clg+occ2+ind2+mw+so+we + (exp1+exp2+exp3+exp4)*(shs+hsg+scl+clg+occ2+ind2+mw+so+we)'\n",
    "flex_results = smf.ols(flex , data=data).fit()"
   ]
  },
  {
   "cell_type": "code",
   "execution_count": 18,
   "metadata": {},
   "outputs": [
    {
     "name": "stdout",
     "output_type": "stream",
     "text": [
      "R-squared for the basic model:  0.31004650692219504 \n",
      "\n",
      "adjusted R-squared for the basic model:  0.3032809304064292 \n",
      "\n",
      "R-squared for the basic model:  0.3511098950617231 \n",
      "\n",
      "adjusted R-squared for the basic model:  0.31869185352218843 \n",
      "\n",
      "R-squared for LASSO:  0.1604784962552065 \n",
      "\n",
      "adjusted R-squared for LASSO:  0.11835687889415825 \n",
      "\n"
     ]
    }
   ],
   "source": [
    "# Assess the predictive performance\n",
    "R2_1 = basic_results.rsquared\n",
    "print(\"R-squared for the basic model: \", R2_1, \"\\n\")\n",
    "R2_adj1 = basic_results.rsquared_adj\n",
    "print(\"adjusted R-squared for the basic model: \", R2_adj1, \"\\n\")\n",
    "\n",
    "\n",
    "R2_2 = flex_results.rsquared\n",
    "print(\"R-squared for the basic model: \", R2_2, \"\\n\")\n",
    "R2_adj2 = flex_results.rsquared_adj\n",
    "print(\"adjusted R-squared for the basic model: \", R2_adj2, \"\\n\")\n",
    "\n",
    "R2_L = reg.score(flex_results_0.exog, lwage)\n",
    "print(\"R-squared for LASSO: \", R2_L, \"\\n\")\n",
    "R2_adjL = 1 - (1-R2_L)*(len(lwage)-1)/(len(lwage)-X.shape[1]-1)\n",
    "print(\"adjusted R-squared for LASSO: \", R2_adjL, \"\\n\")"
   ]
  },
  {
   "cell_type": "code",
   "execution_count": 19,
   "metadata": {},
   "outputs": [
    {
     "name": "stdout",
     "output_type": "stream",
     "text": [
      "MSE for the basic model:  0.22442505581164474 \n",
      "\n",
      "adjusted MSE for the basic model:  0.22666974650519128 \n",
      "\n",
      "MSE for the flexible model:  0.21106813644318256 \n",
      "\n",
      "adjusted MSE for the flexible model:  0.22165597526149883 \n",
      "\n",
      "MSE for the LASSO model:  0.273075884423059 \n",
      "\n",
      "adjusted MSE for LASSO model:  0.2867742260968095 \n",
      "\n"
     ]
    }
   ],
   "source": [
    "# calculating the MSE\n",
    "MSE1 =  np.mean(basic_results.resid**2)\n",
    "print(\"MSE for the basic model: \", MSE1, \"\\n\")\n",
    "p1 = len(basic_results.params) # number of regressors\n",
    "n = len(lwage)\n",
    "MSE_adj1  = (n/(n-p1))*MSE1\n",
    "print(\"adjusted MSE for the basic model: \", MSE_adj1, \"\\n\")\n",
    "\n",
    "MSE2 =  np.mean(flex_results.resid**2)\n",
    "print(\"MSE for the flexible model: \", MSE2, \"\\n\")\n",
    "p2 = len(flex_results.params) # number of regressors\n",
    "n = len(lwage)\n",
    "MSE_adj2  = (n/(n-p2))*MSE2\n",
    "print(\"adjusted MSE for the flexible model: \", MSE_adj2, \"\\n\")\n",
    "\n",
    "\n",
    "MSEL = mean_squared_error(lwage, lwage_lasso_fitted)\n",
    "print(\"MSE for the LASSO model: \", MSEL, \"\\n\")\n",
    "pL = reg.coef_.shape[0] # number of regressors\n",
    "n = len(lwage)\n",
    "MSE_adjL  = (n/(n-pL))*MSEL\n",
    "print(\"adjusted MSE for LASSO model: \", MSE_adjL, \"\\n\")"
   ]
  },
  {
   "cell_type": "code",
   "execution_count": 20,
   "metadata": {},
   "outputs": [],
   "source": [
    "# Package for latex table \n",
    "import array_to_latex as a2l\n",
    "\n",
    "table = np.zeros((3, 5))\n",
    "table[0,0:5] = [p1, R2_1, MSE1, R2_adj1, MSE_adj1]\n",
    "table[1,0:5] = [p2, R2_2, MSE2, R2_adj2, MSE_adj2]\n",
    "table[2,0:5] = [pL, R2_L, MSEL, R2_adjL, MSE_adjL]"
   ]
  },
  {
   "cell_type": "code",
   "execution_count": 21,
   "metadata": {},
   "outputs": [
    {
     "data": {
      "text/html": [
       "<div>\n",
       "<style scoped>\n",
       "    .dataframe tbody tr th:only-of-type {\n",
       "        vertical-align: middle;\n",
       "    }\n",
       "\n",
       "    .dataframe tbody tr th {\n",
       "        vertical-align: top;\n",
       "    }\n",
       "\n",
       "    .dataframe thead th {\n",
       "        text-align: right;\n",
       "    }\n",
       "</style>\n",
       "<table border=\"1\" class=\"dataframe\">\n",
       "  <thead>\n",
       "    <tr style=\"text-align: right;\">\n",
       "      <th></th>\n",
       "      <th>p</th>\n",
       "      <th>$R^2_{sample}$</th>\n",
       "      <th>$MSE_{sample}$</th>\n",
       "      <th>$R^2_{adjusted}$</th>\n",
       "      <th>$MSE_{adjusted}$</th>\n",
       "    </tr>\n",
       "  </thead>\n",
       "  <tbody>\n",
       "    <tr>\n",
       "      <th>basic reg</th>\n",
       "      <td>51.0</td>\n",
       "      <td>0.310047</td>\n",
       "      <td>0.224425</td>\n",
       "      <td>0.303281</td>\n",
       "      <td>0.226670</td>\n",
       "    </tr>\n",
       "    <tr>\n",
       "      <th>flexible reg</th>\n",
       "      <td>246.0</td>\n",
       "      <td>0.351110</td>\n",
       "      <td>0.211068</td>\n",
       "      <td>0.318692</td>\n",
       "      <td>0.221656</td>\n",
       "    </tr>\n",
       "    <tr>\n",
       "      <th>lasso flex</th>\n",
       "      <td>246.0</td>\n",
       "      <td>0.160478</td>\n",
       "      <td>0.273076</td>\n",
       "      <td>0.118357</td>\n",
       "      <td>0.286774</td>\n",
       "    </tr>\n",
       "  </tbody>\n",
       "</table>\n",
       "</div>"
      ],
      "text/plain": [
       "                  p  $R^2_{sample}$  $MSE_{sample}$  $R^2_{adjusted}$  \\\n",
       "basic reg      51.0        0.310047        0.224425          0.303281   \n",
       "flexible reg  246.0        0.351110        0.211068          0.318692   \n",
       "lasso flex    246.0        0.160478        0.273076          0.118357   \n",
       "\n",
       "              $MSE_{adjusted}$  \n",
       "basic reg             0.226670  \n",
       "flexible reg          0.221656  \n",
       "lasso flex            0.286774  "
      ]
     },
     "execution_count": 21,
     "metadata": {},
     "output_type": "execute_result"
    }
   ],
   "source": [
    "table = pd.DataFrame(table, columns = [\"p\",\"$R^2_{sample}$\",\"$MSE_{sample}$\",\"$R^2_{adjusted}$\", \"$MSE_{adjusted}$\"], \\\n",
    "                      index = [\"basic reg\",\"flexible reg\", \"lasso flex\"])\n",
    "table"
   ]
  },
  {
   "cell_type": "markdown",
   "metadata": {},
   "source": [
    "Considering all measures above, the flexible model performs slightly better than the basic model. \n",
    "\n",
    "One procedure to circumvent this issue is to use **data splitting** that is described and applied in the following."
   ]
  },
  {
   "cell_type": "markdown",
   "metadata": {},
   "source": [
    "## Data Splitting"
   ]
  },
  {
   "cell_type": "markdown",
   "metadata": {},
   "source": [
    "Measure the prediction quality of the two models via data splitting:\n",
    "\n",
    "- Randomly split the data into one training sample and one testing sample. Here we just use a simple method (stratified splitting is a more sophisticated version of splitting that we can consider).\n",
    "- Use the training sample for estimating the parameters of the Basic Model and the Flexible Model.\n",
    "- Use the testing sample for evaluation. Predict the $\\mathtt{wage}$  of every observation in the testing sample based on the estimated parameters in the training sample.\n",
    "- Calculate the Mean Squared Prediction Error $MSE_{test}$ based on the testing sample for both prediction models. "
   ]
  },
  {
   "cell_type": "code",
   "execution_count": 22,
   "metadata": {},
   "outputs": [
    {
     "data": {
      "text/plain": [
       "array([2732, 2607, 1653, ..., 4184, 2349, 3462])"
      ]
     },
     "execution_count": 22,
     "metadata": {},
     "output_type": "execute_result"
    }
   ],
   "source": [
    "# Import relevant packages for splitting data\n",
    "import random\n",
    "import math\n",
    "\n",
    "# Set Seed\n",
    "# to make the results replicable (generating random numbers)\n",
    "np.random.seed(0)\n",
    "random = np.random.randint(0,n, size=math.floor(n))\n",
    "data[\"random\"] = random\n",
    "random    # the array does not change "
   ]
  },
  {
   "cell_type": "code",
   "execution_count": 23,
   "metadata": {},
   "outputs": [
    {
     "data": {
      "text/html": [
       "<div>\n",
       "<style scoped>\n",
       "    .dataframe tbody tr th:only-of-type {\n",
       "        vertical-align: middle;\n",
       "    }\n",
       "\n",
       "    .dataframe tbody tr th {\n",
       "        vertical-align: top;\n",
       "    }\n",
       "\n",
       "    .dataframe thead th {\n",
       "        text-align: right;\n",
       "    }\n",
       "</style>\n",
       "<table border=\"1\" class=\"dataframe\">\n",
       "  <thead>\n",
       "    <tr style=\"text-align: right;\">\n",
       "      <th></th>\n",
       "      <th>wage</th>\n",
       "      <th>lwage</th>\n",
       "      <th>sex</th>\n",
       "      <th>shs</th>\n",
       "      <th>hsg</th>\n",
       "      <th>scl</th>\n",
       "      <th>clg</th>\n",
       "      <th>ad</th>\n",
       "      <th>mw</th>\n",
       "      <th>so</th>\n",
       "      <th>...</th>\n",
       "      <th>ne</th>\n",
       "      <th>exp1</th>\n",
       "      <th>exp2</th>\n",
       "      <th>exp3</th>\n",
       "      <th>exp4</th>\n",
       "      <th>occ</th>\n",
       "      <th>occ2</th>\n",
       "      <th>ind</th>\n",
       "      <th>ind2</th>\n",
       "      <th>random</th>\n",
       "    </tr>\n",
       "    <tr>\n",
       "      <th>rownames</th>\n",
       "      <th></th>\n",
       "      <th></th>\n",
       "      <th></th>\n",
       "      <th></th>\n",
       "      <th></th>\n",
       "      <th></th>\n",
       "      <th></th>\n",
       "      <th></th>\n",
       "      <th></th>\n",
       "      <th></th>\n",
       "      <th></th>\n",
       "      <th></th>\n",
       "      <th></th>\n",
       "      <th></th>\n",
       "      <th></th>\n",
       "      <th></th>\n",
       "      <th></th>\n",
       "      <th></th>\n",
       "      <th></th>\n",
       "      <th></th>\n",
       "      <th></th>\n",
       "    </tr>\n",
       "  </thead>\n",
       "  <tbody>\n",
       "    <tr>\n",
       "      <th>2223</th>\n",
       "      <td>26.442308</td>\n",
       "      <td>3.274965</td>\n",
       "      <td>1.0</td>\n",
       "      <td>0.0</td>\n",
       "      <td>1.0</td>\n",
       "      <td>0.0</td>\n",
       "      <td>0.0</td>\n",
       "      <td>0.0</td>\n",
       "      <td>0.0</td>\n",
       "      <td>0.0</td>\n",
       "      <td>...</td>\n",
       "      <td>1.0</td>\n",
       "      <td>29.0</td>\n",
       "      <td>8.4100</td>\n",
       "      <td>24.389000</td>\n",
       "      <td>70.728100</td>\n",
       "      <td>340</td>\n",
       "      <td>1</td>\n",
       "      <td>8660</td>\n",
       "      <td>20</td>\n",
       "      <td>0</td>\n",
       "    </tr>\n",
       "    <tr>\n",
       "      <th>3467</th>\n",
       "      <td>19.230769</td>\n",
       "      <td>2.956512</td>\n",
       "      <td>0.0</td>\n",
       "      <td>0.0</td>\n",
       "      <td>0.0</td>\n",
       "      <td>1.0</td>\n",
       "      <td>0.0</td>\n",
       "      <td>0.0</td>\n",
       "      <td>0.0</td>\n",
       "      <td>0.0</td>\n",
       "      <td>...</td>\n",
       "      <td>1.0</td>\n",
       "      <td>33.5</td>\n",
       "      <td>11.2225</td>\n",
       "      <td>37.595375</td>\n",
       "      <td>125.944506</td>\n",
       "      <td>9620</td>\n",
       "      <td>22</td>\n",
       "      <td>1870</td>\n",
       "      <td>5</td>\n",
       "      <td>0</td>\n",
       "    </tr>\n",
       "    <tr>\n",
       "      <th>13501</th>\n",
       "      <td>48.076923</td>\n",
       "      <td>3.872802</td>\n",
       "      <td>1.0</td>\n",
       "      <td>0.0</td>\n",
       "      <td>0.0</td>\n",
       "      <td>0.0</td>\n",
       "      <td>0.0</td>\n",
       "      <td>1.0</td>\n",
       "      <td>1.0</td>\n",
       "      <td>0.0</td>\n",
       "      <td>...</td>\n",
       "      <td>0.0</td>\n",
       "      <td>2.0</td>\n",
       "      <td>0.0400</td>\n",
       "      <td>0.008000</td>\n",
       "      <td>0.001600</td>\n",
       "      <td>3060</td>\n",
       "      <td>10</td>\n",
       "      <td>8190</td>\n",
       "      <td>18</td>\n",
       "      <td>0</td>\n",
       "    </tr>\n",
       "    <tr>\n",
       "      <th>15588</th>\n",
       "      <td>12.019231</td>\n",
       "      <td>2.486508</td>\n",
       "      <td>0.0</td>\n",
       "      <td>0.0</td>\n",
       "      <td>1.0</td>\n",
       "      <td>0.0</td>\n",
       "      <td>0.0</td>\n",
       "      <td>0.0</td>\n",
       "      <td>0.0</td>\n",
       "      <td>1.0</td>\n",
       "      <td>...</td>\n",
       "      <td>0.0</td>\n",
       "      <td>29.0</td>\n",
       "      <td>8.4100</td>\n",
       "      <td>24.389000</td>\n",
       "      <td>70.728100</td>\n",
       "      <td>6440</td>\n",
       "      <td>19</td>\n",
       "      <td>770</td>\n",
       "      <td>4</td>\n",
       "      <td>2</td>\n",
       "    </tr>\n",
       "    <tr>\n",
       "      <th>16049</th>\n",
       "      <td>39.903846</td>\n",
       "      <td>3.686473</td>\n",
       "      <td>1.0</td>\n",
       "      <td>0.0</td>\n",
       "      <td>0.0</td>\n",
       "      <td>0.0</td>\n",
       "      <td>0.0</td>\n",
       "      <td>1.0</td>\n",
       "      <td>0.0</td>\n",
       "      <td>1.0</td>\n",
       "      <td>...</td>\n",
       "      <td>0.0</td>\n",
       "      <td>12.0</td>\n",
       "      <td>1.4400</td>\n",
       "      <td>1.728000</td>\n",
       "      <td>2.073600</td>\n",
       "      <td>1820</td>\n",
       "      <td>5</td>\n",
       "      <td>7860</td>\n",
       "      <td>17</td>\n",
       "      <td>2</td>\n",
       "    </tr>\n",
       "  </tbody>\n",
       "</table>\n",
       "<p>5 rows × 21 columns</p>\n",
       "</div>"
      ],
      "text/plain": [
       "               wage     lwage  sex  shs  hsg  scl  clg   ad   mw   so  ...  \\\n",
       "rownames                                                               ...   \n",
       "2223      26.442308  3.274965  1.0  0.0  1.0  0.0  0.0  0.0  0.0  0.0  ...   \n",
       "3467      19.230769  2.956512  0.0  0.0  0.0  1.0  0.0  0.0  0.0  0.0  ...   \n",
       "13501     48.076923  3.872802  1.0  0.0  0.0  0.0  0.0  1.0  1.0  0.0  ...   \n",
       "15588     12.019231  2.486508  0.0  0.0  1.0  0.0  0.0  0.0  0.0  1.0  ...   \n",
       "16049     39.903846  3.686473  1.0  0.0  0.0  0.0  0.0  1.0  0.0  1.0  ...   \n",
       "\n",
       "           ne  exp1     exp2       exp3        exp4   occ occ2   ind ind2  \\\n",
       "rownames                                                                    \n",
       "2223      1.0  29.0   8.4100  24.389000   70.728100   340    1  8660   20   \n",
       "3467      1.0  33.5  11.2225  37.595375  125.944506  9620   22  1870    5   \n",
       "13501     0.0   2.0   0.0400   0.008000    0.001600  3060   10  8190   18   \n",
       "15588     0.0  29.0   8.4100  24.389000   70.728100  6440   19   770    4   \n",
       "16049     0.0  12.0   1.4400   1.728000    2.073600  1820    5  7860   17   \n",
       "\n",
       "         random  \n",
       "rownames         \n",
       "2223          0  \n",
       "3467          0  \n",
       "13501         0  \n",
       "15588         2  \n",
       "16049         2  \n",
       "\n",
       "[5 rows x 21 columns]"
      ]
     },
     "execution_count": 23,
     "metadata": {},
     "output_type": "execute_result"
    }
   ],
   "source": [
    "data_2 = data.sort_values(by=['random'])\n",
    "data_2.head()"
   ]
  },
  {
   "cell_type": "code",
   "execution_count": 24,
   "metadata": {},
   "outputs": [
    {
     "name": "stdout",
     "output_type": "stream",
     "text": [
      "(4120, 21)\n",
      "(1030, 21)\n"
     ]
    }
   ],
   "source": [
    "# Create training and testing sample \n",
    "train = data_2[ : math.floor(n*4/5)]    # training sample\n",
    "test =  data_2[ math.floor(n*4/5) : ]   # testing sample\n",
    "print(train.shape)\n",
    "print(test.shape)"
   ]
  },
  {
   "cell_type": "code",
   "execution_count": 25,
   "metadata": {},
   "outputs": [],
   "source": [
    "# Basic Model\n",
    "basic = 'lwage ~ sex + exp1 + shs + hsg+ scl + clg + mw + so + we + occ2+ ind2'\n",
    "basic_results = smf.ols(basic , data=data).fit()\n",
    "\n",
    "# Flexible model \n",
    "flex = 'lwage ~ sex + shs+hsg+scl+clg+occ2+ind2+mw+so+we + (exp1+exp2+exp3+exp4)*(shs+hsg+scl+clg+occ2+ind2+mw+so+we)'\n",
    "flex_results = smf.ols(flex , data=data).fit()"
   ]
  },
  {
   "cell_type": "code",
   "execution_count": 26,
   "metadata": {},
   "outputs": [
    {
     "name": "stdout",
     "output_type": "stream",
     "text": [
      "                            OLS Regression Results                            \n",
      "==============================================================================\n",
      "Dep. Variable:                  lwage   R-squared:                       0.316\n",
      "Model:                            OLS   Adj. R-squared:                  0.308\n",
      "Method:                 Least Squares   F-statistic:                     37.65\n",
      "Date:                Thu, 04 Aug 2022   Prob (F-statistic):          4.85e-293\n",
      "Time:                        04:05:35   Log-Likelihood:                -2784.1\n",
      "No. Observations:                4120   AIC:                             5670.\n",
      "Df Residuals:                    4069   BIC:                             5993.\n",
      "Df Model:                          50                                         \n",
      "Covariance Type:            nonrobust                                         \n",
      "==============================================================================\n",
      "                 coef    std err          t      P>|t|      [0.025      0.975]\n",
      "------------------------------------------------------------------------------\n",
      "Intercept      3.5365      0.061     58.134      0.000       3.417       3.656\n",
      "occ2[T.10]    -0.0054      0.045     -0.120      0.904      -0.094       0.083\n",
      "occ2[T.11]    -0.4594      0.067     -6.893      0.000      -0.590      -0.329\n",
      "occ2[T.12]    -0.3300      0.061     -5.365      0.000      -0.451      -0.209\n",
      "occ2[T.13]    -0.3767      0.050     -7.544      0.000      -0.475      -0.279\n",
      "occ2[T.14]    -0.5026      0.056     -8.947      0.000      -0.613      -0.392\n",
      "occ2[T.15]    -0.4511      0.059     -7.586      0.000      -0.568      -0.335\n",
      "occ2[T.16]    -0.2482      0.036     -6.818      0.000      -0.320      -0.177\n",
      "occ2[T.17]    -0.4286      0.031    -13.624      0.000      -0.490      -0.367\n",
      "occ2[T.18]    -0.2957      0.216     -1.367      0.172      -0.720       0.128\n",
      "occ2[T.19]    -0.2354      0.056     -4.191      0.000      -0.345      -0.125\n",
      "occ2[T.2]     -0.0771      0.038     -2.029      0.043      -0.152      -0.003\n",
      "occ2[T.20]    -0.2158      0.046     -4.669      0.000      -0.306      -0.125\n",
      "occ2[T.21]    -0.3029      0.042     -7.171      0.000      -0.386      -0.220\n",
      "occ2[T.22]    -0.4385      0.047     -9.385      0.000      -0.530      -0.347\n",
      "occ2[T.3]     -0.0054      0.044     -0.121      0.904      -0.092       0.082\n",
      "occ2[T.4]     -0.0867      0.061     -1.431      0.152      -0.206       0.032\n",
      "occ2[T.5]     -0.2064      0.072     -2.866      0.004      -0.348      -0.065\n",
      "occ2[T.6]     -0.4175      0.057     -7.317      0.000      -0.529      -0.306\n",
      "occ2[T.7]     -0.0111      0.063     -0.177      0.860      -0.134       0.112\n",
      "occ2[T.8]     -0.3633      0.049     -7.380      0.000      -0.460      -0.267\n",
      "occ2[T.9]     -0.1928      0.052     -3.743      0.000      -0.294      -0.092\n",
      "ind2[T.11]     0.0622      0.066      0.937      0.349      -0.068       0.192\n",
      "ind2[T.12]     0.1328      0.060      2.220      0.026       0.016       0.250\n",
      "ind2[T.13]     0.0492      0.078      0.629      0.529      -0.104       0.203\n",
      "ind2[T.14]     0.0062      0.057      0.108      0.914      -0.106       0.118\n",
      "ind2[T.15]    -0.1137      0.150     -0.759      0.448      -0.407       0.180\n",
      "ind2[T.16]    -0.1072      0.063     -1.690      0.091      -0.232       0.017\n",
      "ind2[T.17]    -0.1034      0.063     -1.640      0.101      -0.227       0.020\n",
      "ind2[T.18]    -0.1331      0.058     -2.298      0.022      -0.247      -0.020\n",
      "ind2[T.19]    -0.1591      0.073     -2.190      0.029      -0.301      -0.017\n",
      "ind2[T.2]      0.2190      0.097      2.248      0.025       0.028       0.410\n",
      "ind2[T.20]    -0.3512      0.064     -5.518      0.000      -0.476      -0.226\n",
      "ind2[T.21]    -0.0824      0.062     -1.325      0.185      -0.204       0.040\n",
      "ind2[T.22]     0.0795      0.060      1.321      0.186      -0.038       0.197\n",
      "ind2[T.3]      0.0533      0.088      0.603      0.547      -0.120       0.227\n",
      "ind2[T.4]     -0.0416      0.065     -0.636      0.525      -0.170       0.087\n",
      "ind2[T.5]     -0.0628      0.063     -1.004      0.315      -0.185       0.060\n",
      "ind2[T.6]     -0.0394      0.059     -0.673      0.501      -0.154       0.075\n",
      "ind2[T.7]      0.0058      0.080      0.073      0.942      -0.152       0.163\n",
      "ind2[T.8]     -0.0610      0.081     -0.754      0.451      -0.220       0.098\n",
      "ind2[T.9]     -0.1683      0.055     -3.086      0.002      -0.275      -0.061\n",
      "sex           -0.0763      0.017     -4.521      0.000      -0.109      -0.043\n",
      "exp1           0.0087      0.001     11.758      0.000       0.007       0.010\n",
      "shs           -0.5928      0.057    -10.436      0.000      -0.704      -0.481\n",
      "hsg           -0.5213      0.030    -17.127      0.000      -0.581      -0.462\n",
      "scl           -0.4215      0.028    -14.848      0.000      -0.477      -0.366\n",
      "clg           -0.1974      0.026     -7.655      0.000      -0.248      -0.147\n",
      "mw            -0.0233      0.022     -1.075      0.283      -0.066       0.019\n",
      "so            -0.0428      0.021     -2.048      0.041      -0.084      -0.002\n",
      "we         -5.145e-05      0.023     -0.002      0.998      -0.044       0.044\n",
      "==============================================================================\n",
      "Omnibus:                      358.629   Durbin-Watson:                   1.946\n",
      "Prob(Omnibus):                  0.000   Jarque-Bera (JB):             1439.044\n",
      "Skew:                           0.355   Prob(JB):                         0.00\n",
      "Kurtosis:                       5.807   Cond. No.                         543.\n",
      "==============================================================================\n",
      "\n",
      "Notes:\n",
      "[1] Standard Errors assume that the covariance matrix of the errors is correctly specified.\n"
     ]
    }
   ],
   "source": [
    "# basic model\n",
    "# estimating the parameters in the training sample\n",
    "basic_results = smf.ols(basic , data=train).fit()\n",
    "print(basic_results.summary())"
   ]
  },
  {
   "cell_type": "code",
   "execution_count": 27,
   "metadata": {},
   "outputs": [],
   "source": [
    "lwage_test = test[\"lwage\"].values\n",
    "#test = test.drop(columns=['wage', 'lwage', 'random'])\n",
    "#test\n"
   ]
  },
  {
   "cell_type": "code",
   "execution_count": 28,
   "metadata": {},
   "outputs": [
    {
     "name": "stdout",
     "output_type": "stream",
     "text": [
      "rownames\n",
      "29749    2.454760\n",
      "32504    2.729422\n",
      "4239     3.374858\n",
      "985      3.451121\n",
      "8477     2.883054\n",
      "           ...   \n",
      "27533    3.039693\n",
      "7218     2.669400\n",
      "7204     3.271324\n",
      "1380     2.943550\n",
      "10451    3.462293\n",
      "Length: 1030, dtype: float64\n"
     ]
    }
   ],
   "source": [
    "# calculating the out-of-sample MSE\n",
    "test = sm.add_constant(test)   #add constant \n",
    "\n",
    "lwage_pred =  basic_results.predict(test) # predict out of sample\n",
    "print(lwage_pred)"
   ]
  },
  {
   "cell_type": "code",
   "execution_count": 29,
   "metadata": {},
   "outputs": [
    {
     "name": "stdout",
     "output_type": "stream",
     "text": [
      "Test MSE for the basic model:  0.21963534669163998  \n",
      "Test R2 for the basic model:  0.2749843118453724\n"
     ]
    }
   ],
   "source": [
    "MSE_test1 = np.sum((lwage_test-lwage_pred)**2)/len(lwage_test)\n",
    "R2_test1  = 1 - MSE_test1/np.var(lwage_test)\n",
    "\n",
    "print(\"Test MSE for the basic model: \", MSE_test1, \" \")\n",
    "print(\"Test R2 for the basic model: \", R2_test1)"
   ]
  },
  {
   "cell_type": "markdown",
   "metadata": {},
   "source": [
    "In the basic model, the $MSE_{test}$ is quite closed to the $MSE_{sample}$."
   ]
  },
  {
   "cell_type": "code",
   "execution_count": 30,
   "metadata": {},
   "outputs": [
    {
     "name": "stdout",
     "output_type": "stream",
     "text": [
      "Test MSE for the flexible model:  0.2332944574254996  \n",
      "Test R2 for the flexible model:  0.2298956240842307\n"
     ]
    }
   ],
   "source": [
    "# Flexible model\n",
    "# estimating the parameters in the training sample\n",
    "flex_results = smf.ols(flex , data=train).fit()\n",
    "\n",
    "# calculating the out-of-sample MSE\n",
    "lwage_flex_pred =  flex_results.predict(test) # predict out of sample\n",
    "lwage_test = test[\"lwage\"].values\n",
    "\n",
    "MSE_test2 = np.sum((lwage_test-lwage_flex_pred)**2)/len(lwage_test)\n",
    "R2_test2  = 1 - MSE_test2/np.var(lwage_test)\n",
    "\n",
    "print(\"Test MSE for the flexible model: \", MSE_test2, \" \")\n",
    "print(\"Test R2 for the flexible model: \", R2_test2)"
   ]
  },
  {
   "cell_type": "markdown",
   "metadata": {},
   "source": [
    "In the flexible model, the discrepancy between the $MSE_{test}$ and the $MSE_{sample}$ is not large."
   ]
  },
  {
   "cell_type": "markdown",
   "metadata": {},
   "source": [
    "It is worth to notice that the $MSE_{test}$ vary across different data splits. Hence, it is a good idea average the out-of-sample MSE over different data splits to get valid results.\n",
    "\n",
    "Nevertheless, we observe that, based on the out-of-sample $MSE$, the basic model using ols regression performs is about as well (or slightly better) than the flexible model. \n",
    "\n",
    "\n",
    "Next, let us use lasso regression in the flexible model instead of ols regression. Lasso (*least absolute shrinkage and selection operator*) is a penalized regression method that can be used to reduce the complexity of a regression model when the number of regressors $p$ is relatively large in relation to $n$. \n",
    "\n",
    "Note that the out-of-sample $MSE$ on the test sample can be computed for any other black-box prediction method as well. Thus, let us finally compare the performance of lasso regression in the flexible model to ols regression."
   ]
  },
  {
   "cell_type": "code",
   "execution_count": 31,
   "metadata": {},
   "outputs": [
    {
     "name": "stdout",
     "output_type": "stream",
     "text": [
      "(4120, 246)\n",
      "(4120,)\n"
     ]
    }
   ],
   "source": [
    "# flexible model using lasso\n",
    "# get exogenous variables from training data used in flex model\n",
    "flex_results_0 = smf.ols(flex , data=train)\n",
    "X_train = flex_results_0.exog\n",
    "print(X_train.shape)\n",
    "\n",
    "# Get endogenous variable \n",
    "lwage_train = train[\"lwage\"]\n",
    "print(lwage_train.shape)\n"
   ]
  },
  {
   "cell_type": "code",
   "execution_count": 32,
   "metadata": {},
   "outputs": [
    {
     "name": "stdout",
     "output_type": "stream",
     "text": [
      "(1030, 246)\n",
      "(1030,)\n"
     ]
    }
   ],
   "source": [
    "# flexible model using lasso\n",
    "# get exogenous variables from testing data used in flex model\n",
    "flex_results_1 = smf.ols(flex , data=test)\n",
    "X_test = flex_results_1.exog\n",
    "print(X_test.shape)\n",
    "\n",
    "# Get endogenous variable \n",
    "lwage_test = test[\"lwage\"]\n",
    "print(lwage_test.shape)"
   ]
  },
  {
   "cell_type": "code",
   "execution_count": 33,
   "metadata": {},
   "outputs": [
    {
     "name": "stdout",
     "output_type": "stream",
     "text": [
      "Test MSE for the flexible model:  0.2540862168655473  \n",
      "Test R2 for the flexible model:  0.1612620821455767\n"
     ]
    }
   ],
   "source": [
    "# calculating the out-of-sample MSE\n",
    "reg = linear_model.Lasso(alpha=0.1)\n",
    "lwage_lasso_fitted = reg.fit(X_train, lwage_train).predict( X_test )\n",
    "\n",
    "MSE_lasso = np.sum((lwage_test-lwage_lasso_fitted)**2)/len(lwage_test)\n",
    "R2_lasso  = 1 - MSE_lasso/np.var(lwage_test)\n",
    "\n",
    "print(\"Test MSE for the flexible model: \", MSE_lasso, \" \")\n",
    "print(\"Test R2 for the flexible model: \", R2_lasso)"
   ]
  },
  {
   "cell_type": "markdown",
   "metadata": {},
   "source": [
    "Finally, let us summarize the results:"
   ]
  },
  {
   "cell_type": "code",
   "execution_count": 34,
   "metadata": {},
   "outputs": [
    {
     "data": {
      "text/html": [
       "<div>\n",
       "<style scoped>\n",
       "    .dataframe tbody tr th:only-of-type {\n",
       "        vertical-align: middle;\n",
       "    }\n",
       "\n",
       "    .dataframe tbody tr th {\n",
       "        vertical-align: top;\n",
       "    }\n",
       "\n",
       "    .dataframe thead th {\n",
       "        text-align: right;\n",
       "    }\n",
       "</style>\n",
       "<table border=\"1\" class=\"dataframe\">\n",
       "  <thead>\n",
       "    <tr style=\"text-align: right;\">\n",
       "      <th></th>\n",
       "      <th>$MSE_{test}$</th>\n",
       "      <th>$R^2_{test}$</th>\n",
       "    </tr>\n",
       "  </thead>\n",
       "  <tbody>\n",
       "    <tr>\n",
       "      <th>basic reg</th>\n",
       "      <td>0.219635</td>\n",
       "      <td>0.274984</td>\n",
       "    </tr>\n",
       "    <tr>\n",
       "      <th>flexible reg</th>\n",
       "      <td>0.233294</td>\n",
       "      <td>0.229896</td>\n",
       "    </tr>\n",
       "    <tr>\n",
       "      <th>lasso regression</th>\n",
       "      <td>0.254086</td>\n",
       "      <td>0.161262</td>\n",
       "    </tr>\n",
       "  </tbody>\n",
       "</table>\n",
       "</div>"
      ],
      "text/plain": [
       "                  $MSE_{test}$  $R^2_{test}$\n",
       "basic reg             0.219635      0.274984\n",
       "flexible reg          0.233294      0.229896\n",
       "lasso regression      0.254086      0.161262"
      ]
     },
     "execution_count": 34,
     "metadata": {},
     "output_type": "execute_result"
    }
   ],
   "source": [
    "# Package for latex table \n",
    "import array_to_latex as a2l\n",
    "\n",
    "table2 = np.zeros((3, 2))\n",
    "table2[0,0] = MSE_test1\n",
    "table2[1,0] = MSE_test2\n",
    "table2[2,0] = MSE_lasso\n",
    "table2[0,1] = R2_test1\n",
    "table2[1,1] = R2_test2\n",
    "table2[2,1] = R2_lasso\n",
    "\n",
    "table2 = pd.DataFrame(table2, columns = [\"$MSE_{test}$\", \"$R^2_{test}$\"], \\\n",
    "                      index = [\"basic reg\",\"flexible reg\",\"lasso regression\"])\n",
    "table2"
   ]
  }
 ],
 "metadata": {
  "hide_input": false,
  "kernelspec": {
   "display_name": "Python 3 (ipykernel)",
   "language": "python",
   "name": "python3"
  },
  "language_info": {
   "codemirror_mode": {
    "name": "ipython",
    "version": 3
   },
   "file_extension": ".py",
   "mimetype": "text/x-python",
   "name": "python",
   "nbconvert_exporter": "python",
   "pygments_lexer": "ipython3",
   "version": "3.9.12"
  }
 },
 "nbformat": 4,
 "nbformat_minor": 4
}