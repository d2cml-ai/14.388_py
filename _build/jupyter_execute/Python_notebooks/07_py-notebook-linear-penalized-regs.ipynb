{
 "cells": [
  {
   "cell_type": "markdown",
   "metadata": {
    "_execution_state": "idle",
    "_uuid": "051d70d956493feee0c6d64651c6a088724dca2a",
    "papermill": {
     "duration": 0.010774,
     "end_time": "2021-02-15T11:01:41.782833",
     "exception": false,
     "start_time": "2021-02-15T11:01:41.772059",
     "status": "completed"
    },
    "tags": []
   },
   "source": [
    "# Penalized Linear Regressions: A Simulation Experiment"
   ]
  },
  {
   "cell_type": "markdown",
   "metadata": {
    "papermill": {
     "duration": 0.010616,
     "end_time": "2021-02-15T11:01:41.804126",
     "exception": false,
     "start_time": "2021-02-15T11:01:41.793510",
     "status": "completed"
    },
    "tags": []
   },
   "source": [
    "## Data Generating Process: Approximately Sparse"
   ]
  },
  {
   "cell_type": "code",
   "execution_count": 1,
   "metadata": {},
   "outputs": [],
   "source": [
    "import random\n",
    "random.seed(1)\n",
    "import numpy as np\n",
    "import math\n",
    "import matplotlib.pyplot as plt"
   ]
  },
  {
   "cell_type": "code",
   "execution_count": 2,
   "metadata": {},
   "outputs": [
    {
     "data": {
      "image/png": "[encoded data removed]",
      "text/plain": [
       "<Figure size 432x288 with 1 Axes>"
      ]
     },
     "metadata": {
      "filenames": {
       "image/png": "C:\\Users\\User\\Documents\\GitHub\\14.388_py\\_build\\jupyter_execute\\Python_notebooks\\07_py-notebook-linear-penalized-regs_3_0.png"
      },
      "needs_background": "light"
     },
     "output_type": "display_data"
    },
    {
     "name": "stdout",
     "output_type": "stream",
     "text": [
      "theoretical R2:, 0.8027232697697453\n"
     ]
    },
    {
     "data": {
      "text/plain": [
       "0.8027232697697453"
      ]
     },
     "execution_count": 2,
     "metadata": {},
     "output_type": "execute_result"
    }
   ],
   "source": [
    "n = 100\n",
    "p = 400\n",
    "\n",
    "Z = np.random.uniform( low = 0 , high = 1 , size = n) - 1/2 \n",
    "\n",
    "W = ( np.random.uniform( low = 0 , high = 1 , size = n * p ) - 1/2 ).\\\n",
    "        reshape( n , p )\n",
    "\n",
    "beta = ((1/ np.arange(1, p + 1 )) ** 2)\n",
    "\n",
    "gX = np.exp( 4 * Z ) + (W @ beta)\n",
    "gX\n",
    "\n",
    "X = np.concatenate( ( Z.reshape(Z.size, 1), Z.reshape(Z.size, 1) \\\n",
    "                     ** 2, Z.reshape(Z.size, 1) ** 3, W ) , axis = 1 )\n",
    "\n",
    "mean = 0\n",
    "sd = 1\n",
    "Y = gX + np.random.normal( mean , sd, n )\n",
    "\n",
    "# We use package Glmnet to carry out predictions using cross-validated lasso, ridge, and elastic net\n",
    "fig = plt.figure()\n",
    "fig.suptitle('Y vs g(X)')\n",
    "ax = fig.add_subplot(111)\n",
    "plt.scatter( Y, gX)\n",
    "plt.xlabel('g(X)')\n",
    "plt.ylabel('Y')\n",
    "plt.show()\n",
    "\n",
    "print( f\"theoretical R2:, {np.var(gX) / np.var( Y )}\" ) \n",
    "\n",
    "np.var(gX) / np.var( Y ) #theoretical R-square in the simulation example"
   ]
  },
  {
   "cell_type": "markdown",
   "metadata": {
    "papermill": {
     "duration": 0.013571,
     "end_time": "2021-02-15T11:01:42.446308",
     "exception": false,
     "start_time": "2021-02-15T11:01:42.432737",
     "status": "completed"
    },
    "tags": []
   },
   "source": [
    "We use package Glmnet to carry out predictions using cross-validated lasso, ridge, and elastic net"
   ]
  },
  {
   "cell_type": "markdown",
   "metadata": {},
   "source": [
    "We should know that **cv.glmnet** function in r **standarize** ***X*** data by default. So, we have to standarize our data before the execution of sklearn package. The **normalize** parameter will help for this. However, the function cv.glamnet  is also standarizing the **Y** [variable](https://web.stanford.edu/~hastie/glmnet/glmnet_alpha.html) and then unstadarize the coefficients from the regression. To do this with sklearn, we will standarize the **Y** variable before fitting with **StandardScaler** function. Finally, the r-function uses 10 folds by default so we will adjust our model to use **cv=10** ten folds.\\\n",
    "\\\n",
    "The parameter **l1_ratio** corresponds to **alpha** in the glmnet R package while **alpha** corresponds to the **lambda** parameter in **glmnet**. Specifically, **l1_ratio = 1** is the lasso penalty. Currently, **l1_ratio <= 0.01** is not reliable, unless you supply your own sequence of **alpha**."
   ]
  },
  {
   "cell_type": "code",
   "execution_count": 3,
   "metadata": {},
   "outputs": [],
   "source": [
    "from sklearn.linear_model import LassoCV\n",
    "from sklearn.preprocessing import StandardScaler\n",
    "from sklearn.linear_model import RidgeCV, ElasticNetCV"
   ]
  },
  {
   "cell_type": "code",
   "execution_count": 4,
   "metadata": {},
   "outputs": [
    {
     "name": "stderr",
     "output_type": "stream",
     "text": [
      "C:\\Users\\User\\anaconda3\\lib\\site-packages\\sklearn\\linear_model\\_coordinate_descent.py:1571: DataConversionWarning: A column-vector y was passed when a 1d array was expected. Please change the shape of y to (n_samples, ), for example using ravel().\n",
      "  y = column_or_1d(y, warn=True)\n"
     ]
    },
    {
     "name": "stderr",
     "output_type": "stream",
     "text": [
      "C:\\Users\\User\\anaconda3\\lib\\site-packages\\sklearn\\linear_model\\_base.py:141: FutureWarning: 'normalize' was deprecated in version 1.0 and will be removed in 1.2.\n",
      "If you wish to scale the data, use Pipeline with a StandardScaler in a preprocessing stage. To reproduce the previous behavior:\n",
      "\n",
      "from sklearn.pipeline import make_pipeline\n",
      "\n",
      "model = make_pipeline(StandardScaler(with_mean=False), Lasso())\n",
      "\n",
      "If you wish to pass a sample_weight parameter, you need to pass it as a fit parameter to each step of the pipeline as follows:\n",
      "\n",
      "kwargs = {s[0] + '__sample_weight': sample_weight for s in model.steps}\n",
      "model.fit(X, y, **kwargs)\n",
      "\n",
      "Set parameter alpha to: original_alpha * np.sqrt(n_samples). \n",
      "  warnings.warn(\n",
      "C:\\Users\\User\\anaconda3\\lib\\site-packages\\sklearn\\linear_model\\_coordinate_descent.py:1571: DataConversionWarning: A column-vector y was passed when a 1d array was expected. Please change the shape of y to (n_samples, ), for example using ravel().\n",
      "  y = column_or_1d(y, warn=True)\n"
     ]
    },
    {
     "name": "stderr",
     "output_type": "stream",
     "text": [
      "C:\\Users\\User\\anaconda3\\lib\\site-packages\\sklearn\\linear_model\\_base.py:141: FutureWarning: 'normalize' was deprecated in version 1.0 and will be removed in 1.2.\n",
      "If you wish to scale the data, use Pipeline with a StandardScaler in a preprocessing stage. To reproduce the previous behavior:\n",
      "\n",
      "from sklearn.pipeline import make_pipeline\n",
      "\n",
      "model = make_pipeline(StandardScaler(with_mean=False), ElasticNet())\n",
      "\n",
      "If you wish to pass a sample_weight parameter, you need to pass it as a fit parameter to each step of the pipeline as follows:\n",
      "\n",
      "kwargs = {s[0] + '__sample_weight': sample_weight for s in model.steps}\n",
      "model.fit(X, y, **kwargs)\n",
      "\n",
      "Set parameter alpha to original_alpha * np.sqrt(n_samples) if l1_ratio is 1, and to original_alpha * n_samples if l1_ratio is 0. For other values of l1_ratio, no analytic formula is available.\n",
      "  warnings.warn(\n",
      "C:\\Users\\User\\anaconda3\\lib\\site-packages\\sklearn\\linear_model\\_coordinate_descent.py:1571: DataConversionWarning: A column-vector y was passed when a 1d array was expected. Please change the shape of y to (n_samples, ), for example using ravel().\n",
      "  y = column_or_1d(y, warn=True)\n"
     ]
    },
    {
     "name": "stderr",
     "output_type": "stream",
     "text": [
      "C:\\Users\\User\\anaconda3\\lib\\site-packages\\sklearn\\linear_model\\_base.py:141: FutureWarning: 'normalize' was deprecated in version 1.0 and will be removed in 1.2.\n",
      "If you wish to scale the data, use Pipeline with a StandardScaler in a preprocessing stage. To reproduce the previous behavior:\n",
      "\n",
      "from sklearn.pipeline import make_pipeline\n",
      "\n",
      "model = make_pipeline(StandardScaler(with_mean=False), ElasticNet())\n",
      "\n",
      "If you wish to pass a sample_weight parameter, you need to pass it as a fit parameter to each step of the pipeline as follows:\n",
      "\n",
      "kwargs = {s[0] + '__sample_weight': sample_weight for s in model.steps}\n",
      "model.fit(X, y, **kwargs)\n",
      "\n",
      "Set parameter alpha to original_alpha * np.sqrt(n_samples) if l1_ratio is 1, and to original_alpha * n_samples if l1_ratio is 0. For other values of l1_ratio, no analytic formula is available.\n",
      "  warnings.warn(\n"
     ]
    },
    {
     "ename": "ValueError",
     "evalue": "Expected 2D array, got 1D array instead:\narray=[-0.017565   -0.63665614 -0.56310843  1.84049011 -0.01688667 -0.39395138\n -0.69702622 -0.05411899 -0.1682256   0.59760353 -0.49196723  0.02870925\n -0.58811559 -0.627934   -0.61614285  1.70143611  1.66514345 -0.19500235\n -0.65155326 -0.56342086  1.66624506 -0.39506648 -0.65262677 -0.6359689\n -0.28658577 -0.61378683 -0.63341648 -0.56330419 -0.67772999 -0.10728264\n -0.32264641 -0.06756531 -0.05012677 -0.66752706 -0.64534835  0.70079393\n  1.53196402 -0.45124903 -0.70163492  0.69791233 -0.60363211  0.92846752\n  1.44002875 -0.06151565  0.18065983 -0.59541525  1.30764885 -0.60488014\n  0.33709584 -0.55173224  0.23277353 -0.09843737  0.57359421  0.34637388\n -0.70132058 -0.53944421 -0.68461074 -0.59860274 -0.46660545 -0.56049856\n  1.55365582  0.13677983  0.10708438 -0.43876318 -0.32286739  0.15247967\n -0.32131237  1.14601515 -0.4728094   0.76713571  1.78635392 -0.6163449\n  0.4883486  -0.57058165 -0.54875385  0.13808305 -0.21348456 -0.51753009\n  1.11922935 -0.65457667  0.92338684  0.00762623  0.12082567 -0.47970486\n  1.2664708  -0.72334848 -0.46636158 -0.6298312   0.00534429 -0.2865041\n  0.66305301  1.02728323 -0.06953057 -0.24949972  0.33919775 -0.37525601\n  0.64447842 -0.12737616  0.38591679 -0.65101654].\nReshape your data either using array.reshape(-1, 1) if your data has a single feature or array.reshape(1, -1) if it contains a single sample.",
     "output_type": "error",
     "traceback": [
      "\u001b[1;31m---------------------------------------------------------------------------\u001b[0m",
      "\u001b[1;31mValueError\u001b[0m                                Traceback (most recent call last)",
      "Input \u001b[1;32mIn [4]\u001b[0m, in \u001b[0;36m<cell line: 15>\u001b[1;34m()\u001b[0m\n\u001b[0;32m     12\u001b[0m fit_elnet \u001b[38;5;241m=\u001b[39m ElasticNetCV( cv \u001b[38;5;241m=\u001b[39m \u001b[38;5;241m10\u001b[39m , normalize \u001b[38;5;241m=\u001b[39m \u001b[38;5;28;01mTrue\u001b[39;00m , random_state \u001b[38;5;241m=\u001b[39m \u001b[38;5;241m0\u001b[39m , l1_ratio \u001b[38;5;241m=\u001b[39m \u001b[38;5;241m0.5\u001b[39m, max_iter \u001b[38;5;241m=\u001b[39m \u001b[38;5;241m100000\u001b[39m )\u001b[38;5;241m.\u001b[39mfit( X, std_Y )\n\u001b[0;32m     14\u001b[0m \u001b[38;5;66;03m# Predictions\u001b[39;00m\n\u001b[1;32m---> 15\u001b[0m yhat_lasso_cv \u001b[38;5;241m=\u001b[39m \u001b[43mscaler\u001b[49m\u001b[38;5;241;43m.\u001b[39;49m\u001b[43minverse_transform\u001b[49m\u001b[43m(\u001b[49m\u001b[43m \u001b[49m\u001b[43mfit_lasso_cv\u001b[49m\u001b[38;5;241;43m.\u001b[39;49m\u001b[43mpredict\u001b[49m\u001b[43m(\u001b[49m\u001b[43m \u001b[49m\u001b[43mX\u001b[49m\u001b[43m \u001b[49m\u001b[43m)\u001b[49m\u001b[43m \u001b[49m\u001b[43m)\u001b[49m\n\u001b[0;32m     16\u001b[0m yhat_ridge \u001b[38;5;241m=\u001b[39m scaler\u001b[38;5;241m.\u001b[39minverse_transform( fit_ridge\u001b[38;5;241m.\u001b[39mpredict( X ) )\n\u001b[0;32m     17\u001b[0m yhat_elnet \u001b[38;5;241m=\u001b[39m scaler\u001b[38;5;241m.\u001b[39minverse_transform( fit_elnet\u001b[38;5;241m.\u001b[39mpredict( X ) )\n",
      "File \u001b[1;32m~\\anaconda3\\lib\\site-packages\\sklearn\\preprocessing\\_data.py:1016\u001b[0m, in \u001b[0;36mStandardScaler.inverse_transform\u001b[1;34m(self, X, copy)\u001b[0m\n\u001b[0;32m   1013\u001b[0m check_is_fitted(\u001b[38;5;28mself\u001b[39m)\n\u001b[0;32m   1015\u001b[0m copy \u001b[38;5;241m=\u001b[39m copy \u001b[38;5;28;01mif\u001b[39;00m copy \u001b[38;5;129;01mis\u001b[39;00m \u001b[38;5;129;01mnot\u001b[39;00m \u001b[38;5;28;01mNone\u001b[39;00m \u001b[38;5;28;01melse\u001b[39;00m \u001b[38;5;28mself\u001b[39m\u001b[38;5;241m.\u001b[39mcopy\n\u001b[1;32m-> 1016\u001b[0m X \u001b[38;5;241m=\u001b[39m \u001b[43mcheck_array\u001b[49m\u001b[43m(\u001b[49m\n\u001b[0;32m   1017\u001b[0m \u001b[43m    \u001b[49m\u001b[43mX\u001b[49m\u001b[43m,\u001b[49m\n\u001b[0;32m   1018\u001b[0m \u001b[43m    \u001b[49m\u001b[43maccept_sparse\u001b[49m\u001b[38;5;241;43m=\u001b[39;49m\u001b[38;5;124;43m\"\u001b[39;49m\u001b[38;5;124;43mcsr\u001b[39;49m\u001b[38;5;124;43m\"\u001b[39;49m\u001b[43m,\u001b[49m\n\u001b[0;32m   1019\u001b[0m \u001b[43m    \u001b[49m\u001b[43mcopy\u001b[49m\u001b[38;5;241;43m=\u001b[39;49m\u001b[43mcopy\u001b[49m\u001b[43m,\u001b[49m\n\u001b[0;32m   1020\u001b[0m \u001b[43m    \u001b[49m\u001b[43mestimator\u001b[49m\u001b[38;5;241;43m=\u001b[39;49m\u001b[38;5;28;43mself\u001b[39;49m\u001b[43m,\u001b[49m\n\u001b[0;32m   1021\u001b[0m \u001b[43m    \u001b[49m\u001b[43mdtype\u001b[49m\u001b[38;5;241;43m=\u001b[39;49m\u001b[43mFLOAT_DTYPES\u001b[49m\u001b[43m,\u001b[49m\n\u001b[0;32m   1022\u001b[0m \u001b[43m    \u001b[49m\u001b[43mforce_all_finite\u001b[49m\u001b[38;5;241;43m=\u001b[39;49m\u001b[38;5;124;43m\"\u001b[39;49m\u001b[38;5;124;43mallow-nan\u001b[39;49m\u001b[38;5;124;43m\"\u001b[39;49m\u001b[43m,\u001b[49m\n\u001b[0;32m   1023\u001b[0m \u001b[43m\u001b[49m\u001b[43m)\u001b[49m\n\u001b[0;32m   1025\u001b[0m \u001b[38;5;28;01mif\u001b[39;00m sparse\u001b[38;5;241m.\u001b[39missparse(X):\n\u001b[0;32m   1026\u001b[0m     \u001b[38;5;28;01mif\u001b[39;00m \u001b[38;5;28mself\u001b[39m\u001b[38;5;241m.\u001b[39mwith_mean:\n",
      "File \u001b[1;32m~\\anaconda3\\lib\\site-packages\\sklearn\\utils\\validation.py:769\u001b[0m, in \u001b[0;36mcheck_array\u001b[1;34m(array, accept_sparse, accept_large_sparse, dtype, order, copy, force_all_finite, ensure_2d, allow_nd, ensure_min_samples, ensure_min_features, estimator)\u001b[0m\n\u001b[0;32m    767\u001b[0m     \u001b[38;5;66;03m# If input is 1D raise error\u001b[39;00m\n\u001b[0;32m    768\u001b[0m     \u001b[38;5;28;01mif\u001b[39;00m array\u001b[38;5;241m.\u001b[39mndim \u001b[38;5;241m==\u001b[39m \u001b[38;5;241m1\u001b[39m:\n\u001b[1;32m--> 769\u001b[0m         \u001b[38;5;28;01mraise\u001b[39;00m \u001b[38;5;167;01mValueError\u001b[39;00m(\n\u001b[0;32m    770\u001b[0m             \u001b[38;5;124m\"\u001b[39m\u001b[38;5;124mExpected 2D array, got 1D array instead:\u001b[39m\u001b[38;5;130;01m\\n\u001b[39;00m\u001b[38;5;124marray=\u001b[39m\u001b[38;5;132;01m{}\u001b[39;00m\u001b[38;5;124m.\u001b[39m\u001b[38;5;130;01m\\n\u001b[39;00m\u001b[38;5;124m\"\u001b[39m\n\u001b[0;32m    771\u001b[0m             \u001b[38;5;124m\"\u001b[39m\u001b[38;5;124mReshape your data either using array.reshape(-1, 1) if \u001b[39m\u001b[38;5;124m\"\u001b[39m\n\u001b[0;32m    772\u001b[0m             \u001b[38;5;124m\"\u001b[39m\u001b[38;5;124myour data has a single feature or array.reshape(1, -1) \u001b[39m\u001b[38;5;124m\"\u001b[39m\n\u001b[0;32m    773\u001b[0m             \u001b[38;5;124m\"\u001b[39m\u001b[38;5;124mif it contains a single sample.\u001b[39m\u001b[38;5;124m\"\u001b[39m\u001b[38;5;241m.\u001b[39mformat(array)\n\u001b[0;32m    774\u001b[0m         )\n\u001b[0;32m    776\u001b[0m \u001b[38;5;66;03m# make sure we actually converted to numeric:\u001b[39;00m\n\u001b[0;32m    777\u001b[0m \u001b[38;5;28;01mif\u001b[39;00m dtype_numeric \u001b[38;5;129;01mand\u001b[39;00m array\u001b[38;5;241m.\u001b[39mdtype\u001b[38;5;241m.\u001b[39mkind \u001b[38;5;129;01min\u001b[39;00m \u001b[38;5;124m\"\u001b[39m\u001b[38;5;124mOUSV\u001b[39m\u001b[38;5;124m\"\u001b[39m:\n",
      "\u001b[1;31mValueError\u001b[0m: Expected 2D array, got 1D array instead:\narray=[-0.017565   -0.63665614 -0.56310843  1.84049011 -0.01688667 -0.39395138\n -0.69702622 -0.05411899 -0.1682256   0.59760353 -0.49196723  0.02870925\n -0.58811559 -0.627934   -0.61614285  1.70143611  1.66514345 -0.19500235\n -0.65155326 -0.56342086  1.66624506 -0.39506648 -0.65262677 -0.6359689\n -0.28658577 -0.61378683 -0.63341648 -0.56330419 -0.67772999 -0.10728264\n -0.32264641 -0.06756531 -0.05012677 -0.66752706 -0.64534835  0.70079393\n  1.53196402 -0.45124903 -0.70163492  0.69791233 -0.60363211  0.92846752\n  1.44002875 -0.06151565  0.18065983 -0.59541525  1.30764885 -0.60488014\n  0.33709584 -0.55173224  0.23277353 -0.09843737  0.57359421  0.34637388\n -0.70132058 -0.53944421 -0.68461074 -0.59860274 -0.46660545 -0.56049856\n  1.55365582  0.13677983  0.10708438 -0.43876318 -0.32286739  0.15247967\n -0.32131237  1.14601515 -0.4728094   0.76713571  1.78635392 -0.6163449\n  0.4883486  -0.57058165 -0.54875385  0.13808305 -0.21348456 -0.51753009\n  1.11922935 -0.65457667  0.92338684  0.00762623  0.12082567 -0.47970486\n  1.2664708  -0.72334848 -0.46636158 -0.6298312   0.00534429 -0.2865041\n  0.66305301  1.02728323 -0.06953057 -0.24949972  0.33919775 -0.37525601\n  0.64447842 -0.12737616  0.38591679 -0.65101654].\nReshape your data either using array.reshape(-1, 1) if your data has a single feature or array.reshape(1, -1) if it contains a single sample."
     ]
    }
   ],
   "source": [
    "# Reshaping Y variable\n",
    "Y_vec = Y.reshape( Y.size, 1)\n",
    "\n",
    "# Scalar distribution\n",
    "scaler = StandardScaler()\n",
    "scaler.fit( Y_vec )\n",
    "std_Y = scaler.transform( Y_vec )\n",
    "\n",
    "# Regressions\n",
    "fit_lasso_cv = LassoCV(cv = 10 , random_state = 0 , normalize = True ).fit( X, std_Y )\n",
    "fit_ridge = ElasticNetCV( cv = 10 , normalize = True , random_state = 0 , l1_ratio = 0.0001 ).fit( X, std_Y )\n",
    "fit_elnet = ElasticNetCV( cv = 10 , normalize = True , random_state = 0 , l1_ratio = 0.5, max_iter = 100000 ).fit( X, std_Y )\n",
    "\n",
    "# Predictions\n",
    "yhat_lasso_cv = scaler.inverse_transform( fit_lasso_cv.predict( X ) )\n",
    "yhat_ridge = scaler.inverse_transform( fit_ridge.predict( X ) )\n",
    "yhat_elnet = scaler.inverse_transform( fit_elnet.predict( X ) )"
   ]
  },
  {
   "cell_type": "code",
   "execution_count": 58,
   "metadata": {},
   "outputs": [],
   "source": [
    "import statsmodels.api as sm"
   ]
  },
  {
   "cell_type": "code",
   "execution_count": 59,
   "metadata": {},
   "outputs": [],
   "source": [
    "MSE_lasso_cv = sm.OLS( ((gX - yhat_lasso_cv)**2 ) , np.ones( yhat_lasso_cv.shape )  ).fit().summary2().tables[1].round(3)\n",
    "MSE_ridge = sm.OLS( ((gX - yhat_ridge)**2 ) , np.ones( yhat_ridge.size )  ).fit().summary2().tables[1].round(3)\n",
    "MSE_elnet = sm.OLS( ((gX - yhat_elnet)**2 ) , np.ones( yhat_elnet.size )  ).fit().summary2().tables[1].round(3)\n",
    "# our coefficient of MSE_elnet are far from r output"
   ]
  },
  {
   "cell_type": "markdown",
   "metadata": {
    "papermill": {
     "duration": 0.01429,
     "end_time": "2021-02-15T11:01:45.388902",
     "exception": false,
     "start_time": "2021-02-15T11:01:45.374612",
     "status": "completed"
    },
    "tags": []
   },
   "source": [
    "Here we compute the lasso and ols post lasso using plug-in choices for penalty levels, using package hdm"
   ]
  },
  {
   "cell_type": "markdown",
   "metadata": {},
   "source": [
    "Rlasso functionality: it is searching the right set of regressors. This function was made for the case of ***p*** regressors and ***n*** observations where ***p >>>> n***. It assumes that the error is i.i.d. The errors may be non-Gaussian or heteroscedastic.\\\n",
    "The post lasso function makes OLS with the selected ***T*** regressors.\n",
    "To select those parameters, they use $\\lambda$ as variable to penalize\\\n",
    "**Funny thing: the function rlasso was named like that because it is the \"rigorous\" Lasso.**\\\n",
    "We find a Python code that tries to replicate the main function of hdm r-package. I was made by [Max Huppertz](https://maxhuppertz.github.io/code/). His library is this [repository](https://github.com/maxhuppertz/hdmpy). Download its repository and copy this folder to your site-packages folder. In my case it is located here ***C:\\Python\\Python38\\Lib\\site-packages*** ."
   ]
  },
  {
   "cell_type": "markdown",
   "metadata": {},
   "source": [
    "We need to install this package ***pip install multiprocess***."
   ]
  },
  {
   "cell_type": "code",
   "execution_count": 61,
   "metadata": {},
   "outputs": [],
   "source": [
    "import hdmpy"
   ]
  },
  {
   "cell_type": "code",
   "execution_count": 62,
   "metadata": {},
   "outputs": [],
   "source": [
    "fit_rlasso = hdmpy.rlasso(X, Y, post = False)\n",
    "fit_rlasso_post = hdmpy.rlasso(X, Y, post = True)\n",
    "\n",
    "yhat_rlasso = Y - fit_rlasso.est['residuals'].reshape( Y.size,  )\n",
    "yhat_rlasso_post = Y - fit_rlasso_post.est['residuals'].reshape( Y.size ,  )\n",
    "\n",
    "MSE_lasso = sm.OLS( ((gX - yhat_rlasso)**2 ) , np.ones( yhat_rlasso.size )  ).fit().summary2().tables[1].round(3)\n",
    "MSE_lasso_post = sm.OLS( ((gX - yhat_rlasso_post)**2 ) , np.ones( yhat_rlasso_post.size )  ).fit().summary2().tables[1].round(3)\n"
   ]
  },
  {
   "cell_type": "code",
   "execution_count": 65,
   "metadata": {},
   "outputs": [],
   "source": [
    "def lava_predict( x, y, iteration = 5 ):\n",
    "    \n",
    "    g1_rlasso = hdmpy.rlasso( x, y , post = False )\n",
    "    g1 = y - g1_rlasso.est['residuals'].reshape( g1_rlasso.est['residuals'].size, )\n",
    "    \n",
    "    new_dep_var = y-g1\n",
    "    new_dep_var_vec = new_dep_var.reshape( new_dep_var.size, 1 )\n",
    "    \n",
    "    # Scalar distribution\n",
    "    scaler = StandardScaler()\n",
    "    scaler.fit( new_dep_var_vec )\n",
    "    std_new_dep_var_vec = scaler.transform( new_dep_var_vec )\n",
    "    \n",
    "    fit_ridge_m1 = ElasticNetCV( cv = 10 , normalize = True , random_state = 0 , l1_ratio = 0.0001, alphas = np.array([20]) ).fit( x, std_new_dep_var_vec )\n",
    "    m1 = scaler.inverse_transform( fit_ridge_m1.predict( x ) )\n",
    "    \n",
    "    i = 1\n",
    "    while i <= iteration:\n",
    "        \n",
    "        g1_rlasso = hdmpy.rlasso( x, y , post = False )\n",
    "        g1 = y - g1_rlasso.est['residuals'].reshape( g1_rlasso.est['residuals'].size, )\n",
    "\n",
    "        new_dep_var = y-g1\n",
    "        new_dep_var_vec = new_dep_var.reshape( new_dep_var.size, 1 )\n",
    "\n",
    "        # Scalar distribution\n",
    "        scaler = StandardScaler()\n",
    "        scaler.fit( new_dep_var_vec )\n",
    "        std_new_dep_var_vec = scaler.transform( new_dep_var_vec )\n",
    "\n",
    "        fit_ridge_m1 = ElasticNetCV( cv = 10 , normalize = True , random_state = 0 , l1_ratio = 0.0001, alphas = np.array([20]) ).fit( x, std_new_dep_var_vec )\n",
    "        m1 = scaler.inverse_transform( fit_ridge_m1.predict( x ) )\n",
    "        \n",
    "        i = i + 1\n",
    "        \n",
    "    return ( g1 + m1 )\n",
    "        "
   ]
  },
  {
   "cell_type": "markdown",
   "metadata": {
    "papermill": {
     "duration": 0.02899,
     "end_time": "2021-02-15T11:01:56.880825",
     "exception": false,
     "start_time": "2021-02-15T11:01:56.851835",
     "status": "completed"
    },
    "tags": []
   },
   "source": [
    "Next we code up lava, which alternates the fitting of lasso and ridge"
   ]
  },
  {
   "cell_type": "code",
   "execution_count": 67,
   "metadata": {},
   "outputs": [
    {
     "name": "stderr",
     "output_type": "stream",
     "text": [
      "C:\\Users\\MSI-NB\\anaconda3\\lib\\site-packages\\sklearn\\utils\\validation.py:72: DataConversionWarning: A column-vector y was passed when a 1d array was expected. Please change the shape of y to (n_samples, ), for example using ravel().\n",
      "  return f(**kwargs)\n",
      "C:\\Users\\MSI-NB\\anaconda3\\lib\\site-packages\\sklearn\\utils\\validation.py:72: DataConversionWarning: A column-vector y was passed when a 1d array was expected. Please change the shape of y to (n_samples, ), for example using ravel().\n",
      "  return f(**kwargs)\n",
      "C:\\Users\\MSI-NB\\anaconda3\\lib\\site-packages\\sklearn\\utils\\validation.py:72: DataConversionWarning: A column-vector y was passed when a 1d array was expected. Please change the shape of y to (n_samples, ), for example using ravel().\n",
      "  return f(**kwargs)\n",
      "C:\\Users\\MSI-NB\\anaconda3\\lib\\site-packages\\sklearn\\utils\\validation.py:72: DataConversionWarning: A column-vector y was passed when a 1d array was expected. Please change the shape of y to (n_samples, ), for example using ravel().\n",
      "  return f(**kwargs)\n",
      "C:\\Users\\MSI-NB\\anaconda3\\lib\\site-packages\\sklearn\\utils\\validation.py:72: DataConversionWarning: A column-vector y was passed when a 1d array was expected. Please change the shape of y to (n_samples, ), for example using ravel().\n",
      "  return f(**kwargs)\n",
      "C:\\Users\\MSI-NB\\anaconda3\\lib\\site-packages\\sklearn\\utils\\validation.py:72: DataConversionWarning: A column-vector y was passed when a 1d array was expected. Please change the shape of y to (n_samples, ), for example using ravel().\n",
      "  return f(**kwargs)\n"
     ]
    }
   ],
   "source": [
    "yhat_lava = lava_predict( X, Y )\n",
    "MSE_lava = sm.OLS( ((gX - yhat_lava)**2 ) , np.ones( yhat_lava.size )  ).fit().summary2().tables[1].round(3)"
   ]
  },
  {
   "cell_type": "code",
   "execution_count": 68,
   "metadata": {},
   "outputs": [
    {
     "data": {
      "text/plain": [
       "array([ 2.26842737,  0.3518921 ,  2.16437144,  4.58793136,  0.32475748,\n",
       "        3.97702414,  0.07475153,  1.12466672,  1.45819748,  4.52755667,\n",
       "        2.22608792,  0.61142399,  2.83385267,  0.6758044 ,  3.28082626,\n",
       "        2.05888173,  1.09627703,  0.4913427 ,  1.71447345,  0.6724335 ,\n",
       "        1.37113921,  0.68072597,  0.69517606,  4.30631518, -0.46330898,\n",
       "        1.21065291,  0.30399639,  0.88090279,  3.07432376,  0.76843096,\n",
       "        1.07924247,  3.66727024,  2.06110446,  4.71165235,  4.25076401,\n",
       "       -0.14401881,  0.61526592,  0.46454401,  1.20921572,  2.74556104,\n",
       "        1.80446737,  0.9708959 ,  3.14333617,  1.49602814,  0.64854985,\n",
       "        1.97885295,  3.08412745,  0.9494072 ,  0.83537556,  1.50126836,\n",
       "        4.25175887,  1.23612387,  0.95633362,  1.57570254,  4.86246285,\n",
       "        0.78753903,  1.28352589,  2.22902318,  0.60575163,  1.2765798 ,\n",
       "        4.07543612,  3.54192064, -0.66750971,  1.24721993,  0.87600809,\n",
       "        0.91315424,  1.31829304,  2.00333569,  1.61022961,  1.03562187,\n",
       "        4.35787076,  1.1441965 ,  4.27289985,  4.95635716, -0.56752204,\n",
       "        1.52691059,  2.36855361, -0.16602166,  0.78393495,  0.86705432,\n",
       "        0.56403116,  0.11816554,  0.27911315,  2.80764631,  2.06300315,\n",
       "        0.75939976,  1.67923561,  1.03888701,  3.02867764,  0.48383465,\n",
       "        3.96365738,  3.09710601,  1.91459856,  4.95196407,  1.53489272,\n",
       "        1.99047475,  0.40139412,  2.79550178, -0.70507589,  0.31210028])"
      ]
     },
     "execution_count": 68,
     "metadata": {},
     "output_type": "execute_result"
    }
   ],
   "source": [
    "yhat_lava"
   ]
  },
  {
   "cell_type": "code",
   "execution_count": 69,
   "metadata": {},
   "outputs": [],
   "source": [
    "import pandas as pd"
   ]
  },
  {
   "cell_type": "code",
   "execution_count": 70,
   "metadata": {},
   "outputs": [
    {
     "data": {
      "text/html": [
       "<div>\n",
       "<style scoped>\n",
       "    .dataframe tbody tr th:only-of-type {\n",
       "        vertical-align: middle;\n",
       "    }\n",
       "\n",
       "    .dataframe tbody tr th {\n",
       "        vertical-align: top;\n",
       "    }\n",
       "\n",
       "    .dataframe thead th {\n",
       "        text-align: right;\n",
       "    }\n",
       "</style>\n",
       "<table border=\"1\" class=\"dataframe\">\n",
       "  <thead>\n",
       "    <tr style=\"text-align: right;\">\n",
       "      <th></th>\n",
       "      <th>MSA</th>\n",
       "      <th>S.E. for MSA</th>\n",
       "    </tr>\n",
       "  </thead>\n",
       "  <tbody>\n",
       "    <tr>\n",
       "      <th>Cross-Validated Lasso</th>\n",
       "      <td>1.303</td>\n",
       "      <td>0.195</td>\n",
       "    </tr>\n",
       "    <tr>\n",
       "      <th>Cross-Validated Ridge</th>\n",
       "      <td>3.437</td>\n",
       "      <td>0.488</td>\n",
       "    </tr>\n",
       "    <tr>\n",
       "      <th>Cross-Validated elnet</th>\n",
       "      <td>1.510</td>\n",
       "      <td>0.229</td>\n",
       "    </tr>\n",
       "    <tr>\n",
       "      <th>Lasso</th>\n",
       "      <td>0.863</td>\n",
       "      <td>0.123</td>\n",
       "    </tr>\n",
       "    <tr>\n",
       "      <th>Post-Lasso</th>\n",
       "      <td>1.354</td>\n",
       "      <td>0.186</td>\n",
       "    </tr>\n",
       "    <tr>\n",
       "      <th>Lava</th>\n",
       "      <td>0.860</td>\n",
       "      <td>0.122</td>\n",
       "    </tr>\n",
       "  </tbody>\n",
       "</table>\n",
       "</div>"
      ],
      "text/plain": [
       "                         MSA  S.E. for MSA\n",
       "Cross-Validated Lasso  1.303         0.195\n",
       "Cross-Validated Ridge  3.437         0.488\n",
       "Cross-Validated elnet  1.510         0.229\n",
       "Lasso                  0.863         0.123\n",
       "Post-Lasso             1.354         0.186\n",
       "Lava                   0.860         0.122"
      ]
     },
     "execution_count": 70,
     "metadata": {},
     "output_type": "execute_result"
    }
   ],
   "source": [
    "table2 = np.zeros( (6, 2) )\n",
    "\n",
    "table2[0, 0:] = MSE_lasso_cv.iloc[0, 0:2].to_list()\n",
    "table2[1, 0:] = MSE_ridge.iloc[0, 0:2].to_list()\n",
    "table2[2, 0:] = MSE_elnet.iloc[0, 0:2].to_list()\n",
    "table2[3, 0:] = MSE_lasso.iloc[0, 0:2].to_list()\n",
    "table2[4, 0:] = MSE_lasso_post.iloc[0, 0:2].to_list()\n",
    "table2[5, 0:] = MSE_lava.iloc[0, 0:2].to_list()\n",
    "\n",
    "\n",
    "\n",
    "table2_pandas = pd.DataFrame( table2, columns = [ \"MSA\",\"S.E. for MSA\" ])\n",
    "table2_pandas.index = [ \"Cross-Validated Lasso\",\\\n",
    "                       \"Cross-Validated Ridge\", \"Cross-Validated elnet\",\\\n",
    "                       \"Lasso\", \"Post-Lasso\", \"Lava\" ]\n",
    "table2_pandas = table2_pandas.round(3)\n",
    "table2_html = table2_pandas.to_html()\n",
    "table2_pandas"
   ]
  },
  {
   "cell_type": "code",
   "execution_count": 71,
   "metadata": {},
   "outputs": [],
   "source": [
    "import matplotlib.pyplot as plt"
   ]
  },
  {
   "cell_type": "code",
   "execution_count": 72,
   "metadata": {},
   "outputs": [
    {
     "data": {
      "image/png": "[encoded data removed]",
      "text/plain": [
       "<Figure size 432x288 with 1 Axes>"
      ]
     },
     "metadata": {
      "filenames": {
       "image/png": "C:\\Users\\User\\Documents\\GitHub\\14.388_py\\_build\\jupyter_execute\\Python_notebooks\\07_py-notebook-linear-penalized-regs_22_0.png"
      },
      "needs_background": "light"
     },
     "output_type": "display_data"
    }
   ],
   "source": [
    "fig = plt.figure()\n",
    "ax1 = fig.add_subplot(111)\n",
    "ax1.scatter( gX, gX , marker = '.', c = 'black' )\n",
    "ax1.scatter( gX, yhat_rlasso , marker = 'D' , c = 'red' , label = 'rLasso' )\n",
    "ax1.scatter( gX, yhat_rlasso_post , marker = '^' , c = 'green' , label = 'Post-rLasso')\n",
    "ax1.scatter( gX, yhat_lasso_cv , marker = 'o' , c = 'blue' , label = 'CV Lasso')\n",
    "plt.legend(loc='lower right')\n",
    "plt.show()"
   ]
  },
  {
   "cell_type": "markdown",
   "metadata": {
    "papermill": {
     "duration": 0.018842,
     "end_time": "2021-02-15T11:02:51.941852",
     "exception": false,
     "start_time": "2021-02-15T11:02:51.923010",
     "status": "completed"
    },
    "tags": []
   },
   "source": [
    "## Data Generating Process: Approximately Sparse + Small Dense Part"
   ]
  },
  {
   "cell_type": "code",
   "execution_count": 46,
   "metadata": {},
   "outputs": [
    {
     "data": {
      "image/png": "[encoded data removed]",
      "text/plain": [
       "<Figure size 432x288 with 1 Axes>"
      ]
     },
     "metadata": {
      "filenames": {
       "image/png": "C:\\Users\\User\\Documents\\GitHub\\14.388_py\\_build\\jupyter_execute\\Python_notebooks\\07_py-notebook-linear-penalized-regs_24_0.png"
      },
      "needs_background": "light"
     },
     "output_type": "display_data"
    },
    {
     "name": "stdout",
     "output_type": "stream",
     "text": [
      "theoretical R2:, 0.7852348130924549\n"
     ]
    },
    {
     "data": {
      "text/plain": [
       "0.7852348130924549"
      ]
     },
     "execution_count": 46,
     "metadata": {},
     "output_type": "execute_result"
    }
   ],
   "source": [
    "n = 100\n",
    "p = 400\n",
    "\n",
    "Z = np.random.uniform( low = 0 , high = 1 , size = n) - 1/2 \n",
    "\n",
    "W = ( np.random.uniform( low = 0 , high = 1 , size = n * p ) - 1/2 ).\\\n",
    "        reshape( n , p )\n",
    "mean = 0\n",
    "sd = 1\n",
    "\n",
    "beta = ((np.random.normal( mean , sd, p )) * 0.2)\n",
    "gX = np.exp( 4 * Z ) + (W @ beta)\n",
    "X = np.concatenate( ( Z.reshape(Z.size, 1), Z.reshape(Z.size, 1) \\\n",
    "                     ** 2, Z.reshape(Z.size, 1) ** 3, W ) , axis = 1 )\n",
    "random.seed(2)\n",
    "Y = gX + np.random.normal( mean , sd, n )\n",
    "\n",
    "# We use package Glmnet to carry out predictions using cross-validated lasso, ridge, and elastic net\n",
    "fig = plt.figure()\n",
    "fig.suptitle('Y vs g(X)')\n",
    "ax = fig.add_subplot(111)\n",
    "plt.scatter( Y, gX)\n",
    "plt.xlabel('g(X)')\n",
    "plt.ylabel('Y')\n",
    "plt.show()\n",
    "\n",
    "print( f\"theoretical R2:, {np.var(gX) / np.var( Y )}\" ) \n",
    "\n",
    "np.var(gX) / np.var( Y ) #theoretical R-square in the simulation example"
   ]
  },
  {
   "cell_type": "code",
   "execution_count": 47,
   "metadata": {},
   "outputs": [
    {
     "name": "stderr",
     "output_type": "stream",
     "text": [
      "C:\\Users\\MSI-NB\\anaconda3\\lib\\site-packages\\sklearn\\utils\\validation.py:72: DataConversionWarning: A column-vector y was passed when a 1d array was expected. Please change the shape of y to (n_samples, ), for example using ravel().\n",
      "  return f(**kwargs)\n",
      "C:\\Users\\MSI-NB\\anaconda3\\lib\\site-packages\\sklearn\\utils\\validation.py:72: DataConversionWarning: A column-vector y was passed when a 1d array was expected. Please change the shape of y to (n_samples, ), for example using ravel().\n",
      "  return f(**kwargs)\n",
      "C:\\Users\\MSI-NB\\anaconda3\\lib\\site-packages\\sklearn\\utils\\validation.py:72: DataConversionWarning: A column-vector y was passed when a 1d array was expected. Please change the shape of y to (n_samples, ), for example using ravel().\n",
      "  return f(**kwargs)\n"
     ]
    }
   ],
   "source": [
    "# Reshaping Y variable\n",
    "Y_vec = Y.reshape( Y.size, 1)\n",
    "\n",
    "# Scalar distribution\n",
    "scaler = StandardScaler()\n",
    "scaler.fit( Y_vec )\n",
    "std_Y = scaler.transform( Y_vec )\n",
    "\n",
    "# Regressions\n",
    "fit_lasso_cv = LassoCV(cv = 10 , random_state = 0 , normalize = True ).fit( X, std_Y )\n",
    "fit_ridge = ElasticNetCV( cv = 10 , normalize = True , random_state = 0 , l1_ratio = 0.0001 ).fit( X, std_Y )\n",
    "fit_elnet = ElasticNetCV( cv = 10 , normalize = True , random_state = 0 , l1_ratio = 0.5, max_iter = 100000 ).fit( X, std_Y )\n",
    "\n",
    "# Predictions\n",
    "yhat_lasso_cv = scaler.inverse_transform( fit_lasso_cv.predict( X ) )\n",
    "yhat_ridge = scaler.inverse_transform( fit_ridge.predict( X ) )\n",
    "yhat_elnet = scaler.inverse_transform( fit_elnet.predict( X ) )"
   ]
  },
  {
   "cell_type": "code",
   "execution_count": 48,
   "metadata": {},
   "outputs": [],
   "source": [
    "import statsmodels.api as sm"
   ]
  },
  {
   "cell_type": "code",
   "execution_count": 49,
   "metadata": {},
   "outputs": [],
   "source": [
    "MSE_lasso_cv = sm.OLS( ((gX - yhat_lasso_cv)**2 ) , np.ones( yhat_lasso_cv.shape )  ).fit().summary2().tables[1].round(3)\n",
    "MSE_ridge = sm.OLS( ((gX - yhat_ridge)**2 ) , np.ones( yhat_ridge.size )  ).fit().summary2().tables[1].round(3)\n",
    "MSE_elnet = sm.OLS( ((gX - yhat_elnet)**2 ) , np.ones( yhat_elnet.size )  ).fit().summary2().tables[1].round(3)\n",
    "# our coefficient of MSE_elnet are far from r output"
   ]
  },
  {
   "cell_type": "code",
   "execution_count": 50,
   "metadata": {},
   "outputs": [],
   "source": [
    "fit_rlasso = hdmpy.rlasso(X, Y, post = False)\n",
    "fit_rlasso_post = hdmpy.rlasso(X, Y, post = True)\n",
    "\n",
    "yhat_rlasso = Y - fit_rlasso.est['residuals'].reshape( Y.size,  )\n",
    "yhat_rlasso_post = Y - fit_rlasso_post.est['residuals'].reshape( Y.size ,  )\n",
    "\n",
    "MSE_lasso = sm.OLS( ((gX - yhat_rlasso)**2 ) , np.ones( yhat_rlasso.size )  ).fit().summary2().tables[1].round(3)\n",
    "MSE_lasso_post = sm.OLS( ((gX - yhat_rlasso_post)**2 ) , np.ones( yhat_rlasso_post.size )  ).fit().summary2().tables[1].round(3)"
   ]
  },
  {
   "cell_type": "code",
   "execution_count": 51,
   "metadata": {},
   "outputs": [],
   "source": [
    "def lava_predict( x, y, iteration = 5 ):\n",
    "    \n",
    "    g1_rlasso = hdmpy.rlasso( x, y , post = False )\n",
    "    g1 = y - g1_rlasso.est['residuals'].reshape( g1_rlasso.est['residuals'].size, )\n",
    "    \n",
    "    new_dep_var = y-g1\n",
    "    new_dep_var_vec = new_dep_var.reshape( new_dep_var.size, 1 )\n",
    "    \n",
    "    # Scalar distribution\n",
    "    scaler = StandardScaler()\n",
    "    scaler.fit( new_dep_var_vec )\n",
    "    std_new_dep_var_vec = scaler.transform( new_dep_var_vec )\n",
    "    \n",
    "    fit_ridge_m1 = ElasticNetCV( cv = 10 , normalize = True , random_state = 0 , l1_ratio = 0.0001, alphas = np.array([20]) ).fit( x, std_new_dep_var_vec )\n",
    "    m1 = scaler.inverse_transform( fit_ridge_m1.predict( x ) )\n",
    "    \n",
    "    i = 1\n",
    "    while i <= iteration:\n",
    "        \n",
    "        g1_rlasso = hdmpy.rlasso( x, y , post = False )\n",
    "        g1 = y - g1_rlasso.est['residuals'].reshape( g1_rlasso.est['residuals'].size, )\n",
    "\n",
    "        new_dep_var = y-g1\n",
    "        new_dep_var_vec = new_dep_var.reshape( new_dep_var.size, 1 )\n",
    "\n",
    "        # Scalar distribution\n",
    "        scaler = StandardScaler()\n",
    "        scaler.fit( new_dep_var_vec )\n",
    "        std_new_dep_var_vec = scaler.transform( new_dep_var_vec )\n",
    "\n",
    "        fit_ridge_m1 = ElasticNetCV( cv = 10 , normalize = True , random_state = 0 , l1_ratio = 0.0001, alphas = np.array([20]) ).fit( x, std_new_dep_var_vec )\n",
    "        m1 = scaler.inverse_transform( fit_ridge_m1.predict( x ) )\n",
    "        \n",
    "        i = i + 1\n",
    "        \n",
    "    return ( g1 + m1 )\n",
    "        "
   ]
  },
  {
   "cell_type": "code",
   "execution_count": 52,
   "metadata": {},
   "outputs": [
    {
     "name": "stderr",
     "output_type": "stream",
     "text": [
      "C:\\Users\\MSI-NB\\anaconda3\\lib\\site-packages\\sklearn\\utils\\validation.py:72: DataConversionWarning: A column-vector y was passed when a 1d array was expected. Please change the shape of y to (n_samples, ), for example using ravel().\n",
      "  return f(**kwargs)\n",
      "C:\\Users\\MSI-NB\\anaconda3\\lib\\site-packages\\sklearn\\utils\\validation.py:72: DataConversionWarning: A column-vector y was passed when a 1d array was expected. Please change the shape of y to (n_samples, ), for example using ravel().\n",
      "  return f(**kwargs)\n",
      "C:\\Users\\MSI-NB\\anaconda3\\lib\\site-packages\\sklearn\\utils\\validation.py:72: DataConversionWarning: A column-vector y was passed when a 1d array was expected. Please change the shape of y to (n_samples, ), for example using ravel().\n",
      "  return f(**kwargs)\n",
      "C:\\Users\\MSI-NB\\anaconda3\\lib\\site-packages\\sklearn\\utils\\validation.py:72: DataConversionWarning: A column-vector y was passed when a 1d array was expected. Please change the shape of y to (n_samples, ), for example using ravel().\n",
      "  return f(**kwargs)\n",
      "C:\\Users\\MSI-NB\\anaconda3\\lib\\site-packages\\sklearn\\utils\\validation.py:72: DataConversionWarning: A column-vector y was passed when a 1d array was expected. Please change the shape of y to (n_samples, ), for example using ravel().\n",
      "  return f(**kwargs)\n",
      "C:\\Users\\MSI-NB\\anaconda3\\lib\\site-packages\\sklearn\\utils\\validation.py:72: DataConversionWarning: A column-vector y was passed when a 1d array was expected. Please change the shape of y to (n_samples, ), for example using ravel().\n",
      "  return f(**kwargs)\n"
     ]
    }
   ],
   "source": [
    "yhat_lava = lava_predict( X, Y )\n",
    "MSE_lava = sm.OLS( ((gX - yhat_lava)**2 ) , np.ones( yhat_lava.size )  ).fit().summary2().tables[1].round(3)"
   ]
  },
  {
   "cell_type": "code",
   "execution_count": 53,
   "metadata": {
    "scrolled": true
   },
   "outputs": [
    {
     "data": {
      "text/html": [
       "<div>\n",
       "<style scoped>\n",
       "    .dataframe tbody tr th:only-of-type {\n",
       "        vertical-align: middle;\n",
       "    }\n",
       "\n",
       "    .dataframe tbody tr th {\n",
       "        vertical-align: top;\n",
       "    }\n",
       "\n",
       "    .dataframe thead th {\n",
       "        text-align: right;\n",
       "    }\n",
       "</style>\n",
       "<table border=\"1\" class=\"dataframe\">\n",
       "  <thead>\n",
       "    <tr style=\"text-align: right;\">\n",
       "      <th></th>\n",
       "      <th>MSA</th>\n",
       "      <th>S.E. for MSA</th>\n",
       "    </tr>\n",
       "  </thead>\n",
       "  <tbody>\n",
       "    <tr>\n",
       "      <th>Cross-Validated Lasso</th>\n",
       "      <td>1.303</td>\n",
       "      <td>0.195</td>\n",
       "    </tr>\n",
       "    <tr>\n",
       "      <th>Cross-Validated Ridge</th>\n",
       "      <td>3.437</td>\n",
       "      <td>0.488</td>\n",
       "    </tr>\n",
       "    <tr>\n",
       "      <th>Cross-Validated elnet</th>\n",
       "      <td>1.510</td>\n",
       "      <td>0.229</td>\n",
       "    </tr>\n",
       "    <tr>\n",
       "      <th>Lasso</th>\n",
       "      <td>0.863</td>\n",
       "      <td>0.123</td>\n",
       "    </tr>\n",
       "    <tr>\n",
       "      <th>Post-Lasso</th>\n",
       "      <td>1.354</td>\n",
       "      <td>0.186</td>\n",
       "    </tr>\n",
       "    <tr>\n",
       "      <th>Lava</th>\n",
       "      <td>0.860</td>\n",
       "      <td>0.122</td>\n",
       "    </tr>\n",
       "  </tbody>\n",
       "</table>\n",
       "</div>"
      ],
      "text/plain": [
       "                         MSA  S.E. for MSA\n",
       "Cross-Validated Lasso  1.303         0.195\n",
       "Cross-Validated Ridge  3.437         0.488\n",
       "Cross-Validated elnet  1.510         0.229\n",
       "Lasso                  0.863         0.123\n",
       "Post-Lasso             1.354         0.186\n",
       "Lava                   0.860         0.122"
      ]
     },
     "execution_count": 53,
     "metadata": {},
     "output_type": "execute_result"
    }
   ],
   "source": [
    "table2 = np.zeros( (6, 2) )\n",
    "\n",
    "table2[0, 0:] = MSE_lasso_cv.iloc[0, 0:2].to_list()\n",
    "table2[1, 0:] = MSE_ridge.iloc[0, 0:2].to_list()\n",
    "table2[2, 0:] = MSE_elnet.iloc[0, 0:2].to_list()\n",
    "table2[3, 0:] = MSE_lasso.iloc[0, 0:2].to_list()\n",
    "table2[4, 0:] = MSE_lasso_post.iloc[0, 0:2].to_list()\n",
    "table2[5, 0:] = MSE_lava.iloc[0, 0:2].to_list()\n",
    "\n",
    "\n",
    "\n",
    "table2_pandas = pd.DataFrame( table2, columns = [ \"MSA\",\"S.E. for MSA\" ])\n",
    "table2_pandas.index = [ \"Cross-Validated Lasso\",\\\n",
    "                       \"Cross-Validated Ridge\", \"Cross-Validated elnet\",\\\n",
    "                       \"Lasso\", \"Post-Lasso\", \"Lava\" ]\n",
    "table2_pandas = table2_pandas.round(3)\n",
    "table2_html = table2_pandas.to_html()\n",
    "table2_pandas"
   ]
  },
  {
   "cell_type": "code",
   "execution_count": 54,
   "metadata": {},
   "outputs": [
    {
     "data": {
      "image/png": "[encoded data removed]",
      "text/plain": [
       "<Figure size 432x288 with 1 Axes>"
      ]
     },
     "metadata": {
      "filenames": {
       "image/png": "C:\\Users\\User\\Documents\\GitHub\\14.388_py\\_build\\jupyter_execute\\Python_notebooks\\07_py-notebook-linear-penalized-regs_32_0.png"
      },
      "needs_background": "light"
     },
     "output_type": "display_data"
    }
   ],
   "source": [
    "fig = plt.figure()\n",
    "ax1 = fig.add_subplot(111)\n",
    "ax1.scatter( gX, gX , marker = '.', c = 'black' )\n",
    "ax1.scatter( gX, yhat_rlasso , marker = 'D' , c = 'red' , label = 'rLasso' )\n",
    "ax1.scatter( gX, yhat_rlasso_post , marker = '^' , c = 'green' , label = 'Post-rLasso')\n",
    "ax1.scatter( gX, yhat_lasso_cv , marker = 'o' , c = 'blue' , label = 'CV Lasso')\n",
    "plt.legend(loc='lower right')\n",
    "plt.show()"
   ]
  },
  {
   "cell_type": "code",
   "execution_count": null,
   "metadata": {},
   "outputs": [],
   "source": []
  }
 ],
 "metadata": {
  "hide_input": false,
  "kernelspec": {
   "display_name": "Python 3 (ipykernel)",
   "language": "python",
   "name": "python3"
  },
  "language_info": {
   "codemirror_mode": {
    "name": "ipython",
    "version": 3
   },
   "file_extension": ".py",
   "mimetype": "text/x-python",
   "name": "python",
   "nbconvert_exporter": "python",
   "pygments_lexer": "ipython3",
   "version": "3.9.12"
  }
 },
 "nbformat": 4,
 "nbformat_minor": 4
}