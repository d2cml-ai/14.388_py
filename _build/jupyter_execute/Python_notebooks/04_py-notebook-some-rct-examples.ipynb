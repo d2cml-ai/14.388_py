{
 "cells": [
  {
   "cell_type": "markdown",
   "metadata": {
    "papermill": {
     "duration": 0.007509,
     "end_time": "2021-06-14T13:35:38.737719",
     "exception": false,
     "start_time": "2021-06-14T13:35:38.730210",
     "status": "completed"
    },
    "tags": []
   },
   "source": [
    "# Some RCT Examples"
   ]
  },
  {
   "cell_type": "markdown",
   "metadata": {
    "papermill": {
     "duration": 0.005954,
     "end_time": "2021-06-14T13:35:38.750241",
     "exception": false,
     "start_time": "2021-06-14T13:35:38.744287",
     "status": "completed"
    },
    "tags": []
   },
   "source": [
    "  \n",
    "## Polio RCT\n",
    "\n",
    "One of the earliest randomized experiments were the Polio vaccination trias conducted by the Public Health Service in 1954.  The question was whether Salk vaccine prevented polio.  Children in the study were randomly assigned either a treatment (polio vaccine shot) or a placebo (saline solution shot), without knowing which one they received. The doctors in the study, making the diagnosis, did not know whether a child received a vaccine or not. In other words, the trial was a double-blind, randomized control trial.  The trial had to be large, because the rate at which Polio occured in the population was 50 per 100,000.  The treatment group saw 33 polio cases per 200,745; the control group saw 115 cases per 201,229. The estimated avearage treatment effect is about\n",
    "$$\n",
    "-40\n",
    "$$\n",
    "with the 95% confidence band (based on approximate normality of the two sample means and their differences):\n",
    "$$[-52, -28].$$\n",
    "As this is an RCT, the confidence band suggests that the Polio vaccine **caused** the reduction in the risk of polio.\n",
    "\n",
    "The interesting thing here is that we don't need the underlying individual data to evaluate the effectivess of the vaccine. This is because the outcomes are Bernoulli random variables, and we have enough information to compute the estimate of ATE as well as the confidence intervals from the group case counts.\n",
    "\n",
    "We also compute the Vaccine Efficacy metric, which refers to the following measure according to the [CDC](https://www.cdc.gov/csels/dsepd/ss1978/lesson3/section6.html):\n",
    "$$\n",
    "VE = \\frac{\\text{Risk for Unvaccinated - Risk for Vaccinated}}{\\text{Risk for Unvaccinated}}.\n",
    "$$\n",
    "It describes the relative reduction in risk caused by vaccination.\n",
    "\n",
    "\n",
    "It is staighforward to get the VE estimate by just plugging-in the numbers, but how do we get the approximate variance estimate? I am too lazy to do calculations for the delta method, so I will just use a simulation (a form of approximate bootstrap) to obtain the confidence intervals.\n",
    "\n"
   ]
  },
  {
   "cell_type": "code",
   "execution_count": 1,
   "metadata": {
    "_cell_guid": "b1076dfc-b9ad-4769-8c92-a6c4dae69d19",
    "_uuid": "8f2839f25d086af736a60e9eeb907d3b93b6e0e5",
    "execution": {
     "iopub.execute_input": "2021-06-14T13:35:38.790362Z",
     "iopub.status.busy": "2021-06-14T13:35:38.789571Z",
     "iopub.status.idle": "2021-06-14T13:35:40.645852Z",
     "shell.execute_reply": "2021-06-14T13:35:40.645165Z"
    },
    "papermill": {
     "duration": 1.887824,
     "end_time": "2021-06-14T13:35:40.645968",
     "exception": false,
     "start_time": "2021-06-14T13:35:38.758144",
     "status": "completed"
    },
    "tags": []
   },
   "outputs": [
    {
     "name": "stdout",
     "output_type": "stream",
     "text": [
      "Incidence per 100000 among treated:16.438765598146905\n",
      "Incidence per 100000 among controlled:57.14882049803955\n",
      "Estimate TE of occurances per 100,000 -40.71005489989265\n",
      "Standard deviation for ATE6.047412320702958\n",
      "95 % confidence interval is [-52.56298304847044,-28.85712675131485]\n",
      "Overall VE is 0.7123516206478694\n",
      "95 % confidence interval is [0.5891709070669607 , 0.8147644003639567 ]\n"
     ]
    },
    {
     "data": {
      "text/plain": [
       "<matplotlib.collections.PolyCollection at 0x26cbf1d4790>"
      ]
     },
     "execution_count": 1,
     "metadata": {},
     "output_type": "execute_result"
    },
    {
     "data": {
      "image/png": "[encoded data removed]",
      "text/plain": [
       "<Figure size 432x288 with 1 Axes>"
      ]
     },
     "metadata": {
      "filenames": {
       "image/png": "C:\\Users\\User\\Documents\\GitHub\\14.388_py\\_build\\jupyter_execute\\Python_notebooks\\04_py-notebook-some-rct-examples_2_2.png"
      },
      "needs_background": "light"
     },
     "output_type": "display_data"
    }
   ],
   "source": [
    "import numpy as np # linear algebra\n",
    "import pandas as pd # data processing, CSV file I/O (e.g. pd.read_csv)\n",
    "\n",
    "\n",
    "NT = 200745 #number of treated\n",
    "\n",
    "NC = 201229 #number of controlled\n",
    "\n",
    "YT = 33/NT  #average outcome for treated\n",
    "\n",
    "YC =115/NC  #average outcome for controlled\n",
    "\n",
    "#incidence per 100000 \n",
    "\n",
    "print(\"Incidence per 100000 among treated:\" + str(YT*100000))\n",
    "\n",
    "print( \"Incidence per 100000 among controlled:\"+ str(YC*100000))\n",
    "\n",
    "\n",
    "# treatment effect estimate reduction in incidence  per 100000 people\n",
    "\n",
    "delta_hat = 100000*(YT-YC)\n",
    "\n",
    "print(\"Estimate TE of occurances per 100,000 \" + str(100000*(YT-YC)))\n",
    "\n",
    "Var_delta_hat =  (100000**2)*(YT*(1-YT)/NT +  YC*(1-YC)/NC)\n",
    "\n",
    "# standard deviation\n",
    "\n",
    "print(\"Standard deviation for ATE\"+ str(Var_delta_hat**.5))\n",
    "\n",
    "# here we are using the fact that outcomes are Bernoulli \n",
    "\n",
    "CI_delta = [delta_hat -1.96*Var_delta_hat**.5, delta_hat +1.96*Var_delta_hat**.5]\n",
    "\n",
    "print(\"95 % confidence interval is [\" + str(CI_delta[0]) + \",\"+ \n",
    "            str(CI_delta[1]) + \"]\"   )\n",
    "# Here we calculate the overall effectiveness of the vaccine and construct confidence intervals for it\n",
    "\n",
    "NV =  200745;\n",
    "NU =  201229;\n",
    "RV = 33/NV;\n",
    "RU = 115/NU;\n",
    "VE = (RU - RV)/RU;\n",
    "print(\"Overall VE is \"+ str(VE) )\n",
    "\n",
    "# this recovers the number in the table.\n",
    "\n",
    "# we set up a simulation example.\n",
    "\n",
    "# calulate variance of risk estimates:\n",
    "\n",
    "Var_RV = RV*(1-RV)/NV\n",
    "Var_RU = RU*(1-RU)/NU\n",
    "\n",
    "\n",
    "\n",
    "# set-up MC draws:\n",
    "\n",
    "B = 10000\n",
    "RVs = RV  + np.random.normal(0, 1, B)*(Var_RV)**.5\n",
    "RUs = RU  + np.random.normal(0, 1, B)*(Var_RU)**.5\n",
    "VEs= (RUs - RVs)/RUs\n",
    "\n",
    "\n",
    "CI_VE_L = np.quantile(VEs, .025)\n",
    "CI_VE_U = np.quantile(VEs, .975)\n",
    "\n",
    "print(\"95 % confidence interval is [\" + str(CI_VE_L), \",\", \n",
    "            str(CI_VE_U), \"]\"   )\n",
    "\n",
    "\n",
    "from sklearn.neighbors import KernelDensity\n",
    "import matplotlib\n",
    "import matplotlib.pyplot as plt\n",
    "from scipy.stats import norm\n",
    "from sklearn.neighbors import KernelDensity\n",
    "from sklearn.utils.fixes import parse_version\n",
    "\n",
    "\n",
    "# instantiate and fit the KDE model\n",
    "X= VEs[:, np.newaxis]\n",
    "X_plot = np.linspace(0, 1, 1000)[:, np.newaxis]\n",
    "kde = KernelDensity(kernel='gaussian', bandwidth=0.02).fit(X)\n",
    "log_dens = kde.score_samples(X_plot)\n",
    "plt.fill_between(X_plot[:, 0], np.exp(log_dens))\n",
    "\n"
   ]
  },
  {
   "cell_type": "markdown",
   "metadata": {
    "_cell_guid": "79c7e3d0-c299-4dcb-8224-4455121ee9b0",
    "_uuid": "d629ff2d2480ee46fbb7e2d37f6b5fab8052498a",
    "papermill": {
     "duration": 0.007367,
     "end_time": "2021-06-14T13:35:40.661491",
     "exception": false,
     "start_time": "2021-06-14T13:35:40.654124",
     "status": "completed"
    },
    "tags": []
   },
   "source": [
    "## Pfizer/BNTX Covid-19 RCT\n",
    "\n",
    "Here is a link to the FDA [briefing](https://www.fda.gov/media/144245/download) and an interesting [discussion](\n",
    "https://garycornell.com/2020/12/09/statistics-in-the-pfizer-data-how-good-is-the-vaccine/?fbclid=IwAR282lS0Vl3tWmicQDDhIJAQCMO8NIsCXyWbUWwTtPuKcnuJ2v0VWXRDQac), as well as data.\n",
    "\n",
    "Pfizer/BNTX was the first vaccine approved for emergency use to reduce the risk of Covid-19 decease. In studies to assess vaccine efficacy, volunteers were randomly assigned to receive either a treatment (2-dose vaccination) or a placebo, without knowing which they recieved. The doctors making the diagnoses did not know now whether a given volunteer received a vaccination or not. The results of the study are given in the following table ![](https://lh6.googleusercontent.com/oiO6gYom1UZyrOhgpFx2iq8ike979u3805JHiVygP-Efh1Yaz2ttyPcgWKlT1AqHDM4v46th3EPIkOvRLyXA0fNUloPL-mL9eOFmSAzfbNOHyCZSQ0DyzMhcFUtQuZ520R5Qd2lj):\n",
    "\n",
    "Here we see both the overall effects and the effects by age group. The confidence intervals for the averal ATE are tight and suggest high effectiveness of the vaccine. The confidence intervals for the age group 65-75 are much wider.  We could group 65-75 and >75 groups to evaluate the effectiveness of the vaccine and also narrow down the width of the confidence band. \n",
    "\n",
    "In this case, the reported results are for vaccine effectiveness. We use the same approach as above.\n",
    "\n"
   ]
  },
  {
   "cell_type": "markdown",
   "metadata": {
    "papermill": {
     "duration": 0.007235,
     "end_time": "2021-06-14T13:35:40.676353",
     "exception": false,
     "start_time": "2021-06-14T13:35:40.669118",
     "status": "completed"
    },
    "tags": []
   },
   "source": [
    "In the code cell below  we calculate the overall effectiveness of the vaccie and construct confidence intervals for it."
   ]
  },
  {
   "cell_type": "code",
   "execution_count": 2,
   "metadata": {
    "execution": {
     "iopub.execute_input": "2021-06-14T13:35:40.706642Z",
     "iopub.status.busy": "2021-06-14T13:35:40.705558Z",
     "iopub.status.idle": "2021-06-14T13:35:41.241546Z",
     "shell.execute_reply": "2021-06-14T13:35:41.240673Z"
    },
    "papermill": {
     "duration": 0.557731,
     "end_time": "2021-06-14T13:35:41.241682",
     "exception": false,
     "start_time": "2021-06-14T13:35:40.683951",
     "status": "completed"
    },
    "tags": []
   },
   "outputs": [
    {
     "name": "stdout",
     "output_type": "stream",
     "text": [
      "Overall VE is 0.9461934124362605\n",
      "95 % confidence interval is [0.9074435832732113 , 0.9825370644211036 ]\n"
     ]
    },
    {
     "data": {
      "text/plain": [
       "<matplotlib.collections.PolyCollection at 0x26cbf2df670>"
      ]
     },
     "execution_count": 2,
     "metadata": {},
     "output_type": "execute_result"
    },
    {
     "data": {
      "image/png": "[encoded data removed]",
      "text/plain": [
       "<Figure size 432x288 with 1 Axes>"
      ]
     },
     "metadata": {
      "filenames": {
       "image/png": "C:\\Users\\User\\Documents\\GitHub\\14.388_py\\_build\\jupyter_execute\\Python_notebooks\\04_py-notebook-some-rct-examples_5_2.png"
      },
      "needs_background": "light"
     },
     "output_type": "display_data"
    }
   ],
   "source": [
    "\n",
    "NV =  19965;\n",
    "NU =  20172;\n",
    "RV = 9/NV;\n",
    "RU = 169/NU;\n",
    "VE = (RU - RV)/RU;\n",
    "\n",
    "print(\"Overall VE is \"+ str(VE))\n",
    "\n",
    "# this recovers the number in the table.\n",
    "\n",
    "# we set up a simulation example.\n",
    "\n",
    "# calulate variance of risk estimates:\n",
    "\n",
    "\n",
    "Var_RV = RV*(1-RV)/NV\n",
    "Var_RU = RU*(1-RU)/NU\n",
    "\n",
    "# set-up MC draws:\n",
    "\n",
    "B = 10000\n",
    "RVs = RV  + np.random.normal(0, 1, B)*(Var_RV)**.5\n",
    "RUs = RU  + np.random.normal(0, 1, B)*(Var_RU)**.5\n",
    "VEs= (RUs - RVs)/RUs\n",
    "\n",
    "\n",
    "CI_VE_L = np.quantile(VEs, .025)\n",
    "CI_VE_U = np.quantile(VEs, .975)\n",
    "\n",
    "print(\"95 % confidence interval is [\" + str(CI_VE_L), \",\", \n",
    "            str(CI_VE_U), \"]\"   )\n",
    "\n",
    "\n",
    "from sklearn.neighbors import KernelDensity\n",
    "import matplotlib\n",
    "import matplotlib.pyplot as plt\n",
    "from scipy.stats import norm\n",
    "from sklearn.neighbors import KernelDensity\n",
    "from sklearn.utils.fixes import parse_version\n",
    "\n",
    "\n",
    "# instantiate and fit the KDE model\n",
    "X= VEs[:, np.newaxis]\n",
    "X_plot = np.linspace(0, 1, 1000)[:, np.newaxis]\n",
    "kde = KernelDensity(kernel='gaussian', bandwidth=0.02).fit(X)\n",
    "log_dens = kde.score_samples(X_plot)\n",
    "plt.fill_between(X_plot[:, 0], np.exp(log_dens))\n",
    "\n",
    "\n"
   ]
  },
  {
   "cell_type": "markdown",
   "metadata": {
    "papermill": {
     "duration": 0.009005,
     "end_time": "2021-06-14T13:35:41.260188",
     "exception": false,
     "start_time": "2021-06-14T13:35:41.251183",
     "status": "completed"
    },
    "tags": []
   },
   "source": [
    "In the code cell below  we calculate the effectiveness of the vaccine for the two groups that are 65 or older"
   ]
  },
  {
   "cell_type": "code",
   "execution_count": 3,
   "metadata": {
    "execution": {
     "iopub.execute_input": "2021-06-14T13:35:41.294763Z",
     "iopub.status.busy": "2021-06-14T13:35:41.292877Z",
     "iopub.status.idle": "2021-06-14T13:35:41.749235Z",
     "shell.execute_reply": "2021-06-14T13:35:41.748687Z"
    },
    "papermill": {
     "duration": 0.479906,
     "end_time": "2021-06-14T13:35:41.749377",
     "exception": false,
     "start_time": "2021-06-14T13:35:41.269471",
     "status": "completed"
    },
    "tags": []
   },
   "outputs": [
    {
     "name": "stdout",
     "output_type": "stream",
     "text": [
      "Overall VE is 0.9470690822010516\n",
      "95 % confidence interval is [0.8170318329099402 , 1.0531156141554732 ]\n",
      "95 % confidence interval is [0.8438051618676976 , 1 ]\n"
     ]
    },
    {
     "data": {
      "text/plain": [
       "<matplotlib.collections.PolyCollection at 0x26cbf34afa0>"
      ]
     },
     "execution_count": 3,
     "metadata": {},
     "output_type": "execute_result"
    },
    {
     "data": {
      "image/png": "[encoded data removed]",
      "text/plain": [
       "<Figure size 432x288 with 1 Axes>"
      ]
     },
     "metadata": {
      "filenames": {
       "image/png": "C:\\Users\\User\\Documents\\GitHub\\14.388_py\\_build\\jupyter_execute\\Python_notebooks\\04_py-notebook-some-rct-examples_7_2.png"
      },
      "needs_background": "light"
     },
     "output_type": "display_data"
    }
   ],
   "source": [
    "# Here we calculate the overall effectiveness of the vaccine for the two groups that are 65 or older\n",
    "\n",
    "NV =  3239+805;\n",
    "NU =  3255+812;\n",
    "RV = 1/NV;\n",
    "RU = (14+5)/NU;\n",
    "VE = (RU - RV)/RU;\n",
    "\n",
    "print(\"Overall VE is \"+ str(VE))\n",
    "\n",
    "# this recovers the number in the table.\n",
    "\n",
    "# we set up a simulation example.\n",
    "\n",
    "# calulate variance of risk estimates:\n",
    "\n",
    "\n",
    "Var_RV = RV*(1-RV)/NV\n",
    "Var_RU = RU*(1-RU)/NU\n",
    "\n",
    "# set-up MC draws:\n",
    "\n",
    "B = 10000\n",
    "RVs = RV  + np.random.normal(0, 1, B)*(Var_RV)**.5\n",
    "RUs = RU  + np.random.normal(0, 1, B)*(Var_RU)**.5\n",
    "VEs= (RUs - RVs)/RUs\n",
    "\n",
    "\n",
    "CI_VE_L = np.quantile(VEs, .025)\n",
    "CI_VE_U = np.quantile(VEs, .975)\n",
    "\n",
    "print(\"95 % confidence interval is [\" + str(CI_VE_L), \",\", \n",
    "            str(CI_VE_U), \"]\"   )\n",
    "\n",
    "\n",
    "CI_VE_L = np.quantile(VEs, .05)\n",
    "\n",
    "\n",
    "print(\"95 % confidence interval is [\" + str(CI_VE_L), \",\", \n",
    "            str(1), \"]\"   )\n",
    "\n",
    "\n",
    "from sklearn.neighbors import KernelDensity\n",
    "import matplotlib\n",
    "import matplotlib.pyplot as plt\n",
    "from scipy.stats import norm\n",
    "from sklearn.neighbors import KernelDensity\n",
    "from sklearn.utils.fixes import parse_version\n",
    "\n",
    "\n",
    "# instantiate and fit the KDE model\n",
    "X= VEs[:, np.newaxis]\n",
    "X_plot = np.linspace(0, 1, 1000)[:, np.newaxis]\n",
    "kde = KernelDensity(kernel='gaussian', bandwidth=0.02).fit(X)\n",
    "log_dens = kde.score_samples(X_plot)\n",
    "plt.fill_between(X_plot[:, 0], np.exp(log_dens))\n",
    "\n",
    "\n"
   ]
  },
  {
   "cell_type": "code",
   "execution_count": 4,
   "metadata": {
    "execution": {
     "iopub.execute_input": "2021-06-14T13:35:41.786257Z",
     "iopub.status.busy": "2021-06-14T13:35:41.785598Z",
     "iopub.status.idle": "2021-06-14T13:35:42.286991Z",
     "shell.execute_reply": "2021-06-14T13:35:42.286280Z"
    },
    "papermill": {
     "duration": 0.526847,
     "end_time": "2021-06-14T13:35:42.287117",
     "exception": false,
     "start_time": "2021-06-14T13:35:41.760270",
     "status": "completed"
    },
    "tags": []
   },
   "outputs": [
    {
     "name": "stdout",
     "output_type": "stream",
     "text": [
      "Overall VE is 0.9470690822010516\n",
      "95 % confidence interval is [0.7916118421052631 , 1.0 ]\n",
      "95 % confidence interval is [0.8260869565217391 , 1 ]\n"
     ]
    },
    {
     "data": {
      "text/plain": [
       "<matplotlib.collections.PolyCollection at 0x26cbf3ba700>"
      ]
     },
     "execution_count": 4,
     "metadata": {},
     "output_type": "execute_result"
    },
    {
     "data": {
      "image/png": "[encoded data removed]",
      "text/plain": [
       "<Figure size 432x288 with 1 Axes>"
      ]
     },
     "metadata": {
      "filenames": {
       "image/png": "C:\\Users\\User\\Documents\\GitHub\\14.388_py\\_build\\jupyter_execute\\Python_notebooks\\04_py-notebook-some-rct-examples_8_2.png"
      },
      "needs_background": "light"
     },
     "output_type": "display_data"
    }
   ],
   "source": [
    "\n",
    "NV =  3239+805;\n",
    "NU =  3255+812;\n",
    "RV = 1/NV;\n",
    "RU = (14+5)/NU;\n",
    "VE = (RU - RV)/RU;\n",
    "\n",
    "print(\"Overall VE is \"+ str(VE))\n",
    "\n",
    "B = 10000 #number of simulation draw\n",
    "\n",
    "#numpy.random.binomial(n, p, size=None)\n",
    "\n",
    "RVs = np.random.binomial(NV, RV, B) \n",
    "RUs = np.random.binomial(NU, RU, B)  \n",
    "VEs= (RUs - RVs)/RUs\n",
    "\n",
    "\n",
    "CI_VE_L = np.quantile(VEs, .025)\n",
    "CI_VE_U = np.quantile(VEs, .975)\n",
    "\n",
    "print(\"95 % confidence interval is [\" + str(CI_VE_L), \",\", \n",
    "            str(CI_VE_U), \"]\"   )\n",
    "\n",
    "\n",
    "CI_VE_L = np.quantile(VEs, .05)\n",
    "\n",
    "\n",
    "print(\"95 % confidence interval is [\" + str(CI_VE_L), \",\", \n",
    "            str(1), \"]\"   )\n",
    "\n",
    "\n",
    "from sklearn.neighbors import KernelDensity\n",
    "import matplotlib\n",
    "import matplotlib.pyplot as plt\n",
    "from scipy.stats import norm\n",
    "from sklearn.neighbors import KernelDensity\n",
    "from sklearn.utils.fixes import parse_version\n",
    "\n",
    "\n",
    "# instantiate and fit the KDE model\n",
    "X= VEs[:, np.newaxis]\n",
    "X_plot = np.linspace(0, 1.1, 1000)[:, np.newaxis]\n",
    "kde = KernelDensity(kernel='gaussian', bandwidth=0.02).fit(X)\n",
    "log_dens = kde.score_samples(X_plot)\n",
    "plt.fill_between(X_plot[:, 0], np.exp(log_dens)) "
   ]
  },
  {
   "cell_type": "markdown",
   "metadata": {},
   "source": [
    "## Exact Binomial Test Inversion\n",
    "\n",
    "It is possible to use exact inference by inverting tests based on the exact binomial nature of the outcome variable. Here, we perform the Cornfield Procedure to find the exact confidence interval on the estimate of vaccine efficacy. "
   ]
  },
  {
   "cell_type": "code",
   "execution_count": 5,
   "metadata": {},
   "outputs": [
    {
     "name": "stdout",
     "output_type": "stream",
     "text": [
      "\n",
      "Overall VE is 0.9461934124362605\n",
      "\n"
     ]
    }
   ],
   "source": [
    "def CI_journal(NV, RV_infected, NU, RU_infected):\n",
    "    # from https://www.medrxiv.org/content/10.1101/2020.12.16.20248359v1.full.pdf\n",
    "    RV = RV_infected/NV;\n",
    "    RU = RU_infected/NU;\n",
    "    RR = RV/RU;\n",
    "    print(\"Overall Risk Ratio is \"+ str(RR))\n",
    "\n",
    "    # this recovers the number in the table.\n",
    "\n",
    "    # we set up a simulation example.\n",
    "\n",
    "    # calulate variance of risk estimates:\n",
    "    stat = 1.96*(1/RV_infected + 1/RU_infected)**.5\n",
    "    print(\"95 % confidence interval is [\" + str(1-RR*np.exp(stat)), \",\", \n",
    "                str(1-RR*np.exp(-stat)), \"]\"   )\n",
    "\n",
    "# Exact CI exploiting Bernoulli outcome using the Cornfield Procedure\n",
    "\n",
    "NV =  19965\n",
    "NU =  20172\n",
    "RV = 9/NV\n",
    "RU = 169/NU\n",
    "VE = (RU - RV)/RU\n",
    "print(f\"\"\"\n",
    "Overall VE is {VE}\n",
    "\"\"\")\n"
   ]
  },
  {
   "cell_type": "markdown",
   "metadata": {},
   "source": [
    "Note that this exactly recovers the result in the FDA table (first row).\n",
    "\n",
    "Next we repeat the cornfield procedure to find the exact confidence interval on vaccine effectiveness for the two groups that are 65 or older. Here we see a big discrepancy between various asymptotic approaches and the exact finite-sample inference. This occurs because the binomial counts are too low for central limit theorems to work successfully."
   ]
  },
  {
   "cell_type": "code",
   "execution_count": 6,
   "metadata": {},
   "outputs": [
    {
     "name": "stdout",
     "output_type": "stream",
     "text": [
      "\n",
      "Overall VE is 0.9470690822010516\n",
      "\n"
     ]
    }
   ],
   "source": [
    "# Exact CI exploiting Bernoulli outcome for the two groups that are 65 or older\n",
    "NV =  3239+805\n",
    "NU =  3255+812\n",
    "RV = 1/NV\n",
    "RU = (14+5)/NU\n",
    "VE = (RU - RV)/RU\n",
    "\n",
    "print(f\"\"\"\n",
    "Overall VE is {VE}\n",
    "\"\"\")\n"
   ]
  }
 ],
 "metadata": {
  "kernelspec": {
   "display_name": "Python 3 (ipykernel)",
   "language": "python",
   "name": "python3"
  },
  "language_info": {
   "codemirror_mode": {
    "name": "ipython",
    "version": 3
   },
   "file_extension": ".py",
   "mimetype": "text/x-python",
   "name": "python",
   "nbconvert_exporter": "python",
   "pygments_lexer": "ipython3",
   "version": "3.9.12"
  },
  "papermill": {
   "duration": 8.551017,
   "end_time": "2021-06-14T13:35:42.406911",
   "environment_variables": {},
   "exception": null,
   "input_path": "__notebook__.ipynb",
   "output_path": "__notebook__.ipynb",
   "parameters": {},
   "start_time": "2021-06-14T13:35:33.855894",
   "version": "2.1.0"
  }
 },
 "nbformat": 4,
 "nbformat_minor": 4
}