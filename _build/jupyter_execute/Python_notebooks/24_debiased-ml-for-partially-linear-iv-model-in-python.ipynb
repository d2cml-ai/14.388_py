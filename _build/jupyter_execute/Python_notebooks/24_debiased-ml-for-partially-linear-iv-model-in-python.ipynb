{
 "cells": [
  {
   "cell_type": "markdown",
   "metadata": {},
   "source": [
    "# Debiased ML for Partially Linear IV Model in Python"
   ]
  },
  {
   "cell_type": "markdown",
   "metadata": {
    "papermill": {
     "duration": 0.008106,
     "end_time": "2021-04-23T10:41:33.911944",
     "exception": false,
     "start_time": "2021-04-23T10:41:33.903838",
     "status": "completed"
    },
    "tags": []
   },
   "source": [
    "## Double/Debiased ML for Partially Linear IV Model\n",
    "\n",
    "References: \n",
    "\n",
    "https://arxiv.org/abs/1608.00060\n",
    "\n",
    "\n",
    "https://www.amazon.com/Business-Data-Science-Combining-Accelerate/dp/1260452778\n",
    "\n",
    "The code is based on the book.\n"
   ]
  },
  {
   "cell_type": "markdown",
   "metadata": {
    "papermill": {
     "duration": 0.006963,
     "end_time": "2021-04-23T10:41:33.926085",
     "exception": false,
     "start_time": "2021-04-23T10:41:33.919122",
     "status": "completed"
    },
    "tags": []
   },
   "source": [
    "\n",
    "## Partially Linear IV Model\n",
    "\n",
    "We consider the partially linear structural equation model:\n",
    "\n",
    "$$\n",
    "\\begin{align}\\tag{1}\n",
    " &  Y - D\\theta_0 = g_0(X) + \\zeta,  & E[\\zeta \\mid Z,X]= 0,\\\\\n",
    "\\end{align}\n",
    "$$\n",
    "\n",
    "$$\n",
    "\\begin{align}\\tag{2}\n",
    "& Z = m_0(X) +  V,   &  E[V \\mid X] = 0. \n",
    "\\end{align}\n",
    "$$\n",
    "\n",
    "Note that this model is not a regression model unless $Z=D$.  The model  is a canonical\n",
    "model in causal inference, going back to P. Wright's work on IV methods for estimaing demand/supply equations, with the modern difference being that $g_0$ and $m_0$ are nonlinear, potentially complicated functions of high-dimensional $X$.  \n",
    "\n",
    "\n",
    "The idea of this model is that there is a structural or causal relation between $Y$ and $D$, captured by $\\theta_0$, and $g_0(X) + \\zeta$ is the stochastic error, partly explained by covariates $X$.  $V$ and $\\zeta$ are stochastic errors that are not explained by $X$. Since $Y$ and $D$ are jointly determined, we need an external factor, commonly referred to as an instrument, $Z$ to create exogenous variation\n",
    "in $D$.   Note that $Z$ should affect $D$.  The $X$ here serve again as confounding factors, so we can think of variation in $Z$ as being exogenous only conditional on $X$. \n",
    "\n",
    "\n",
    "The causal DAG this model corresponds to is given by:\n",
    "\n",
    "$$\n",
    "\\begin{align}\n",
    "Z \\to D,  X \\to (Y, Z, D),  L \\to (Y,D),\n",
    "\\end{align}\n",
    "$$\n",
    "\n",
    "where $L$ is the latent confounder affecting both $Y$ and $D$, but not $Z$.\n",
    "\n",
    "\n",
    "\n",
    "---\n",
    "\n",
    "**Example**\n",
    "\n",
    "A simple contextual example is from biostatistics, where $Y$ is a health outcome and $D$ is indicator of smoking.  Thus, $\\theta_0$ is captures the effect of smoking on health.  Health outcome $Y$ and smoking behavior $D$ are treated as being jointly determined.  $X$ represents patient characteristics, and $Z$ could be a doctor's advice not to smoke (or another behavioral treatment) that may affect the outcome $Y$ only through shifting the behavior $D$, conditional on characteristics $X$.   \n",
    "\n",
    "----\n",
    "\n",
    "\n",
    "\n",
    "**PLIVM in Residualized Form**\n",
    "\n",
    "The PLIV model above can be rewritten in the following residualized form:\n",
    "\n",
    "$$\n",
    "\\begin{align}\n",
    "  \\tilde Y = \\tilde D \\theta_0 + \\zeta,   \\quad  E[\\zeta \\mid V,X]= 0,\n",
    "\\end{align}\n",
    "$$\n",
    "\n",
    "where\n",
    "\n",
    "$$\n",
    "\\begin{align}\n",
    " \\tilde Y = (Y- \\ell_0(X)),  \\quad \\ell_0(X) = E[Y \\mid X] \\\\\n",
    "   \\tilde D = (D - r_0(X)), \\quad r_0(X) = E[D \\mid X] \\\\\n",
    "   \\tilde Z = (Z- m_0(X)), \\quad m_0(X) = E[Z \\mid X].\n",
    "\\end{align}\n",
    "$$\n",
    "\n",
    "   The tilded variables above represent original variables after taking out or \"partialling out\"\n",
    "  the effect of $X$.  Note that $\\theta_0$ is identified from this equation if $V$ \n",
    "  and $U$ have non-zero correlation, which automatically means that $U$ and $V$\n",
    "  must have non-zero variation.\n",
    "\n",
    "  \n",
    "\n",
    "-----\n",
    "\n",
    "**DML for PLIV Model**\n",
    "\n",
    "Given identification, DML  proceeds as follows\n",
    "\n",
    "Compute the estimates $\\hat \\ell_0$, $\\hat r_0$, and $\\hat m_0$ , which amounts\n",
    "to solving the three problems of predicting $Y$, $D$, and $Z$ using\n",
    "$X$, using any generic  ML method, giving us estimated residuals \n",
    "\n",
    "$$\n",
    "\\begin{align}\n",
    "\\tilde Y = Y - \\hat \\ell_0(X), \\\\ \\tilde D= D - \\hat r_0(X), \\\\ \\tilde Z = Z- \\hat m_0(X).\n",
    "\\end{align} \n",
    "$$\n",
    "\n",
    "The estimates should be of a cross-validated form, as detailed in the algorithm below. \n",
    "\n",
    "Estimate $\\theta_0$ by the the intstrumental\n",
    "variable regression of $\\tilde Y$ on $\\tilde D$ using $\\tilde Z$ as an instrument.\n",
    "Use the conventional inference for the IV regression estimator, ignoring\n",
    "the estimation error in these residuals. \n",
    "\n",
    "The reason we work with this residualized form is that it eliminates the bias\n",
    "arising when solving the prediction problem in stage 1. The role of cross-validation\n",
    "is to avoid another source of bias due to potential overfitting.\n",
    "\n",
    "The estimator is adaptive,\n",
    "in the sense that the first stage estimation errors do not affect the second \n",
    "stage errors.\n"
   ]
  },
  {
   "cell_type": "code",
   "execution_count": 1,
   "metadata": {
    "_kg_hide-output": true,
    "papermill": {
     "duration": 34.670095,
     "end_time": "2021-04-23T10:42:08.603197",
     "exception": false,
     "start_time": "2021-04-23T10:41:33.933102",
     "status": "completed"
    },
    "tags": []
   },
   "outputs": [],
   "source": [
    "# Import packages\n",
    "import pandas as pd\n",
    "import numpy as np\n",
    "import pyreadr\n",
    "from sklearn import preprocessing\n",
    "import patsy\n",
    "\n",
    "from numpy import loadtxt\n",
    "from keras.models import Sequential\n",
    "from keras.layers import Dense\n",
    "\n",
    "import hdmpy\n",
    "import numpy as np\n",
    "import random\n",
    "import statsmodels.api as sm\n",
    "import matplotlib.pyplot as plt\n",
    "import numpy as np\n",
    "from matplotlib import colors\n",
    "from sklearn.tree import DecisionTreeRegressor\n",
    "from sklearn.ensemble import RandomForestRegressor\n",
    "from sklearn.ensemble import GradientBoostingRegressor\n",
    "from sklearn.linear_model import LassoCV\n",
    "from sklearn.preprocessing import StandardScaler\n",
    "from sklearn.linear_model import RidgeCV, ElasticNetCV\n",
    "from sklearn.linear_model import LinearRegression\n",
    "from sklearn import linear_model\n",
    "import itertools\n",
    "from pandas.api.types import is_string_dtype\n",
    "from pandas.api.types import is_numeric_dtype\n",
    "from pandas.api.types import is_categorical_dtype\n",
    "from itertools import compress\n",
    "import statsmodels.api as sm\n",
    "import statsmodels.formula.api as smf\n",
    "from sklearn.feature_selection import SelectFromModel\n",
    "from statsmodels.tools import add_constant\n",
    "from sklearn.linear_model import ElasticNet\n",
    "import hdmpy\n",
    "import pyreadr\n",
    "from scipy.stats import chi2\n",
    "from sklearn.model_selection import KFold\n",
    "import warnings\n",
    "warnings.filterwarnings('ignore')\n",
    "\n",
    "from linearmodels.iv import IV2SLS\n",
    "\n",
    "import numpy as np\n",
    "from statsmodels.api import add_constant\n",
    "from linearmodels.datasets import mroz"
   ]
  },
  {
   "cell_type": "code",
   "execution_count": 2,
   "metadata": {},
   "outputs": [],
   "source": [
    "rdata_read = pyreadr.read_r(\"../data/ajr.Rdata\")\n",
    "AJR = rdata_read[ 'AJR' ]"
   ]
  },
  {
   "cell_type": "code",
   "execution_count": 3,
   "metadata": {},
   "outputs": [],
   "source": [
    "def DML2_for_PLIVM(x, d, z , y, dreg, yreg, zreg, nfold = 2 ):\n",
    "    \n",
    "    kf = KFold(n_splits = nfold, shuffle=True) #Here we use kfold to generate kfolds\n",
    "    I = np.arange(0, len(d)) #To have a id vector from data\n",
    "    train_id, test_id =  [], [] #arrays to store kfold's ids\n",
    "\n",
    "    #generate and store kfold's id\n",
    "    for kfold_index in kf.split(I):\n",
    "        train_id.append(kfold_index[0])\n",
    "        test_id.append(kfold_index[1])\n",
    "    \n",
    "    # Create array to save errors \n",
    "    dtil = np.zeros( len(z) ).reshape( len(z) , 1 )\n",
    "    ytil = np.zeros( len(z) ).reshape( len(z) , 1 )\n",
    "    ztil = np.zeros( len(z) ).reshape( len(z) , 1 )\n",
    "    \n",
    "    total_modelos = []\n",
    "    \n",
    "    total_sample = 0\n",
    "    # loop to save results\n",
    "    for b in range(0,len(train_id)):\n",
    "\n",
    "        # Lasso regression, excluding folds selected \n",
    "        dfit = dreg(x[train_id[b],], d[train_id[b],])\n",
    "        zfit = zreg(x[train_id[b],], z[train_id[b],])\n",
    "        yfit = yreg(x[train_id[b],], y[train_id[b],])\n",
    "\n",
    "        # predict estimates using the \n",
    "        dhat = dfit.predict( x[test_id[b],] )\n",
    "        zhat = zfit.predict( x[test_id[b],] )\n",
    "        yhat = yfit.predict( x[test_id[b],] )\n",
    "        \n",
    "        # save errors  \n",
    "        dtil[test_id[b]] = d[test_id[b],] - dhat.reshape( -1 , 1 )\n",
    "        ztil[test_id[b]] = z[test_id[b],] - zhat.reshape( -1 , 1 )\n",
    "        ytil[test_id[b]] = y[test_id[b],] - yhat.reshape( -1 , 1 )\n",
    "        \n",
    "        total_modelos.append( dfit )\n",
    "        \n",
    "        print(b, \" \")\n",
    "    \n",
    "    # Create dataframe\n",
    "    ivfit = IV2SLS( exog = None , endog = dtil , dependent = ytil , instruments = ztil ).fit( cov_type = 'unadjusted' ) ## unadjusted == homocedastick\n",
    "   \n",
    "    # OLS clustering at the County level\n",
    "    coef_est =  ivfit.params[0]\n",
    "    se = ivfit.std_errors[0]\n",
    "    print( f\"\\n Coefficient (se) = {coef_est} ({se})\" )\n",
    "    Final_result = { 'coef_est' : coef_est , 'se' : se , 'dtil' : dtil , 'ytil' : ytil , 'ztil' : ztil , 'modelos' : total_modelos }\n",
    "       \n",
    "    return Final_result\n",
    "    "
   ]
  },
  {
   "cell_type": "markdown",
   "metadata": {
    "papermill": {
     "duration": 0.011698,
     "end_time": "2021-04-23T10:42:10.482689",
     "exception": false,
     "start_time": "2021-04-23T10:42:10.470991",
     "status": "completed"
    },
    "tags": []
   },
   "source": [
    "-----\n",
    "\n",
    "## Emprical Example:  Acemoglu, Jonsohn, Robinson (AER).\n",
    "\n",
    "\n",
    "* Y is log GDP;\n",
    "* D is a measure of Protection from Expropriation, a proxy for \n",
    "quality of insitutions;\n",
    "* Z is the log of Settler's mortality;\n",
    "* W are geographical variables (latitude, latitude squared, continent dummies as well as interactions)\n",
    "\n"
   ]
  },
  {
   "cell_type": "code",
   "execution_count": 4,
   "metadata": {},
   "outputs": [],
   "source": [
    "y = AJR[['GDP']].to_numpy()"
   ]
  },
  {
   "cell_type": "code",
   "execution_count": 5,
   "metadata": {},
   "outputs": [],
   "source": [
    "d = AJR[['Exprop']].to_numpy()"
   ]
  },
  {
   "cell_type": "code",
   "execution_count": 6,
   "metadata": {},
   "outputs": [],
   "source": [
    "z = AJR[['logMort']].to_numpy()"
   ]
  },
  {
   "cell_type": "code",
   "execution_count": 7,
   "metadata": {},
   "outputs": [],
   "source": [
    "xraw_formula =  \" GDP ~ Latitude+ Africa+Asia + Namer + Samer\"\n",
    "x_formula = \" GDP ~ -1 + ( Latitude + Latitude2 + Africa + Asia + Namer + Samer ) ** 2\"\n",
    "\n",
    "y_model, xraw_dframe = patsy.dmatrices( xraw_formula, AJR , return_type='matrix')\n",
    "y_model, x_dframe = patsy.dmatrices( x_formula, AJR , return_type='matrix')\n",
    "\n",
    "xraw = np.asarray( xraw_dframe , dtype = np.float64 )\n",
    "x = np.asarray( x_dframe , dtype = np.float64)"
   ]
  },
  {
   "cell_type": "markdown",
   "metadata": {},
   "source": [
    "Information from random Forest [link1](https://stackoverflow.com/questions/35578041/why-do-i-get-different-randomforest-outcomes-between-r-and-python), [link2](https://stackoverflow.com/questions/45612922/random-forest-in-r-and-sklearn)"
   ]
  },
  {
   "cell_type": "code",
   "execution_count": 8,
   "metadata": {},
   "outputs": [],
   "source": [
    "y_model, x_dframe2 = patsy.dmatrices( x_formula, AJR , return_type='dataframe')"
   ]
  },
  {
   "cell_type": "code",
   "execution_count": 9,
   "metadata": {},
   "outputs": [
    {
     "data": {
      "text/html": [
       "<div>\n",
       "<style scoped>\n",
       "    .dataframe tbody tr th:only-of-type {\n",
       "        vertical-align: middle;\n",
       "    }\n",
       "\n",
       "    .dataframe tbody tr th {\n",
       "        vertical-align: top;\n",
       "    }\n",
       "\n",
       "    .dataframe thead th {\n",
       "        text-align: right;\n",
       "    }\n",
       "</style>\n",
       "<table border=\"1\" class=\"dataframe\">\n",
       "  <thead>\n",
       "    <tr style=\"text-align: right;\">\n",
       "      <th></th>\n",
       "      <th>Latitude</th>\n",
       "      <th>Latitude2</th>\n",
       "      <th>Africa</th>\n",
       "      <th>Asia</th>\n",
       "      <th>Namer</th>\n",
       "      <th>Samer</th>\n",
       "      <th>Latitude:Latitude2</th>\n",
       "      <th>Latitude:Africa</th>\n",
       "      <th>Latitude:Asia</th>\n",
       "      <th>Latitude:Namer</th>\n",
       "      <th>...</th>\n",
       "      <th>Latitude2:Africa</th>\n",
       "      <th>Latitude2:Asia</th>\n",
       "      <th>Latitude2:Namer</th>\n",
       "      <th>Latitude2:Samer</th>\n",
       "      <th>Africa:Asia</th>\n",
       "      <th>Africa:Namer</th>\n",
       "      <th>Africa:Samer</th>\n",
       "      <th>Asia:Namer</th>\n",
       "      <th>Asia:Samer</th>\n",
       "      <th>Namer:Samer</th>\n",
       "    </tr>\n",
       "  </thead>\n",
       "  <tbody>\n",
       "    <tr>\n",
       "      <th>0</th>\n",
       "      <td>0.3111</td>\n",
       "      <td>0.096783</td>\n",
       "      <td>1.0</td>\n",
       "      <td>0.0</td>\n",
       "      <td>0.0</td>\n",
       "      <td>0.0</td>\n",
       "      <td>0.030109</td>\n",
       "      <td>0.3111</td>\n",
       "      <td>0.0000</td>\n",
       "      <td>0.0000</td>\n",
       "      <td>...</td>\n",
       "      <td>0.096783</td>\n",
       "      <td>0.000000</td>\n",
       "      <td>0.000000</td>\n",
       "      <td>0.000000</td>\n",
       "      <td>0.0</td>\n",
       "      <td>0.0</td>\n",
       "      <td>0.0</td>\n",
       "      <td>0.0</td>\n",
       "      <td>0.0</td>\n",
       "      <td>0.0</td>\n",
       "    </tr>\n",
       "    <tr>\n",
       "      <th>1</th>\n",
       "      <td>0.1367</td>\n",
       "      <td>0.018687</td>\n",
       "      <td>1.0</td>\n",
       "      <td>0.0</td>\n",
       "      <td>0.0</td>\n",
       "      <td>0.0</td>\n",
       "      <td>0.002554</td>\n",
       "      <td>0.1367</td>\n",
       "      <td>0.0000</td>\n",
       "      <td>0.0000</td>\n",
       "      <td>...</td>\n",
       "      <td>0.018687</td>\n",
       "      <td>0.000000</td>\n",
       "      <td>0.000000</td>\n",
       "      <td>0.000000</td>\n",
       "      <td>0.0</td>\n",
       "      <td>0.0</td>\n",
       "      <td>0.0</td>\n",
       "      <td>0.0</td>\n",
       "      <td>0.0</td>\n",
       "      <td>0.0</td>\n",
       "    </tr>\n",
       "    <tr>\n",
       "      <th>2</th>\n",
       "      <td>0.3778</td>\n",
       "      <td>0.142733</td>\n",
       "      <td>0.0</td>\n",
       "      <td>0.0</td>\n",
       "      <td>0.0</td>\n",
       "      <td>1.0</td>\n",
       "      <td>0.053924</td>\n",
       "      <td>0.0000</td>\n",
       "      <td>0.0000</td>\n",
       "      <td>0.0000</td>\n",
       "      <td>...</td>\n",
       "      <td>0.000000</td>\n",
       "      <td>0.000000</td>\n",
       "      <td>0.000000</td>\n",
       "      <td>0.142733</td>\n",
       "      <td>0.0</td>\n",
       "      <td>0.0</td>\n",
       "      <td>0.0</td>\n",
       "      <td>0.0</td>\n",
       "      <td>0.0</td>\n",
       "      <td>0.0</td>\n",
       "    </tr>\n",
       "    <tr>\n",
       "      <th>3</th>\n",
       "      <td>0.3000</td>\n",
       "      <td>0.090000</td>\n",
       "      <td>0.0</td>\n",
       "      <td>0.0</td>\n",
       "      <td>0.0</td>\n",
       "      <td>0.0</td>\n",
       "      <td>0.027000</td>\n",
       "      <td>0.0000</td>\n",
       "      <td>0.0000</td>\n",
       "      <td>0.0000</td>\n",
       "      <td>...</td>\n",
       "      <td>0.000000</td>\n",
       "      <td>0.000000</td>\n",
       "      <td>0.000000</td>\n",
       "      <td>0.000000</td>\n",
       "      <td>0.0</td>\n",
       "      <td>0.0</td>\n",
       "      <td>0.0</td>\n",
       "      <td>0.0</td>\n",
       "      <td>0.0</td>\n",
       "      <td>0.0</td>\n",
       "    </tr>\n",
       "    <tr>\n",
       "      <th>4</th>\n",
       "      <td>0.2683</td>\n",
       "      <td>0.071985</td>\n",
       "      <td>0.0</td>\n",
       "      <td>0.0</td>\n",
       "      <td>1.0</td>\n",
       "      <td>0.0</td>\n",
       "      <td>0.019314</td>\n",
       "      <td>0.0000</td>\n",
       "      <td>0.0000</td>\n",
       "      <td>0.2683</td>\n",
       "      <td>...</td>\n",
       "      <td>0.000000</td>\n",
       "      <td>0.000000</td>\n",
       "      <td>0.071985</td>\n",
       "      <td>0.000000</td>\n",
       "      <td>0.0</td>\n",
       "      <td>0.0</td>\n",
       "      <td>0.0</td>\n",
       "      <td>0.0</td>\n",
       "      <td>0.0</td>\n",
       "      <td>0.0</td>\n",
       "    </tr>\n",
       "    <tr>\n",
       "      <th>...</th>\n",
       "      <td>...</td>\n",
       "      <td>...</td>\n",
       "      <td>...</td>\n",
       "      <td>...</td>\n",
       "      <td>...</td>\n",
       "      <td>...</td>\n",
       "      <td>...</td>\n",
       "      <td>...</td>\n",
       "      <td>...</td>\n",
       "      <td>...</td>\n",
       "      <td>...</td>\n",
       "      <td>...</td>\n",
       "      <td>...</td>\n",
       "      <td>...</td>\n",
       "      <td>...</td>\n",
       "      <td>...</td>\n",
       "      <td>...</td>\n",
       "      <td>...</td>\n",
       "      <td>...</td>\n",
       "      <td>...</td>\n",
       "      <td>...</td>\n",
       "    </tr>\n",
       "    <tr>\n",
       "      <th>59</th>\n",
       "      <td>0.3667</td>\n",
       "      <td>0.134469</td>\n",
       "      <td>0.0</td>\n",
       "      <td>0.0</td>\n",
       "      <td>0.0</td>\n",
       "      <td>1.0</td>\n",
       "      <td>0.049310</td>\n",
       "      <td>0.0000</td>\n",
       "      <td>0.0000</td>\n",
       "      <td>0.0000</td>\n",
       "      <td>...</td>\n",
       "      <td>0.000000</td>\n",
       "      <td>0.000000</td>\n",
       "      <td>0.000000</td>\n",
       "      <td>0.134469</td>\n",
       "      <td>0.0</td>\n",
       "      <td>0.0</td>\n",
       "      <td>0.0</td>\n",
       "      <td>0.0</td>\n",
       "      <td>0.0</td>\n",
       "      <td>0.0</td>\n",
       "    </tr>\n",
       "    <tr>\n",
       "      <th>60</th>\n",
       "      <td>0.4222</td>\n",
       "      <td>0.178253</td>\n",
       "      <td>0.0</td>\n",
       "      <td>0.0</td>\n",
       "      <td>1.0</td>\n",
       "      <td>0.0</td>\n",
       "      <td>0.075258</td>\n",
       "      <td>0.0000</td>\n",
       "      <td>0.0000</td>\n",
       "      <td>0.4222</td>\n",
       "      <td>...</td>\n",
       "      <td>0.000000</td>\n",
       "      <td>0.000000</td>\n",
       "      <td>0.178253</td>\n",
       "      <td>0.000000</td>\n",
       "      <td>0.0</td>\n",
       "      <td>0.0</td>\n",
       "      <td>0.0</td>\n",
       "      <td>0.0</td>\n",
       "      <td>0.0</td>\n",
       "      <td>0.0</td>\n",
       "    </tr>\n",
       "    <tr>\n",
       "      <th>61</th>\n",
       "      <td>0.0889</td>\n",
       "      <td>0.007903</td>\n",
       "      <td>0.0</td>\n",
       "      <td>0.0</td>\n",
       "      <td>0.0</td>\n",
       "      <td>1.0</td>\n",
       "      <td>0.000703</td>\n",
       "      <td>0.0000</td>\n",
       "      <td>0.0000</td>\n",
       "      <td>0.0000</td>\n",
       "      <td>...</td>\n",
       "      <td>0.000000</td>\n",
       "      <td>0.000000</td>\n",
       "      <td>0.000000</td>\n",
       "      <td>0.007903</td>\n",
       "      <td>0.0</td>\n",
       "      <td>0.0</td>\n",
       "      <td>0.0</td>\n",
       "      <td>0.0</td>\n",
       "      <td>0.0</td>\n",
       "      <td>0.0</td>\n",
       "    </tr>\n",
       "    <tr>\n",
       "      <th>62</th>\n",
       "      <td>0.1778</td>\n",
       "      <td>0.031613</td>\n",
       "      <td>0.0</td>\n",
       "      <td>1.0</td>\n",
       "      <td>0.0</td>\n",
       "      <td>0.0</td>\n",
       "      <td>0.005621</td>\n",
       "      <td>0.0000</td>\n",
       "      <td>0.1778</td>\n",
       "      <td>0.0000</td>\n",
       "      <td>...</td>\n",
       "      <td>0.000000</td>\n",
       "      <td>0.031613</td>\n",
       "      <td>0.000000</td>\n",
       "      <td>0.000000</td>\n",
       "      <td>0.0</td>\n",
       "      <td>0.0</td>\n",
       "      <td>0.0</td>\n",
       "      <td>0.0</td>\n",
       "      <td>0.0</td>\n",
       "      <td>0.0</td>\n",
       "    </tr>\n",
       "    <tr>\n",
       "      <th>63</th>\n",
       "      <td>0.0000</td>\n",
       "      <td>0.000000</td>\n",
       "      <td>1.0</td>\n",
       "      <td>0.0</td>\n",
       "      <td>0.0</td>\n",
       "      <td>0.0</td>\n",
       "      <td>0.000000</td>\n",
       "      <td>0.0000</td>\n",
       "      <td>0.0000</td>\n",
       "      <td>0.0000</td>\n",
       "      <td>...</td>\n",
       "      <td>0.000000</td>\n",
       "      <td>0.000000</td>\n",
       "      <td>0.000000</td>\n",
       "      <td>0.000000</td>\n",
       "      <td>0.0</td>\n",
       "      <td>0.0</td>\n",
       "      <td>0.0</td>\n",
       "      <td>0.0</td>\n",
       "      <td>0.0</td>\n",
       "      <td>0.0</td>\n",
       "    </tr>\n",
       "  </tbody>\n",
       "</table>\n",
       "<p>64 rows × 21 columns</p>\n",
       "</div>"
      ],
      "text/plain": [
       "    Latitude  Latitude2  Africa  Asia  Namer  Samer  Latitude:Latitude2  \\\n",
       "0     0.3111   0.096783     1.0   0.0    0.0    0.0            0.030109   \n",
       "1     0.1367   0.018687     1.0   0.0    0.0    0.0            0.002554   \n",
       "2     0.3778   0.142733     0.0   0.0    0.0    1.0            0.053924   \n",
       "3     0.3000   0.090000     0.0   0.0    0.0    0.0            0.027000   \n",
       "4     0.2683   0.071985     0.0   0.0    1.0    0.0            0.019314   \n",
       "..       ...        ...     ...   ...    ...    ...                 ...   \n",
       "59    0.3667   0.134469     0.0   0.0    0.0    1.0            0.049310   \n",
       "60    0.4222   0.178253     0.0   0.0    1.0    0.0            0.075258   \n",
       "61    0.0889   0.007903     0.0   0.0    0.0    1.0            0.000703   \n",
       "62    0.1778   0.031613     0.0   1.0    0.0    0.0            0.005621   \n",
       "63    0.0000   0.000000     1.0   0.0    0.0    0.0            0.000000   \n",
       "\n",
       "    Latitude:Africa  Latitude:Asia  Latitude:Namer  ...  Latitude2:Africa  \\\n",
       "0            0.3111         0.0000          0.0000  ...          0.096783   \n",
       "1            0.1367         0.0000          0.0000  ...          0.018687   \n",
       "2            0.0000         0.0000          0.0000  ...          0.000000   \n",
       "3            0.0000         0.0000          0.0000  ...          0.000000   \n",
       "4            0.0000         0.0000          0.2683  ...          0.000000   \n",
       "..              ...            ...             ...  ...               ...   \n",
       "59           0.0000         0.0000          0.0000  ...          0.000000   \n",
       "60           0.0000         0.0000          0.4222  ...          0.000000   \n",
       "61           0.0000         0.0000          0.0000  ...          0.000000   \n",
       "62           0.0000         0.1778          0.0000  ...          0.000000   \n",
       "63           0.0000         0.0000          0.0000  ...          0.000000   \n",
       "\n",
       "    Latitude2:Asia  Latitude2:Namer  Latitude2:Samer  Africa:Asia  \\\n",
       "0         0.000000         0.000000         0.000000          0.0   \n",
       "1         0.000000         0.000000         0.000000          0.0   \n",
       "2         0.000000         0.000000         0.142733          0.0   \n",
       "3         0.000000         0.000000         0.000000          0.0   \n",
       "4         0.000000         0.071985         0.000000          0.0   \n",
       "..             ...              ...              ...          ...   \n",
       "59        0.000000         0.000000         0.134469          0.0   \n",
       "60        0.000000         0.178253         0.000000          0.0   \n",
       "61        0.000000         0.000000         0.007903          0.0   \n",
       "62        0.031613         0.000000         0.000000          0.0   \n",
       "63        0.000000         0.000000         0.000000          0.0   \n",
       "\n",
       "    Africa:Namer  Africa:Samer  Asia:Namer  Asia:Samer  Namer:Samer  \n",
       "0            0.0           0.0         0.0         0.0          0.0  \n",
       "1            0.0           0.0         0.0         0.0          0.0  \n",
       "2            0.0           0.0         0.0         0.0          0.0  \n",
       "3            0.0           0.0         0.0         0.0          0.0  \n",
       "4            0.0           0.0         0.0         0.0          0.0  \n",
       "..           ...           ...         ...         ...          ...  \n",
       "59           0.0           0.0         0.0         0.0          0.0  \n",
       "60           0.0           0.0         0.0         0.0          0.0  \n",
       "61           0.0           0.0         0.0         0.0          0.0  \n",
       "62           0.0           0.0         0.0         0.0          0.0  \n",
       "63           0.0           0.0         0.0         0.0          0.0  \n",
       "\n",
       "[64 rows x 21 columns]"
      ]
     },
     "execution_count": 9,
     "metadata": {},
     "output_type": "execute_result"
    }
   ],
   "source": [
    "x_dframe2"
   ]
  },
  {
   "cell_type": "code",
   "execution_count": 10,
   "metadata": {},
   "outputs": [],
   "source": [
    "def dreg( x_1 , d_1 ):\n",
    "    \n",
    "    if d_1 is not None and ( d_1.dtype != str ):\n",
    "        mtry1 = max( [ np.round( ( x_1.shape[ 1 ]/3 ) ) , 1 ] ).astype(int)\n",
    "    else:\n",
    "        mtry1 = np.round( np.sqrt( x_1.shape[ 1 ] ) ).astype(int)\n",
    "\n",
    "    if d_1 is not None and ( d_1.dtype != str ):\n",
    "        nodesize1 = 5\n",
    "    else:\n",
    "        nodesize1 = 1\n",
    "    \n",
    "    result = RandomForestRegressor( random_state = 0 , n_estimators = 500 , max_features = mtry1 , n_jobs = 4 , min_samples_leaf = nodesize1 ).fit( x_1 , d_1 )\n",
    "    return result\n",
    "\n",
    "def yreg( x_1 , y_1 ):\n",
    "    if y_1 is not None and ( y_1.dtype != str ):\n",
    "        mtry1 = max( [ np.round( ( x_1.shape[ 1 ]/3 ) ) , 1 ] ).astype(int)\n",
    "    else:\n",
    "        mtry1 = np.round( np.sqrt( x_1.shape[ 1 ] ) ).astype(int)\n",
    "\n",
    "    if y_1 is not None and ( y_1.dtype != str ):\n",
    "        nodesize1 = 5\n",
    "    else:\n",
    "        nodesize1 = 1\n",
    "        \n",
    "    result = RandomForestRegressor( random_state = 0 , n_estimators = 500 , max_features = mtry1 , n_jobs = 4 , min_samples_leaf = nodesize1 ).fit( x_1, y_1 )\n",
    "    return result\n",
    "\n",
    "def zreg( x_1 , z_1 ):\n",
    "    \n",
    "    if z_1 is not None and ( z_1.dtype != str ):\n",
    "        mtry1 = max( [ np.round( ( x_1.shape[ 1 ]/3 ) ) , 1 ] ).astype(int)\n",
    "    else:\n",
    "        mtry1 = np.round( np.sqrt( x_1.shape[ 1 ] ) ).astype(int)\n",
    "\n",
    "    if z_1 is not None and ( z_1.dtype != str ):\n",
    "        nodesize1 = 5\n",
    "    else:\n",
    "        nodesize1 = 1\n",
    "        \n",
    "    result = RandomForestRegressor( random_state = 0 , n_estimators = 500 , max_features = mtry1 , n_jobs = 4 , min_samples_leaf = nodesize1 ).fit( x_1, z_1 )\n",
    "    return result"
   ]
  },
  {
   "cell_type": "code",
   "execution_count": 11,
   "metadata": {
    "scrolled": true
   },
   "outputs": [
    {
     "name": "stdout",
     "output_type": "stream",
     "text": [
      "\n",
      " DML with Post-Lasso \n",
      "\n"
     ]
    }
   ],
   "source": [
    "print( \"\\n DML with Post-Lasso \\n\" )"
   ]
  },
  {
   "cell_type": "code",
   "execution_count": 12,
   "metadata": {
    "scrolled": true
   },
   "outputs": [
    {
     "name": "stdout",
     "output_type": "stream",
     "text": [
      "0  \n"
     ]
    },
    {
     "name": "stdout",
     "output_type": "stream",
     "text": [
      "1  \n"
     ]
    },
    {
     "name": "stdout",
     "output_type": "stream",
     "text": [
      "2  \n"
     ]
    },
    {
     "name": "stdout",
     "output_type": "stream",
     "text": [
      "3  \n"
     ]
    },
    {
     "name": "stdout",
     "output_type": "stream",
     "text": [
      "4  \n"
     ]
    },
    {
     "name": "stdout",
     "output_type": "stream",
     "text": [
      "5  \n"
     ]
    },
    {
     "name": "stdout",
     "output_type": "stream",
     "text": [
      "6  \n"
     ]
    },
    {
     "name": "stdout",
     "output_type": "stream",
     "text": [
      "7  \n"
     ]
    },
    {
     "name": "stdout",
     "output_type": "stream",
     "text": [
      "8  \n"
     ]
    },
    {
     "name": "stdout",
     "output_type": "stream",
     "text": [
      "9  \n"
     ]
    },
    {
     "name": "stdout",
     "output_type": "stream",
     "text": [
      "10  \n"
     ]
    },
    {
     "name": "stdout",
     "output_type": "stream",
     "text": [
      "11  \n"
     ]
    },
    {
     "name": "stdout",
     "output_type": "stream",
     "text": [
      "12  \n"
     ]
    },
    {
     "name": "stdout",
     "output_type": "stream",
     "text": [
      "13  \n"
     ]
    },
    {
     "name": "stdout",
     "output_type": "stream",
     "text": [
      "14  \n"
     ]
    },
    {
     "name": "stdout",
     "output_type": "stream",
     "text": [
      "15  \n"
     ]
    },
    {
     "name": "stdout",
     "output_type": "stream",
     "text": [
      "16  \n"
     ]
    },
    {
     "name": "stdout",
     "output_type": "stream",
     "text": [
      "17  \n"
     ]
    },
    {
     "name": "stdout",
     "output_type": "stream",
     "text": [
      "18  \n"
     ]
    },
    {
     "name": "stdout",
     "output_type": "stream",
     "text": [
      "19  \n",
      "\n",
      " Coefficient (se) = 0.8741183783725498 (0.32775653863668436)\n"
     ]
    }
   ],
   "source": [
    "DML2_RF = DML2_for_PLIVM(xraw, d, z, y, dreg, yreg, zreg, nfold=20)"
   ]
  },
  {
   "cell_type": "code",
   "execution_count": 13,
   "metadata": {},
   "outputs": [],
   "source": [
    "class rlasso_sklearn:\n",
    "    \n",
    "    def __init__(self, post ):\n",
    "        self.post = post\n",
    "       \n",
    "    def fit( self, X, Y ):\n",
    "        \n",
    "        self.X = X\n",
    "        self.Y = Y\n",
    "        \n",
    "        # Standarization of X and Y\n",
    "        self.rlasso_model = hdmpy.rlasso( X , Y , post = self.post )                \n",
    "        return self\n",
    "    \n",
    "    def predict( self , X_1 ):\n",
    "        self.X_1 = X_1\n",
    "        beta = self.rlasso_model.est['coefficients'].to_numpy()\n",
    "        \n",
    "        if beta.sum() == 0:\n",
    "            prediction = np.repeat( self.rlasso_model.est['intercept'] , self.X_1.shape[0] )\n",
    "        \n",
    "        else:\n",
    "            prediction = ( add_constant( self.X_1 , has_constant = 'add') @ beta ).flatten()\n",
    "                \n",
    "        return prediction"
   ]
  },
  {
   "cell_type": "code",
   "execution_count": 14,
   "metadata": {},
   "outputs": [
    {
     "name": "stdout",
     "output_type": "stream",
     "text": [
      "\n",
      " DML with Lasso \n",
      "\n"
     ]
    }
   ],
   "source": [
    "# DML with PostLasso\n",
    "print( \"\\n DML with Lasso \\n\" )\n",
    "def dreg(x, d):\n",
    "    result = rlasso_sklearn( post = True ).fit( x , d )\n",
    "    return result\n",
    "\n",
    "def yreg(x,y):\n",
    "    result = rlasso_sklearn( post = True ).fit( x , y )\n",
    "    return result\n",
    "\n",
    "def zreg(x,z):\n",
    "    result = rlasso_sklearn( post = True ).fit( x , z )\n",
    "    return result"
   ]
  },
  {
   "cell_type": "code",
   "execution_count": 15,
   "metadata": {},
   "outputs": [
    {
     "name": "stdout",
     "output_type": "stream",
     "text": [
      "0  \n"
     ]
    },
    {
     "name": "stdout",
     "output_type": "stream",
     "text": [
      "1  \n",
      "2  \n"
     ]
    },
    {
     "name": "stdout",
     "output_type": "stream",
     "text": [
      "3  \n"
     ]
    },
    {
     "name": "stdout",
     "output_type": "stream",
     "text": [
      "4  \n"
     ]
    },
    {
     "name": "stdout",
     "output_type": "stream",
     "text": [
      "5  \n"
     ]
    },
    {
     "name": "stdout",
     "output_type": "stream",
     "text": [
      "6  \n"
     ]
    },
    {
     "name": "stdout",
     "output_type": "stream",
     "text": [
      "7  \n"
     ]
    },
    {
     "name": "stdout",
     "output_type": "stream",
     "text": [
      "8  \n"
     ]
    },
    {
     "name": "stdout",
     "output_type": "stream",
     "text": [
      "9  \n"
     ]
    },
    {
     "name": "stdout",
     "output_type": "stream",
     "text": [
      "10  \n"
     ]
    },
    {
     "name": "stdout",
     "output_type": "stream",
     "text": [
      "11  \n"
     ]
    },
    {
     "name": "stdout",
     "output_type": "stream",
     "text": [
      "12  \n"
     ]
    },
    {
     "name": "stdout",
     "output_type": "stream",
     "text": [
      "13  \n"
     ]
    },
    {
     "name": "stdout",
     "output_type": "stream",
     "text": [
      "14  \n"
     ]
    },
    {
     "name": "stdout",
     "output_type": "stream",
     "text": [
      "15  \n"
     ]
    },
    {
     "name": "stdout",
     "output_type": "stream",
     "text": [
      "16  \n"
     ]
    },
    {
     "name": "stdout",
     "output_type": "stream",
     "text": [
      "17  \n"
     ]
    },
    {
     "name": "stdout",
     "output_type": "stream",
     "text": [
      "18  \n",
      "19  \n",
      "\n",
      " Coefficient (se) = 0.7231475412149379 (0.17071501804247555)\n"
     ]
    }
   ],
   "source": [
    "DML2_lasso = DML2_for_PLIVM(x, d, z, y, dreg, yreg, zreg, nfold = 20 )"
   ]
  },
  {
   "cell_type": "code",
   "execution_count": 16,
   "metadata": {},
   "outputs": [],
   "source": [
    "# Compare Forest vs Lasso\n",
    "comp_tab_numpy = np.zeros( ( 3 , 2 ) )"
   ]
  },
  {
   "cell_type": "code",
   "execution_count": 17,
   "metadata": {},
   "outputs": [],
   "source": [
    "comp_tab_numpy[ 0 , : ] = [ np.sqrt( np.mean( DML2_RF['ytil'] ** 2 ) ) , np.sqrt( np.mean( DML2_lasso['ytil'] ** 2 ) ) ]\n",
    "comp_tab_numpy[ 1 , : ] = [ np.sqrt( np.mean( DML2_RF['dtil'] ** 2 ) ) , np.sqrt( np.mean( DML2_lasso['dtil'] ** 2 ) ) ]\n",
    "comp_tab_numpy[ 2 , : ] = [ np.sqrt( np.mean( DML2_RF['ztil'] ** 2 ) ) , np.sqrt( np.mean( DML2_lasso['ztil'] ** 2 ) ) ]"
   ]
  },
  {
   "cell_type": "code",
   "execution_count": 18,
   "metadata": {},
   "outputs": [],
   "source": [
    "comp_tab = pd.DataFrame( comp_tab_numpy , columns = [ 'RF' ,'LASSO' ] , index = [ \"RMSE for Y:\", \"RMSE for D:\", \"RMSE for Z:\" ] )"
   ]
  },
  {
   "cell_type": "code",
   "execution_count": 19,
   "metadata": {},
   "outputs": [
    {
     "data": {
      "text/html": [
       "<div>\n",
       "<style scoped>\n",
       "    .dataframe tbody tr th:only-of-type {\n",
       "        vertical-align: middle;\n",
       "    }\n",
       "\n",
       "    .dataframe tbody tr th {\n",
       "        vertical-align: top;\n",
       "    }\n",
       "\n",
       "    .dataframe thead th {\n",
       "        text-align: right;\n",
       "    }\n",
       "</style>\n",
       "<table border=\"1\" class=\"dataframe\">\n",
       "  <thead>\n",
       "    <tr style=\"text-align: right;\">\n",
       "      <th></th>\n",
       "      <th>RF</th>\n",
       "      <th>LASSO</th>\n",
       "    </tr>\n",
       "  </thead>\n",
       "  <tbody>\n",
       "    <tr>\n",
       "      <th>RMSE for Y:</th>\n",
       "      <td>0.785160</td>\n",
       "      <td>0.928944</td>\n",
       "    </tr>\n",
       "    <tr>\n",
       "      <th>RMSE for D:</th>\n",
       "      <td>1.319298</td>\n",
       "      <td>1.583520</td>\n",
       "    </tr>\n",
       "    <tr>\n",
       "      <th>RMSE for Z:</th>\n",
       "      <td>0.924800</td>\n",
       "      <td>0.977824</td>\n",
       "    </tr>\n",
       "  </tbody>\n",
       "</table>\n",
       "</div>"
      ],
      "text/plain": [
       "                   RF     LASSO\n",
       "RMSE for Y:  0.785160  0.928944\n",
       "RMSE for D:  1.319298  1.583520\n",
       "RMSE for Z:  0.924800  0.977824"
      ]
     },
     "execution_count": 19,
     "metadata": {},
     "output_type": "execute_result"
    }
   ],
   "source": [
    "comp_tab"
   ]
  },
  {
   "cell_type": "markdown",
   "metadata": {
    "papermill": {
     "duration": 0.013703,
     "end_time": "2021-04-23T10:42:16.269251",
     "exception": false,
     "start_time": "2021-04-23T10:42:16.255548",
     "status": "completed"
    },
    "tags": []
   },
   "source": [
    "## Examine if we have weak instruments"
   ]
  },
  {
   "cell_type": "code",
   "execution_count": 20,
   "metadata": {
    "scrolled": true
   },
   "outputs": [
    {
     "data": {
      "text/html": [
       "<table class=\"simpletable\">\n",
       "<caption>OLS Regression Results</caption>\n",
       "<tr>\n",
       "  <th>Dep. Variable:</th>            <td>y</td>        <th>  R-squared (uncentered):</th>      <td>   0.170</td>\n",
       "</tr>\n",
       "<tr>\n",
       "  <th>Model:</th>                   <td>OLS</td>       <th>  Adj. R-squared (uncentered):</th> <td>   0.157</td>\n",
       "</tr>\n",
       "<tr>\n",
       "  <th>Method:</th>             <td>Least Squares</td>  <th>  F-statistic:       </th>          <td>   8.792</td>\n",
       "</tr>\n",
       "<tr>\n",
       "  <th>Date:</th>             <td>Tue, 26 Jul 2022</td> <th>  Prob (F-statistic):</th>           <td>0.00427</td>\n",
       "</tr>\n",
       "<tr>\n",
       "  <th>Time:</th>                 <td>11:18:29</td>     <th>  Log-Likelihood:    </th>          <td> -114.26</td>\n",
       "</tr>\n",
       "<tr>\n",
       "  <th>No. Observations:</th>      <td>    64</td>      <th>  AIC:               </th>          <td>   230.5</td>\n",
       "</tr>\n",
       "<tr>\n",
       "  <th>Df Residuals:</th>          <td>    63</td>      <th>  BIC:               </th>          <td>   232.7</td>\n",
       "</tr>\n",
       "<tr>\n",
       "  <th>Df Model:</th>              <td>     1</td>      <th>                     </th>              <td> </td>   \n",
       "</tr>\n",
       "<tr>\n",
       "  <th>Covariance Type:</th>         <td>HC1</td>       <th>                     </th>              <td> </td>   \n",
       "</tr>\n",
       "</table>\n",
       "<table class=\"simpletable\">\n",
       "<tr>\n",
       "   <td></td>     <th>coef</th>     <th>std err</th>      <th>t</th>      <th>P>|t|</th>  <th>[0.025</th>    <th>0.975]</th>  \n",
       "</tr>\n",
       "<tr>\n",
       "  <th>x1</th> <td>   -0.6682</td> <td>    0.225</td> <td>   -2.965</td> <td> 0.004</td> <td>   -1.119</td> <td>   -0.218</td>\n",
       "</tr>\n",
       "</table>\n",
       "<table class=\"simpletable\">\n",
       "<tr>\n",
       "  <th>Omnibus:</th>       <td> 0.541</td> <th>  Durbin-Watson:     </th> <td>   1.725</td>\n",
       "</tr>\n",
       "<tr>\n",
       "  <th>Prob(Omnibus):</th> <td> 0.763</td> <th>  Jarque-Bera (JB):  </th> <td>   0.679</td>\n",
       "</tr>\n",
       "<tr>\n",
       "  <th>Skew:</th>          <td>-0.178</td> <th>  Prob(JB):          </th> <td>   0.712</td>\n",
       "</tr>\n",
       "<tr>\n",
       "  <th>Kurtosis:</th>      <td> 2.643</td> <th>  Cond. No.          </th> <td>    1.00</td>\n",
       "</tr>\n",
       "</table><br/><br/>Notes:<br/>[1] R² is computed without centering (uncentered) since the model does not contain a constant.<br/>[2] Standard Errors are heteroscedasticity robust (HC1)"
      ],
      "text/plain": [
       "<class 'statsmodels.iolib.summary.Summary'>\n",
       "\"\"\"\n",
       "                                 OLS Regression Results                                \n",
       "=======================================================================================\n",
       "Dep. Variable:                      y   R-squared (uncentered):                   0.170\n",
       "Model:                            OLS   Adj. R-squared (uncentered):              0.157\n",
       "Method:                 Least Squares   F-statistic:                              8.792\n",
       "Date:                Tue, 26 Jul 2022   Prob (F-statistic):                     0.00427\n",
       "Time:                        11:18:29   Log-Likelihood:                         -114.26\n",
       "No. Observations:                  64   AIC:                                      230.5\n",
       "Df Residuals:                      63   BIC:                                      232.7\n",
       "Df Model:                           1                                                  \n",
       "Covariance Type:                  HC1                                                  \n",
       "==============================================================================\n",
       "                 coef    std err          t      P>|t|      [0.025      0.975]\n",
       "------------------------------------------------------------------------------\n",
       "x1            -0.6682      0.225     -2.965      0.004      -1.119      -0.218\n",
       "==============================================================================\n",
       "Omnibus:                        0.541   Durbin-Watson:                   1.725\n",
       "Prob(Omnibus):                  0.763   Jarque-Bera (JB):                0.679\n",
       "Skew:                          -0.178   Prob(JB):                        0.712\n",
       "Kurtosis:                       2.643   Cond. No.                         1.00\n",
       "==============================================================================\n",
       "\n",
       "Notes:\n",
       "[1] R² is computed without centering (uncentered) since the model does not contain a constant.\n",
       "[2] Standard Errors are heteroscedasticity robust (HC1)\n",
       "\"\"\""
      ]
     },
     "execution_count": 20,
     "metadata": {},
     "output_type": "execute_result"
    }
   ],
   "source": [
    "sm.OLS( DML2_lasso[ 'dtil' ] , DML2_lasso[ 'ztil' ] ).fit( cov_type = 'HC1', use_t = True ).summary()"
   ]
  },
  {
   "cell_type": "code",
   "execution_count": 21,
   "metadata": {},
   "outputs": [
    {
     "data": {
      "text/html": [
       "<table class=\"simpletable\">\n",
       "<caption>OLS Regression Results</caption>\n",
       "<tr>\n",
       "  <th>Dep. Variable:</th>            <td>y</td>        <th>  R-squared (uncentered):</th>      <td>   0.061</td>\n",
       "</tr>\n",
       "<tr>\n",
       "  <th>Model:</th>                   <td>OLS</td>       <th>  Adj. R-squared (uncentered):</th> <td>   0.047</td>\n",
       "</tr>\n",
       "<tr>\n",
       "  <th>Method:</th>             <td>Least Squares</td>  <th>  F-statistic:       </th>          <td>   3.203</td>\n",
       "</tr>\n",
       "<tr>\n",
       "  <th>Date:</th>             <td>Tue, 26 Jul 2022</td> <th>  Prob (F-statistic):</th>           <td>0.0783</td> \n",
       "</tr>\n",
       "<tr>\n",
       "  <th>Time:</th>                 <td>11:18:29</td>     <th>  Log-Likelihood:    </th>          <td> -106.52</td>\n",
       "</tr>\n",
       "<tr>\n",
       "  <th>No. Observations:</th>      <td>    64</td>      <th>  AIC:               </th>          <td>   215.0</td>\n",
       "</tr>\n",
       "<tr>\n",
       "  <th>Df Residuals:</th>          <td>    63</td>      <th>  BIC:               </th>          <td>   217.2</td>\n",
       "</tr>\n",
       "<tr>\n",
       "  <th>Df Model:</th>              <td>     1</td>      <th>                     </th>              <td> </td>   \n",
       "</tr>\n",
       "<tr>\n",
       "  <th>Covariance Type:</th>         <td>HC1</td>       <th>                     </th>              <td> </td>   \n",
       "</tr>\n",
       "</table>\n",
       "<table class=\"simpletable\">\n",
       "<tr>\n",
       "   <td></td>     <th>coef</th>     <th>std err</th>      <th>t</th>      <th>P>|t|</th>  <th>[0.025</th>    <th>0.975]</th>  \n",
       "</tr>\n",
       "<tr>\n",
       "  <th>x1</th> <td>   -0.3536</td> <td>    0.198</td> <td>   -1.790</td> <td> 0.078</td> <td>   -0.748</td> <td>    0.041</td>\n",
       "</tr>\n",
       "</table>\n",
       "<table class=\"simpletable\">\n",
       "<tr>\n",
       "  <th>Omnibus:</th>       <td> 0.201</td> <th>  Durbin-Watson:     </th> <td>   1.621</td>\n",
       "</tr>\n",
       "<tr>\n",
       "  <th>Prob(Omnibus):</th> <td> 0.904</td> <th>  Jarque-Bera (JB):  </th> <td>   0.209</td>\n",
       "</tr>\n",
       "<tr>\n",
       "  <th>Skew:</th>          <td> 0.121</td> <th>  Prob(JB):          </th> <td>   0.901</td>\n",
       "</tr>\n",
       "<tr>\n",
       "  <th>Kurtosis:</th>      <td> 2.861</td> <th>  Cond. No.          </th> <td>    1.00</td>\n",
       "</tr>\n",
       "</table><br/><br/>Notes:<br/>[1] R² is computed without centering (uncentered) since the model does not contain a constant.<br/>[2] Standard Errors are heteroscedasticity robust (HC1)"
      ],
      "text/plain": [
       "<class 'statsmodels.iolib.summary.Summary'>\n",
       "\"\"\"\n",
       "                                 OLS Regression Results                                \n",
       "=======================================================================================\n",
       "Dep. Variable:                      y   R-squared (uncentered):                   0.061\n",
       "Model:                            OLS   Adj. R-squared (uncentered):              0.047\n",
       "Method:                 Least Squares   F-statistic:                              3.203\n",
       "Date:                Tue, 26 Jul 2022   Prob (F-statistic):                      0.0783\n",
       "Time:                        11:18:29   Log-Likelihood:                         -106.52\n",
       "No. Observations:                  64   AIC:                                      215.0\n",
       "Df Residuals:                      63   BIC:                                      217.2\n",
       "Df Model:                           1                                                  \n",
       "Covariance Type:                  HC1                                                  \n",
       "==============================================================================\n",
       "                 coef    std err          t      P>|t|      [0.025      0.975]\n",
       "------------------------------------------------------------------------------\n",
       "x1            -0.3536      0.198     -1.790      0.078      -0.748       0.041\n",
       "==============================================================================\n",
       "Omnibus:                        0.201   Durbin-Watson:                   1.621\n",
       "Prob(Omnibus):                  0.904   Jarque-Bera (JB):                0.209\n",
       "Skew:                           0.121   Prob(JB):                        0.901\n",
       "Kurtosis:                       2.861   Cond. No.                         1.00\n",
       "==============================================================================\n",
       "\n",
       "Notes:\n",
       "[1] R² is computed without centering (uncentered) since the model does not contain a constant.\n",
       "[2] Standard Errors are heteroscedasticity robust (HC1)\n",
       "\"\"\""
      ]
     },
     "execution_count": 21,
     "metadata": {},
     "output_type": "execute_result"
    }
   ],
   "source": [
    "sm.OLS( DML2_RF[ 'dtil' ] , DML2_RF[ 'ztil' ] ).fit( cov_type = 'HC1', use_t = True ).summary()"
   ]
  },
  {
   "cell_type": "markdown",
   "metadata": {
    "papermill": {
     "duration": 0.015919,
     "end_time": "2021-04-23T10:42:32.423865",
     "exception": false,
     "start_time": "2021-04-23T10:42:32.407946",
     "status": "completed"
    },
    "tags": []
   },
   "source": [
    "##  We do have weak instruments, because t-stats in regression $\\tilde D \\sim \\tilde Z$ are less than 4 in absolute value"
   ]
  },
  {
   "cell_type": "markdown",
   "metadata": {
    "papermill": {
     "duration": 0.015943,
     "end_time": "2021-04-23T10:42:32.455719",
     "exception": false,
     "start_time": "2021-04-23T10:42:32.439776",
     "status": "completed"
    },
    "tags": []
   },
   "source": [
    "So let's carry out DML inference combined with Anderson-Rubin Idea"
   ]
  },
  {
   "cell_type": "code",
   "execution_count": 22,
   "metadata": {},
   "outputs": [],
   "source": [
    "# DML-AR (DML with Anderson-Rubin) \n",
    "def DML_AR_PLIV( rY, rD, rZ, grid, alpha = 0.05 ):\n",
    "    n = rY.size\n",
    "    Cstat = np.zeros( grid.size )\n",
    "\n",
    "    for i in range( 0 , grid.size ):\n",
    "        Cstat[ i ] = n * ( ( np.mean( ( rY - grid[ i ] * rD ) * rZ )  ) ** 2 ) / np.var( ( rY - grid[ i ] * rD ) * rZ )\n",
    "\n",
    "    LB = np.min( grid[  Cstat < chi2.ppf( 1 - alpha , 1) ] )\n",
    "    UB = np.max( grid[  Cstat < chi2.ppf( 1 - alpha , 1) ] )\n",
    "    \n",
    "    print( \"UB =\" , UB, \"LB =\"  ,LB)\n",
    "    fig, ax = plt.subplots(figsize=(12, 6))\n",
    "\n",
    "    ax.plot(grid, Cstat, color='black', label='Sine wave' )\n",
    "\n",
    "    ax.axhline( y = chi2.ppf( 1 - 0.05 , 1) , linestyle = \"--\" )\n",
    "    ax.axvline( x = LB , color = 'red' , linestyle = \"--\" )\n",
    "    ax.axvline( x = UB , color = 'red' , linestyle = \"--\" )\n",
    "    \n",
    "    ax.set_ylabel('Statistic')\n",
    "    ax.set_xlabel('Effect of institutions')\n",
    "\n",
    "    plt.show()\n",
    "    final_result = { 'UB' : UB , 'LB' : LB }\n",
    "    \n",
    "    return final_result"
   ]
  },
  {
   "cell_type": "code",
   "execution_count": 23,
   "metadata": {},
   "outputs": [
    {
     "name": "stdout",
     "output_type": "stream",
     "text": [
      "UB = 1.690000000000003 LB = 0.45000000000000195\n"
     ]
    },
    {
     "data": {
      "image/png": "[encoded data removed]",
      "text/plain": [
       "<Figure size 864x432 with 1 Axes>"
      ]
     },
     "metadata": {
      "filenames": {
       "image/png": "C:\\Users\\User\\Documents\\GitHub\\14.388_py\\_build\\jupyter_execute\\Python_notebooks\\24_debiased-ml-for-partially-linear-iv-model-in-python_30_1.png"
      },
      "needs_background": "light"
     },
     "output_type": "display_data"
    },
    {
     "data": {
      "text/plain": [
       "{'UB': 1.690000000000003, 'LB': 0.45000000000000195}"
      ]
     },
     "execution_count": 23,
     "metadata": {},
     "output_type": "execute_result"
    }
   ],
   "source": [
    "DML_AR_PLIV(rY = DML2_lasso['ytil'], rD= DML2_lasso['dtil'], rZ= DML2_lasso['ztil'],\n",
    "           grid = np.arange( -2, 2.001, 0.01 ) )"
   ]
  },
  {
   "cell_type": "code",
   "execution_count": 24,
   "metadata": {},
   "outputs": [
    {
     "name": "stdout",
     "output_type": "stream",
     "text": [
      "UB = 2.0000000000000036 LB = 0.39000000000000234\n"
     ]
    },
    {
     "data": {
      "image/png": "[encoded data removed]",
      "text/plain": [
       "<Figure size 864x432 with 1 Axes>"
      ]
     },
     "metadata": {
      "filenames": {
       "image/png": "C:\\Users\\User\\Documents\\GitHub\\14.388_py\\_build\\jupyter_execute\\Python_notebooks\\24_debiased-ml-for-partially-linear-iv-model-in-python_31_1.png"
      },
      "needs_background": "light"
     },
     "output_type": "display_data"
    },
    {
     "data": {
      "text/plain": [
       "{'UB': 2.0000000000000036, 'LB': 0.39000000000000234}"
      ]
     },
     "execution_count": 24,
     "metadata": {},
     "output_type": "execute_result"
    }
   ],
   "source": [
    "DML_AR_PLIV(rY = DML2_RF['ytil'], rD= DML2_RF['dtil'], rZ= DML2_RF['ztil'],\n",
    "           grid = np.arange( -2, 2.001, 0.01 ) )"
   ]
  }
 ],
 "metadata": {
  "hide_input": false,
  "kernelspec": {
   "display_name": "Python 3 (ipykernel)",
   "language": "python",
   "name": "python3"
  },
  "language_info": {
   "codemirror_mode": {
    "name": "ipython",
    "version": 3
   },
   "file_extension": ".py",
   "mimetype": "text/x-python",
   "name": "python",
   "nbconvert_exporter": "python",
   "pygments_lexer": "ipython3",
   "version": "3.9.12"
  }
 },
 "nbformat": 4,
 "nbformat_minor": 4
}