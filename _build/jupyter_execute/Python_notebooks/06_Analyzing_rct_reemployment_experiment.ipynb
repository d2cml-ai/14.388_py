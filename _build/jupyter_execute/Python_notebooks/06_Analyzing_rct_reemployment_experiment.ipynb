{
 "cells": [
  {
   "cell_type": "markdown",
   "metadata": {},
   "source": [
    "* Python code replication of:\n",
    "\" https://www.kaggle.com/victorchernozhukov/analyzing-rct-reemployment-experiment \"\n",
    "* Created by: Alexander Quispe and Anzony Quispe "
   ]
  },
  {
   "cell_type": "markdown",
   "metadata": {
    "papermill": {
     "duration": 0.013538,
     "end_time": "2021-02-20T13:42:41.189745",
     "exception": false,
     "start_time": "2021-02-20T13:42:41.176207",
     "status": "completed"
    },
    "tags": []
   },
   "source": [
    "# Analyzing RCT data with Precision Adjustment"
   ]
  },
  {
   "cell_type": "markdown",
   "metadata": {
    "papermill": {
     "duration": 0.011347,
     "end_time": "2021-02-20T13:42:41.213041",
     "exception": false,
     "start_time": "2021-02-20T13:42:41.201694",
     "status": "completed"
    },
    "tags": []
   },
   "source": [
    "## Data\n",
    "\n",
    "In this lab, we analyze the Pennsylvania re-employment bonus experiment, which was previously studied in \"Sequential testing of duration data: the case of the Pennsylvania ‘reemployment bonus’ experiment\" (Bilias, 2000), among others. These experiments were conducted in the 1980s by the U.S. Department of Labor to test the incentive effects of alternative compensation schemes for unemployment insurance (UI). In these experiments, UI claimants were randomly assigned either to a control group or one of five treatment groups. Actually, there are six treatment groups in the experiments. Here we focus on treatment group 4, but feel free to explore other treatment groups. In the control group the current rules of the UI applied. Individuals in the treatment groups were offered a cash bonus if they found a job within some pre-specified period of time (qualification period), provided that the job was retained for a specified duration. The treatments differed in the level of the bonus, the length of the qualification period, and whether the bonus was declining over time in the qualification period; see http://qed.econ.queensu.ca/jae/2000-v15.6/bilias/readme.b.txt for further details on data. \n",
    "  "
   ]
  },
  {
   "cell_type": "code",
   "execution_count": 1,
   "metadata": {},
   "outputs": [],
   "source": [
    "import pandas as pd\n",
    "import pyreadr"
   ]
  },
  {
   "cell_type": "code",
   "execution_count": 2,
   "metadata": {},
   "outputs": [],
   "source": [
    "## loading the data\n",
    "Penn = pd.read_csv(\"../data/penn_jae.dat\" , sep='\\s', engine='python')\n",
    "n = Penn.shape[0]\n",
    "p_1 = Penn.shape[1]\n",
    "Penn = Penn[ (Penn['tg'] == 2) | (Penn['tg'] == 0) ]"
   ]
  },
  {
   "cell_type": "code",
   "execution_count": 3,
   "metadata": {},
   "outputs": [
    {
     "data": {
      "text/plain": [
       "(5782, 24)"
      ]
     },
     "execution_count": 3,
     "metadata": {},
     "output_type": "execute_result"
    }
   ],
   "source": [
    "Penn.shape"
   ]
  },
  {
   "cell_type": "code",
   "execution_count": 4,
   "metadata": {},
   "outputs": [
    {
     "data": {
      "text/html": [
       "<div>\n",
       "<style scoped>\n",
       "    .dataframe tbody tr th:only-of-type {\n",
       "        vertical-align: middle;\n",
       "    }\n",
       "\n",
       "    .dataframe tbody tr th {\n",
       "        vertical-align: top;\n",
       "    }\n",
       "\n",
       "    .dataframe thead th {\n",
       "        text-align: right;\n",
       "    }\n",
       "</style>\n",
       "<table border=\"1\" class=\"dataframe\">\n",
       "  <thead>\n",
       "    <tr style=\"text-align: right;\">\n",
       "      <th></th>\n",
       "      <th>abdt</th>\n",
       "      <th>tg</th>\n",
       "      <th>inuidur1</th>\n",
       "      <th>inuidur2</th>\n",
       "      <th>female</th>\n",
       "      <th>black</th>\n",
       "      <th>hispanic</th>\n",
       "      <th>othrace</th>\n",
       "      <th>dep</th>\n",
       "      <th>q1</th>\n",
       "      <th>...</th>\n",
       "      <th>q6</th>\n",
       "      <th>recall</th>\n",
       "      <th>agelt35</th>\n",
       "      <th>agegt54</th>\n",
       "      <th>durable</th>\n",
       "      <th>nondurable</th>\n",
       "      <th>lusd</th>\n",
       "      <th>husd</th>\n",
       "      <th>muld</th>\n",
       "      <th>T4</th>\n",
       "    </tr>\n",
       "  </thead>\n",
       "  <tbody>\n",
       "    <tr>\n",
       "      <th>0</th>\n",
       "      <td>10824</td>\n",
       "      <td>0</td>\n",
       "      <td>18</td>\n",
       "      <td>18</td>\n",
       "      <td>0</td>\n",
       "      <td>0</td>\n",
       "      <td>0</td>\n",
       "      <td>0</td>\n",
       "      <td>2</td>\n",
       "      <td>0</td>\n",
       "      <td>...</td>\n",
       "      <td>0</td>\n",
       "      <td>0</td>\n",
       "      <td>0</td>\n",
       "      <td>0</td>\n",
       "      <td>0</td>\n",
       "      <td>0</td>\n",
       "      <td>1</td>\n",
       "      <td>0</td>\n",
       "      <td>NaN</td>\n",
       "      <td>0</td>\n",
       "    </tr>\n",
       "    <tr>\n",
       "      <th>1</th>\n",
       "      <td>10635</td>\n",
       "      <td>2</td>\n",
       "      <td>7</td>\n",
       "      <td>3</td>\n",
       "      <td>0</td>\n",
       "      <td>0</td>\n",
       "      <td>0</td>\n",
       "      <td>0</td>\n",
       "      <td>0</td>\n",
       "      <td>0</td>\n",
       "      <td>...</td>\n",
       "      <td>0</td>\n",
       "      <td>1</td>\n",
       "      <td>0</td>\n",
       "      <td>0</td>\n",
       "      <td>0</td>\n",
       "      <td>1</td>\n",
       "      <td>0</td>\n",
       "      <td>0</td>\n",
       "      <td>NaN</td>\n",
       "      <td>0</td>\n",
       "    </tr>\n",
       "    <tr>\n",
       "      <th>3</th>\n",
       "      <td>10824</td>\n",
       "      <td>0</td>\n",
       "      <td>1</td>\n",
       "      <td>1</td>\n",
       "      <td>0</td>\n",
       "      <td>0</td>\n",
       "      <td>0</td>\n",
       "      <td>0</td>\n",
       "      <td>0</td>\n",
       "      <td>0</td>\n",
       "      <td>...</td>\n",
       "      <td>0</td>\n",
       "      <td>0</td>\n",
       "      <td>0</td>\n",
       "      <td>0</td>\n",
       "      <td>0</td>\n",
       "      <td>1</td>\n",
       "      <td>0</td>\n",
       "      <td>0</td>\n",
       "      <td>NaN</td>\n",
       "      <td>0</td>\n",
       "    </tr>\n",
       "    <tr>\n",
       "      <th>4</th>\n",
       "      <td>10747</td>\n",
       "      <td>0</td>\n",
       "      <td>27</td>\n",
       "      <td>27</td>\n",
       "      <td>0</td>\n",
       "      <td>0</td>\n",
       "      <td>0</td>\n",
       "      <td>0</td>\n",
       "      <td>0</td>\n",
       "      <td>0</td>\n",
       "      <td>...</td>\n",
       "      <td>0</td>\n",
       "      <td>0</td>\n",
       "      <td>0</td>\n",
       "      <td>0</td>\n",
       "      <td>0</td>\n",
       "      <td>1</td>\n",
       "      <td>0</td>\n",
       "      <td>0</td>\n",
       "      <td>NaN</td>\n",
       "      <td>0</td>\n",
       "    </tr>\n",
       "    <tr>\n",
       "      <th>9</th>\n",
       "      <td>10754</td>\n",
       "      <td>2</td>\n",
       "      <td>20</td>\n",
       "      <td>20</td>\n",
       "      <td>1</td>\n",
       "      <td>0</td>\n",
       "      <td>0</td>\n",
       "      <td>0</td>\n",
       "      <td>0</td>\n",
       "      <td>0</td>\n",
       "      <td>...</td>\n",
       "      <td>0</td>\n",
       "      <td>0</td>\n",
       "      <td>0</td>\n",
       "      <td>0</td>\n",
       "      <td>0</td>\n",
       "      <td>0</td>\n",
       "      <td>0</td>\n",
       "      <td>1</td>\n",
       "      <td>NaN</td>\n",
       "      <td>0</td>\n",
       "    </tr>\n",
       "  </tbody>\n",
       "</table>\n",
       "<p>5 rows × 25 columns</p>\n",
       "</div>"
      ],
      "text/plain": [
       "    abdt  tg  inuidur1  inuidur2  female  black  hispanic  othrace dep  q1  \\\n",
       "0  10824   0        18        18       0      0         0        0   2   0   \n",
       "1  10635   2         7         3       0      0         0        0   0   0   \n",
       "3  10824   0         1         1       0      0         0        0   0   0   \n",
       "4  10747   0        27        27       0      0         0        0   0   0   \n",
       "9  10754   2        20        20       1      0         0        0   0   0   \n",
       "\n",
       "   ...  q6  recall  agelt35  agegt54  durable  nondurable  lusd  husd  muld  \\\n",
       "0  ...   0       0        0        0        0           0     1     0   NaN   \n",
       "1  ...   0       1        0        0        0           1     0     0   NaN   \n",
       "3  ...   0       0        0        0        0           1     0     0   NaN   \n",
       "4  ...   0       0        0        0        0           1     0     0   NaN   \n",
       "9  ...   0       0        0        0        0           0     0     1   NaN   \n",
       "\n",
       "   T4  \n",
       "0   0  \n",
       "1   0  \n",
       "3   0  \n",
       "4   0  \n",
       "9   0  \n",
       "\n",
       "[5 rows x 25 columns]"
      ]
     },
     "execution_count": 4,
     "metadata": {},
     "output_type": "execute_result"
    }
   ],
   "source": [
    "# Dependent variable\n",
    "Penn['T4'] = (Penn[['tg']]==4).astype(int)\n",
    "\n",
    "# Create category variable\n",
    "Penn['dep'] = Penn['dep'].astype( 'category' )\n",
    "Penn.head()"
   ]
  },
  {
   "cell_type": "code",
   "execution_count": 5,
   "metadata": {},
   "outputs": [
    {
     "data": {
      "text/plain": [
       "[2, 0, 1]\n",
       "Categories (3, int64): [0, 1, 2]"
      ]
     },
     "execution_count": 5,
     "metadata": {},
     "output_type": "execute_result"
    }
   ],
   "source": [
    "Penn['dep'].unique()"
   ]
  },
  {
   "cell_type": "markdown",
   "metadata": {
    "hide_input": false,
    "papermill": {
     "duration": 0.012846,
     "end_time": "2021-02-20T13:42:41.672662",
     "exception": false,
     "start_time": "2021-02-20T13:42:41.659816",
     "status": "completed"
    },
    "tags": []
   },
   "source": [
    "### Model \n",
    "To evaluate the impact of the treatments on unemployment duration, we consider the linear regression model:\n",
    "\n",
    "$$\n",
    "Y =  D \\beta_1 + W'\\beta_2 + \\varepsilon, \\quad E \\varepsilon (D,W')' = 0,\n",
    "$$\n",
    "\n",
    "where $Y$ is  the  log of duration of unemployment, $D$ is a treatment  indicators,  and $W$ is a set of controls including age group dummies, gender, race, number of dependents, quarter of the experiment, location within the state, existence of recall expectations, and type of occupation.   Here $\\beta_1$ is the ATE, if the RCT assumptions hold rigorously.\n",
    "\n",
    "\n",
    "We also consider interactive regression model:\n",
    "\n",
    "$$\n",
    "Y =  D \\alpha_1 + D W' \\alpha_2 + W'\\beta_2 + \\varepsilon, \\quad E \\varepsilon (D,W', DW')' = 0,\n",
    "$$\n",
    "where $W$'s are demeaned (apart from the intercept), so that $\\alpha_1$ is the ATE, if the RCT assumptions hold rigorously."
   ]
  },
  {
   "cell_type": "markdown",
   "metadata": {
    "papermill": {
     "duration": 0.012735,
     "end_time": "2021-02-20T13:42:41.698676",
     "exception": false,
     "start_time": "2021-02-20T13:42:41.685941",
     "status": "completed"
    },
    "tags": []
   },
   "source": [
    "Under RCT, the projection coefficient $\\beta_1$ has\n",
    "the interpretation of the causal effect of the treatment on\n",
    "the average outcome. We thus refer to $\\beta_1$ as the average\n",
    "treatment effect (ATE). Note that the covariates, here are\n",
    "independent of the treatment $D$, so we can identify $\\beta_1$ by\n",
    "just linear regression of $Y$ on $D$, without adding covariates.\n",
    "However we do add covariates in an effort to improve the\n",
    "precision of our estimates of the average treatment effect."
   ]
  },
  {
   "cell_type": "markdown",
   "metadata": {
    "papermill": {
     "duration": 0.012728,
     "end_time": "2021-02-20T13:42:41.724182",
     "exception": false,
     "start_time": "2021-02-20T13:42:41.711454",
     "status": "completed"
    },
    "tags": []
   },
   "source": [
    "### Analysis\n",
    "\n",
    "We consider \n",
    "\n",
    "*  classical 2-sample approach, no adjustment (CL)\n",
    "*  classical linear regression adjustment (CRA)\n",
    "*  interactive regression adjusment (IRA)\n",
    "\n",
    "and carry out robust inference using the *estimatr* R packages. "
   ]
  },
  {
   "cell_type": "markdown",
   "metadata": {
    "papermill": {
     "duration": 0.01276,
     "end_time": "2021-02-20T13:42:41.749736",
     "exception": false,
     "start_time": "2021-02-20T13:42:41.736976",
     "status": "completed"
    },
    "tags": []
   },
   "source": [
    "# Carry out covariate balance check"
   ]
  },
  {
   "cell_type": "markdown",
   "metadata": {
    "papermill": {
     "duration": 0.013486,
     "end_time": "2021-02-20T13:42:41.776684",
     "exception": false,
     "start_time": "2021-02-20T13:42:41.763198",
     "status": "completed"
    },
    "tags": []
   },
   "source": [
    "This is done using \"lm_robust\" command which unlike \"lm\" in the base command automatically does the correct Eicher-Huber-White standard errors, instead othe classical non-robus formula based on the homoscdedasticity command."
   ]
  },
  {
   "cell_type": "code",
   "execution_count": 6,
   "metadata": {
    "hide_input": false
   },
   "outputs": [],
   "source": [
    "import statsmodels.api as sm\n",
    "import statsmodels.formula.api as smf\n",
    "import patsy\n",
    "import numpy as np"
   ]
  },
  {
   "cell_type": "markdown",
   "metadata": {},
   "source": [
    "## Regress treatment on all covariates\n",
    "I use data from R"
   ]
  },
  {
   "cell_type": "code",
   "execution_count": 7,
   "metadata": {},
   "outputs": [],
   "source": [
    "y = Penn[['T4']].reset_index( drop = True )"
   ]
  },
  {
   "cell_type": "code",
   "execution_count": 8,
   "metadata": {},
   "outputs": [],
   "source": [
    "# Get data from R\n",
    "result = pyreadr.read_r('../data/m_reg.RData')\n",
    "X_vars = result['X1']"
   ]
  },
  {
   "cell_type": "code",
   "execution_count": 9,
   "metadata": {},
   "outputs": [
    {
     "ename": "ValueError",
     "evalue": "The indices for endog and exog are not aligned",
     "output_type": "error",
     "traceback": [
      "\u001b[1;31m---------------------------------------------------------------------------\u001b[0m",
      "\u001b[1;31mValueError\u001b[0m                                Traceback (most recent call last)",
      "Input \u001b[1;32mIn [9]\u001b[0m, in \u001b[0;36m<cell line: 2>\u001b[1;34m()\u001b[0m\n\u001b[0;32m      1\u001b[0m \u001b[38;5;66;03m# model = \"T4~(female+black+othrace+C(dep)+q2+q3+q4+q5+q6+agelt35+agegt54+durable+lusd+husd)**2\"\u001b[39;00m\n\u001b[1;32m----> 2\u001b[0m model_results \u001b[38;5;241m=\u001b[39m \u001b[43msm\u001b[49m\u001b[38;5;241;43m.\u001b[39;49m\u001b[43mOLS\u001b[49m\u001b[43m(\u001b[49m\u001b[43m \u001b[49m\u001b[43my\u001b[49m\u001b[43m,\u001b[49m\u001b[43m \u001b[49m\u001b[43mX_vars\u001b[49m\u001b[43m \u001b[49m\u001b[43m)\u001b[49m\u001b[38;5;241m.\u001b[39mfit()\u001b[38;5;241m.\u001b[39mget_robustcov_results(cov_type \u001b[38;5;241m=\u001b[39m \u001b[38;5;124m\"\u001b[39m\u001b[38;5;124mHC1\u001b[39m\u001b[38;5;124m\"\u001b[39m)\n\u001b[0;32m      4\u001b[0m \u001b[38;5;28mprint\u001b[39m(model_results\u001b[38;5;241m.\u001b[39msummary())\n\u001b[0;32m      5\u001b[0m \u001b[38;5;28mprint\u001b[39m( \u001b[38;5;124m\"\u001b[39m\u001b[38;5;124mNumber of regressors in the basic model:\u001b[39m\u001b[38;5;124m\"\u001b[39m,\u001b[38;5;28mlen\u001b[39m(model_results\u001b[38;5;241m.\u001b[39mparams), \u001b[38;5;124m'\u001b[39m\u001b[38;5;130;01m\\n\u001b[39;00m\u001b[38;5;124m'\u001b[39m)\n",
      "File \u001b[1;32m~\\anaconda3\\lib\\site-packages\\statsmodels\\regression\\linear_model.py:890\u001b[0m, in \u001b[0;36mOLS.__init__\u001b[1;34m(self, endog, exog, missing, hasconst, **kwargs)\u001b[0m\n\u001b[0;32m    887\u001b[0m     msg \u001b[38;5;241m=\u001b[39m (\u001b[38;5;124m\"\u001b[39m\u001b[38;5;124mWeights are not supported in OLS and will be ignored\u001b[39m\u001b[38;5;124m\"\u001b[39m\n\u001b[0;32m    888\u001b[0m            \u001b[38;5;124m\"\u001b[39m\u001b[38;5;124mAn exception will be raised in the next version.\u001b[39m\u001b[38;5;124m\"\u001b[39m)\n\u001b[0;32m    889\u001b[0m     warnings\u001b[38;5;241m.\u001b[39mwarn(msg, ValueWarning)\n\u001b[1;32m--> 890\u001b[0m \u001b[38;5;28msuper\u001b[39m(OLS, \u001b[38;5;28mself\u001b[39m)\u001b[38;5;241m.\u001b[39m\u001b[38;5;21m__init__\u001b[39m(endog, exog, missing\u001b[38;5;241m=\u001b[39mmissing,\n\u001b[0;32m    891\u001b[0m                           hasconst\u001b[38;5;241m=\u001b[39mhasconst, \u001b[38;5;241m*\u001b[39m\u001b[38;5;241m*\u001b[39mkwargs)\n\u001b[0;32m    892\u001b[0m \u001b[38;5;28;01mif\u001b[39;00m \u001b[38;5;124m\"\u001b[39m\u001b[38;5;124mweights\u001b[39m\u001b[38;5;124m\"\u001b[39m \u001b[38;5;129;01min\u001b[39;00m \u001b[38;5;28mself\u001b[39m\u001b[38;5;241m.\u001b[39m_init_keys:\n\u001b[0;32m    893\u001b[0m     \u001b[38;5;28mself\u001b[39m\u001b[38;5;241m.\u001b[39m_init_keys\u001b[38;5;241m.\u001b[39mremove(\u001b[38;5;124m\"\u001b[39m\u001b[38;5;124mweights\u001b[39m\u001b[38;5;124m\"\u001b[39m)\n",
      "File \u001b[1;32m~\\anaconda3\\lib\\site-packages\\statsmodels\\regression\\linear_model.py:717\u001b[0m, in \u001b[0;36mWLS.__init__\u001b[1;34m(self, endog, exog, weights, missing, hasconst, **kwargs)\u001b[0m\n\u001b[0;32m    715\u001b[0m \u001b[38;5;28;01melse\u001b[39;00m:\n\u001b[0;32m    716\u001b[0m     weights \u001b[38;5;241m=\u001b[39m weights\u001b[38;5;241m.\u001b[39msqueeze()\n\u001b[1;32m--> 717\u001b[0m \u001b[38;5;28msuper\u001b[39m(WLS, \u001b[38;5;28mself\u001b[39m)\u001b[38;5;241m.\u001b[39m\u001b[38;5;21m__init__\u001b[39m(endog, exog, missing\u001b[38;5;241m=\u001b[39mmissing,\n\u001b[0;32m    718\u001b[0m                           weights\u001b[38;5;241m=\u001b[39mweights, hasconst\u001b[38;5;241m=\u001b[39mhasconst, \u001b[38;5;241m*\u001b[39m\u001b[38;5;241m*\u001b[39mkwargs)\n\u001b[0;32m    719\u001b[0m nobs \u001b[38;5;241m=\u001b[39m \u001b[38;5;28mself\u001b[39m\u001b[38;5;241m.\u001b[39mexog\u001b[38;5;241m.\u001b[39mshape[\u001b[38;5;241m0\u001b[39m]\n\u001b[0;32m    720\u001b[0m weights \u001b[38;5;241m=\u001b[39m \u001b[38;5;28mself\u001b[39m\u001b[38;5;241m.\u001b[39mweights\n",
      "File \u001b[1;32m~\\anaconda3\\lib\\site-packages\\statsmodels\\regression\\linear_model.py:191\u001b[0m, in \u001b[0;36mRegressionModel.__init__\u001b[1;34m(self, endog, exog, **kwargs)\u001b[0m\n\u001b[0;32m    190\u001b[0m \u001b[38;5;28;01mdef\u001b[39;00m \u001b[38;5;21m__init__\u001b[39m(\u001b[38;5;28mself\u001b[39m, endog, exog, \u001b[38;5;241m*\u001b[39m\u001b[38;5;241m*\u001b[39mkwargs):\n\u001b[1;32m--> 191\u001b[0m     \u001b[38;5;28msuper\u001b[39m(RegressionModel, \u001b[38;5;28mself\u001b[39m)\u001b[38;5;241m.\u001b[39m\u001b[38;5;21m__init__\u001b[39m(endog, exog, \u001b[38;5;241m*\u001b[39m\u001b[38;5;241m*\u001b[39mkwargs)\n\u001b[0;32m    192\u001b[0m     \u001b[38;5;28mself\u001b[39m\u001b[38;5;241m.\u001b[39m_data_attr\u001b[38;5;241m.\u001b[39mextend([\u001b[38;5;124m'\u001b[39m\u001b[38;5;124mpinv_wexog\u001b[39m\u001b[38;5;124m'\u001b[39m, \u001b[38;5;124m'\u001b[39m\u001b[38;5;124mwendog\u001b[39m\u001b[38;5;124m'\u001b[39m, \u001b[38;5;124m'\u001b[39m\u001b[38;5;124mwexog\u001b[39m\u001b[38;5;124m'\u001b[39m, \u001b[38;5;124m'\u001b[39m\u001b[38;5;124mweights\u001b[39m\u001b[38;5;124m'\u001b[39m])\n",
      "File \u001b[1;32m~\\anaconda3\\lib\\site-packages\\statsmodels\\base\\model.py:267\u001b[0m, in \u001b[0;36mLikelihoodModel.__init__\u001b[1;34m(self, endog, exog, **kwargs)\u001b[0m\n\u001b[0;32m    266\u001b[0m \u001b[38;5;28;01mdef\u001b[39;00m \u001b[38;5;21m__init__\u001b[39m(\u001b[38;5;28mself\u001b[39m, endog, exog\u001b[38;5;241m=\u001b[39m\u001b[38;5;28;01mNone\u001b[39;00m, \u001b[38;5;241m*\u001b[39m\u001b[38;5;241m*\u001b[39mkwargs):\n\u001b[1;32m--> 267\u001b[0m     \u001b[38;5;28msuper\u001b[39m()\u001b[38;5;241m.\u001b[39m\u001b[38;5;21m__init__\u001b[39m(endog, exog, \u001b[38;5;241m*\u001b[39m\u001b[38;5;241m*\u001b[39mkwargs)\n\u001b[0;32m    268\u001b[0m     \u001b[38;5;28mself\u001b[39m\u001b[38;5;241m.\u001b[39minitialize()\n",
      "File \u001b[1;32m~\\anaconda3\\lib\\site-packages\\statsmodels\\base\\model.py:92\u001b[0m, in \u001b[0;36mModel.__init__\u001b[1;34m(self, endog, exog, **kwargs)\u001b[0m\n\u001b[0;32m     90\u001b[0m missing \u001b[38;5;241m=\u001b[39m kwargs\u001b[38;5;241m.\u001b[39mpop(\u001b[38;5;124m'\u001b[39m\u001b[38;5;124mmissing\u001b[39m\u001b[38;5;124m'\u001b[39m, \u001b[38;5;124m'\u001b[39m\u001b[38;5;124mnone\u001b[39m\u001b[38;5;124m'\u001b[39m)\n\u001b[0;32m     91\u001b[0m hasconst \u001b[38;5;241m=\u001b[39m kwargs\u001b[38;5;241m.\u001b[39mpop(\u001b[38;5;124m'\u001b[39m\u001b[38;5;124mhasconst\u001b[39m\u001b[38;5;124m'\u001b[39m, \u001b[38;5;28;01mNone\u001b[39;00m)\n\u001b[1;32m---> 92\u001b[0m \u001b[38;5;28mself\u001b[39m\u001b[38;5;241m.\u001b[39mdata \u001b[38;5;241m=\u001b[39m \u001b[38;5;28mself\u001b[39m\u001b[38;5;241m.\u001b[39m_handle_data(endog, exog, missing, hasconst,\n\u001b[0;32m     93\u001b[0m                               \u001b[38;5;241m*\u001b[39m\u001b[38;5;241m*\u001b[39mkwargs)\n\u001b[0;32m     94\u001b[0m \u001b[38;5;28mself\u001b[39m\u001b[38;5;241m.\u001b[39mk_constant \u001b[38;5;241m=\u001b[39m \u001b[38;5;28mself\u001b[39m\u001b[38;5;241m.\u001b[39mdata\u001b[38;5;241m.\u001b[39mk_constant\n\u001b[0;32m     95\u001b[0m \u001b[38;5;28mself\u001b[39m\u001b[38;5;241m.\u001b[39mexog \u001b[38;5;241m=\u001b[39m \u001b[38;5;28mself\u001b[39m\u001b[38;5;241m.\u001b[39mdata\u001b[38;5;241m.\u001b[39mexog\n",
      "File \u001b[1;32m~\\anaconda3\\lib\\site-packages\\statsmodels\\base\\model.py:132\u001b[0m, in \u001b[0;36mModel._handle_data\u001b[1;34m(self, endog, exog, missing, hasconst, **kwargs)\u001b[0m\n\u001b[0;32m    131\u001b[0m \u001b[38;5;28;01mdef\u001b[39;00m \u001b[38;5;21m_handle_data\u001b[39m(\u001b[38;5;28mself\u001b[39m, endog, exog, missing, hasconst, \u001b[38;5;241m*\u001b[39m\u001b[38;5;241m*\u001b[39mkwargs):\n\u001b[1;32m--> 132\u001b[0m     data \u001b[38;5;241m=\u001b[39m handle_data(endog, exog, missing, hasconst, \u001b[38;5;241m*\u001b[39m\u001b[38;5;241m*\u001b[39mkwargs)\n\u001b[0;32m    133\u001b[0m     \u001b[38;5;66;03m# kwargs arrays could have changed, easier to just attach here\u001b[39;00m\n\u001b[0;32m    134\u001b[0m     \u001b[38;5;28;01mfor\u001b[39;00m key \u001b[38;5;129;01min\u001b[39;00m kwargs:\n",
      "File \u001b[1;32m~\\anaconda3\\lib\\site-packages\\statsmodels\\base\\data.py:673\u001b[0m, in \u001b[0;36mhandle_data\u001b[1;34m(endog, exog, missing, hasconst, **kwargs)\u001b[0m\n\u001b[0;32m    670\u001b[0m     exog \u001b[38;5;241m=\u001b[39m np\u001b[38;5;241m.\u001b[39masarray(exog)\n\u001b[0;32m    672\u001b[0m klass \u001b[38;5;241m=\u001b[39m handle_data_class_factory(endog, exog)\n\u001b[1;32m--> 673\u001b[0m \u001b[38;5;28;01mreturn\u001b[39;00m klass(endog, exog\u001b[38;5;241m=\u001b[39mexog, missing\u001b[38;5;241m=\u001b[39mmissing, hasconst\u001b[38;5;241m=\u001b[39mhasconst,\n\u001b[0;32m    674\u001b[0m              \u001b[38;5;241m*\u001b[39m\u001b[38;5;241m*\u001b[39mkwargs)\n",
      "File \u001b[1;32m~\\anaconda3\\lib\\site-packages\\statsmodels\\base\\data.py:87\u001b[0m, in \u001b[0;36mModelData.__init__\u001b[1;34m(self, endog, exog, missing, hasconst, **kwargs)\u001b[0m\n\u001b[0;32m     85\u001b[0m \u001b[38;5;28mself\u001b[39m\u001b[38;5;241m.\u001b[39mk_constant \u001b[38;5;241m=\u001b[39m \u001b[38;5;241m0\u001b[39m\n\u001b[0;32m     86\u001b[0m \u001b[38;5;28mself\u001b[39m\u001b[38;5;241m.\u001b[39m_handle_constant(hasconst)\n\u001b[1;32m---> 87\u001b[0m \u001b[38;5;28;43mself\u001b[39;49m\u001b[38;5;241;43m.\u001b[39;49m\u001b[43m_check_integrity\u001b[49m\u001b[43m(\u001b[49m\u001b[43m)\u001b[49m\n\u001b[0;32m     88\u001b[0m \u001b[38;5;28mself\u001b[39m\u001b[38;5;241m.\u001b[39m_cache \u001b[38;5;241m=\u001b[39m {}\n",
      "File \u001b[1;32m~\\anaconda3\\lib\\site-packages\\statsmodels\\base\\data.py:531\u001b[0m, in \u001b[0;36mPandasData._check_integrity\u001b[1;34m(self)\u001b[0m\n\u001b[0;32m    527\u001b[0m \u001b[38;5;66;03m# exog can be None and we could be upcasting one or the other\u001b[39;00m\n\u001b[0;32m    528\u001b[0m \u001b[38;5;28;01mif\u001b[39;00m (exog \u001b[38;5;129;01mis\u001b[39;00m \u001b[38;5;129;01mnot\u001b[39;00m \u001b[38;5;28;01mNone\u001b[39;00m \u001b[38;5;129;01mand\u001b[39;00m\n\u001b[0;32m    529\u001b[0m         (\u001b[38;5;28mhasattr\u001b[39m(endog, \u001b[38;5;124m'\u001b[39m\u001b[38;5;124mindex\u001b[39m\u001b[38;5;124m'\u001b[39m) \u001b[38;5;129;01mand\u001b[39;00m \u001b[38;5;28mhasattr\u001b[39m(exog, \u001b[38;5;124m'\u001b[39m\u001b[38;5;124mindex\u001b[39m\u001b[38;5;124m'\u001b[39m)) \u001b[38;5;129;01mand\u001b[39;00m\n\u001b[0;32m    530\u001b[0m         \u001b[38;5;129;01mnot\u001b[39;00m \u001b[38;5;28mself\u001b[39m\u001b[38;5;241m.\u001b[39morig_endog\u001b[38;5;241m.\u001b[39mindex\u001b[38;5;241m.\u001b[39mequals(\u001b[38;5;28mself\u001b[39m\u001b[38;5;241m.\u001b[39morig_exog\u001b[38;5;241m.\u001b[39mindex)):\n\u001b[1;32m--> 531\u001b[0m     \u001b[38;5;28;01mraise\u001b[39;00m \u001b[38;5;167;01mValueError\u001b[39;00m(\u001b[38;5;124m\"\u001b[39m\u001b[38;5;124mThe indices for endog and exog are not aligned\u001b[39m\u001b[38;5;124m\"\u001b[39m)\n\u001b[0;32m    532\u001b[0m \u001b[38;5;28msuper\u001b[39m(PandasData, \u001b[38;5;28mself\u001b[39m)\u001b[38;5;241m.\u001b[39m_check_integrity()\n",
      "\u001b[1;31mValueError\u001b[0m: The indices for endog and exog are not aligned"
     ]
    }
   ],
   "source": [
    "# model = \"T4~(female+black+othrace+C(dep)+q2+q3+q4+q5+q6+agelt35+agegt54+durable+lusd+husd)**2\"\n",
    "model_results = sm.OLS( y, X_vars ).fit().get_robustcov_results(cov_type = \"HC1\")\n",
    "\n",
    "print(model_results.summary())\n",
    "print( \"Number of regressors in the basic model:\",len(model_results.params), '\\n')"
   ]
  },
  {
   "cell_type": "markdown",
   "metadata": {
    "papermill": {
     "duration": 0.02549,
     "end_time": "2021-02-20T13:42:42.269256",
     "exception": false,
     "start_time": "2021-02-20T13:42:42.243766",
     "status": "completed"
    },
    "tags": []
   },
   "source": [
    "We see that that even though this is a randomized experiment, balance conditions are failed."
   ]
  },
  {
   "cell_type": "markdown",
   "metadata": {
    "papermill": {
     "duration": 0.021046,
     "end_time": "2021-02-20T13:42:42.315674",
     "exception": false,
     "start_time": "2021-02-20T13:42:42.294628",
     "status": "completed"
    },
    "tags": []
   },
   "source": [
    "# Model Specification\n",
    "I use data from R."
   ]
  },
  {
   "cell_type": "code",
   "execution_count": 10,
   "metadata": {},
   "outputs": [
    {
     "name": "stdout",
     "output_type": "stream",
     "text": [
      "                            OLS Regression Results                            \n",
      "==============================================================================\n",
      "Dep. Variable:           log_inuidur1   R-squared:                       0.001\n",
      "Model:                            OLS   Adj. R-squared:                  0.001\n",
      "Method:                 Least Squares   F-statistic:                     5.680\n",
      "Date:                Fri, 17 Sep 2021   Prob (F-statistic):             0.0172\n",
      "Time:                        16:31:12   Log-Likelihood:                -8223.8\n",
      "No. Observations:                5099   AIC:                         1.645e+04\n",
      "Df Residuals:                    5097   BIC:                         1.646e+04\n",
      "Df Model:                           1                                         \n",
      "Covariance Type:                  HC1                                         \n",
      "==============================================================================\n",
      "                 coef    std err          t      P>|t|      [0.025      0.975]\n",
      "------------------------------------------------------------------------------\n",
      "Intercept      2.0568      0.021     98.156      0.000       2.016       2.098\n",
      "T4            -0.0855      0.036     -2.383      0.017      -0.156      -0.015\n",
      "==============================================================================\n",
      "Omnibus:                     2610.670   Durbin-Watson:                   1.973\n",
      "Prob(Omnibus):                  0.000   Jarque-Bera (JB):              516.984\n",
      "Skew:                          -0.542   Prob(JB):                    5.47e-113\n",
      "Kurtosis:                       1.877   Cond. No.                         2.41\n",
      "==============================================================================\n",
      "\n",
      "Notes:\n",
      "[1] Standard Errors are heteroscedasticity robust (HC1)\n",
      "                            OLS Regression Results                            \n",
      "==============================================================================\n",
      "Dep. Variable:               inuidur1   R-squared:                       0.060\n",
      "Model:                            OLS   Adj. R-squared:                  0.040\n",
      "Method:                 Least Squares   F-statistic:                     16.64\n",
      "Date:                Fri, 17 Sep 2021   Prob (F-statistic):          3.84e-244\n",
      "Time:                        16:31:12   Log-Likelihood:                -8070.0\n",
      "No. Observations:                5099   AIC:                         1.635e+04\n",
      "Df Residuals:                    4995   BIC:                         1.703e+04\n",
      "Df Model:                         103                                         \n",
      "Covariance Type:                  HC1                                         \n",
      "========================================================================================\n",
      "                           coef    std err          t      P>|t|      [0.025      0.975]\n",
      "----------------------------------------------------------------------------------------\n",
      "(Intercept)              2.6331      0.368      7.153      0.000       1.911       3.355\n",
      "T4TRUE                  -0.0797      0.036     -2.239      0.025      -0.149      -0.010\n",
      "female                  -0.1146      0.316     -0.362      0.717      -0.735       0.506\n",
      "black                   -0.8990      0.240     -3.742      0.000      -1.370      -0.428\n",
      "othrace                 -2.6269      0.454     -5.784      0.000      -3.517      -1.737\n",
      "factor(dep)1            -0.7197      0.581     -1.238      0.216      -1.859       0.420\n",
      "factor(dep)2            -0.0406      0.360     -0.113      0.910      -0.746       0.665\n",
      "q2                      -0.1597      0.370     -0.431      0.666      -0.886       0.567\n",
      "q3                      -0.5399      0.370     -1.459      0.145      -1.265       0.186\n",
      "q4                      -0.4334      0.371     -1.167      0.243      -1.161       0.294\n",
      "q5                      -0.3452      0.369     -0.936      0.349      -1.068       0.378\n",
      "q6                      -0.4937      0.371     -1.330      0.184      -1.221       0.234\n",
      "agelt35                 -0.6259      0.308     -2.035      0.042      -1.229      -0.023\n",
      "agegt54                 -0.3614      0.712     -0.507      0.612      -1.758       1.035\n",
      "durable                 -0.2792      0.492     -0.568      0.570      -1.243       0.684\n",
      "lusd                    -0.2229      0.187     -1.190      0.234      -0.590       0.144\n",
      "husd                    -0.1702      0.201     -0.847      0.397      -0.564       0.224\n",
      "female:black            -0.1550      0.122     -1.271      0.204      -0.394       0.084\n",
      "female:othrace           0.3102      0.424      0.732      0.464      -0.520       1.141\n",
      "female:factor(dep)1     -0.0279      0.118     -0.237      0.812      -0.258       0.202\n",
      "female:factor(dep)2      0.1482      0.103      1.440      0.150      -0.054       0.350\n",
      "female:q2               -0.0874      0.316     -0.277      0.782      -0.707       0.532\n",
      "female:q3                0.2049      0.316      0.649      0.516      -0.414       0.824\n",
      "female:q4                0.2732      0.316      0.866      0.387      -0.345       0.892\n",
      "female:q5                0.0611      0.315      0.194      0.846      -0.556       0.678\n",
      "female:q6                0.2872      0.338      0.849      0.396      -0.376       0.951\n",
      "female:agelt35           0.1264      0.077      1.639      0.101      -0.025       0.278\n",
      "female:agegt54           0.0400      0.127      0.314      0.754      -0.210       0.290\n",
      "female:durable           0.0680      0.110      0.619      0.536      -0.147       0.283\n",
      "female:lusd              0.0837      0.085      0.986      0.324      -0.083       0.250\n",
      "female:husd              0.0623      0.094      0.663      0.507      -0.122       0.247\n",
      "black:factor(dep)1       0.1575      0.194      0.810      0.418      -0.224       0.539\n",
      "black:factor(dep)2      -0.1038      0.183     -0.567      0.571      -0.463       0.255\n",
      "black:q2                 0.4585      0.250      1.832      0.067      -0.032       0.949\n",
      "black:q3                 0.4166      0.241      1.731      0.084      -0.055       0.888\n",
      "black:q4                 0.5485      0.241      2.280      0.023       0.077       1.020\n",
      "black:q5                 0.7346      0.239      3.079      0.002       0.267       1.202\n",
      "black:agelt35            0.0151      0.128      0.118      0.906      -0.236       0.266\n",
      "black:agegt54            0.4438      0.203      2.183      0.029       0.045       0.842\n",
      "black:durable            0.2436      0.177      1.378      0.168      -0.103       0.590\n",
      "black:lusd               0.2910      0.152      1.919      0.055      -0.006       0.588\n",
      "black:husd               1.3149      0.338      3.896      0.000       0.653       1.977\n",
      "othrace:factor(dep)1     1.0736      0.641      1.674      0.094      -0.184       2.331\n",
      "othrace:factor(dep)2     0.0070      0.429      0.016      0.987      -0.834       0.848\n",
      "othrace:q2               1.7441      0.494      3.531      0.000       0.776       2.712\n",
      "othrace:q3               1.3575      0.601      2.261      0.024       0.180       2.535\n",
      "othrace:q4               1.4433      0.511      2.822      0.005       0.441       2.446\n",
      "othrace:q5               1.4252      0.538      2.651      0.008       0.371       2.479\n",
      "othrace:agelt35          1.1845      0.389      3.048      0.002       0.423       1.946\n",
      "othrace:agegt54         -0.2219      0.695     -0.319      0.749      -1.584       1.140\n",
      "othrace:durable          1.6280      0.365      4.464      0.000       0.913       2.343\n",
      "othrace:lusd            -0.0707      0.461     -0.153      0.878      -0.975       0.834\n",
      "othrace:husd            -0.7714      0.351     -2.197      0.028      -1.460      -0.083\n",
      "factor(dep)1:q2          0.6398      0.573      1.116      0.264      -0.484       1.763\n",
      "factor(dep)2:q2         -0.0445      0.358     -0.124      0.901      -0.747       0.658\n",
      "factor(dep)1:q3          0.6984      0.574      1.217      0.224      -0.427       1.823\n",
      "factor(dep)2:q3         -0.0295      0.359     -0.082      0.934      -0.734       0.674\n",
      "factor(dep)1:q4          0.5041      0.574      0.879      0.379      -0.620       1.629\n",
      "factor(dep)2:q4          0.1390      0.361      0.385      0.700      -0.569       0.848\n",
      "factor(dep)1:q5          0.5278      0.571      0.924      0.355      -0.592       1.647\n",
      "factor(dep)2:q5         -0.1697      0.359     -0.472      0.637      -0.874       0.535\n",
      "factor(dep)1:q6          1.0950      0.603      1.816      0.069      -0.087       2.277\n",
      "factor(dep)2:q6          0.3409      0.388      0.879      0.379      -0.419       1.101\n",
      "factor(dep)1:agelt35     0.0746      0.122      0.612      0.541      -0.164       0.314\n",
      "factor(dep)2:agelt35     0.0333      0.094      0.353      0.724      -0.152       0.218\n",
      "factor(dep)1:agegt54     0.0725      0.169      0.429      0.668      -0.259       0.404\n",
      "factor(dep)2:agegt54     0.1567      0.369      0.425      0.671      -0.566       0.879\n",
      "factor(dep)1:durable     0.2946      0.149      1.979      0.048       0.003       0.586\n",
      "factor(dep)2:durable     0.0454      0.120      0.379      0.705      -0.189       0.280\n",
      "factor(dep)1:lusd        0.1500      0.128      1.169      0.242      -0.101       0.401\n",
      "factor(dep)2:lusd        0.1826      0.113      1.617      0.106      -0.039       0.404\n",
      "factor(dep)1:husd        0.0814      0.139      0.587      0.557      -0.190       0.353\n",
      "factor(dep)2:husd        0.1522      0.121      1.258      0.209      -0.085       0.390\n",
      "q2:agelt35               0.4302      0.307      1.401      0.161      -0.172       1.032\n",
      "q2:agegt54               0.6712      0.709      0.947      0.344      -0.718       2.061\n",
      "q2:durable              -0.1064      0.488     -0.218      0.827      -1.062       0.850\n",
      "q2:lusd                 -0.0428      0.190     -0.226      0.821      -0.414       0.329\n",
      "q2:husd                 -0.0417      0.197     -0.212      0.832      -0.428       0.344\n",
      "q3:agelt35               0.4545      0.307      1.479      0.139      -0.148       1.057\n",
      "q3:agegt54               0.8660      0.709      1.221      0.222      -0.524       2.256\n",
      "q3:durable               0.2450      0.487      0.503      0.615      -0.710       1.200\n",
      "q3:lusd                  0.0859      0.187      0.459      0.646      -0.281       0.453\n",
      "q3:husd                  0.1703      0.197      0.865      0.387      -0.216       0.556\n",
      "q4:agelt35               0.3882      0.307      1.263      0.207      -0.214       0.991\n",
      "q4:agegt54               0.5553      0.707      0.785      0.432      -0.832       1.942\n",
      "q4:durable               0.2173      0.491      0.443      0.658      -0.745       1.180\n",
      "q4:lusd                 -0.0950      0.188     -0.505      0.614      -0.464       0.274\n",
      "q4:husd                 -0.1206      0.199     -0.606      0.545      -0.511       0.270\n",
      "q5:agelt35               0.2780      0.306      0.908      0.364      -0.322       0.878\n",
      "q5:agegt54               0.4515      0.706      0.639      0.523      -0.933       1.836\n",
      "q5:durable               0.2881      0.487      0.591      0.554      -0.667       1.243\n",
      "q5:lusd                 -0.1040      0.189     -0.550      0.582      -0.475       0.267\n",
      "q5:husd                 -0.1523      0.197     -0.774      0.439      -0.538       0.234\n",
      "q6:agelt35               0.3381      0.333      1.016      0.310      -0.314       0.990\n",
      "q6:agegt54               0.9493      0.729      1.302      0.193      -0.480       2.378\n",
      "q6:durable               0.4092      0.508      0.805      0.421      -0.587       1.405\n",
      "agelt35:durable          0.0253      0.102      0.249      0.803      -0.174       0.224\n",
      "agelt35:lusd            -0.0653      0.088     -0.739      0.460      -0.238       0.108\n",
      "agelt35:husd             0.0577      0.102      0.567      0.571      -0.142       0.257\n",
      "agegt54:durable          0.0320      0.166      0.193      0.847      -0.293       0.357\n",
      "agegt54:lusd            -0.1482      0.137     -1.078      0.281      -0.418       0.121\n",
      "agegt54:husd            -0.3015      0.154     -1.961      0.050      -0.603      -0.000\n",
      "durable:lusd             0.1158      0.110      1.052      0.293      -0.100       0.332\n",
      "durable:husd             0.2376      0.129      1.842      0.066      -0.015       0.491\n",
      "==============================================================================\n",
      "Omnibus:                     1286.589   Durbin-Watson:                   1.987\n",
      "Prob(Omnibus):                  0.000   Jarque-Bera (JB):              424.494\n",
      "Skew:                          -0.505   Prob(JB):                     6.64e-93\n",
      "Kurtosis:                       2.010   Cond. No.                         181.\n",
      "==============================================================================\n",
      "\n",
      "Notes:\n",
      "[1] Standard Errors are heteroscedasticity robust (HC1)\n"
     ]
    }
   ],
   "source": [
    "# model specifications\n",
    "# take log of inuidur1\n",
    "Penn[\"log_inuidur1\"] = np.log( Penn[\"inuidur1\"] ) \n",
    "log_inuidur1 = pd.DataFrame(np.log( Penn[\"inuidur1\"] ) ).reset_index( drop = True )\n",
    "\n",
    "# no adjustment (2-sample approach)\n",
    "formula_cl = 'log_inuidur1 ~ T4'\n",
    "\n",
    "# adding controls\n",
    "# formula_cra = 'log_inuidur1 ~ T4 + (female+black+othrace+dep+q2+q3+q4+q5+q6+agelt35+agegt54+durable+lusd+husd)**2'\n",
    "# Omitted dummies: q1, nondurable, muld\n",
    "\n",
    "ols_cl = smf.ols( formula = formula_cl, data = Penn ).fit().get_robustcov_results(cov_type = \"HC1\")\n",
    "\n",
    "#getting data\n",
    "# Get data from R\n",
    "result = pyreadr.read_r('../data/ols_cra_reg.RData')\n",
    "X_vars = result['X1']\n",
    "\n",
    "ols_cra = sm.OLS( log_inuidur1, X_vars ).fit().get_robustcov_results(cov_type = \"HC1\")\n",
    "\n",
    "# Results \n",
    "print(ols_cl.summary())\n",
    "print(ols_cra.summary())"
   ]
  },
  {
   "cell_type": "markdown",
   "metadata": {
    "papermill": {
     "duration": 0.02768,
     "end_time": "2021-02-20T13:42:42.735966",
     "exception": false,
     "start_time": "2021-02-20T13:42:42.708286",
     "status": "completed"
    },
    "tags": []
   },
   "source": [
    "The interactive specificaiton corresponds to the approach introduced in Lin (2013)."
   ]
  },
  {
   "cell_type": "code",
   "execution_count": 11,
   "metadata": {},
   "outputs": [],
   "source": [
    "# create Y variable \n",
    "log_inuidur1 = pd.DataFrame(np.log( Penn[\"inuidur1\"] )).reset_index( drop = True )"
   ]
  },
  {
   "cell_type": "code",
   "execution_count": 12,
   "metadata": {},
   "outputs": [
    {
     "name": "stdout",
     "output_type": "stream",
     "text": [
      "                            OLS Regression Results                            \n",
      "==============================================================================\n",
      "Dep. Variable:               inuidur1   R-squared:                       0.079\n",
      "Model:                            OLS   Adj. R-squared:                  0.041\n",
      "Method:                 Least Squares   F-statistic:                     30.63\n",
      "Date:                Fri, 17 Sep 2021   Prob (F-statistic):               0.00\n",
      "Time:                        16:31:13   Log-Likelihood:                -8016.3\n",
      "No. Observations:                5099   AIC:                         1.644e+04\n",
      "Df Residuals:                    4896   BIC:                         1.777e+04\n",
      "Df Model:                         202                                         \n",
      "Covariance Type:                  HC1                                         \n",
      "============================================================================================\n",
      "                               coef    std err          t      P>|t|      [0.025      0.975]\n",
      "--------------------------------------------------------------------------------------------\n",
      "(Intercept)                  2.0318      0.017    120.388      0.000       1.999       2.065\n",
      "T4                          -0.0755      0.036     -2.121      0.034      -0.145      -0.006\n",
      "Xfemale                     -0.1294      0.319     -0.406      0.685      -0.754       0.495\n",
      "Xblack                      -0.9210      0.246     -3.744      0.000      -1.403      -0.439\n",
      "Xothrace                    -3.2933      0.631     -5.223      0.000      -4.529      -2.057\n",
      "Xfactor(dep)1               -0.7625      0.504     -1.512      0.131      -1.751       0.226\n",
      "Xfactor(dep)2                0.0193      0.351      0.055      0.956      -0.669       0.708\n",
      "Xq2                         -0.1371      0.391     -0.350      0.726      -0.904       0.630\n",
      "Xq3                         -0.5212      0.391     -1.333      0.182      -1.287       0.245\n",
      "Xq4                         -0.4196      0.392     -1.072      0.284      -1.187       0.348\n",
      "Xq5                         -0.3362      0.390     -0.863      0.388      -1.100       0.428\n",
      "Xq6                         -0.4730      0.395     -1.197      0.231      -1.248       0.302\n",
      "Xagelt35                    -0.6148      0.321     -1.913      0.056      -1.245       0.015\n",
      "Xagegt54                    -0.2266      0.718     -0.316      0.752      -1.634       1.181\n",
      "Xdurable                    -0.4414      0.434     -1.017      0.309      -1.292       0.409\n",
      "Xlusd                       -0.2546      0.193     -1.319      0.187      -0.633       0.124\n",
      "Xhusd                       -0.2155      0.209     -1.031      0.303      -0.625       0.194\n",
      "Xfemale:black               -0.1682      0.123     -1.365      0.172      -0.410       0.073\n",
      "Xfemale:othrace              0.4083      0.413      0.990      0.322      -0.401       1.217\n",
      "Xfemale:factor(dep)1        -0.0379      0.115     -0.328      0.743      -0.264       0.188\n",
      "Xfemale:factor(dep)2         0.1796      0.104      1.734      0.083      -0.023       0.383\n",
      "Xfemale:q2                  -0.0630      0.316     -0.199      0.842      -0.683       0.557\n",
      "Xfemale:q3                   0.2286      0.316      0.722      0.470      -0.392       0.849\n",
      "Xfemale:q4                   0.2874      0.317      0.908      0.364      -0.333       0.908\n",
      "Xfemale:q5                   0.0826      0.315      0.262      0.793      -0.536       0.701\n",
      "Xfemale:q6                   0.3235      0.341      0.948      0.343      -0.346       0.993\n",
      "Xfemale:agelt35              0.1397      0.078      1.790      0.074      -0.013       0.293\n",
      "Xfemale:agegt54              0.0726      0.129      0.562      0.574      -0.181       0.326\n",
      "Xfemale:durable              0.0712      0.114      0.626      0.531      -0.152       0.294\n",
      "Xfemale:lusd                 0.0594      0.086      0.689      0.491      -0.110       0.228\n",
      "Xfemale:husd                 0.0089      0.095      0.094      0.925      -0.176       0.194\n",
      "Xblack:factor(dep)1          0.1742      0.199      0.876      0.381      -0.215       0.564\n",
      "Xblack:factor(dep)2         -0.1015      0.185     -0.549      0.583      -0.464       0.261\n",
      "Xblack:q2                    0.4777      0.257      1.861      0.063      -0.026       0.981\n",
      "Xblack:q3                    0.4357      0.247      1.766      0.077      -0.048       0.919\n",
      "Xblack:q4                    0.5653      0.246      2.294      0.022       0.082       1.048\n",
      "Xblack:q5                    0.7634      0.245      3.118      0.002       0.283       1.243\n",
      "Xblack:agelt35               0.0248      0.130      0.190      0.849      -0.230       0.280\n",
      "Xblack:agegt54               0.4595      0.204      2.253      0.024       0.060       0.859\n",
      "Xblack:durable               0.2173      0.183      1.186      0.236      -0.142       0.576\n",
      "Xblack:lusd                  0.3123      0.151      2.065      0.039       0.016       0.609\n",
      "Xblack:husd                  1.0166      0.445      2.283      0.022       0.144       1.890\n",
      "Xothrace:factor(dep)1        2.5202      1.860      1.355      0.175      -1.125       6.166\n",
      "Xothrace:factor(dep)2        0.7091      0.401      1.767      0.077      -0.078       1.496\n",
      "Xothrace:q2                  1.6939      0.465      3.642      0.000       0.782       2.606\n",
      "Xothrace:q3                  1.2930      0.534      2.419      0.016       0.245       2.341\n",
      "Xothrace:q4                  2.5920      0.620      4.179      0.000       1.376       3.808\n",
      "Xothrace:q5                  1.1748      0.452      2.601      0.009       0.289       2.060\n",
      "Xothrace:agelt35             1.9828      0.666      2.977      0.003       0.677       3.289\n",
      "Xothrace:agegt54             0.6247      0.554      1.128      0.259      -0.461       1.710\n",
      "Xothrace:durable             1.8800      0.407      4.625      0.000       1.083       2.677\n",
      "Xothrace:lusd               -0.2795      0.354     -0.789      0.430      -0.974       0.415\n",
      "Xothrace:husd               -0.1798      0.614     -0.293      0.770      -1.383       1.024\n",
      "Xfactor(dep)1:q2             0.7246      0.499      1.453      0.146      -0.253       1.702\n",
      "Xfactor(dep)2:q2            -0.1405      0.350     -0.401      0.688      -0.827       0.546\n",
      "Xfactor(dep)1:q3             0.7431      0.499      1.490      0.136      -0.235       1.721\n",
      "Xfactor(dep)2:q3            -0.1036      0.351     -0.295      0.768      -0.791       0.584\n",
      "Xfactor(dep)1:q4             0.5445      0.499      1.091      0.275      -0.434       1.523\n",
      "Xfactor(dep)2:q4             0.0802      0.353      0.228      0.820      -0.611       0.771\n",
      "Xfactor(dep)1:q5             0.5348      0.495      1.079      0.280      -0.437       1.506\n",
      "Xfactor(dep)2:q5            -0.2546      0.351     -0.726      0.468      -0.942       0.433\n",
      "Xfactor(dep)1:q6             1.1489      0.536      2.145      0.032       0.099       2.199\n",
      "Xfactor(dep)2:q6             0.3320      0.382      0.868      0.385      -0.418       1.082\n",
      "Xfactor(dep)1:agelt35        0.0637      0.120      0.530      0.596      -0.172       0.299\n",
      "Xfactor(dep)2:agelt35        0.0275      0.096      0.288      0.774      -0.160       0.215\n",
      "Xfactor(dep)1:agegt54        0.1499      0.167      0.899      0.369      -0.177       0.477\n",
      "Xfactor(dep)2:agegt54        0.1148      0.321      0.357      0.721      -0.515       0.745\n",
      "Xfactor(dep)1:durable        0.2050      0.158      1.297      0.195      -0.105       0.515\n",
      "Xfactor(dep)2:durable        0.0345      0.124      0.278      0.781      -0.208       0.277\n",
      "Xfactor(dep)1:lusd           0.1281      0.127      1.007      0.314      -0.121       0.377\n",
      "Xfactor(dep)2:lusd           0.1761      0.114      1.551      0.121      -0.047       0.399\n",
      "Xfactor(dep)1:husd           0.0852      0.136      0.629      0.529      -0.180       0.351\n",
      "Xfactor(dep)2:husd           0.1941      0.122      1.589      0.112      -0.045       0.434\n",
      "Xq2:agelt35                  0.3975      0.321      1.239      0.216      -0.232       1.027\n",
      "Xq2:agegt54                  0.4714      0.715      0.659      0.510      -0.931       1.873\n",
      "Xq2:durable                  0.0846      0.427      0.198      0.843      -0.753       0.922\n",
      "Xq2:lusd                    -0.0108      0.197     -0.055      0.956      -0.396       0.375\n",
      "Xq2:husd                     0.0003      0.206      0.002      0.999      -0.403       0.403\n",
      "Xq3:agelt35                  0.4365      0.321      1.360      0.174      -0.193       1.066\n",
      "Xq3:agegt54                  0.6583      0.714      0.922      0.356      -0.741       2.057\n",
      "Xq3:durable                  0.4318      0.427      1.010      0.312      -0.406       1.270\n",
      "Xq3:lusd                     0.1063      0.194      0.548      0.584      -0.274       0.487\n",
      "Xq3:husd                     0.2055      0.205      1.001      0.317      -0.197       0.608\n",
      "Xq4:agelt35                  0.3587      0.321      1.118      0.264      -0.270       0.988\n",
      "Xq4:agegt54                  0.3677      0.710      0.517      0.605      -1.025       1.761\n",
      "Xq4:durable                  0.3788      0.433      0.875      0.382      -0.470       1.227\n",
      "Xq4:lusd                    -0.0651      0.195     -0.334      0.738      -0.447       0.317\n",
      "Xq4:husd                    -0.0414      0.208     -0.199      0.842      -0.449       0.366\n",
      "Xq5:agelt35                  0.2492      0.320      0.779      0.436      -0.378       0.876\n",
      "Xq5:agegt54                  0.2647      0.710      0.373      0.710      -1.128       1.657\n",
      "Xq5:durable                  0.4294      0.428      1.004      0.315      -0.409       1.267\n",
      "Xq5:lusd                    -0.0485      0.197     -0.247      0.805      -0.434       0.337\n",
      "Xq5:husd                    -0.0727      0.205     -0.354      0.723      -0.475       0.330\n",
      "Xq6:agelt35                  0.3820      0.349      1.093      0.274      -0.303       1.067\n",
      "Xq6:agegt54                  0.8362      0.730      1.146      0.252      -0.594       2.266\n",
      "Xq6:durable                  0.5617      0.454      1.238      0.216      -0.328       1.451\n",
      "Xagelt35:durable             0.0466      0.104      0.448      0.654      -0.157       0.250\n",
      "Xagelt35:lusd               -0.0621      0.090     -0.694      0.488      -0.238       0.113\n",
      "Xagelt35:husd                0.0646      0.103      0.629      0.529      -0.137       0.266\n",
      "Xagegt54:durable             0.0626      0.166      0.378      0.706      -0.262       0.387\n",
      "Xagegt54:lusd               -0.1070      0.140     -0.767      0.443      -0.381       0.167\n",
      "Xagegt54:husd               -0.2492      0.155     -1.611      0.107      -0.552       0.054\n",
      "Xdurable:lusd                0.1352      0.113      1.197      0.231      -0.086       0.357\n",
      "Xdurable:husd                0.1981      0.130      1.522      0.128      -0.057       0.453\n",
      "T4:Xfemale                   1.5687      0.645      2.432      0.015       0.304       2.833\n",
      "T4:Xblack                   -0.1681      0.527     -0.319      0.750      -1.202       0.865\n",
      "T4:Xothrace                  1.5323      1.010      1.518      0.129      -0.447       3.512\n",
      "T4:Xfactor(dep)1            -2.3330      1.018     -2.293      0.022      -4.328      -0.338\n",
      "T4:Xfactor(dep)2            -0.5623      0.709     -0.793      0.428      -1.952       0.827\n",
      "T4:Xq2                       0.3434      0.864      0.398      0.691      -1.350       2.036\n",
      "T4:Xq3                       0.2924      0.862      0.339      0.735      -1.398       1.983\n",
      "T4:Xq4                       0.1763      0.864      0.204      0.838      -1.517       1.869\n",
      "T4:Xq5                       0.1043      0.860      0.121      0.903      -1.581       1.789\n",
      "T4:Xq6                       0.5963      0.883      0.675      0.499      -1.134       2.327\n",
      "T4:Xagelt35                  0.1837      0.654      0.281      0.779      -1.099       1.466\n",
      "T4:Xagegt54                  0.2266      0.554      0.409      0.682      -0.859       1.312\n",
      "T4:Xdurable                  1.1589      0.803      1.443      0.149      -0.415       2.733\n",
      "T4:Xlusd                    -0.4532      0.421     -1.076      0.282      -1.279       0.373\n",
      "T4:Xhusd                    -0.4467      0.473     -0.944      0.345      -1.374       0.481\n",
      "T4:Xfemale:black             0.1381      0.261      0.528      0.597      -0.374       0.651\n",
      "T4:Xfemale:othrace          -0.5587      0.772     -0.723      0.470      -2.073       0.955\n",
      "T4:Xfemale:factor(dep)1      0.3961      0.244      1.627      0.104      -0.081       0.873\n",
      "T4:Xfemale:factor(dep)2     -0.1082      0.220     -0.492      0.623      -0.540       0.323\n",
      "T4:Xfemale:q2               -1.3293      0.638     -2.083      0.037      -2.581      -0.078\n",
      "T4:Xfemale:q3               -1.3339      0.638     -2.089      0.037      -2.586      -0.082\n",
      "T4:Xfemale:q4               -1.2681      0.639     -1.983      0.047      -2.522      -0.015\n",
      "T4:Xfemale:q5               -1.4118      0.637     -2.217      0.027      -2.660      -0.164\n",
      "T4:Xfemale:q6               -1.7085      0.702     -2.432      0.015      -3.086      -0.331\n",
      "T4:Xfemale:agelt35          -0.0888      0.166     -0.535      0.592      -0.414       0.236\n",
      "T4:Xfemale:agegt54          -0.4767      0.270     -1.763      0.078      -1.007       0.053\n",
      "T4:Xfemale:durable          -0.0767      0.243     -0.315      0.752      -0.553       0.400\n",
      "T4:Xfemale:lusd             -0.0369      0.181     -0.204      0.838      -0.392       0.318\n",
      "T4:Xfemale:husd             -0.1521      0.199     -0.765      0.444      -0.542       0.238\n",
      "T4:Xblack:factor(dep)1       0.1904      0.443      0.430      0.667      -0.677       1.058\n",
      "T4:Xblack:factor(dep)2       0.2898      0.388      0.747      0.455      -0.471       1.050\n",
      "T4:Xblack:q2                 0.1490      0.533      0.280      0.780      -0.896       1.194\n",
      "T4:Xblack:q3                 0.3089      0.521      0.593      0.553      -0.712       1.330\n",
      "T4:Xblack:q4                 0.0614      0.508      0.121      0.904      -0.934       1.056\n",
      "T4:Xblack:q5                 0.3031      0.518      0.585      0.558      -0.712       1.318\n",
      "T4:Xblack:agelt35           -0.1701      0.277     -0.615      0.539      -0.712       0.372\n",
      "T4:Xblack:agegt54            0.1066      0.424      0.252      0.801      -0.724       0.937\n",
      "T4:Xblack:durable           -0.7329      0.383     -1.915      0.056      -1.483       0.018\n",
      "T4:Xblack:lusd               0.0108      0.321      0.034      0.973      -0.619       0.641\n",
      "T4:Xblack:husd               1.3639      0.718      1.900      0.058      -0.044       2.772\n",
      "T4:Xothrace:factor(dep)2    -1.4020      0.697     -2.011      0.044      -2.769      -0.035\n",
      "T4:Xothrace:q2              -1.1359      0.919     -1.236      0.217      -2.937       0.666\n",
      "T4:Xothrace:q3               1.0393      1.122      0.926      0.354      -1.160       3.239\n",
      "T4:Xothrace:q4              -3.7042      1.089     -3.401      0.001      -5.839      -1.569\n",
      "T4:Xothrace:q5               0.5951      0.957      0.622      0.534      -1.281       2.471\n",
      "T4:Xothrace:agelt35         -0.7749      1.233     -0.629      0.530      -3.191       1.642\n",
      "T4:Xothrace:agegt54         -0.5700      1.402     -0.406      0.684      -3.319       2.179\n",
      "T4:Xothrace:durable          0.3781      1.019      0.371      0.711      -1.620       2.377\n",
      "T4:Xothrace:lusd             1.2125      0.639      1.897      0.058      -0.041       2.466\n",
      "T4:Xfactor(dep)1:q2          1.4339      1.004      1.428      0.153      -0.534       3.402\n",
      "T4:Xfactor(dep)2:q2          0.2255      0.710      0.317      0.751      -1.167       1.618\n",
      "T4:Xfactor(dep)1:q3          1.7205      1.002      1.718      0.086      -0.243       3.684\n",
      "T4:Xfactor(dep)2:q3          0.4410      0.708      0.623      0.533      -0.946       1.828\n",
      "T4:Xfactor(dep)1:q4          1.6610      1.005      1.653      0.098      -0.309       3.631\n",
      "T4:Xfactor(dep)2:q4          0.7075      0.714      0.990      0.322      -0.693       2.108\n",
      "T4:Xfactor(dep)1:q5          1.1550      0.997      1.159      0.246      -0.799       3.109\n",
      "T4:Xfactor(dep)2:q5          0.9001      0.711      1.266      0.206      -0.494       2.294\n",
      "T4:Xfactor(dep)1:q6          1.9447      1.094      1.778      0.075      -0.199       4.089\n",
      "T4:Xfactor(dep)2:q6          0.9842      0.795      1.238      0.216      -0.574       2.543\n",
      "T4:Xfactor(dep)1:agelt35     0.0376      0.251      0.150      0.881      -0.454       0.529\n",
      "T4:Xfactor(dep)2:agelt35    -0.2680      0.204     -1.314      0.189      -0.668       0.132\n",
      "T4:Xfactor(dep)1:agegt54     0.3310      0.351      0.942      0.346      -0.358       1.019\n",
      "T4:Xfactor(dep)2:agegt54    -0.3165      0.635     -0.499      0.618      -1.561       0.928\n",
      "T4:Xfactor(dep)1:durable    -0.3936      0.349     -1.128      0.259      -1.077       0.290\n",
      "T4:Xfactor(dep)2:durable    -0.2344      0.259     -0.904      0.366      -0.743       0.274\n",
      "T4:Xfactor(dep)1:lusd        1.1350      0.259      4.379      0.000       0.627       1.643\n",
      "T4:Xfactor(dep)2:lusd        0.1783      0.239      0.746      0.456      -0.290       0.647\n",
      "T4:Xfactor(dep)1:husd        0.3741      0.287      1.303      0.193      -0.189       0.937\n",
      "T4:Xfactor(dep)2:husd        0.5146      0.256      2.008      0.045       0.012       1.017\n",
      "T4:Xq2:agelt35              -0.3017      0.652     -0.463      0.644      -1.579       0.976\n",
      "T4:Xq2:agegt54               0.1146      0.567      0.202      0.840      -0.998       1.227\n",
      "T4:Xq2:durable              -0.5168      0.778     -0.664      0.507      -2.042       1.008\n",
      "T4:Xq2:lusd                  0.1658      0.431      0.385      0.700      -0.679       1.011\n",
      "T4:Xq2:husd                  0.5323      0.462      1.153      0.249      -0.373       1.438\n",
      "T4:Xq3:agelt35              -0.2257      0.652     -0.346      0.729      -1.504       1.053\n",
      "T4:Xq3:agegt54              -0.1937      0.566     -0.342      0.732      -1.303       0.916\n",
      "T4:Xq3:durable              -0.8490      0.782     -1.085      0.278      -2.383       0.684\n",
      "T4:Xq3:lusd                  0.3147      0.423      0.745      0.456      -0.514       1.143\n",
      "T4:Xq3:husd                  0.3113      0.463      0.672      0.502      -0.597       1.220\n",
      "T4:Xq4:agelt35              -0.1348      0.651     -0.207      0.836      -1.411       1.142\n",
      "T4:Xq4:agegt54               0.3529      0.550      0.641      0.521      -0.726       1.432\n",
      "T4:Xq4:durable              -0.6281      0.795     -0.790      0.429      -2.186       0.930\n",
      "T4:Xq4:lusd                  0.3023      0.422      0.716      0.474      -0.526       1.130\n",
      "T4:Xq4:husd                  0.3029      0.469      0.646      0.518      -0.617       1.222\n",
      "T4:Xq5:agelt35               0.0970      0.649      0.149      0.881      -1.176       1.370\n",
      "T4:Xq5:agegt54               0.4823      0.556      0.868      0.386      -0.607       1.572\n",
      "T4:Xq5:durable              -1.2396      0.786     -1.578      0.115      -2.780       0.300\n",
      "T4:Xq5:lusd                  0.6158      0.426      1.446      0.148      -0.219       1.451\n",
      "T4:Xq5:husd                  0.2946      0.463      0.636      0.525      -0.614       1.203\n",
      "T4:Xq6:agelt35              -0.0010      0.730     -0.001      0.999      -1.431       1.429\n",
      "T4:Xq6:durable              -1.3652      0.850     -1.607      0.108      -3.031       0.300\n",
      "T4:Xagelt35:durable          0.1439      0.223      0.646      0.518      -0.293       0.581\n",
      "T4:Xagelt35:lusd            -0.0139      0.190     -0.073      0.942      -0.386       0.359\n",
      "T4:Xagelt35:husd             0.0294      0.217      0.135      0.892      -0.397       0.456\n",
      "T4:Xagegt54:durable          0.5449      0.343      1.588      0.112      -0.128       1.217\n",
      "T4:Xagegt54:lusd            -0.5794      0.288     -2.013      0.044      -1.143      -0.015\n",
      "T4:Xagegt54:husd             0.1910      0.328      0.583      0.560      -0.451       0.833\n",
      "T4:Xdurable:lusd            -0.3744      0.240     -1.560      0.119      -0.845       0.096\n",
      "T4:Xdurable:husd            -0.3381      0.277     -1.219      0.223      -0.882       0.206\n",
      "==============================================================================\n",
      "Omnibus:                     1106.287   Durbin-Watson:                   1.985\n",
      "Prob(Omnibus):                  0.000   Jarque-Bera (JB):              404.801\n",
      "Skew:                          -0.498   Prob(JB):                     1.25e-88\n",
      "Kurtosis:                       2.044   Cond. No.                         266.\n",
      "==============================================================================\n",
      "\n",
      "Notes:\n",
      "[1] Standard Errors are heteroscedasticity robust (HC1)\n"
     ]
    },
    {
     "name": "stderr",
     "output_type": "stream",
     "text": [
      "c:\\python\\python38\\lib\\site-packages\\statsmodels\\base\\model.py:1832: ValueWarning: covariance of constraints does not have full rank. The number of constraints is 202, but rank is 197\n",
      "  warnings.warn('covariance of constraints does not have full '\n"
     ]
    }
   ],
   "source": [
    "# Reset index to estimation\n",
    "# Get data from R\n",
    "result = pyreadr.read_r('../data/ols_ira_reg.RData')\n",
    "X_vars = result['S1']\n",
    "\n",
    "ols_ira = sm.OLS( log_inuidur1, X_vars ).fit().get_robustcov_results(cov_type = \"HC1\")\n",
    "\n",
    "# Results \n",
    "print(ols_ira.summary())"
   ]
  },
  {
   "cell_type": "markdown",
   "metadata": {
    "papermill": {
     "duration": 0.030243,
     "end_time": "2021-02-20T13:42:43.724231",
     "exception": false,
     "start_time": "2021-02-20T13:42:43.693988",
     "status": "completed"
    },
    "tags": []
   },
   "source": [
    "# Next we try out partialling out with lasso"
   ]
  },
  {
   "cell_type": "code",
   "execution_count": 6,
   "metadata": {},
   "outputs": [],
   "source": [
    "import hdmpy"
   ]
  },
  {
   "cell_type": "markdown",
   "metadata": {},
   "source": [
    "Next we try out partialling out with lasso"
   ]
  },
  {
   "cell_type": "code",
   "execution_count": 7,
   "metadata": {},
   "outputs": [],
   "source": [
    "# Get data from R\n",
    "result = pyreadr.read_r('../data/rlasso_ira_reg.RData')\n",
    "X_vars = result['S']"
   ]
  },
  {
   "cell_type": "code",
   "execution_count": 15,
   "metadata": {},
   "outputs": [],
   "source": [
    "result = hdmpy.rlassoEffects( X_vars, log_inuidur1, index = 0 )       \n",
    "\n",
    "rlasso_ira = pd.DataFrame(np.array( (result.res['coefficients'][0] , result.res['se'][0] , \\\n",
    "           result.res['t'][0] , result.res['pval'][0] ) ).reshape(1, 4) , columns = ['Coef.' , \\\n",
    "                            \"Std.Err.\" , \"t\" , 'P>|t|'] , index = ['T4'])\n",
    "rlasso_ira"
   ]
  },
  {
   "cell_type": "markdown",
   "metadata": {
    "papermill": {
     "duration": 0.030965,
     "end_time": "2021-02-20T13:42:45.107753",
     "exception": false,
     "start_time": "2021-02-20T13:42:45.076788",
     "status": "completed"
    },
    "tags": []
   },
   "source": [
    "### Results"
   ]
  },
  {
   "cell_type": "code",
   "execution_count": 16,
   "metadata": {},
   "outputs": [
    {
     "name": "stdout",
     "output_type": "stream",
     "text": [
      "\\begin{tabular}{lrrrr}\n",
      "\\toprule\n",
      "{} &      \\$CL\\$ &     \\$CRA\\$ &     \\$IRA\\$ &  \\$IRA Lasso\\$ \\\\\n",
      "\\midrule\n",
      "estimate       & -0.085455 & -0.079680 & -0.075501 &    -0.078886 \\\\\n",
      "standard error &  0.035856 &  0.035591 &  0.035605 &     0.035530 \\\\\n",
      "\\bottomrule\n",
      "\\end{tabular}\n",
      "\n"
     ]
    }
   ],
   "source": [
    "table2 = np.zeros((2, 4))\n",
    "table2[0,0] = ols_cl.summary2().tables[1]['Coef.']['T4']\n",
    "table2[0,1] = ols_cra.summary2().tables[1]['Coef.']['T4TRUE']\n",
    "table2[0,2] = ols_ira.summary2().tables[1]['Coef.']['T4']\n",
    "table2[0,3] = rlasso_ira['Coef.']['T4']\n",
    "\n",
    "table2[1,0] = ols_cl.summary2().tables[1]['Std.Err.']['T4']\n",
    "table2[1,1] = ols_cra.summary2().tables[1]['Std.Err.']['T4TRUE']\n",
    "table2[1,2] = ols_ira.summary2().tables[1]['Std.Err.']['T4']\n",
    "table2[1,3] = rlasso_ira['Std.Err.']['T4']\n",
    "\n",
    "table2 = pd.DataFrame(table2, columns = [\"$CL$\", \"$CRA$\", \"$IRA$\", \"$IRA Lasso$\"], \\\n",
    "                      index = [\"estimate\",\"standard error\"])\n",
    "table2"
   ]
  },
  {
   "cell_type": "markdown",
   "metadata": {
    "papermill": {
     "duration": 0.019862,
     "end_time": "2021-02-20T13:42:45.344887",
     "exception": false,
     "start_time": "2021-02-20T13:42:45.325025",
     "status": "completed"
    },
    "tags": []
   },
   "source": [
    "Treatment group 4 experiences an average decrease of about $7.8\\%$ in the length of unemployment spell.\n",
    "\n",
    "\n",
    "Observe that regression estimators delivers estimates that are slighly more efficient (lower standard errors) than the simple 2 mean estimator, but essentially all methods have very similar standard errors. From IRA results we also see that there is not any statistically detectable heterogeneity.  We also see the regression estimators offer slightly lower estimates -- these difference occur perhaps to due minor imbalance in the treatment allocation, which the regression estimators try to correct.\n",
    "\n",
    "\n"
   ]
  }
 ],
 "metadata": {
  "hide_input": false,
  "kernelspec": {
   "display_name": "Python 3 (ipykernel)",
   "language": "python",
   "name": "python3"
  },
  "language_info": {
   "codemirror_mode": {
    "name": "ipython",
    "version": 3
   },
   "file_extension": ".py",
   "mimetype": "text/x-python",
   "name": "python",
   "nbconvert_exporter": "python",
   "pygments_lexer": "ipython3",
   "version": "3.9.12"
  }
 },
 "nbformat": 4,
 "nbformat_minor": 4
}