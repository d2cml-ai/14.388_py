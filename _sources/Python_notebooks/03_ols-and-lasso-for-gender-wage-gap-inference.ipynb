{
 "cells": [
  {
   "cell_type": "markdown",
   "metadata": {},
   "source": [
    "# OLS and lasso for gender wage gap inference"
   ]
  },
  {
   "cell_type": "markdown",
   "metadata": {
    "papermill": {
     "duration": 0.018579,
     "end_time": "2021-02-21T17:17:47.809138",
     "exception": false,
     "start_time": "2021-02-21T17:17:47.790559",
     "status": "completed"
    },
    "tags": []
   },
   "source": [
    "## An inferential problem: The Gender Wage Gap"
   ]
  },
  {
   "cell_type": "markdown",
   "metadata": {
    "papermill": {
     "duration": 0.019386,
     "end_time": "2021-02-21T17:17:47.847419",
     "exception": false,
     "start_time": "2021-02-21T17:17:47.828033",
     "status": "completed"
    },
    "tags": []
   },
   "source": [
    "In the previous lab, we already analyzed data from the March Supplement of the U.S. Current Population Survey (2015) and answered the question how to use job-relevant characteristics, such as education and experience, to best predict wages. Now, we focus on the following inference question:\n",
    "\n",
    "What is the difference in predicted wages between men and women with the same job-relevant characteristics?\n",
    "\n",
    "Thus, we analyze if there is a difference in the payment of men and women (*gender wage gap*). The gender wage gap may partly reflect *discrimination* against women in the labor market or may partly reflect a *selection effect*, namely that women are relatively more likely to take on occupations that pay somewhat less (for example, school teaching)."
   ]
  },
  {
   "cell_type": "markdown",
   "metadata": {
    "papermill": {
     "duration": 0.018623,
     "end_time": "2021-02-21T17:17:47.884840",
     "exception": false,
     "start_time": "2021-02-21T17:17:47.866217",
     "status": "completed"
    },
    "tags": []
   },
   "source": [
    "To investigate the gender wage gap, we consider the following log-linear regression model\n",
    "\n",
    "$$\n",
    "\\begin{align}\n",
    "\\log(Y) &= \\beta'X + \\epsilon\\\\\n",
    "&= \\beta_1 D  + \\beta_2' W + \\epsilon,\n",
    "\\end{align}\n",
    "$$\n",
    "\n",
    "where $Y$ is hourly wage, $D$ is the indicator of being female ($1$ if female and $0$ otherwise) and the\n",
    "$W$'s are a vector of worker characteristics explaining variation in wages. Considering transformed wages by the logarithm, we are analyzing the relative difference in the payment of men and women."
   ]
  },
  {
   "cell_type": "markdown",
   "metadata": {
    "papermill": {
     "duration": 0.018169,
     "end_time": "2021-02-21T17:17:47.921363",
     "exception": false,
     "start_time": "2021-02-21T17:17:47.903194",
     "status": "completed"
    },
    "tags": []
   },
   "source": [
    "## Data analysis"
   ]
  },
  {
   "cell_type": "markdown",
   "metadata": {
    "papermill": {
     "duration": 0.018446,
     "end_time": "2021-02-21T17:17:47.958377",
     "exception": false,
     "start_time": "2021-02-21T17:17:47.939931",
     "status": "completed"
    },
    "tags": []
   },
   "source": [
    "We consider the same subsample of the U.S. Current Population Survey (2015) as in the previous lab. Let us load the data set."
   ]
  },
  {
   "cell_type": "code",
   "execution_count": 7,
   "metadata": {
    "hide_input": true
   },
   "outputs": [],
   "source": [
    "import pandas as pd\n",
    "import numpy as np\n",
    "import pyreadr\n",
    "import os\n",
    "from urllib.request import urlopen\n",
    "import math"
   ]
  },
  {
   "cell_type": "code",
   "execution_count": 8,
   "metadata": {},
   "outputs": [
    {
     "data": {
      "text/plain": [
       "(5150, 20)"
      ]
     },
     "execution_count": 8,
     "metadata": {},
     "output_type": "execute_result"
    }
   ],
   "source": [
    "link=\"https://raw.githubusercontent.com/d2cml-ai/14.388_py/main/data/wage2015_subsample_inference.Rdata\"\n",
    "response = urlopen(link)\n",
    "content = response.read()\n",
    "fhandle = open( 'wage2015_subsample_inference.Rdata', 'wb')\n",
    "fhandle.write(content)\n",
    "fhandle.close()\n",
    "result = pyreadr.read_r(\"wage2015_subsample_inference.Rdata\")\n",
    "os.remove(\"wage2015_subsample_inference.Rdata\")\n",
    "\n",
    "# Extracting the data frame from rdata_read\n",
    "data = result[ 'data' ]\n",
    "data.shape"
   ]
  },
  {
   "cell_type": "markdown",
   "metadata": {
    "papermill": {
     "duration": 0.020145,
     "end_time": "2021-02-21T17:17:48.235598",
     "exception": false,
     "start_time": "2021-02-21T17:17:48.215453",
     "status": "completed"
    },
    "tags": []
   },
   "source": [
    "To start our (causal) analysis, we compare the sample means given gender:"
   ]
  },
  {
   "cell_type": "code",
   "execution_count": 9,
   "metadata": {
    "scrolled": true
   },
   "outputs": [
    {
     "data": {
      "text/html": [
       "<div>\n",
       "<style scoped>\n",
       "    .dataframe tbody tr th:only-of-type {\n",
       "        vertical-align: middle;\n",
       "    }\n",
       "\n",
       "    .dataframe tbody tr th {\n",
       "        vertical-align: top;\n",
       "    }\n",
       "\n",
       "    .dataframe thead th {\n",
       "        text-align: right;\n",
       "    }\n",
       "</style>\n",
       "<table border=\"1\" class=\"dataframe\">\n",
       "  <thead>\n",
       "    <tr style=\"text-align: right;\">\n",
       "      <th></th>\n",
       "      <th>All</th>\n",
       "      <th>Men</th>\n",
       "      <th>Women</th>\n",
       "    </tr>\n",
       "  </thead>\n",
       "  <tbody>\n",
       "    <tr>\n",
       "      <th>Log Wage</th>\n",
       "      <td>2.970787</td>\n",
       "      <td>2.987830</td>\n",
       "      <td>2.949485</td>\n",
       "    </tr>\n",
       "    <tr>\n",
       "      <th>Sex</th>\n",
       "      <td>0.444466</td>\n",
       "      <td>0.000000</td>\n",
       "      <td>1.000000</td>\n",
       "    </tr>\n",
       "    <tr>\n",
       "      <th>Less then High School</th>\n",
       "      <td>0.023301</td>\n",
       "      <td>0.031807</td>\n",
       "      <td>0.012669</td>\n",
       "    </tr>\n",
       "    <tr>\n",
       "      <th>High School Graduate</th>\n",
       "      <td>0.243883</td>\n",
       "      <td>0.294303</td>\n",
       "      <td>0.180865</td>\n",
       "    </tr>\n",
       "    <tr>\n",
       "      <th>Some College</th>\n",
       "      <td>0.278058</td>\n",
       "      <td>0.273331</td>\n",
       "      <td>0.283967</td>\n",
       "    </tr>\n",
       "    <tr>\n",
       "      <th>Gollage Graduate</th>\n",
       "      <td>0.317670</td>\n",
       "      <td>0.293953</td>\n",
       "      <td>0.347313</td>\n",
       "    </tr>\n",
       "    <tr>\n",
       "      <th>Advanced Degree</th>\n",
       "      <td>0.137087</td>\n",
       "      <td>0.106606</td>\n",
       "      <td>0.175186</td>\n",
       "    </tr>\n",
       "    <tr>\n",
       "      <th>Northeast</th>\n",
       "      <td>0.227767</td>\n",
       "      <td>0.221950</td>\n",
       "      <td>0.235037</td>\n",
       "    </tr>\n",
       "    <tr>\n",
       "      <th>Midwest</th>\n",
       "      <td>0.259612</td>\n",
       "      <td>0.259000</td>\n",
       "      <td>0.260376</td>\n",
       "    </tr>\n",
       "    <tr>\n",
       "      <th>South</th>\n",
       "      <td>0.296505</td>\n",
       "      <td>0.298148</td>\n",
       "      <td>0.294452</td>\n",
       "    </tr>\n",
       "    <tr>\n",
       "      <th>West</th>\n",
       "      <td>0.216117</td>\n",
       "      <td>0.220902</td>\n",
       "      <td>0.210135</td>\n",
       "    </tr>\n",
       "    <tr>\n",
       "      <th>Experience</th>\n",
       "      <td>13.760583</td>\n",
       "      <td>13.783992</td>\n",
       "      <td>13.731324</td>\n",
       "    </tr>\n",
       "  </tbody>\n",
       "</table>\n",
       "</div>"
      ],
      "text/plain": [
       "                             All        Men      Women\n",
       "Log Wage                2.970787   2.987830   2.949485\n",
       "Sex                     0.444466   0.000000   1.000000\n",
       "Less then High School   0.023301   0.031807   0.012669\n",
       "High School Graduate    0.243883   0.294303   0.180865\n",
       "Some College            0.278058   0.273331   0.283967\n",
       "Gollage Graduate        0.317670   0.293953   0.347313\n",
       "Advanced Degree         0.137087   0.106606   0.175186\n",
       "Northeast               0.227767   0.221950   0.235037\n",
       "Midwest                 0.259612   0.259000   0.260376\n",
       "South                   0.296505   0.298148   0.294452\n",
       "West                    0.216117   0.220902   0.210135\n",
       "Experience             13.760583  13.783992  13.731324"
      ]
     },
     "execution_count": 9,
     "metadata": {},
     "output_type": "execute_result"
    }
   ],
   "source": [
    "Z = data[ [\"lwage\",\"sex\",\"shs\",\"hsg\",\"scl\",\"clg\",\"ad\",\"ne\",\"mw\",\"so\",\"we\",\"exp1\"] ]\n",
    "\n",
    "data_female = data[data[ 'sex' ] == 1 ]\n",
    "Z_female = data_female[ [\"lwage\",\"sex\",\"shs\",\"hsg\",\"scl\",\"clg\",\"ad\",\"ne\",\"mw\",\"so\",\"we\",\"exp1\"] ]\n",
    "\n",
    "data_male = data[ data[ 'sex' ] == 0 ]\n",
    "Z_male = data_male[ [ \"lwage\",\"sex\",\"shs\",\"hsg\",\"scl\",\"clg\",\"ad\",\"ne\",\"mw\",\"so\",\"we\",\"exp1\" ] ]\n",
    "\n",
    "\n",
    "table = np.zeros( (12, 3) )\n",
    "table[:, 0] = Z.mean().values\n",
    "table[:, 1] = Z_male.mean().values\n",
    "table[:, 2] = Z_female.mean().values\n",
    "table_pandas = pd.DataFrame( table, columns = [ 'All', 'Men', 'Women'])\n",
    "table_pandas.index = [\"Log Wage\",\"Sex\",\"Less then High School\",\"High School Graduate\",\"Some College\",\"Gollage Graduate\",\"Advanced Degree\", \"Northeast\",\"Midwest\",\"South\",\"West\",\"Experience\"]\n",
    "table_html = table_pandas.to_html()\n",
    "\n",
    "table_pandas"
   ]
  },
  {
   "cell_type": "code",
   "execution_count": 10,
   "metadata": {
    "collapsed": true,
    "jupyter": {
     "outputs_hidden": true
    }
   },
   "outputs": [
    {
     "name": "stdout",
     "output_type": "stream",
     "text": [
      "<table border=\"1\" class=\"dataframe\">\n",
      "  <thead>\n",
      "    <tr style=\"text-align: right;\">\n",
      "      <th></th>\n",
      "      <th>All</th>\n",
      "      <th>Men</th>\n",
      "      <th>Women</th>\n",
      "    </tr>\n",
      "  </thead>\n",
      "  <tbody>\n",
      "    <tr>\n",
      "      <th>Log Wage</th>\n",
      "      <td>2.970787</td>\n",
      "      <td>2.987830</td>\n",
      "      <td>2.949485</td>\n",
      "    </tr>\n",
      "    <tr>\n",
      "      <th>Sex</th>\n",
      "      <td>0.444466</td>\n",
      "      <td>0.000000</td>\n",
      "      <td>1.000000</td>\n",
      "    </tr>\n",
      "    <tr>\n",
      "      <th>Less then High School</th>\n",
      "      <td>0.023301</td>\n",
      "      <td>0.031807</td>\n",
      "      <td>0.012669</td>\n",
      "    </tr>\n",
      "    <tr>\n",
      "      <th>High School Graduate</th>\n",
      "      <td>0.243883</td>\n",
      "      <td>0.294303</td>\n",
      "      <td>0.180865</td>\n",
      "    </tr>\n",
      "    <tr>\n",
      "      <th>Some College</th>\n",
      "      <td>0.278058</td>\n",
      "      <td>0.273331</td>\n",
      "      <td>0.283967</td>\n",
      "    </tr>\n",
      "    <tr>\n",
      "      <th>Gollage Graduate</th>\n",
      "      <td>0.317670</td>\n",
      "      <td>0.293953</td>\n",
      "      <td>0.347313</td>\n",
      "    </tr>\n",
      "    <tr>\n",
      "      <th>Advanced Degree</th>\n",
      "      <td>0.137087</td>\n",
      "      <td>0.106606</td>\n",
      "      <td>0.175186</td>\n",
      "    </tr>\n",
      "    <tr>\n",
      "      <th>Northeast</th>\n",
      "      <td>0.227767</td>\n",
      "      <td>0.221950</td>\n",
      "      <td>0.235037</td>\n",
      "    </tr>\n",
      "    <tr>\n",
      "      <th>Midwest</th>\n",
      "      <td>0.259612</td>\n",
      "      <td>0.259000</td>\n",
      "      <td>0.260376</td>\n",
      "    </tr>\n",
      "    <tr>\n",
      "      <th>South</th>\n",
      "      <td>0.296505</td>\n",
      "      <td>0.298148</td>\n",
      "      <td>0.294452</td>\n",
      "    </tr>\n",
      "    <tr>\n",
      "      <th>West</th>\n",
      "      <td>0.216117</td>\n",
      "      <td>0.220902</td>\n",
      "      <td>0.210135</td>\n",
      "    </tr>\n",
      "    <tr>\n",
      "      <th>Experience</th>\n",
      "      <td>13.760583</td>\n",
      "      <td>13.783992</td>\n",
      "      <td>13.731324</td>\n",
      "    </tr>\n",
      "  </tbody>\n",
      "</table>\n"
     ]
    }
   ],
   "source": [
    "print( table_html )"
   ]
  },
  {
   "cell_type": "markdown",
   "metadata": {
    "papermill": {
     "duration": 0.020634,
     "end_time": "2021-02-21T17:17:48.532828",
     "exception": false,
     "start_time": "2021-02-21T17:17:48.512194",
     "status": "completed"
    },
    "tags": []
   },
   "source": [
    "In particular, the table above shows that the difference in average *logwage* between men and women is equal to $0,038$"
   ]
  },
  {
   "cell_type": "code",
   "execution_count": 11,
   "metadata": {
    "scrolled": true
   },
   "outputs": [
    {
     "data": {
      "text/plain": [
       "-0.03834473367442026"
      ]
     },
     "execution_count": 11,
     "metadata": {},
     "output_type": "execute_result"
    }
   ],
   "source": [
    "data_female['lwage'].mean() - data_male['lwage'].mean()"
   ]
  },
  {
   "cell_type": "markdown",
   "metadata": {
    "papermill": {
     "duration": 0.022161,
     "end_time": "2021-02-21T17:17:48.635417",
     "exception": false,
     "start_time": "2021-02-21T17:17:48.613256",
     "status": "completed"
    },
    "tags": []
   },
   "source": [
    "Thus, the unconditional gender wage gap is about $3,8$\\% for the group of never married workers (women get paid less on average in our sample). We also observe that never married working women are relatively more educated than working men and have lower working experience."
   ]
  },
  {
   "cell_type": "markdown",
   "metadata": {
    "papermill": {
     "duration": 0.02073,
     "end_time": "2021-02-21T17:17:48.677447",
     "exception": false,
     "start_time": "2021-02-21T17:17:48.656717",
     "status": "completed"
    },
    "tags": []
   },
   "source": [
    "This unconditional (predictive) effect of gender equals the coefficient $\\beta$ in the univariate ols regression of $Y$ on $D$:\n",
    "\n",
    "$$\n",
    "\\begin{align}\n",
    "\\log(Y) &=\\beta D + \\epsilon.\n",
    "\\end{align}\n",
    "$$"
   ]
  },
  {
   "cell_type": "markdown",
   "metadata": {
    "papermill": {
     "duration": 0.020929,
     "end_time": "2021-02-21T17:17:48.718630",
     "exception": false,
     "start_time": "2021-02-21T17:17:48.697701",
     "status": "completed"
    },
    "tags": []
   },
   "source": [
    "We verify this by running an ols regression in R."
   ]
  },
  {
   "cell_type": "code",
   "execution_count": 12,
   "metadata": {
    "hide_input": true
   },
   "outputs": [],
   "source": [
    "import statsmodels.api as sm\n",
    "import statsmodels.formula.api as smf"
   ]
  },
  {
   "cell_type": "code",
   "execution_count": 13,
   "metadata": {
    "scrolled": true
   },
   "outputs": [
    {
     "name": "stdout",
     "output_type": "stream",
     "text": [
      "The estimated gender coefficient is -0.038344733674415696 and the corresponding robust standard error is 0.015901935079095802\n"
     ]
    }
   ],
   "source": [
    "nocontrol_model = smf.ols( formula = 'lwage ~ sex', data = data )\n",
    "nocontrol_est = nocontrol_model.fit().summary2().tables[1]['Coef.']['sex']\n",
    "HCV_coefs = nocontrol_model.fit().cov_HC0\n",
    "nocontrol_se = np.power( HCV_coefs.diagonal() , 0.5)[1]\n",
    "\n",
    "# print unconditional effect of gender and the corresponding standard error\n",
    "print( f'The estimated gender coefficient is {nocontrol_est} and the corresponding robust standard error is {nocontrol_se}' )"
   ]
  },
  {
   "cell_type": "markdown",
   "metadata": {
    "papermill": {
     "duration": 0.02196,
     "end_time": "2021-02-21T17:17:48.991015",
     "exception": false,
     "start_time": "2021-02-21T17:17:48.969055",
     "status": "completed"
    },
    "tags": []
   },
   "source": [
    "Note that the standard error is computed with the *R* package *sandwich* to be robust to heteroskedasticity. \n"
   ]
  },
  {
   "cell_type": "markdown",
   "metadata": {
    "papermill": {
     "duration": 0.021605,
     "end_time": "2021-02-21T17:17:49.034485",
     "exception": false,
     "start_time": "2021-02-21T17:17:49.012880",
     "status": "completed"
    },
    "tags": []
   },
   "source": [
    "Next, we run an ols regression of $Y$ on $(D,W)$ to control for the effect of covariates summarized in $W$:\n",
    "\n",
    "$$\n",
    "\\begin{align}\n",
    "\\log(Y) &=\\beta_1 D  + \\beta_2' W + \\epsilon.\n",
    "\\end{align}\n",
    "$$\n",
    "\n",
    "Here, we are considering the flexible model from the previous lab. Hence, $W$ controls for experience, education, region, and occupation and industry indicators plus transformations and two-way interactions."
   ]
  },
  {
   "cell_type": "markdown",
   "metadata": {
    "papermill": {
     "duration": 0.021109,
     "end_time": "2021-02-21T17:17:49.076809",
     "exception": false,
     "start_time": "2021-02-21T17:17:49.055700",
     "status": "completed"
    },
    "tags": []
   },
   "source": [
    "Let us run the ols regression with controls."
   ]
  },
  {
   "cell_type": "markdown",
   "metadata": {},
   "source": [
    "## Ols regression with controls"
   ]
  },
  {
   "cell_type": "code",
   "execution_count": 14,
   "metadata": {},
   "outputs": [
    {
     "name": "stdout",
     "output_type": "stream",
     "text": [
      "               Coef.  Std.Err.          t         P>|t|    [0.025    0.975]\n",
      "Intercept   3.279677  0.284196  11.540202  2.037819e-30  2.722526  3.836828\n",
      "occ2[T.10]  0.020954  0.156498   0.133896  8.934903e-01 -0.285852  0.327761\n",
      "occ2[T.11] -0.642418  0.309090  -2.078417  3.772286e-02 -1.248372 -0.036463\n",
      "occ2[T.12] -0.067477  0.252049  -0.267716  7.889294e-01 -0.561605  0.426651\n",
      "occ2[T.13] -0.232978  0.231538  -1.006220  3.143593e-01 -0.686896  0.220940\n",
      "...              ...       ...        ...           ...       ...       ...\n",
      "exp4:scl    0.021076  0.024529   0.859230  3.902557e-01 -0.027012  0.069164\n",
      "exp4:clg    0.007869  0.022753   0.345868  7.294565e-01 -0.036736  0.052475\n",
      "exp4:mw     0.006244  0.015870   0.393446  6.940073e-01 -0.024868  0.037356\n",
      "exp4:so     0.000314  0.013628   0.023075  9.815913e-01 -0.026402  0.027031\n",
      "exp4:we     0.001768  0.015960   0.110804  9.117763e-01 -0.029521  0.033058\n",
      "\n",
      "[246 rows x 6 columns]\n",
      "Coefficient for OLS with controls -0.06955320329684715\n"
     ]
    }
   ],
   "source": [
    "flex = 'lwage ~ sex + (exp1+exp2+exp3+exp4)*(shs+hsg+scl+clg+occ2+ind2+mw+so+we)'\n",
    "\n",
    "# The smf api replicates R script when it transform data\n",
    "control_model = smf.ols( formula = flex, data = data )\n",
    "control_est = control_model.fit().summary2().tables[1]['Coef.']['sex']\n",
    "\n",
    "print(control_model.fit().summary2().tables[1])\n",
    "print( f\"Coefficient for OLS with controls {control_est}\" )\n",
    "\n",
    "HCV_coefs = control_model.fit().cov_HC0\n",
    "control_se = np.power( HCV_coefs.diagonal() , 0.5)[1]"
   ]
  },
  {
   "cell_type": "markdown",
   "metadata": {
    "papermill": {
     "duration": 0.040523,
     "end_time": "2021-02-21T17:17:49.873210",
     "exception": false,
     "start_time": "2021-02-21T17:17:49.832687",
     "status": "completed"
    },
    "tags": []
   },
   "source": [
    "The estimated regression coefficient $\\beta_1\\approx-0.0696$ measures how our linear prediction of wage changes if we set the gender variable $D$ from 0 to 1, holding the controls $W$ fixed.\n",
    "We can call this the *predictive effect* (PE), as it measures the impact of a variable on the prediction we make. Overall, we see that the unconditional wage gap of size $4$\\% for women increases to about $7$\\% after controlling for worker characteristics.  \n"
   ]
  },
  {
   "cell_type": "markdown",
   "metadata": {
    "papermill": {
     "duration": 0.023222,
     "end_time": "2021-02-21T17:17:49.931749",
     "exception": false,
     "start_time": "2021-02-21T17:17:49.908527",
     "status": "completed"
    },
    "tags": []
   },
   "source": [
    "Next, we are using the Frisch-Waugh-Lovell theorem from the lecture partialling-out the linear effect of the controls via ols."
   ]
  },
  {
   "cell_type": "markdown",
   "metadata": {},
   "source": [
    "## Partialling-Out using ols"
   ]
  },
  {
   "cell_type": "code",
   "execution_count": 15,
   "metadata": {},
   "outputs": [
    {
     "name": "stdout",
     "output_type": "stream",
     "text": [
      "Coefficient for D via partialling-out -0.06955320329684608\n"
     ]
    },
    {
     "data": {
      "text/plain": [
       "0   -0.098671\n",
       "1   -0.040435\n",
       "Name: t_D, dtype: float64"
      ]
     },
     "execution_count": 15,
     "metadata": {},
     "output_type": "execute_result"
    }
   ],
   "source": [
    "# models\n",
    "# model for Y\n",
    "flex_y = 'lwage ~  (exp1+exp2+exp3+exp4)*(shs+hsg+scl+clg+occ2+ind2+mw+so+we)'\n",
    "# model for D\n",
    "flex_d = 'sex ~ (exp1+exp2+exp3+exp4)*(shs+hsg+scl+clg+occ2+ind2+mw+so+we)' \n",
    "\n",
    "# partialling-out the linear effect of W from Y\n",
    "t_Y = smf.ols( formula = flex_y , data = data ).fit().resid\n",
    "\n",
    "# partialling-out the linear effect of W from D\n",
    "t_D = smf.ols( formula = flex_d , data = data ).fit().resid\n",
    "\n",
    "data_res = pd.DataFrame( np.vstack(( t_Y.values , t_D.values )).T , columns = [ 't_Y', 't_D' ] )\n",
    "# regression of Y on D after partialling-out the effect of W\n",
    "partial_fit =  smf.ols( formula = 't_Y ~ t_D' , data = data_res ).fit()\n",
    "partial_est = partial_fit.summary2().tables[1]['Coef.']['t_D']\n",
    "\n",
    "print(\"Coefficient for D via partialling-out\", partial_est)\n",
    "\n",
    "# standard error\n",
    "HCV_coefs = partial_fit.cov_HC0\n",
    "partial_se = np.power( HCV_coefs.diagonal() , 0.5)[1]\n",
    "\n",
    "# confidence interval\n",
    "partial_fit.conf_int( alpha=0.05 ).iloc[1, :]"
   ]
  },
  {
   "cell_type": "markdown",
   "metadata": {
    "papermill": {
     "duration": 0.023907,
     "end_time": "2021-02-21T17:17:50.458203",
     "exception": false,
     "start_time": "2021-02-21T17:17:50.434296",
     "status": "completed"
    },
    "tags": []
   },
   "source": [
    "Again, the estimated coefficient measures the linear predictive effect (PE) of $D$ on $Y$ after taking out the linear effect of $W$ on both of these variables. This coefficient equals the estimated coefficient from the ols regression with controls."
   ]
  },
  {
   "cell_type": "markdown",
   "metadata": {
    "papermill": {
     "duration": 0.024507,
     "end_time": "2021-02-21T17:17:50.507023",
     "exception": false,
     "start_time": "2021-02-21T17:17:50.482516",
     "status": "completed"
    },
    "tags": []
   },
   "source": [
    "We know that the partialling-out approach works well when the dimension of $W$ is low\n",
    "in relation to the sample size $n$. When the dimension of $W$ is relatively high, we need to use variable selection\n",
    "or penalization for regularization purposes. \n",
    "\n",
    "In the following, we illustrate the partialling-out approach using lasso instead of ols. "
   ]
  },
  {
   "cell_type": "markdown",
   "metadata": {},
   "source": [
    "## Partialling-Out using lasso"
   ]
  },
  {
   "cell_type": "code",
   "execution_count": 16,
   "metadata": {},
   "outputs": [],
   "source": [
    "# models\n",
    "# model for Y\n",
    "flex_y = 'lwage ~  (exp1+exp2+exp3+exp4)*(shs+hsg+scl+clg+occ2+ind2+mw+so+we)'\n",
    "\n",
    "# model for D\n",
    "flex_d = 'sex ~ (exp1+exp2+exp3+exp4)*(shs+hsg+scl+clg+occ2+ind2+mw+so+we)'"
   ]
  },
  {
   "cell_type": "code",
   "execution_count": 19,
   "metadata": {},
   "outputs": [
    {
     "name": "stdout",
     "output_type": "stream",
     "text": [
      "Coefficient for D via partialling-out using lasso -0.06487798557263097\n"
     ]
    }
   ],
   "source": [
    "# With Sklearn\n",
    "\n",
    "from sklearn import linear_model\n",
    "# flex_y\n",
    "lasso_model = linear_model.Lasso( alpha = 0.1 )\n",
    "\n",
    "flex_y_covariables = smf.ols(formula = flex_y, data = data)\n",
    "Y_lasso_fitted = lasso_model.fit( flex_y_covariables.exog, data[[ 'lwage' ]] ).predict( flex_y_covariables.exog )\n",
    "t_Y = data[[ 'lwage' ]] - Y_lasso_fitted.reshape( Y_lasso_fitted.size, 1)\n",
    "\n",
    "# extraflex_d\n",
    "flex_d_covariables = smf.ols( flex_d, data=data)\n",
    "D_lasso_fitted = lasso_model.fit( flex_d_covariables.exog, data[[ 'sex' ]] ).predict( flex_d_covariables.exog )\n",
    "t_D = data[[ 'sex' ]] - D_lasso_fitted.reshape( D_lasso_fitted.size, 1)\n",
    "\n",
    "data_res = pd.DataFrame( np.hstack(( t_Y , t_D )) , columns = [ 't_Y', 't_D' ] )\n",
    "\n",
    "# regression of Y on D after partialling-out the effect of W\n",
    "partial_lasso_fit = smf.ols( formula = 't_Y ~ t_D' , data = data_res ).fit()\n",
    "partial_lasso_est = partial_lasso_fit.summary2().tables[1]['Coef.']['t_D']\n",
    "\n",
    "print( f\"Coefficient for D via partialling-out using lasso {partial_lasso_est}\" )\n",
    "\n",
    "# standard error\n",
    "HCV_coefs = partial_lasso_fit.cov_HC0\n",
    "partial_lasso_se = np.power( HCV_coefs.diagonal() , 0.5)[1]"
   ]
  },
  {
   "cell_type": "markdown",
   "metadata": {
    "papermill": {
     "duration": 0.024318,
     "end_time": "2021-02-21T17:17:54.320082",
     "exception": false,
     "start_time": "2021-02-21T17:17:54.295764",
     "status": "completed"
    },
    "tags": []
   },
   "source": [
    "Using lasso for partialling-out here provides similar results as using ols."
   ]
  },
  {
   "cell_type": "markdown",
   "metadata": {
    "papermill": {
     "duration": 0.024337,
     "end_time": "2021-02-21T17:17:54.368605",
     "exception": false,
     "start_time": "2021-02-21T17:17:54.344268",
     "status": "completed"
    },
    "tags": []
   },
   "source": [
    "Next, we summarize the results."
   ]
  },
  {
   "cell_type": "markdown",
   "metadata": {},
   "source": [
    "## Summarize the results"
   ]
  },
  {
   "cell_type": "code",
   "execution_count": 21,
   "metadata": {},
   "outputs": [
    {
     "data": {
      "text/html": [
       "<div>\n",
       "<style scoped>\n",
       "    .dataframe tbody tr th:only-of-type {\n",
       "        vertical-align: middle;\n",
       "    }\n",
       "\n",
       "    .dataframe tbody tr th {\n",
       "        vertical-align: top;\n",
       "    }\n",
       "\n",
       "    .dataframe thead th {\n",
       "        text-align: right;\n",
       "    }\n",
       "</style>\n",
       "<table border=\"1\" class=\"dataframe\">\n",
       "  <thead>\n",
       "    <tr style=\"text-align: right;\">\n",
       "      <th></th>\n",
       "      <th>Estimate</th>\n",
       "      <th>Std. Error</th>\n",
       "    </tr>\n",
       "  </thead>\n",
       "  <tbody>\n",
       "    <tr>\n",
       "      <th>Without controls</th>\n",
       "      <td>-0.038345</td>\n",
       "      <td>0.015902</td>\n",
       "    </tr>\n",
       "    <tr>\n",
       "      <th>full reg</th>\n",
       "      <td>-0.069553</td>\n",
       "      <td>0.144608</td>\n",
       "    </tr>\n",
       "    <tr>\n",
       "      <th>partial reg</th>\n",
       "      <td>-0.069553</td>\n",
       "      <td>0.015000</td>\n",
       "    </tr>\n",
       "    <tr>\n",
       "      <th>partial reg via lasso</th>\n",
       "      <td>-0.064878</td>\n",
       "      <td>0.015557</td>\n",
       "    </tr>\n",
       "  </tbody>\n",
       "</table>\n",
       "</div>"
      ],
      "text/plain": [
       "                       Estimate  Std. Error\n",
       "Without controls      -0.038345    0.015902\n",
       "full reg              -0.069553    0.144608\n",
       "partial reg           -0.069553    0.015000\n",
       "partial reg via lasso -0.064878    0.015557"
      ]
     },
     "execution_count": 21,
     "metadata": {},
     "output_type": "execute_result"
    }
   ],
   "source": [
    "table2 = np.zeros( (4, 2) )\n",
    "\n",
    "table2[0,0] = nocontrol_est  \n",
    "table2[0,1] = nocontrol_se   \n",
    "table2[1,0] = control_est\n",
    "table2[1,1] = control_se    \n",
    "table2[2,0] = partial_est  \n",
    "table2[2,1] = partial_se  \n",
    "table2[3,0] =  partial_lasso_est\n",
    "table2[3,1] = partial_lasso_se \n",
    "\n",
    "table2_pandas = pd.DataFrame( table2, columns = [ \"Estimate\",\"Std. Error\" ])\n",
    "table2_pandas.index = [ \"Without controls\", \"full reg\", \"partial reg\", \"partial reg via lasso\" ]\n",
    "table2_html = table2_pandas.to_html()\n",
    "table2_pandas"
   ]
  },
  {
   "cell_type": "markdown",
   "metadata": {
    "papermill": {
     "duration": 0.025264,
     "end_time": "2021-02-21T17:17:54.631146",
     "exception": false,
     "start_time": "2021-02-21T17:17:54.605882",
     "status": "completed"
    },
    "tags": []
   },
   "source": [
    "It it worth to notice that controlling for worker characteristics increases the gender wage gap from less that 4\\% to 7\\%. The controls we used in our analysis include 5 educational attainment indicators (less than high school graduates, high school graduates, some college, college graduate, and advanced degree), 4 region indicators (midwest, south, west, and northeast);  a quartic term (first, second, third, and fourth power) in experience and 22 occupation and 23 industry indicators.\n",
    "\n",
    "Keep in mind that the predictive effect (PE) does not only measures discrimination (causal effect of being female), it also may reflect\n",
    "selection effects of unobserved differences in covariates between men and women in our sample.\n"
   ]
  },
  {
   "cell_type": "markdown",
   "metadata": {
    "papermill": {
     "duration": 0.025752,
     "end_time": "2021-02-21T17:17:54.682415",
     "exception": false,
     "start_time": "2021-02-21T17:17:54.656663",
     "status": "completed"
    },
    "tags": []
   },
   "source": [
    "Next we try \"extra\" flexible model, where we take interactions of all controls, giving us about 1000 controls."
   ]
  },
  {
   "cell_type": "markdown",
   "metadata": {},
   "source": [
    "## \"Extra\" flexible model"
   ]
  },
  {
   "cell_type": "code",
   "execution_count": 109,
   "metadata": {},
   "outputs": [
    {
     "name": "stdout",
     "output_type": "stream",
     "text": [
      "Number of Extra-Flex Controls 979 \n",
      "Coefficient for OLS with extra flex controls -0.06127046379396306\n"
     ]
    },
    {
     "data": {
      "text/plain": [
       "0.017759931217339292"
      ]
     },
     "execution_count": 109,
     "metadata": {},
     "output_type": "execute_result"
    }
   ],
   "source": [
    "extraflex = 'lwage ~ sex + (exp1+exp2+exp3+exp4+shs+hsg+scl+clg+occ2+ind2+mw+so+we)**2'\n",
    "\n",
    "control_fit = smf.ols( formula = extraflex, data=data).fit()\n",
    "\n",
    "#summary( control_fit )\n",
    "control_est = control_fit.summary2().tables[1]['Coef.']['sex']\n",
    "\n",
    "print( f\"Number of Extra-Flex Controls {control_fit.summary2().tables[1].shape[0]-1} \\nCoefficient for OLS with extra flex controls {control_est}\" )\n",
    "\n",
    "# standard error\n",
    "HCV_coefs = control_fit.cov_HC0\n",
    "\n",
    "n= len(data[ 'wage' ])\n",
    "\n",
    "p = len(control_fit.summary2().tables[1]['Coef.'])\n",
    "\n",
    "control_se = control_fit.summary2().tables[1]['Std.Err.']['sex']*math.sqrt(n/(n-p))\n",
    "control_se\n",
    "# crude adjustment for the effect of dimensionality on OLS standard errors, motivated by Cattaneo, Jannson, and Newey (2018)\n",
    "\n",
    "# for really correct way of doing this, we need to implement Cattaneo, Jannson, and Newey (2018)'s procedure."
   ]
  },
  {
   "cell_type": "markdown",
   "metadata": {},
   "source": [
    "## Laso \"Extra\" Flexible model"
   ]
  },
  {
   "cell_type": "code",
   "execution_count": 110,
   "metadata": {},
   "outputs": [
    {
     "name": "stderr",
     "output_type": "stream",
     "text": [
      "C:\\Users\\MSI-NB\\anaconda3\\lib\\site-packages\\sklearn\\linear_model\\_coordinate_descent.py:529: ConvergenceWarning: Objective did not converge. You might want to increase the number of iterations. Duality gap: 351.031340445538, tolerance: 0.1675169484647612\n",
      "  model = cd_fast.enet_coordinate_descent(\n"
     ]
    },
    {
     "name": "stdout",
     "output_type": "stream",
     "text": [
      "Coefficient for D via partialling-out using lasso -0.06676571026846852\n"
     ]
    },
    {
     "name": "stderr",
     "output_type": "stream",
     "text": [
      "C:\\Users\\MSI-NB\\anaconda3\\lib\\site-packages\\sklearn\\linear_model\\_coordinate_descent.py:529: ConvergenceWarning: Objective did not converge. You might want to increase the number of iterations. Duality gap: 2.703140950271518, tolerance: 0.12716172815533988\n",
      "  model = cd_fast.enet_coordinate_descent(\n"
     ]
    }
   ],
   "source": [
    "# models\n",
    "# model for Y\n",
    "extraflex_y = 'lwage ~  (exp1+exp2+exp3+exp4+shs+hsg+scl+clg+occ2+ind2+mw+so+we)**2'\n",
    "\n",
    "# model for \n",
    "extraflex_d = 'sex ~ (exp1+exp2+exp3+exp4+shs+hsg+scl+clg+occ2+ind2+mw+so+we)**2'\n",
    "\n",
    "# extraflex_y\n",
    "lasso_model = linear_model.Lasso( alpha = 0.1  )\n",
    "\n",
    "extraflex_y_covariables = smf.ols(formula = extraflex_y, data = data)\n",
    "\n",
    "Y_lasso_fitted = lasso_model.fit( extraflex_y_covariables.exog, data[[ 'lwage' ]] ).predict( extraflex_y_covariables.exog )\n",
    "\n",
    "t_Y = data[[ 'lwage' ]] - Y_lasso_fitted.reshape( Y_lasso_fitted.size, 1)\n",
    "\n",
    "# extraflex_d\n",
    "extraflex_d_covariables = smf.ols( extraflex_d, data=data)\n",
    "\n",
    "D_lasso_fitted = lasso_model.fit( extraflex_d_covariables.exog, data[[ 'sex' ]] ).predict( extraflex_d_covariables.exog )\n",
    "\n",
    "t_D = data[[ 'sex' ]] - D_lasso_fitted.reshape( D_lasso_fitted.size, 1)\n",
    "\n",
    "data_res = pd.DataFrame( np.hstack(( t_Y , t_D )) , columns = [ 't_Y', 't_D' ] )\n",
    "\n",
    "# regression of Y on D after partialling-out the effect of W\n",
    "partial_lasso_fit = smf.ols( formula = 't_Y ~ t_D' , data = data_res ).fit()\n",
    "partial_lasso_est = partial_lasso_fit.summary2().tables[1]['Coef.']['t_D']\n",
    "\n",
    "print( f\"Coefficient for D via partialling-out using lasso {partial_lasso_est}\" )\n",
    "\n",
    "# standard error\n",
    "HCV_coefs = partial_lasso_fit.cov_HC0\n",
    "partial_lasso_se = np.power( HCV_coefs.diagonal() , 0.5)[1]"
   ]
  },
  {
   "cell_type": "markdown",
   "metadata": {},
   "source": [
    "## Summarize the results"
   ]
  },
  {
   "cell_type": "code",
   "execution_count": 111,
   "metadata": {},
   "outputs": [
    {
     "data": {
      "text/html": [
       "<div>\n",
       "<style scoped>\n",
       "    .dataframe tbody tr th:only-of-type {\n",
       "        vertical-align: middle;\n",
       "    }\n",
       "\n",
       "    .dataframe tbody tr th {\n",
       "        vertical-align: top;\n",
       "    }\n",
       "\n",
       "    .dataframe thead th {\n",
       "        text-align: right;\n",
       "    }\n",
       "</style>\n",
       "<table border=\"1\" class=\"dataframe\">\n",
       "  <thead>\n",
       "    <tr style=\"text-align: right;\">\n",
       "      <th></th>\n",
       "      <th>Estimate</th>\n",
       "      <th>Std. Error</th>\n",
       "    </tr>\n",
       "  </thead>\n",
       "  <tbody>\n",
       "    <tr>\n",
       "      <th>full reg</th>\n",
       "      <td>-0.061270</td>\n",
       "      <td>0.017760</td>\n",
       "    </tr>\n",
       "    <tr>\n",
       "      <th>partial reg via lasso</th>\n",
       "      <td>-0.066766</td>\n",
       "      <td>0.015468</td>\n",
       "    </tr>\n",
       "  </tbody>\n",
       "</table>\n",
       "</div>"
      ],
      "text/plain": [
       "                       Estimate  Std. Error\n",
       "full reg              -0.061270    0.017760\n",
       "partial reg via lasso -0.066766    0.015468"
      ]
     },
     "execution_count": 111,
     "metadata": {},
     "output_type": "execute_result"
    }
   ],
   "source": [
    "table3 = np.zeros( ( 2, 2 ) )\n",
    "\n",
    "table3[0,0] = control_est\n",
    "table3[0,1] = control_se    \n",
    "table3[1,0] =  partial_lasso_est\n",
    "table3[1,1] = partial_lasso_se \n",
    "\n",
    "table3_pandas = pd.DataFrame( table3, columns = [ \"Estimate\",\"Std. Error\" ])\n",
    "table3_pandas.index = [ \"full reg\",\"partial reg via lasso\" ]\n",
    "table3_pandas.round(8)"
   ]
  },
  {
   "cell_type": "markdown",
   "metadata": {},
   "source": [
    "In this case p/n = 20%, that is  p/n  is no longer small and we start seeing the differences between unregularized partialling out and regularized partialling out with lasso (double lasso). The results based on double lasso have rigorous guarantees in this non-small p/n regime under approximate sparsity. The results based on OLS still have guarantees in p/n< 1 regime under assumptions laid out in Cattaneo, Newey, and Jansson (2018), without approximate sparsity, although other regularity conditions are needed."
   ]
  }
 ],
 "metadata": {
  "hide_input": false,
  "kernelspec": {
   "display_name": "Python 3 (ipykernel)",
   "language": "python",
   "name": "python3"
  },
  "language_info": {
   "codemirror_mode": {
    "name": "ipython",
    "version": 3
   },
   "file_extension": ".py",
   "mimetype": "text/x-python",
   "name": "python",
   "nbconvert_exporter": "python",
   "pygments_lexer": "ipython3",
   "version": "3.9.12"
  }
 },
 "nbformat": 4,
 "nbformat_minor": 4
}
