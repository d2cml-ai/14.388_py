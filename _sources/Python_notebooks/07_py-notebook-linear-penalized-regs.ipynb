{
 "cells": [
  {
   "cell_type": "markdown",
   "metadata": {},
   "source": [
    "# Linear Penalized Regs"
   ]
  },
  {
   "cell_type": "markdown",
   "metadata": {
    "_execution_state": "idle",
    "_uuid": "051d70d956493feee0c6d64651c6a088724dca2a",
    "papermill": {
     "duration": 0.010774,
     "end_time": "2021-02-15T11:01:41.782833",
     "exception": false,
     "start_time": "2021-02-15T11:01:41.772059",
     "status": "completed"
    },
    "tags": []
   },
   "source": [
    "## Penalized Linear Regressions: A Simulation Experiment"
   ]
  },
  {
   "cell_type": "markdown",
   "metadata": {
    "papermill": {
     "duration": 0.010616,
     "end_time": "2021-02-15T11:01:41.804126",
     "exception": false,
     "start_time": "2021-02-15T11:01:41.793510",
     "status": "completed"
    },
    "tags": []
   },
   "source": [
    "## Data Generating Process: Approximately Sparse"
   ]
  },
  {
   "cell_type": "code",
   "execution_count": 47,
   "metadata": {},
   "outputs": [],
   "source": [
    "import random\n",
    "random.seed(1)\n",
    "import numpy as np\n",
    "import math\n",
    "import matplotlib.pyplot as plt\n",
    "import warnings\n",
    "warnings.filterwarnings('ignore')"
   ]
  },
  {
   "cell_type": "code",
   "execution_count": 48,
   "metadata": {},
   "outputs": [
    {
     "data": {
      "image/png": "[encoded data removed]",
      "text/plain": [
       "<Figure size 432x288 with 1 Axes>"
      ]
     },
     "metadata": {
      "needs_background": "light"
     },
     "output_type": "display_data"
    },
    {
     "name": "stdout",
     "output_type": "stream",
     "text": [
      "theoretical R2:, 0.856684252638448\n"
     ]
    },
    {
     "data": {
      "text/plain": [
       "0.856684252638448"
      ]
     },
     "execution_count": 48,
     "metadata": {},
     "output_type": "execute_result"
    }
   ],
   "source": [
    "n = 100\n",
    "p = 400\n",
    "\n",
    "Z = np.random.uniform( low = 0 , high = 1 , size = n) - 1/2 \n",
    "\n",
    "W = ( np.random.uniform( low = 0 , high = 1 , size = n * p ) - 1/2 ).\\\n",
    "        reshape( n , p )\n",
    "\n",
    "beta = ((1/ np.arange(1, p + 1 )) ** 2)\n",
    "\n",
    "gX = np.exp( 4 * Z ) + (W @ beta)\n",
    "gX\n",
    "\n",
    "X = np.concatenate( ( Z.reshape(Z.size, 1), Z.reshape(Z.size, 1) \\\n",
    "                     ** 2, Z.reshape(Z.size, 1) ** 3, W ) , axis = 1 )\n",
    "\n",
    "mean = 0\n",
    "sd = 1\n",
    "Y = gX + np.random.normal( mean , sd, n )\n",
    "\n",
    "# We use package Glmnet to carry out predictions using cross-validated lasso, ridge, and elastic net\n",
    "fig = plt.figure()\n",
    "fig.suptitle('Y vs g(X)')\n",
    "ax = fig.add_subplot(111)\n",
    "plt.scatter( Y, gX)\n",
    "plt.xlabel('g(X)')\n",
    "plt.ylabel('Y')\n",
    "plt.show()\n",
    "\n",
    "print( f\"theoretical R2:, {np.var(gX) / np.var( Y )}\" ) \n",
    "\n",
    "np.var(gX) / np.var( Y ) #theoretical R-square in the simulation example"
   ]
  },
  {
   "cell_type": "markdown",
   "metadata": {
    "papermill": {
     "duration": 0.013571,
     "end_time": "2021-02-15T11:01:42.446308",
     "exception": false,
     "start_time": "2021-02-15T11:01:42.432737",
     "status": "completed"
    },
    "tags": []
   },
   "source": [
    "We use package Glmnet to carry out predictions using cross-validated lasso, ridge, and elastic net"
   ]
  },
  {
   "cell_type": "markdown",
   "metadata": {},
   "source": [
    "We should know that **cv.glmnet** function in r **standarize** ***X*** data by default. So, we have to standarize our data before the execution of sklearn package. The **normalize** parameter will help for this. However, the function cv.glamnet  is also standarizing the **Y** [variable](https://web.stanford.edu/~hastie/glmnet/glmnet_alpha.html) and then unstadarize the coefficients from the regression. To do this with sklearn, we will standarize the **Y** variable before fitting with **StandardScaler** function. Finally, the r-function uses 10 folds by default so we will adjust our model to use **cv=10** ten folds.\\\n",
    "\\\n",
    "The parameter **l1_ratio** corresponds to **alpha** in the glmnet R package while **alpha** corresponds to the **lambda** parameter in **glmnet**. Specifically, **l1_ratio = 1** is the lasso penalty. Currently, **l1_ratio <= 0.01** is not reliable, unless you supply your own sequence of **alpha**."
   ]
  },
  {
   "cell_type": "code",
   "execution_count": 49,
   "metadata": {},
   "outputs": [],
   "source": [
    "from sklearn.linear_model import LassoCV\n",
    "from sklearn.preprocessing import StandardScaler\n",
    "from sklearn.linear_model import RidgeCV, ElasticNetCV"
   ]
  },
  {
   "cell_type": "code",
   "execution_count": 67,
   "metadata": {},
   "outputs": [],
   "source": [
    "# Reshaping Y variable\n",
    "Y_vec = Y.reshape( Y.size, 1)\n",
    "\n",
    "# Scalar distribution\n",
    "scaler = StandardScaler()\n",
    "scaler.fit( Y_vec )\n",
    "std_Y = scaler.transform( Y_vec )\n",
    "\n",
    "# Regressions\n",
    "fit_lasso_cv = LassoCV(cv = 10 , random_state = 0 , normalize = True ).fit( X, std_Y )\n",
    "fit_ridge = ElasticNetCV( cv = 10 , normalize = True , random_state = 0 , l1_ratio = 0.0001 ).fit( X, std_Y )\n",
    "fit_elnet = ElasticNetCV( cv = 10 , normalize = True , random_state = 0 , l1_ratio = 0.5, max_iter = 100000 ).fit( X, std_Y )\n",
    "\n",
    "# Predictions\n",
    "yhat_lasso_cv = scaler.inverse_transform( fit_lasso_cv.predict( X ).reshape(-1,1) )\n",
    "yhat_ridge = scaler.inverse_transform( fit_ridge.predict( X ).reshape(-1,1) )\n",
    "yhat_elnet = scaler.inverse_transform( fit_elnet.predict( X ).reshape(-1,1) )"
   ]
  },
  {
   "cell_type": "code",
   "execution_count": 69,
   "metadata": {},
   "outputs": [],
   "source": [
    "import statsmodels.api as sm"
   ]
  },
  {
   "cell_type": "code",
   "execution_count": 72,
   "metadata": {},
   "outputs": [],
   "source": [
    "MSE_lasso_cv = sm.OLS( ((gX.reshape(-1,1) - yhat_lasso_cv)**2 ) , np.ones( yhat_lasso_cv.shape )  ).fit().summary2().tables[1].round(3)\n",
    "MSE_ridge = sm.OLS( ((gX.reshape(-1,1) - yhat_ridge)**2 ) , np.ones( yhat_ridge.size )  ).fit().summary2().tables[1].round(3)\n",
    "MSE_elnet = sm.OLS( ((gX.reshape(-1,1) - yhat_elnet)**2 ) , np.ones( yhat_elnet.size )  ).fit().summary2().tables[1].round(3)\n",
    "# our coefficient of MSE_elnet are far from r output"
   ]
  },
  {
   "cell_type": "markdown",
   "metadata": {
    "papermill": {
     "duration": 0.01429,
     "end_time": "2021-02-15T11:01:45.388902",
     "exception": false,
     "start_time": "2021-02-15T11:01:45.374612",
     "status": "completed"
    },
    "tags": []
   },
   "source": [
    "Here we compute the lasso and ols post lasso using plug-in choices for penalty levels, using package hdm"
   ]
  },
  {
   "cell_type": "markdown",
   "metadata": {},
   "source": [
    "Rlasso functionality: it is searching the right set of regressors. This function was made for the case of ***p*** regressors and ***n*** observations where ***p >>>> n***. It assumes that the error is i.i.d. The errors may be non-Gaussian or heteroscedastic.\\\n",
    "The post lasso function makes OLS with the selected ***T*** regressors.\n",
    "To select those parameters, they use $\\lambda$ as variable to penalize\\\n",
    "**Funny thing: the function rlasso was named like that because it is the \"rigorous\" Lasso.**\\\n",
    "We find a Python code that tries to replicate the main function of hdm r-package. I was made by [Max Huppertz](https://maxhuppertz.github.io/code/). His library is this [repository](https://github.com/maxhuppertz/hdmpy). Download its repository and copy this folder to your site-packages folder. In my case it is located here ***C:\\Python\\Python38\\Lib\\site-packages*** ."
   ]
  },
  {
   "cell_type": "markdown",
   "metadata": {},
   "source": [
    "We need to install this package ***pip install multiprocess***."
   ]
  },
  {
   "cell_type": "code",
   "execution_count": 73,
   "metadata": {},
   "outputs": [],
   "source": [
    "import hdmpy"
   ]
  },
  {
   "cell_type": "code",
   "execution_count": 74,
   "metadata": {},
   "outputs": [],
   "source": [
    "fit_rlasso = hdmpy.rlasso(X, Y, post = False)\n",
    "fit_rlasso_post = hdmpy.rlasso(X, Y, post = True)\n",
    "\n",
    "yhat_rlasso = Y - fit_rlasso.est['residuals'].reshape( Y.size,  )\n",
    "yhat_rlasso_post = Y - fit_rlasso_post.est['residuals'].reshape( Y.size ,  )\n",
    "\n",
    "MSE_lasso = sm.OLS( ((gX - yhat_rlasso)**2 ) , np.ones( yhat_rlasso.size )  ).fit().summary2().tables[1].round(3)\n",
    "MSE_lasso_post = sm.OLS( ((gX - yhat_rlasso_post)**2 ) , np.ones( yhat_rlasso_post.size )  ).fit().summary2().tables[1].round(3)\n"
   ]
  },
  {
   "cell_type": "code",
   "execution_count": 78,
   "metadata": {},
   "outputs": [],
   "source": [
    "def lava_predict( x, y, iteration = 5 ):\n",
    "    \n",
    "    g1_rlasso = hdmpy.rlasso( x, y , post = False )\n",
    "    g1 = y - g1_rlasso.est['residuals'].reshape( g1_rlasso.est['residuals'].size, )\n",
    "    \n",
    "    new_dep_var = y-g1\n",
    "    new_dep_var_vec = new_dep_var.reshape( new_dep_var.size, 1 )\n",
    "    \n",
    "    # Scalar distribution\n",
    "    scaler = StandardScaler()\n",
    "    scaler.fit( new_dep_var_vec )\n",
    "    std_new_dep_var_vec = scaler.transform( new_dep_var_vec )\n",
    "    \n",
    "    fit_ridge_m1 = ElasticNetCV( cv = 10 , normalize = True , random_state = 0 , l1_ratio = 0.0001, alphas = np.array([20]) ).fit( x, std_new_dep_var_vec )\n",
    "    m1 = scaler.inverse_transform( fit_ridge_m1.predict( x ) )\n",
    "    \n",
    "    i = 1\n",
    "    while i <= iteration:\n",
    "        \n",
    "        g1_rlasso = hdmpy.rlasso( x, y , post = False )\n",
    "        g1 = y - g1_rlasso.est['residuals'].reshape( g1_rlasso.est['residuals'].size, )\n",
    "\n",
    "        new_dep_var = y-g1\n",
    "        new_dep_var_vec = new_dep_var.reshape( new_dep_var.size, 1 )\n",
    "\n",
    "        # Scalar distribution\n",
    "        scaler = StandardScaler()\n",
    "        scaler.fit( new_dep_var_vec )\n",
    "        std_new_dep_var_vec = scaler.transform( new_dep_var_vec )\n",
    "\n",
    "        fit_ridge_m1 = ElasticNetCV( cv = 10 , normalize = True , random_state = 0 , l1_ratio = 0.0001, alphas = np.array([20]) ).fit( x, std_new_dep_var_vec )\n",
    "        m1 = scaler.inverse_transform( fit_ridge_m1.predict( x ) )\n",
    "        \n",
    "        i = i + 1\n",
    "        \n",
    "    return ( g1 + m1 )\n",
    "        "
   ]
  },
  {
   "cell_type": "markdown",
   "metadata": {
    "papermill": {
     "duration": 0.02899,
     "end_time": "2021-02-15T11:01:56.880825",
     "exception": false,
     "start_time": "2021-02-15T11:01:56.851835",
     "status": "completed"
    },
    "tags": []
   },
   "source": [
    "Next we code up lava, which alternates the fitting of lasso and ridge"
   ]
  },
  {
   "cell_type": "code",
   "execution_count": 17,
   "metadata": {},
   "outputs": [
    {
     "name": "stdout",
     "output_type": "stream",
     "text": [
      "(100, 403)\n",
      "(100,)\n"
     ]
    }
   ],
   "source": [
    "print(X.shape)\n",
    "print(Y.shape)"
   ]
  },
  {
   "cell_type": "code",
   "execution_count": 84,
   "metadata": {},
   "outputs": [
    {
     "ename": "ValueError",
     "evalue": "Found input variables with inconsistent numbers of samples: [100, 10000]",
     "output_type": "error",
     "traceback": [
      "\u001b[1;31m---------------------------------------------------------------------------\u001b[0m",
      "\u001b[1;31mValueError\u001b[0m                                Traceback (most recent call last)",
      "Input \u001b[1;32mIn [84]\u001b[0m, in \u001b[0;36m<cell line: 1>\u001b[1;34m()\u001b[0m\n\u001b[1;32m----> 1\u001b[0m yhat_lava \u001b[38;5;241m=\u001b[39m \u001b[43mlava_predict\u001b[49m\u001b[43m(\u001b[49m\u001b[43m \u001b[49m\u001b[43mX\u001b[49m\u001b[43m,\u001b[49m\u001b[43m \u001b[49m\u001b[43mY\u001b[49m\u001b[38;5;241;43m.\u001b[39;49m\u001b[43mreshape\u001b[49m\u001b[43m(\u001b[49m\u001b[38;5;241;43m-\u001b[39;49m\u001b[38;5;241;43m1\u001b[39;49m\u001b[43m,\u001b[49m\u001b[38;5;241;43m1\u001b[39;49m\u001b[43m)\u001b[49m\u001b[43m \u001b[49m\u001b[43m)\u001b[49m\n",
      "Input \u001b[1;32mIn [78]\u001b[0m, in \u001b[0;36mlava_predict\u001b[1;34m(x, y, iteration)\u001b[0m\n\u001b[0;32m     11\u001b[0m scaler\u001b[38;5;241m.\u001b[39mfit( new_dep_var_vec )\n\u001b[0;32m     12\u001b[0m std_new_dep_var_vec \u001b[38;5;241m=\u001b[39m scaler\u001b[38;5;241m.\u001b[39mtransform( new_dep_var_vec )\n\u001b[1;32m---> 14\u001b[0m fit_ridge_m1 \u001b[38;5;241m=\u001b[39m \u001b[43mElasticNetCV\u001b[49m\u001b[43m(\u001b[49m\u001b[43m \u001b[49m\u001b[43mcv\u001b[49m\u001b[43m \u001b[49m\u001b[38;5;241;43m=\u001b[39;49m\u001b[43m \u001b[49m\u001b[38;5;241;43m10\u001b[39;49m\u001b[43m \u001b[49m\u001b[43m,\u001b[49m\u001b[43m \u001b[49m\u001b[43mnormalize\u001b[49m\u001b[43m \u001b[49m\u001b[38;5;241;43m=\u001b[39;49m\u001b[43m \u001b[49m\u001b[38;5;28;43;01mTrue\u001b[39;49;00m\u001b[43m \u001b[49m\u001b[43m,\u001b[49m\u001b[43m \u001b[49m\u001b[43mrandom_state\u001b[49m\u001b[43m \u001b[49m\u001b[38;5;241;43m=\u001b[39;49m\u001b[43m \u001b[49m\u001b[38;5;241;43m0\u001b[39;49m\u001b[43m \u001b[49m\u001b[43m,\u001b[49m\u001b[43m \u001b[49m\u001b[43ml1_ratio\u001b[49m\u001b[43m \u001b[49m\u001b[38;5;241;43m=\u001b[39;49m\u001b[43m \u001b[49m\u001b[38;5;241;43m0.0001\u001b[39;49m\u001b[43m,\u001b[49m\u001b[43m \u001b[49m\u001b[43malphas\u001b[49m\u001b[43m \u001b[49m\u001b[38;5;241;43m=\u001b[39;49m\u001b[43m \u001b[49m\u001b[43mnp\u001b[49m\u001b[38;5;241;43m.\u001b[39;49m\u001b[43marray\u001b[49m\u001b[43m(\u001b[49m\u001b[43m[\u001b[49m\u001b[38;5;241;43m20\u001b[39;49m\u001b[43m]\u001b[49m\u001b[43m)\u001b[49m\u001b[43m \u001b[49m\u001b[43m)\u001b[49m\u001b[38;5;241;43m.\u001b[39;49m\u001b[43mfit\u001b[49m\u001b[43m(\u001b[49m\u001b[43m \u001b[49m\u001b[43mx\u001b[49m\u001b[43m,\u001b[49m\u001b[43m \u001b[49m\u001b[43mstd_new_dep_var_vec\u001b[49m\u001b[43m \u001b[49m\u001b[43m)\u001b[49m\n\u001b[0;32m     15\u001b[0m m1 \u001b[38;5;241m=\u001b[39m scaler\u001b[38;5;241m.\u001b[39minverse_transform( fit_ridge_m1\u001b[38;5;241m.\u001b[39mpredict( x ) )\n\u001b[0;32m     17\u001b[0m i \u001b[38;5;241m=\u001b[39m \u001b[38;5;241m1\u001b[39m\n",
      "File \u001b[1;32m~\\anaconda3\\lib\\site-packages\\sklearn\\linear_model\\_coordinate_descent.py:1564\u001b[0m, in \u001b[0;36mLinearModelCV.fit\u001b[1;34m(self, X, y, sample_weight)\u001b[0m\n\u001b[0;32m   1559\u001b[0m     X, y \u001b[38;5;241m=\u001b[39m \u001b[38;5;28mself\u001b[39m\u001b[38;5;241m.\u001b[39m_validate_data(\n\u001b[0;32m   1560\u001b[0m         X, y, validate_separately\u001b[38;5;241m=\u001b[39m(check_X_params, check_y_params)\n\u001b[0;32m   1561\u001b[0m     )\n\u001b[0;32m   1562\u001b[0m     copy_X \u001b[38;5;241m=\u001b[39m \u001b[38;5;28;01mFalse\u001b[39;00m\n\u001b[1;32m-> 1564\u001b[0m \u001b[43mcheck_consistent_length\u001b[49m\u001b[43m(\u001b[49m\u001b[43mX\u001b[49m\u001b[43m,\u001b[49m\u001b[43m \u001b[49m\u001b[43my\u001b[49m\u001b[43m)\u001b[49m\n\u001b[0;32m   1566\u001b[0m \u001b[38;5;28;01mif\u001b[39;00m \u001b[38;5;129;01mnot\u001b[39;00m \u001b[38;5;28mself\u001b[39m\u001b[38;5;241m.\u001b[39m_is_multitask():\n\u001b[0;32m   1567\u001b[0m     \u001b[38;5;28;01mif\u001b[39;00m y\u001b[38;5;241m.\u001b[39mndim \u001b[38;5;241m>\u001b[39m \u001b[38;5;241m1\u001b[39m \u001b[38;5;129;01mand\u001b[39;00m y\u001b[38;5;241m.\u001b[39mshape[\u001b[38;5;241m1\u001b[39m] \u001b[38;5;241m>\u001b[39m \u001b[38;5;241m1\u001b[39m:\n",
      "File \u001b[1;32m~\\anaconda3\\lib\\site-packages\\sklearn\\utils\\validation.py:332\u001b[0m, in \u001b[0;36mcheck_consistent_length\u001b[1;34m(*arrays)\u001b[0m\n\u001b[0;32m    330\u001b[0m uniques \u001b[38;5;241m=\u001b[39m np\u001b[38;5;241m.\u001b[39munique(lengths)\n\u001b[0;32m    331\u001b[0m \u001b[38;5;28;01mif\u001b[39;00m \u001b[38;5;28mlen\u001b[39m(uniques) \u001b[38;5;241m>\u001b[39m \u001b[38;5;241m1\u001b[39m:\n\u001b[1;32m--> 332\u001b[0m     \u001b[38;5;28;01mraise\u001b[39;00m \u001b[38;5;167;01mValueError\u001b[39;00m(\n\u001b[0;32m    333\u001b[0m         \u001b[38;5;124m\"\u001b[39m\u001b[38;5;124mFound input variables with inconsistent numbers of samples: \u001b[39m\u001b[38;5;132;01m%r\u001b[39;00m\u001b[38;5;124m\"\u001b[39m\n\u001b[0;32m    334\u001b[0m         \u001b[38;5;241m%\u001b[39m [\u001b[38;5;28mint\u001b[39m(l) \u001b[38;5;28;01mfor\u001b[39;00m l \u001b[38;5;129;01min\u001b[39;00m lengths]\n\u001b[0;32m    335\u001b[0m     )\n",
      "\u001b[1;31mValueError\u001b[0m: Found input variables with inconsistent numbers of samples: [100, 10000]"
     ]
    }
   ],
   "source": [
    "yhat_lava = lava_predict( X, Y.reshape(-1,1) )"
   ]
  },
  {
   "cell_type": "code",
   "execution_count": 24,
   "metadata": {},
   "outputs": [
    {
     "ename": "ValueError",
     "evalue": "Found input variables with inconsistent numbers of samples: [100, 10000]",
     "output_type": "error",
     "traceback": [
      "\u001b[1;31m---------------------------------------------------------------------------\u001b[0m",
      "\u001b[1;31mValueError\u001b[0m                                Traceback (most recent call last)",
      "Input \u001b[1;32mIn [24]\u001b[0m, in \u001b[0;36m<cell line: 1>\u001b[1;34m()\u001b[0m\n\u001b[1;32m----> 1\u001b[0m yhat_lava \u001b[38;5;241m=\u001b[39m \u001b[43mlava_predict\u001b[49m\u001b[43m(\u001b[49m\u001b[43m \u001b[49m\u001b[43mX\u001b[49m\u001b[38;5;241;43m.\u001b[39;49m\u001b[43mreshape\u001b[49m\u001b[43m(\u001b[49m\u001b[38;5;241;43m-\u001b[39;49m\u001b[38;5;241;43m1\u001b[39;49m\u001b[43m,\u001b[49m\u001b[43mX\u001b[49m\u001b[38;5;241;43m.\u001b[39;49m\u001b[43mshape\u001b[49m\u001b[43m[\u001b[49m\u001b[38;5;241;43m1\u001b[39;49m\u001b[43m]\u001b[49m\u001b[43m)\u001b[49m\u001b[43m,\u001b[49m\u001b[43m \u001b[49m\u001b[43mY\u001b[49m\u001b[38;5;241;43m.\u001b[39;49m\u001b[43mreshape\u001b[49m\u001b[43m(\u001b[49m\u001b[38;5;241;43m-\u001b[39;49m\u001b[38;5;241;43m1\u001b[39;49m\u001b[43m,\u001b[49m\u001b[38;5;241;43m1\u001b[39;49m\u001b[43m)\u001b[49m\u001b[43m \u001b[49m\u001b[43m)\u001b[49m\n",
      "Input \u001b[1;32mIn [9]\u001b[0m, in \u001b[0;36mlava_predict\u001b[1;34m(x, y, iteration)\u001b[0m\n\u001b[0;32m     11\u001b[0m scaler\u001b[38;5;241m.\u001b[39mfit( new_dep_var_vec )\n\u001b[0;32m     12\u001b[0m std_new_dep_var_vec \u001b[38;5;241m=\u001b[39m scaler\u001b[38;5;241m.\u001b[39mtransform( new_dep_var_vec )\n\u001b[1;32m---> 14\u001b[0m fit_ridge_m1 \u001b[38;5;241m=\u001b[39m \u001b[43mElasticNetCV\u001b[49m\u001b[43m(\u001b[49m\u001b[43m \u001b[49m\u001b[43mcv\u001b[49m\u001b[43m \u001b[49m\u001b[38;5;241;43m=\u001b[39;49m\u001b[43m \u001b[49m\u001b[38;5;241;43m10\u001b[39;49m\u001b[43m \u001b[49m\u001b[43m,\u001b[49m\u001b[43m \u001b[49m\u001b[43mnormalize\u001b[49m\u001b[43m \u001b[49m\u001b[38;5;241;43m=\u001b[39;49m\u001b[43m \u001b[49m\u001b[38;5;28;43;01mTrue\u001b[39;49;00m\u001b[43m \u001b[49m\u001b[43m,\u001b[49m\u001b[43m \u001b[49m\u001b[43mrandom_state\u001b[49m\u001b[43m \u001b[49m\u001b[38;5;241;43m=\u001b[39;49m\u001b[43m \u001b[49m\u001b[38;5;241;43m0\u001b[39;49m\u001b[43m \u001b[49m\u001b[43m,\u001b[49m\u001b[43m \u001b[49m\u001b[43ml1_ratio\u001b[49m\u001b[43m \u001b[49m\u001b[38;5;241;43m=\u001b[39;49m\u001b[43m \u001b[49m\u001b[38;5;241;43m0.0001\u001b[39;49m\u001b[43m,\u001b[49m\u001b[43m \u001b[49m\u001b[43malphas\u001b[49m\u001b[43m \u001b[49m\u001b[38;5;241;43m=\u001b[39;49m\u001b[43m \u001b[49m\u001b[43mnp\u001b[49m\u001b[38;5;241;43m.\u001b[39;49m\u001b[43marray\u001b[49m\u001b[43m(\u001b[49m\u001b[43m[\u001b[49m\u001b[38;5;241;43m20\u001b[39;49m\u001b[43m]\u001b[49m\u001b[43m)\u001b[49m\u001b[43m \u001b[49m\u001b[43m)\u001b[49m\u001b[38;5;241;43m.\u001b[39;49m\u001b[43mfit\u001b[49m\u001b[43m(\u001b[49m\u001b[43m \u001b[49m\u001b[43mx\u001b[49m\u001b[43m,\u001b[49m\u001b[43m \u001b[49m\u001b[43mstd_new_dep_var_vec\u001b[49m\u001b[43m \u001b[49m\u001b[43m)\u001b[49m\n\u001b[0;32m     15\u001b[0m m1 \u001b[38;5;241m=\u001b[39m scaler\u001b[38;5;241m.\u001b[39minverse_transform( fit_ridge_m1\u001b[38;5;241m.\u001b[39mpredict( x ) )\n\u001b[0;32m     17\u001b[0m i \u001b[38;5;241m=\u001b[39m \u001b[38;5;241m1\u001b[39m\n",
      "File \u001b[1;32m~\\anaconda3\\lib\\site-packages\\sklearn\\linear_model\\_coordinate_descent.py:1564\u001b[0m, in \u001b[0;36mLinearModelCV.fit\u001b[1;34m(self, X, y, sample_weight)\u001b[0m\n\u001b[0;32m   1559\u001b[0m     X, y \u001b[38;5;241m=\u001b[39m \u001b[38;5;28mself\u001b[39m\u001b[38;5;241m.\u001b[39m_validate_data(\n\u001b[0;32m   1560\u001b[0m         X, y, validate_separately\u001b[38;5;241m=\u001b[39m(check_X_params, check_y_params)\n\u001b[0;32m   1561\u001b[0m     )\n\u001b[0;32m   1562\u001b[0m     copy_X \u001b[38;5;241m=\u001b[39m \u001b[38;5;28;01mFalse\u001b[39;00m\n\u001b[1;32m-> 1564\u001b[0m \u001b[43mcheck_consistent_length\u001b[49m\u001b[43m(\u001b[49m\u001b[43mX\u001b[49m\u001b[43m,\u001b[49m\u001b[43m \u001b[49m\u001b[43my\u001b[49m\u001b[43m)\u001b[49m\n\u001b[0;32m   1566\u001b[0m \u001b[38;5;28;01mif\u001b[39;00m \u001b[38;5;129;01mnot\u001b[39;00m \u001b[38;5;28mself\u001b[39m\u001b[38;5;241m.\u001b[39m_is_multitask():\n\u001b[0;32m   1567\u001b[0m     \u001b[38;5;28;01mif\u001b[39;00m y\u001b[38;5;241m.\u001b[39mndim \u001b[38;5;241m>\u001b[39m \u001b[38;5;241m1\u001b[39m \u001b[38;5;129;01mand\u001b[39;00m y\u001b[38;5;241m.\u001b[39mshape[\u001b[38;5;241m1\u001b[39m] \u001b[38;5;241m>\u001b[39m \u001b[38;5;241m1\u001b[39m:\n",
      "File \u001b[1;32m~\\anaconda3\\lib\\site-packages\\sklearn\\utils\\validation.py:332\u001b[0m, in \u001b[0;36mcheck_consistent_length\u001b[1;34m(*arrays)\u001b[0m\n\u001b[0;32m    330\u001b[0m uniques \u001b[38;5;241m=\u001b[39m np\u001b[38;5;241m.\u001b[39munique(lengths)\n\u001b[0;32m    331\u001b[0m \u001b[38;5;28;01mif\u001b[39;00m \u001b[38;5;28mlen\u001b[39m(uniques) \u001b[38;5;241m>\u001b[39m \u001b[38;5;241m1\u001b[39m:\n\u001b[1;32m--> 332\u001b[0m     \u001b[38;5;28;01mraise\u001b[39;00m \u001b[38;5;167;01mValueError\u001b[39;00m(\n\u001b[0;32m    333\u001b[0m         \u001b[38;5;124m\"\u001b[39m\u001b[38;5;124mFound input variables with inconsistent numbers of samples: \u001b[39m\u001b[38;5;132;01m%r\u001b[39;00m\u001b[38;5;124m\"\u001b[39m\n\u001b[0;32m    334\u001b[0m         \u001b[38;5;241m%\u001b[39m [\u001b[38;5;28mint\u001b[39m(l) \u001b[38;5;28;01mfor\u001b[39;00m l \u001b[38;5;129;01min\u001b[39;00m lengths]\n\u001b[0;32m    335\u001b[0m     )\n",
      "\u001b[1;31mValueError\u001b[0m: Found input variables with inconsistent numbers of samples: [100, 10000]"
     ]
    }
   ],
   "source": [
    "yhat_lava = lava_predict( X.reshape(-1,X.shape[1]), Y.reshape(-1,1) )"
   ]
  },
  {
   "cell_type": "code",
   "execution_count": 79,
   "metadata": {},
   "outputs": [
    {
     "ename": "ValueError",
     "evalue": "Expected 2D array, got 1D array instead:\narray=[ 1.31925564e-04 -2.78839475e-03 -1.68320499e-03 -9.86061094e-04\n -6.09981926e-04 -9.65894525e-04 -4.63284613e-04 -1.86797011e-03\n -3.97059470e-03  1.33980212e-03  4.18719814e-03  2.72843430e-04\n -2.49896203e-03 -2.20497766e-04  4.98730992e-04 -2.57469264e-03\n  7.29635781e-04 -1.07971041e-03 -2.43211984e-03  4.84705955e-04\n  1.64541374e-03 -1.42337862e-03  3.66813776e-03  1.14128324e-03\n -3.37015422e-03 -8.25208105e-04 -2.94022157e-03 -6.64163862e-04\n -5.30186274e-04  4.58853580e-04  1.23865430e-03 -2.47826652e-03\n  7.66564851e-04 -2.65006223e-04 -1.66809556e-03  1.03621871e-03\n -2.48415901e-04  1.96616609e-03 -3.50636159e-03 -8.38534525e-05\n  4.65818188e-03 -3.54523907e-03  1.36174951e-03  2.24974736e-03\n -4.53832909e-04 -5.44984425e-05 -2.23070348e-03  1.69157993e-03\n -1.13473036e-03 -9.77185673e-04  1.50540068e-03  4.67934176e-04\n -2.65827305e-03  2.22059526e-03  4.48838171e-03 -1.98035964e-03\n  1.71256910e-03 -1.20203438e-03  4.56793534e-04 -1.26105292e-03\n -1.36733032e-03  9.70161389e-04  1.80147656e-03  2.93587216e-03\n  4.66138416e-03  1.21822944e-03  1.94528278e-03  2.07148746e-03\n -5.14311643e-04  3.01601999e-04  1.20089862e-03 -3.88437169e-04\n  9.13293484e-04  7.62634598e-04 -4.04671854e-04 -1.59235251e-04\n -4.11963455e-03  3.82823717e-03 -3.92173087e-03  5.18125232e-04\n -1.53081362e-04  2.95436086e-03 -1.98988426e-04 -2.40096108e-04\n  2.36462428e-03 -6.17562432e-04 -6.65999005e-04  5.60859346e-04\n  1.30314057e-03 -3.02589155e-04 -1.23167525e-03 -3.34420713e-04\n  2.25021215e-04  1.20222913e-03 -4.70889652e-04 -2.03044053e-04\n  2.84814526e-04 -2.31718605e-04 -1.00252299e-03 -2.32271723e-04].\nReshape your data either using array.reshape(-1, 1) if your data has a single feature or array.reshape(1, -1) if it contains a single sample.",
     "output_type": "error",
     "traceback": [
      "\u001b[1;31m---------------------------------------------------------------------------\u001b[0m",
      "\u001b[1;31mValueError\u001b[0m                                Traceback (most recent call last)",
      "Input \u001b[1;32mIn [79]\u001b[0m, in \u001b[0;36m<cell line: 1>\u001b[1;34m()\u001b[0m\n\u001b[1;32m----> 1\u001b[0m yhat_lava \u001b[38;5;241m=\u001b[39m \u001b[43mlava_predict\u001b[49m\u001b[43m(\u001b[49m\u001b[43m \u001b[49m\u001b[43mX\u001b[49m\u001b[43m,\u001b[49m\u001b[43m \u001b[49m\u001b[43mY\u001b[49m\u001b[43m \u001b[49m\u001b[43m)\u001b[49m\n\u001b[0;32m      2\u001b[0m MSE_lava \u001b[38;5;241m=\u001b[39m sm\u001b[38;5;241m.\u001b[39mOLS( ((gX \u001b[38;5;241m-\u001b[39m yhat_lava)\u001b[38;5;241m*\u001b[39m\u001b[38;5;241m*\u001b[39m\u001b[38;5;241m2\u001b[39m ) , np\u001b[38;5;241m.\u001b[39mones( yhat_lava\u001b[38;5;241m.\u001b[39msize )  )\u001b[38;5;241m.\u001b[39mfit()\u001b[38;5;241m.\u001b[39msummary2()\u001b[38;5;241m.\u001b[39mtables[\u001b[38;5;241m1\u001b[39m]\u001b[38;5;241m.\u001b[39mround(\u001b[38;5;241m3\u001b[39m)\n",
      "Input \u001b[1;32mIn [78]\u001b[0m, in \u001b[0;36mlava_predict\u001b[1;34m(x, y, iteration)\u001b[0m\n\u001b[0;32m     12\u001b[0m std_new_dep_var_vec \u001b[38;5;241m=\u001b[39m scaler\u001b[38;5;241m.\u001b[39mtransform( new_dep_var_vec )\n\u001b[0;32m     14\u001b[0m fit_ridge_m1 \u001b[38;5;241m=\u001b[39m ElasticNetCV( cv \u001b[38;5;241m=\u001b[39m \u001b[38;5;241m10\u001b[39m , normalize \u001b[38;5;241m=\u001b[39m \u001b[38;5;28;01mTrue\u001b[39;00m , random_state \u001b[38;5;241m=\u001b[39m \u001b[38;5;241m0\u001b[39m , l1_ratio \u001b[38;5;241m=\u001b[39m \u001b[38;5;241m0.0001\u001b[39m, alphas \u001b[38;5;241m=\u001b[39m np\u001b[38;5;241m.\u001b[39marray([\u001b[38;5;241m20\u001b[39m]) )\u001b[38;5;241m.\u001b[39mfit( x, std_new_dep_var_vec )\n\u001b[1;32m---> 15\u001b[0m m1 \u001b[38;5;241m=\u001b[39m \u001b[43mscaler\u001b[49m\u001b[38;5;241;43m.\u001b[39;49m\u001b[43minverse_transform\u001b[49m\u001b[43m(\u001b[49m\u001b[43m \u001b[49m\u001b[43mfit_ridge_m1\u001b[49m\u001b[38;5;241;43m.\u001b[39;49m\u001b[43mpredict\u001b[49m\u001b[43m(\u001b[49m\u001b[43m \u001b[49m\u001b[43mx\u001b[49m\u001b[43m \u001b[49m\u001b[43m)\u001b[49m\u001b[43m \u001b[49m\u001b[43m)\u001b[49m\n\u001b[0;32m     17\u001b[0m i \u001b[38;5;241m=\u001b[39m \u001b[38;5;241m1\u001b[39m\n\u001b[0;32m     18\u001b[0m \u001b[38;5;28;01mwhile\u001b[39;00m i \u001b[38;5;241m<\u001b[39m\u001b[38;5;241m=\u001b[39m iteration:\n",
      "File \u001b[1;32m~\\anaconda3\\lib\\site-packages\\sklearn\\preprocessing\\_data.py:1016\u001b[0m, in \u001b[0;36mStandardScaler.inverse_transform\u001b[1;34m(self, X, copy)\u001b[0m\n\u001b[0;32m   1013\u001b[0m check_is_fitted(\u001b[38;5;28mself\u001b[39m)\n\u001b[0;32m   1015\u001b[0m copy \u001b[38;5;241m=\u001b[39m copy \u001b[38;5;28;01mif\u001b[39;00m copy \u001b[38;5;129;01mis\u001b[39;00m \u001b[38;5;129;01mnot\u001b[39;00m \u001b[38;5;28;01mNone\u001b[39;00m \u001b[38;5;28;01melse\u001b[39;00m \u001b[38;5;28mself\u001b[39m\u001b[38;5;241m.\u001b[39mcopy\n\u001b[1;32m-> 1016\u001b[0m X \u001b[38;5;241m=\u001b[39m \u001b[43mcheck_array\u001b[49m\u001b[43m(\u001b[49m\n\u001b[0;32m   1017\u001b[0m \u001b[43m    \u001b[49m\u001b[43mX\u001b[49m\u001b[43m,\u001b[49m\n\u001b[0;32m   1018\u001b[0m \u001b[43m    \u001b[49m\u001b[43maccept_sparse\u001b[49m\u001b[38;5;241;43m=\u001b[39;49m\u001b[38;5;124;43m\"\u001b[39;49m\u001b[38;5;124;43mcsr\u001b[39;49m\u001b[38;5;124;43m\"\u001b[39;49m\u001b[43m,\u001b[49m\n\u001b[0;32m   1019\u001b[0m \u001b[43m    \u001b[49m\u001b[43mcopy\u001b[49m\u001b[38;5;241;43m=\u001b[39;49m\u001b[43mcopy\u001b[49m\u001b[43m,\u001b[49m\n\u001b[0;32m   1020\u001b[0m \u001b[43m    \u001b[49m\u001b[43mestimator\u001b[49m\u001b[38;5;241;43m=\u001b[39;49m\u001b[38;5;28;43mself\u001b[39;49m\u001b[43m,\u001b[49m\n\u001b[0;32m   1021\u001b[0m \u001b[43m    \u001b[49m\u001b[43mdtype\u001b[49m\u001b[38;5;241;43m=\u001b[39;49m\u001b[43mFLOAT_DTYPES\u001b[49m\u001b[43m,\u001b[49m\n\u001b[0;32m   1022\u001b[0m \u001b[43m    \u001b[49m\u001b[43mforce_all_finite\u001b[49m\u001b[38;5;241;43m=\u001b[39;49m\u001b[38;5;124;43m\"\u001b[39;49m\u001b[38;5;124;43mallow-nan\u001b[39;49m\u001b[38;5;124;43m\"\u001b[39;49m\u001b[43m,\u001b[49m\n\u001b[0;32m   1023\u001b[0m \u001b[43m\u001b[49m\u001b[43m)\u001b[49m\n\u001b[0;32m   1025\u001b[0m \u001b[38;5;28;01mif\u001b[39;00m sparse\u001b[38;5;241m.\u001b[39missparse(X):\n\u001b[0;32m   1026\u001b[0m     \u001b[38;5;28;01mif\u001b[39;00m \u001b[38;5;28mself\u001b[39m\u001b[38;5;241m.\u001b[39mwith_mean:\n",
      "File \u001b[1;32m~\\anaconda3\\lib\\site-packages\\sklearn\\utils\\validation.py:769\u001b[0m, in \u001b[0;36mcheck_array\u001b[1;34m(array, accept_sparse, accept_large_sparse, dtype, order, copy, force_all_finite, ensure_2d, allow_nd, ensure_min_samples, ensure_min_features, estimator)\u001b[0m\n\u001b[0;32m    767\u001b[0m     \u001b[38;5;66;03m# If input is 1D raise error\u001b[39;00m\n\u001b[0;32m    768\u001b[0m     \u001b[38;5;28;01mif\u001b[39;00m array\u001b[38;5;241m.\u001b[39mndim \u001b[38;5;241m==\u001b[39m \u001b[38;5;241m1\u001b[39m:\n\u001b[1;32m--> 769\u001b[0m         \u001b[38;5;28;01mraise\u001b[39;00m \u001b[38;5;167;01mValueError\u001b[39;00m(\n\u001b[0;32m    770\u001b[0m             \u001b[38;5;124m\"\u001b[39m\u001b[38;5;124mExpected 2D array, got 1D array instead:\u001b[39m\u001b[38;5;130;01m\\n\u001b[39;00m\u001b[38;5;124marray=\u001b[39m\u001b[38;5;132;01m{}\u001b[39;00m\u001b[38;5;124m.\u001b[39m\u001b[38;5;130;01m\\n\u001b[39;00m\u001b[38;5;124m\"\u001b[39m\n\u001b[0;32m    771\u001b[0m             \u001b[38;5;124m\"\u001b[39m\u001b[38;5;124mReshape your data either using array.reshape(-1, 1) if \u001b[39m\u001b[38;5;124m\"\u001b[39m\n\u001b[0;32m    772\u001b[0m             \u001b[38;5;124m\"\u001b[39m\u001b[38;5;124myour data has a single feature or array.reshape(1, -1) \u001b[39m\u001b[38;5;124m\"\u001b[39m\n\u001b[0;32m    773\u001b[0m             \u001b[38;5;124m\"\u001b[39m\u001b[38;5;124mif it contains a single sample.\u001b[39m\u001b[38;5;124m\"\u001b[39m\u001b[38;5;241m.\u001b[39mformat(array)\n\u001b[0;32m    774\u001b[0m         )\n\u001b[0;32m    776\u001b[0m \u001b[38;5;66;03m# make sure we actually converted to numeric:\u001b[39;00m\n\u001b[0;32m    777\u001b[0m \u001b[38;5;28;01mif\u001b[39;00m dtype_numeric \u001b[38;5;129;01mand\u001b[39;00m array\u001b[38;5;241m.\u001b[39mdtype\u001b[38;5;241m.\u001b[39mkind \u001b[38;5;129;01min\u001b[39;00m \u001b[38;5;124m\"\u001b[39m\u001b[38;5;124mOUSV\u001b[39m\u001b[38;5;124m\"\u001b[39m:\n",
      "\u001b[1;31mValueError\u001b[0m: Expected 2D array, got 1D array instead:\narray=[ 1.31925564e-04 -2.78839475e-03 -1.68320499e-03 -9.86061094e-04\n -6.09981926e-04 -9.65894525e-04 -4.63284613e-04 -1.86797011e-03\n -3.97059470e-03  1.33980212e-03  4.18719814e-03  2.72843430e-04\n -2.49896203e-03 -2.20497766e-04  4.98730992e-04 -2.57469264e-03\n  7.29635781e-04 -1.07971041e-03 -2.43211984e-03  4.84705955e-04\n  1.64541374e-03 -1.42337862e-03  3.66813776e-03  1.14128324e-03\n -3.37015422e-03 -8.25208105e-04 -2.94022157e-03 -6.64163862e-04\n -5.30186274e-04  4.58853580e-04  1.23865430e-03 -2.47826652e-03\n  7.66564851e-04 -2.65006223e-04 -1.66809556e-03  1.03621871e-03\n -2.48415901e-04  1.96616609e-03 -3.50636159e-03 -8.38534525e-05\n  4.65818188e-03 -3.54523907e-03  1.36174951e-03  2.24974736e-03\n -4.53832909e-04 -5.44984425e-05 -2.23070348e-03  1.69157993e-03\n -1.13473036e-03 -9.77185673e-04  1.50540068e-03  4.67934176e-04\n -2.65827305e-03  2.22059526e-03  4.48838171e-03 -1.98035964e-03\n  1.71256910e-03 -1.20203438e-03  4.56793534e-04 -1.26105292e-03\n -1.36733032e-03  9.70161389e-04  1.80147656e-03  2.93587216e-03\n  4.66138416e-03  1.21822944e-03  1.94528278e-03  2.07148746e-03\n -5.14311643e-04  3.01601999e-04  1.20089862e-03 -3.88437169e-04\n  9.13293484e-04  7.62634598e-04 -4.04671854e-04 -1.59235251e-04\n -4.11963455e-03  3.82823717e-03 -3.92173087e-03  5.18125232e-04\n -1.53081362e-04  2.95436086e-03 -1.98988426e-04 -2.40096108e-04\n  2.36462428e-03 -6.17562432e-04 -6.65999005e-04  5.60859346e-04\n  1.30314057e-03 -3.02589155e-04 -1.23167525e-03 -3.34420713e-04\n  2.25021215e-04  1.20222913e-03 -4.70889652e-04 -2.03044053e-04\n  2.84814526e-04 -2.31718605e-04 -1.00252299e-03 -2.32271723e-04].\nReshape your data either using array.reshape(-1, 1) if your data has a single feature or array.reshape(1, -1) if it contains a single sample."
     ]
    }
   ],
   "source": [
    "yhat_lava = lava_predict( X, Y )\n",
    "MSE_lava = sm.OLS( ((gX - yhat_lava)**2 ) , np.ones( yhat_lava.size )  ).fit().summary2().tables[1].round(3)"
   ]
  },
  {
   "cell_type": "code",
   "execution_count": 68,
   "metadata": {},
   "outputs": [
    {
     "data": {
      "text/plain": [
       "array([ 2.26842737,  0.3518921 ,  2.16437144,  4.58793136,  0.32475748,\n",
       "        3.97702414,  0.07475153,  1.12466672,  1.45819748,  4.52755667,\n",
       "        2.22608792,  0.61142399,  2.83385267,  0.6758044 ,  3.28082626,\n",
       "        2.05888173,  1.09627703,  0.4913427 ,  1.71447345,  0.6724335 ,\n",
       "        1.37113921,  0.68072597,  0.69517606,  4.30631518, -0.46330898,\n",
       "        1.21065291,  0.30399639,  0.88090279,  3.07432376,  0.76843096,\n",
       "        1.07924247,  3.66727024,  2.06110446,  4.71165235,  4.25076401,\n",
       "       -0.14401881,  0.61526592,  0.46454401,  1.20921572,  2.74556104,\n",
       "        1.80446737,  0.9708959 ,  3.14333617,  1.49602814,  0.64854985,\n",
       "        1.97885295,  3.08412745,  0.9494072 ,  0.83537556,  1.50126836,\n",
       "        4.25175887,  1.23612387,  0.95633362,  1.57570254,  4.86246285,\n",
       "        0.78753903,  1.28352589,  2.22902318,  0.60575163,  1.2765798 ,\n",
       "        4.07543612,  3.54192064, -0.66750971,  1.24721993,  0.87600809,\n",
       "        0.91315424,  1.31829304,  2.00333569,  1.61022961,  1.03562187,\n",
       "        4.35787076,  1.1441965 ,  4.27289985,  4.95635716, -0.56752204,\n",
       "        1.52691059,  2.36855361, -0.16602166,  0.78393495,  0.86705432,\n",
       "        0.56403116,  0.11816554,  0.27911315,  2.80764631,  2.06300315,\n",
       "        0.75939976,  1.67923561,  1.03888701,  3.02867764,  0.48383465,\n",
       "        3.96365738,  3.09710601,  1.91459856,  4.95196407,  1.53489272,\n",
       "        1.99047475,  0.40139412,  2.79550178, -0.70507589,  0.31210028])"
      ]
     },
     "execution_count": 68,
     "metadata": {},
     "output_type": "execute_result"
    }
   ],
   "source": [
    "yhat_lava"
   ]
  },
  {
   "cell_type": "code",
   "execution_count": 69,
   "metadata": {},
   "outputs": [],
   "source": [
    "import pandas as pd"
   ]
  },
  {
   "cell_type": "code",
   "execution_count": 70,
   "metadata": {},
   "outputs": [
    {
     "data": {
      "text/html": [
       "<div>\n",
       "<style scoped>\n",
       "    .dataframe tbody tr th:only-of-type {\n",
       "        vertical-align: middle;\n",
       "    }\n",
       "\n",
       "    .dataframe tbody tr th {\n",
       "        vertical-align: top;\n",
       "    }\n",
       "\n",
       "    .dataframe thead th {\n",
       "        text-align: right;\n",
       "    }\n",
       "</style>\n",
       "<table border=\"1\" class=\"dataframe\">\n",
       "  <thead>\n",
       "    <tr style=\"text-align: right;\">\n",
       "      <th></th>\n",
       "      <th>MSA</th>\n",
       "      <th>S.E. for MSA</th>\n",
       "    </tr>\n",
       "  </thead>\n",
       "  <tbody>\n",
       "    <tr>\n",
       "      <th>Cross-Validated Lasso</th>\n",
       "      <td>1.303</td>\n",
       "      <td>0.195</td>\n",
       "    </tr>\n",
       "    <tr>\n",
       "      <th>Cross-Validated Ridge</th>\n",
       "      <td>3.437</td>\n",
       "      <td>0.488</td>\n",
       "    </tr>\n",
       "    <tr>\n",
       "      <th>Cross-Validated elnet</th>\n",
       "      <td>1.510</td>\n",
       "      <td>0.229</td>\n",
       "    </tr>\n",
       "    <tr>\n",
       "      <th>Lasso</th>\n",
       "      <td>0.863</td>\n",
       "      <td>0.123</td>\n",
       "    </tr>\n",
       "    <tr>\n",
       "      <th>Post-Lasso</th>\n",
       "      <td>1.354</td>\n",
       "      <td>0.186</td>\n",
       "    </tr>\n",
       "    <tr>\n",
       "      <th>Lava</th>\n",
       "      <td>0.860</td>\n",
       "      <td>0.122</td>\n",
       "    </tr>\n",
       "  </tbody>\n",
       "</table>\n",
       "</div>"
      ],
      "text/plain": [
       "                         MSA  S.E. for MSA\n",
       "Cross-Validated Lasso  1.303         0.195\n",
       "Cross-Validated Ridge  3.437         0.488\n",
       "Cross-Validated elnet  1.510         0.229\n",
       "Lasso                  0.863         0.123\n",
       "Post-Lasso             1.354         0.186\n",
       "Lava                   0.860         0.122"
      ]
     },
     "execution_count": 70,
     "metadata": {},
     "output_type": "execute_result"
    }
   ],
   "source": [
    "table2 = np.zeros( (6, 2) )\n",
    "\n",
    "table2[0, 0:] = MSE_lasso_cv.iloc[0, 0:2].to_list()\n",
    "table2[1, 0:] = MSE_ridge.iloc[0, 0:2].to_list()\n",
    "table2[2, 0:] = MSE_elnet.iloc[0, 0:2].to_list()\n",
    "table2[3, 0:] = MSE_lasso.iloc[0, 0:2].to_list()\n",
    "table2[4, 0:] = MSE_lasso_post.iloc[0, 0:2].to_list()\n",
    "table2[5, 0:] = MSE_lava.iloc[0, 0:2].to_list()\n",
    "\n",
    "\n",
    "\n",
    "table2_pandas = pd.DataFrame( table2, columns = [ \"MSA\",\"S.E. for MSA\" ])\n",
    "table2_pandas.index = [ \"Cross-Validated Lasso\",\\\n",
    "                       \"Cross-Validated Ridge\", \"Cross-Validated elnet\",\\\n",
    "                       \"Lasso\", \"Post-Lasso\", \"Lava\" ]\n",
    "table2_pandas = table2_pandas.round(3)\n",
    "table2_html = table2_pandas.to_html()\n",
    "table2_pandas"
   ]
  },
  {
   "cell_type": "code",
   "execution_count": 71,
   "metadata": {},
   "outputs": [],
   "source": [
    "import matplotlib.pyplot as plt"
   ]
  },
  {
   "cell_type": "code",
   "execution_count": 72,
   "metadata": {},
   "outputs": [
    {
     "data": {
      "image/png": "[encoded data removed]",
      "text/plain": [
       "<Figure size 432x288 with 1 Axes>"
      ]
     },
     "metadata": {
      "needs_background": "light"
     },
     "output_type": "display_data"
    }
   ],
   "source": [
    "fig = plt.figure()\n",
    "ax1 = fig.add_subplot(111)\n",
    "ax1.scatter( gX, gX , marker = '.', c = 'black' )\n",
    "ax1.scatter( gX, yhat_rlasso , marker = 'D' , c = 'red' , label = 'rLasso' )\n",
    "ax1.scatter( gX, yhat_rlasso_post , marker = '^' , c = 'green' , label = 'Post-rLasso')\n",
    "ax1.scatter( gX, yhat_lasso_cv , marker = 'o' , c = 'blue' , label = 'CV Lasso')\n",
    "plt.legend(loc='lower right')\n",
    "plt.show()"
   ]
  },
  {
   "cell_type": "markdown",
   "metadata": {
    "papermill": {
     "duration": 0.018842,
     "end_time": "2021-02-15T11:02:51.941852",
     "exception": false,
     "start_time": "2021-02-15T11:02:51.923010",
     "status": "completed"
    },
    "tags": []
   },
   "source": [
    "## Data Generating Process: Approximately Sparse + Small Dense Part"
   ]
  },
  {
   "cell_type": "code",
   "execution_count": 46,
   "metadata": {},
   "outputs": [
    {
     "data": {
      "image/png": "[encoded data removed]",
      "text/plain": [
       "<Figure size 432x288 with 1 Axes>"
      ]
     },
     "metadata": {
      "needs_background": "light"
     },
     "output_type": "display_data"
    },
    {
     "name": "stdout",
     "output_type": "stream",
     "text": [
      "theoretical R2:, 0.7852348130924549\n"
     ]
    },
    {
     "data": {
      "text/plain": [
       "0.7852348130924549"
      ]
     },
     "execution_count": 46,
     "metadata": {},
     "output_type": "execute_result"
    }
   ],
   "source": [
    "n = 100\n",
    "p = 400\n",
    "\n",
    "Z = np.random.uniform( low = 0 , high = 1 , size = n) - 1/2 \n",
    "\n",
    "W = ( np.random.uniform( low = 0 , high = 1 , size = n * p ) - 1/2 ).\\\n",
    "        reshape( n , p )\n",
    "mean = 0\n",
    "sd = 1\n",
    "\n",
    "beta = ((np.random.normal( mean , sd, p )) * 0.2)\n",
    "gX = np.exp( 4 * Z ) + (W @ beta)\n",
    "X = np.concatenate( ( Z.reshape(Z.size, 1), Z.reshape(Z.size, 1) \\\n",
    "                     ** 2, Z.reshape(Z.size, 1) ** 3, W ) , axis = 1 )\n",
    "random.seed(2)\n",
    "Y = gX + np.random.normal( mean , sd, n )\n",
    "\n",
    "# We use package Glmnet to carry out predictions using cross-validated lasso, ridge, and elastic net\n",
    "fig = plt.figure()\n",
    "fig.suptitle('Y vs g(X)')\n",
    "ax = fig.add_subplot(111)\n",
    "plt.scatter( Y, gX)\n",
    "plt.xlabel('g(X)')\n",
    "plt.ylabel('Y')\n",
    "plt.show()\n",
    "\n",
    "print( f\"theoretical R2:, {np.var(gX) / np.var( Y )}\" ) \n",
    "\n",
    "np.var(gX) / np.var( Y ) #theoretical R-square in the simulation example"
   ]
  },
  {
   "cell_type": "code",
   "execution_count": 47,
   "metadata": {},
   "outputs": [
    {
     "name": "stderr",
     "output_type": "stream",
     "text": [
      "C:\\Users\\MSI-NB\\anaconda3\\lib\\site-packages\\sklearn\\utils\\validation.py:72: DataConversionWarning: A column-vector y was passed when a 1d array was expected. Please change the shape of y to (n_samples, ), for example using ravel().\n",
      "  return f(**kwargs)\n",
      "C:\\Users\\MSI-NB\\anaconda3\\lib\\site-packages\\sklearn\\utils\\validation.py:72: DataConversionWarning: A column-vector y was passed when a 1d array was expected. Please change the shape of y to (n_samples, ), for example using ravel().\n",
      "  return f(**kwargs)\n",
      "C:\\Users\\MSI-NB\\anaconda3\\lib\\site-packages\\sklearn\\utils\\validation.py:72: DataConversionWarning: A column-vector y was passed when a 1d array was expected. Please change the shape of y to (n_samples, ), for example using ravel().\n",
      "  return f(**kwargs)\n"
     ]
    }
   ],
   "source": [
    "# Reshaping Y variable\n",
    "Y_vec = Y.reshape( Y.size, 1)\n",
    "\n",
    "# Scalar distribution\n",
    "scaler = StandardScaler()\n",
    "scaler.fit( Y_vec )\n",
    "std_Y = scaler.transform( Y_vec )\n",
    "\n",
    "# Regressions\n",
    "fit_lasso_cv = LassoCV(cv = 10 , random_state = 0 , normalize = True ).fit( X, std_Y )\n",
    "fit_ridge = ElasticNetCV( cv = 10 , normalize = True , random_state = 0 , l1_ratio = 0.0001 ).fit( X, std_Y )\n",
    "fit_elnet = ElasticNetCV( cv = 10 , normalize = True , random_state = 0 , l1_ratio = 0.5, max_iter = 100000 ).fit( X, std_Y )\n",
    "\n",
    "# Predictions\n",
    "yhat_lasso_cv = scaler.inverse_transform( fit_lasso_cv.predict( X ) )\n",
    "yhat_ridge = scaler.inverse_transform( fit_ridge.predict( X ) )\n",
    "yhat_elnet = scaler.inverse_transform( fit_elnet.predict( X ) )"
   ]
  },
  {
   "cell_type": "code",
   "execution_count": 48,
   "metadata": {},
   "outputs": [],
   "source": [
    "import statsmodels.api as sm"
   ]
  },
  {
   "cell_type": "code",
   "execution_count": 49,
   "metadata": {},
   "outputs": [],
   "source": [
    "MSE_lasso_cv = sm.OLS( ((gX - yhat_lasso_cv)**2 ) , np.ones( yhat_lasso_cv.shape )  ).fit().summary2().tables[1].round(3)\n",
    "MSE_ridge = sm.OLS( ((gX - yhat_ridge)**2 ) , np.ones( yhat_ridge.size )  ).fit().summary2().tables[1].round(3)\n",
    "MSE_elnet = sm.OLS( ((gX - yhat_elnet)**2 ) , np.ones( yhat_elnet.size )  ).fit().summary2().tables[1].round(3)\n",
    "# our coefficient of MSE_elnet are far from r output"
   ]
  },
  {
   "cell_type": "code",
   "execution_count": 50,
   "metadata": {},
   "outputs": [],
   "source": [
    "fit_rlasso = hdmpy.rlasso(X, Y, post = False)\n",
    "fit_rlasso_post = hdmpy.rlasso(X, Y, post = True)\n",
    "\n",
    "yhat_rlasso = Y - fit_rlasso.est['residuals'].reshape( Y.size,  )\n",
    "yhat_rlasso_post = Y - fit_rlasso_post.est['residuals'].reshape( Y.size ,  )\n",
    "\n",
    "MSE_lasso = sm.OLS( ((gX - yhat_rlasso)**2 ) , np.ones( yhat_rlasso.size )  ).fit().summary2().tables[1].round(3)\n",
    "MSE_lasso_post = sm.OLS( ((gX - yhat_rlasso_post)**2 ) , np.ones( yhat_rlasso_post.size )  ).fit().summary2().tables[1].round(3)"
   ]
  },
  {
   "cell_type": "code",
   "execution_count": 51,
   "metadata": {},
   "outputs": [],
   "source": [
    "def lava_predict( x, y, iteration = 5 ):\n",
    "    \n",
    "    g1_rlasso = hdmpy.rlasso( x, y , post = False )\n",
    "    g1 = y - g1_rlasso.est['residuals'].reshape( g1_rlasso.est['residuals'].size, )\n",
    "    \n",
    "    new_dep_var = y-g1\n",
    "    new_dep_var_vec = new_dep_var.reshape( new_dep_var.size, 1 )\n",
    "    \n",
    "    # Scalar distribution\n",
    "    scaler = StandardScaler()\n",
    "    scaler.fit( new_dep_var_vec )\n",
    "    std_new_dep_var_vec = scaler.transform( new_dep_var_vec )\n",
    "    \n",
    "    fit_ridge_m1 = ElasticNetCV( cv = 10 , normalize = True , random_state = 0 , l1_ratio = 0.0001, alphas = np.array([20]) ).fit( x, std_new_dep_var_vec )\n",
    "    m1 = scaler.inverse_transform( fit_ridge_m1.predict( x ) )\n",
    "    \n",
    "    i = 1\n",
    "    while i <= iteration:\n",
    "        \n",
    "        g1_rlasso = hdmpy.rlasso( x, y , post = False )\n",
    "        g1 = y - g1_rlasso.est['residuals'].reshape( g1_rlasso.est['residuals'].size, )\n",
    "\n",
    "        new_dep_var = y-g1\n",
    "        new_dep_var_vec = new_dep_var.reshape( new_dep_var.size, 1 )\n",
    "\n",
    "        # Scalar distribution\n",
    "        scaler = StandardScaler()\n",
    "        scaler.fit( new_dep_var_vec )\n",
    "        std_new_dep_var_vec = scaler.transform( new_dep_var_vec )\n",
    "\n",
    "        fit_ridge_m1 = ElasticNetCV( cv = 10 , normalize = True , random_state = 0 , l1_ratio = 0.0001, alphas = np.array([20]) ).fit( x, std_new_dep_var_vec )\n",
    "        m1 = scaler.inverse_transform( fit_ridge_m1.predict( x ) )\n",
    "        \n",
    "        i = i + 1\n",
    "        \n",
    "    return ( g1 + m1 )\n",
    "        "
   ]
  },
  {
   "cell_type": "code",
   "execution_count": 52,
   "metadata": {},
   "outputs": [
    {
     "name": "stderr",
     "output_type": "stream",
     "text": [
      "C:\\Users\\MSI-NB\\anaconda3\\lib\\site-packages\\sklearn\\utils\\validation.py:72: DataConversionWarning: A column-vector y was passed when a 1d array was expected. Please change the shape of y to (n_samples, ), for example using ravel().\n",
      "  return f(**kwargs)\n",
      "C:\\Users\\MSI-NB\\anaconda3\\lib\\site-packages\\sklearn\\utils\\validation.py:72: DataConversionWarning: A column-vector y was passed when a 1d array was expected. Please change the shape of y to (n_samples, ), for example using ravel().\n",
      "  return f(**kwargs)\n",
      "C:\\Users\\MSI-NB\\anaconda3\\lib\\site-packages\\sklearn\\utils\\validation.py:72: DataConversionWarning: A column-vector y was passed when a 1d array was expected. Please change the shape of y to (n_samples, ), for example using ravel().\n",
      "  return f(**kwargs)\n",
      "C:\\Users\\MSI-NB\\anaconda3\\lib\\site-packages\\sklearn\\utils\\validation.py:72: DataConversionWarning: A column-vector y was passed when a 1d array was expected. Please change the shape of y to (n_samples, ), for example using ravel().\n",
      "  return f(**kwargs)\n",
      "C:\\Users\\MSI-NB\\anaconda3\\lib\\site-packages\\sklearn\\utils\\validation.py:72: DataConversionWarning: A column-vector y was passed when a 1d array was expected. Please change the shape of y to (n_samples, ), for example using ravel().\n",
      "  return f(**kwargs)\n",
      "C:\\Users\\MSI-NB\\anaconda3\\lib\\site-packages\\sklearn\\utils\\validation.py:72: DataConversionWarning: A column-vector y was passed when a 1d array was expected. Please change the shape of y to (n_samples, ), for example using ravel().\n",
      "  return f(**kwargs)\n"
     ]
    }
   ],
   "source": [
    "yhat_lava = lava_predict( X, Y )\n",
    "MSE_lava = sm.OLS( ((gX - yhat_lava)**2 ) , np.ones( yhat_lava.size )  ).fit().summary2().tables[1].round(3)"
   ]
  },
  {
   "cell_type": "code",
   "execution_count": 53,
   "metadata": {
    "scrolled": true
   },
   "outputs": [
    {
     "data": {
      "text/html": [
       "<div>\n",
       "<style scoped>\n",
       "    .dataframe tbody tr th:only-of-type {\n",
       "        vertical-align: middle;\n",
       "    }\n",
       "\n",
       "    .dataframe tbody tr th {\n",
       "        vertical-align: top;\n",
       "    }\n",
       "\n",
       "    .dataframe thead th {\n",
       "        text-align: right;\n",
       "    }\n",
       "</style>\n",
       "<table border=\"1\" class=\"dataframe\">\n",
       "  <thead>\n",
       "    <tr style=\"text-align: right;\">\n",
       "      <th></th>\n",
       "      <th>MSA</th>\n",
       "      <th>S.E. for MSA</th>\n",
       "    </tr>\n",
       "  </thead>\n",
       "  <tbody>\n",
       "    <tr>\n",
       "      <th>Cross-Validated Lasso</th>\n",
       "      <td>1.303</td>\n",
       "      <td>0.195</td>\n",
       "    </tr>\n",
       "    <tr>\n",
       "      <th>Cross-Validated Ridge</th>\n",
       "      <td>3.437</td>\n",
       "      <td>0.488</td>\n",
       "    </tr>\n",
       "    <tr>\n",
       "      <th>Cross-Validated elnet</th>\n",
       "      <td>1.510</td>\n",
       "      <td>0.229</td>\n",
       "    </tr>\n",
       "    <tr>\n",
       "      <th>Lasso</th>\n",
       "      <td>0.863</td>\n",
       "      <td>0.123</td>\n",
       "    </tr>\n",
       "    <tr>\n",
       "      <th>Post-Lasso</th>\n",
       "      <td>1.354</td>\n",
       "      <td>0.186</td>\n",
       "    </tr>\n",
       "    <tr>\n",
       "      <th>Lava</th>\n",
       "      <td>0.860</td>\n",
       "      <td>0.122</td>\n",
       "    </tr>\n",
       "  </tbody>\n",
       "</table>\n",
       "</div>"
      ],
      "text/plain": [
       "                         MSA  S.E. for MSA\n",
       "Cross-Validated Lasso  1.303         0.195\n",
       "Cross-Validated Ridge  3.437         0.488\n",
       "Cross-Validated elnet  1.510         0.229\n",
       "Lasso                  0.863         0.123\n",
       "Post-Lasso             1.354         0.186\n",
       "Lava                   0.860         0.122"
      ]
     },
     "execution_count": 53,
     "metadata": {},
     "output_type": "execute_result"
    }
   ],
   "source": [
    "table2 = np.zeros( (6, 2) )\n",
    "\n",
    "table2[0, 0:] = MSE_lasso_cv.iloc[0, 0:2].to_list()\n",
    "table2[1, 0:] = MSE_ridge.iloc[0, 0:2].to_list()\n",
    "table2[2, 0:] = MSE_elnet.iloc[0, 0:2].to_list()\n",
    "table2[3, 0:] = MSE_lasso.iloc[0, 0:2].to_list()\n",
    "table2[4, 0:] = MSE_lasso_post.iloc[0, 0:2].to_list()\n",
    "table2[5, 0:] = MSE_lava.iloc[0, 0:2].to_list()\n",
    "\n",
    "\n",
    "\n",
    "table2_pandas = pd.DataFrame( table2, columns = [ \"MSA\",\"S.E. for MSA\" ])\n",
    "table2_pandas.index = [ \"Cross-Validated Lasso\",\\\n",
    "                       \"Cross-Validated Ridge\", \"Cross-Validated elnet\",\\\n",
    "                       \"Lasso\", \"Post-Lasso\", \"Lava\" ]\n",
    "table2_pandas = table2_pandas.round(3)\n",
    "table2_html = table2_pandas.to_html()\n",
    "table2_pandas"
   ]
  },
  {
   "cell_type": "code",
   "execution_count": 54,
   "metadata": {},
   "outputs": [
    {
     "data": {
      "image/png": "[encoded data removed]",
      "text/plain": [
       "<Figure size 432x288 with 1 Axes>"
      ]
     },
     "metadata": {
      "needs_background": "light"
     },
     "output_type": "display_data"
    }
   ],
   "source": [
    "fig = plt.figure()\n",
    "ax1 = fig.add_subplot(111)\n",
    "ax1.scatter( gX, gX , marker = '.', c = 'black' )\n",
    "ax1.scatter( gX, yhat_rlasso , marker = 'D' , c = 'red' , label = 'rLasso' )\n",
    "ax1.scatter( gX, yhat_rlasso_post , marker = '^' , c = 'green' , label = 'Post-rLasso')\n",
    "ax1.scatter( gX, yhat_lasso_cv , marker = 'o' , c = 'blue' , label = 'CV Lasso')\n",
    "plt.legend(loc='lower right')\n",
    "plt.show()"
   ]
  },
  {
   "cell_type": "code",
   "execution_count": null,
   "metadata": {},
   "outputs": [],
   "source": []
  }
 ],
 "metadata": {
  "hide_input": false,
  "kernelspec": {
   "display_name": "Python 3 (ipykernel)",
   "language": "python",
   "name": "python3"
  },
  "language_info": {
   "codemirror_mode": {
    "name": "ipython",
    "version": 3
   },
   "file_extension": ".py",
   "mimetype": "text/x-python",
   "name": "python",
   "nbconvert_exporter": "python",
   "pygments_lexer": "ipython3",
   "version": "3.9.12"
  }
 },
 "nbformat": 4,
 "nbformat_minor": 4
}
