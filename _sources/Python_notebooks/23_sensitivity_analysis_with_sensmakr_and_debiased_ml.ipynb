{
 "cells": [
  {
   "cell_type": "markdown",
   "id": "5114649c-49f9-4e82-91f6-608e2a282d69",
   "metadata": {},
   "source": [
    "# Sensitivity Analysis with Sensmakr and Debiased ML"
   ]
  },
  {
   "cell_type": "markdown",
   "id": "c5830fd1",
   "metadata": {},
   "source": [
    "## Sensititivy Analysis for Unobserved Confounder with DML and Sensmakr\n",
    "\n",
    "\n",
    " Here we experiment with using package \"sensemakr\" in conjunction with debiased ML"
   ]
  },
  {
   "cell_type": "markdown",
   "id": "bd77737a",
   "metadata": {
    "papermill": {
     "duration": 0.020014,
     "end_time": "2021-04-03T12:55:25.160190",
     "exception": false,
     "start_time": "2021-04-03T12:55:25.140176",
     "status": "completed"
    },
    "tags": []
   },
   "source": [
    "We will \n",
    "\n",
    "* mimic the partialling out procedure with machine learning tools, \n",
    "\n",
    "* and invoke Sensmakr to compute $\\phi^2$ and plot sensitivity results.\n"
   ]
  },
  {
   "cell_type": "markdown",
   "id": "b48819e5",
   "metadata": {},
   "source": [
    "We will use the sensemakr package adapted in python (PySensemakr) by Brian Hill and Nathan LaPierre [ink](https://github.com/nlapier2/PySensemakr)"
   ]
  },
  {
   "cell_type": "code",
   "execution_count": 51,
   "id": "d367959c-aa84-4905-8278-b477c12d3089",
   "metadata": {},
   "outputs": [],
   "source": [
    "#pip install PySensemakr"
   ]
  },
  {
   "cell_type": "code",
   "execution_count": 53,
   "id": "51f628c3",
   "metadata": {},
   "outputs": [],
   "source": [
    "#Import packages\n",
    "import sensemakr as smkr\n",
    "import statsmodels.api as sm\n",
    "import statsmodels.formula.api as smf\n",
    "import numpy as np\n",
    "import pandas as pd\n",
    "import matplotlib.pyplot as plt\n",
    "import warnings\n",
    "warnings.filterwarnings('ignore')"
   ]
  },
  {
   "cell_type": "code",
   "execution_count": 50,
   "id": "5a0b87b0",
   "metadata": {
    "scrolled": true
   },
   "outputs": [
    {
     "data": {
      "text/plain": [
       "(1276, 14)"
      ]
     },
     "execution_count": 50,
     "metadata": {},
     "output_type": "execute_result"
    }
   ],
   "source": [
    "# loads data\n",
    "darfur = pd.read_csv(\"../data/darfur.csv\")\n",
    "darfur.shape"
   ]
  },
  {
   "cell_type": "markdown",
   "id": "62a10367",
   "metadata": {
    "papermill": {
     "duration": 0.022001,
     "end_time": "2021-04-03T12:55:38.276630",
     "exception": false,
     "start_time": "2021-04-03T12:55:38.254629",
     "status": "completed"
    },
    "tags": []
   },
   "source": [
    "Data is described here \n",
    "https://cran.r-project.org/web/packages/sensemakr/vignettes/sensemakr.html\n",
    "\n",
    "The main outcome is attitude towards peace -- the peacefactor.\n",
    "The key variable of interest is whether the responders were directly harmed (directlyharmed).\n",
    "We want to know if being directly harmed in the conflict causes people to support peace-enforcing measures.\n",
    "The measured confounders include female indicator, age, farmer, herder, voted in the past, and household size.\n",
    "There is also a village indicator, which we will treat as fixed effect and partial it out before conducting\n",
    "the analysis. The standard errors will be clustered at the village level."
   ]
  },
  {
   "cell_type": "markdown",
   "id": "d7de82f2",
   "metadata": {},
   "source": [
    "## Take out village fixed effects and run basic linear analysis"
   ]
  },
  {
   "cell_type": "code",
   "execution_count": 8,
   "id": "df483e48",
   "metadata": {},
   "outputs": [],
   "source": [
    "# get rid of village fixed effects\n",
    "import statsmodels.api as sm\n",
    "import statsmodels.formula.api as smf"
   ]
  },
  {
   "cell_type": "code",
   "execution_count": 9,
   "id": "a1141665",
   "metadata": {},
   "outputs": [],
   "source": [
    "# 1. basic model\n",
    "peacefactorR = smf.ols('peacefactor~village' , data=darfur).fit().resid\n",
    "directlyharmedR = smf.ols('directlyharmed~village' , data=darfur).fit().resid\n",
    "femaleR = smf.ols('female~village' , data=darfur).fit().resid\n",
    "ageR = smf.ols('age~village' , data=darfur).fit().resid\n",
    "farmerR = smf.ols('farmer_dar~village' , data=darfur).fit().resid\n",
    "herderR = smf.ols('herder_dar~village' , data=darfur).fit().resid\n",
    "pastvotedR = smf.ols('pastvoted~village' , data=darfur).fit().resid\n",
    "hhsizeR = smf.ols('hhsize_darfur~village' , data=darfur).fit().resid"
   ]
  },
  {
   "cell_type": "code",
   "execution_count": 10,
   "id": "50858c3c",
   "metadata": {},
   "outputs": [
    {
     "data": {
      "text/html": [
       "<div>\n",
       "<style scoped>\n",
       "    .dataframe tbody tr th:only-of-type {\n",
       "        vertical-align: middle;\n",
       "    }\n",
       "\n",
       "    .dataframe tbody tr th {\n",
       "        vertical-align: top;\n",
       "    }\n",
       "\n",
       "    .dataframe thead th {\n",
       "        text-align: right;\n",
       "    }\n",
       "</style>\n",
       "<table border=\"1\" class=\"dataframe\">\n",
       "  <thead>\n",
       "    <tr style=\"text-align: right;\">\n",
       "      <th></th>\n",
       "      <th>0</th>\n",
       "      <th>1</th>\n",
       "      <th>2</th>\n",
       "      <th>3</th>\n",
       "      <th>4</th>\n",
       "      <th>5</th>\n",
       "      <th>6</th>\n",
       "      <th>7</th>\n",
       "      <th>village</th>\n",
       "    </tr>\n",
       "  </thead>\n",
       "  <tbody>\n",
       "    <tr>\n",
       "      <th>0</th>\n",
       "      <td>1.310063e-14</td>\n",
       "      <td>5.171073e-14</td>\n",
       "      <td>-1.353145e-13</td>\n",
       "      <td>2.749800e-12</td>\n",
       "      <td>-8.823583e-14</td>\n",
       "      <td>-7.293814e-15</td>\n",
       "      <td>-6.172840e-14</td>\n",
       "      <td>1.431744e-12</td>\n",
       "      <td>Abdel Khair</td>\n",
       "    </tr>\n",
       "    <tr>\n",
       "      <th>1</th>\n",
       "      <td>-9.903189e-14</td>\n",
       "      <td>7.581381e-14</td>\n",
       "      <td>7.049916e-14</td>\n",
       "      <td>9.912071e-13</td>\n",
       "      <td>1.043610e-13</td>\n",
       "      <td>2.568140e-14</td>\n",
       "      <td>-4.152234e-14</td>\n",
       "      <td>-1.957545e-12</td>\n",
       "      <td>Abdi Dar</td>\n",
       "    </tr>\n",
       "    <tr>\n",
       "      <th>2</th>\n",
       "      <td>-3.029464e-01</td>\n",
       "      <td>-3.333333e-01</td>\n",
       "      <td>-3.333333e-01</td>\n",
       "      <td>6.666667e-01</td>\n",
       "      <td>3.333333e-01</td>\n",
       "      <td>6.646498e-17</td>\n",
       "      <td>-6.666667e-01</td>\n",
       "      <td>4.666667e+00</td>\n",
       "      <td>Abu Sorog</td>\n",
       "    </tr>\n",
       "    <tr>\n",
       "      <th>3</th>\n",
       "      <td>3.301185e-01</td>\n",
       "      <td>3.333333e-01</td>\n",
       "      <td>-6.666667e-01</td>\n",
       "      <td>1.733333e+01</td>\n",
       "      <td>-6.666667e-01</td>\n",
       "      <td>-3.333333e-01</td>\n",
       "      <td>-3.333333e-01</td>\n",
       "      <td>1.666667e+00</td>\n",
       "      <td>Abu Dejaj</td>\n",
       "    </tr>\n",
       "    <tr>\n",
       "      <th>4</th>\n",
       "      <td>-1.650592e-01</td>\n",
       "      <td>3.333333e-01</td>\n",
       "      <td>3.333333e-01</td>\n",
       "      <td>-1.266667e+01</td>\n",
       "      <td>3.333333e-01</td>\n",
       "      <td>-3.333333e-01</td>\n",
       "      <td>6.666667e-01</td>\n",
       "      <td>-3.333333e-01</td>\n",
       "      <td>Abu Dejaj</td>\n",
       "    </tr>\n",
       "  </tbody>\n",
       "</table>\n",
       "</div>"
      ],
      "text/plain": [
       "              0             1             2             3             4  \\\n",
       "0  1.310063e-14  5.171073e-14 -1.353145e-13  2.749800e-12 -8.823583e-14   \n",
       "1 -9.903189e-14  7.581381e-14  7.049916e-14  9.912071e-13  1.043610e-13   \n",
       "2 -3.029464e-01 -3.333333e-01 -3.333333e-01  6.666667e-01  3.333333e-01   \n",
       "3  3.301185e-01  3.333333e-01 -6.666667e-01  1.733333e+01 -6.666667e-01   \n",
       "4 -1.650592e-01  3.333333e-01  3.333333e-01 -1.266667e+01  3.333333e-01   \n",
       "\n",
       "              5             6             7      village  \n",
       "0 -7.293814e-15 -6.172840e-14  1.431744e-12  Abdel Khair  \n",
       "1  2.568140e-14 -4.152234e-14 -1.957545e-12     Abdi Dar  \n",
       "2  6.646498e-17 -6.666667e-01  4.666667e+00    Abu Sorog  \n",
       "3 -3.333333e-01 -3.333333e-01  1.666667e+00    Abu Dejaj  \n",
       "4 -3.333333e-01  6.666667e-01 -3.333333e-01    Abu Dejaj  "
      ]
     },
     "execution_count": 10,
     "metadata": {},
     "output_type": "execute_result"
    }
   ],
   "source": [
    "darfurR = pd.concat([peacefactorR, directlyharmedR, femaleR,\n",
    "                    ageR, farmerR, herderR, pastvotedR, \n",
    "                     hhsizeR, darfur['village']], axis=1)\n",
    "darfurR.head()"
   ]
  },
  {
   "cell_type": "code",
   "execution_count": 11,
   "id": "1731438a",
   "metadata": {},
   "outputs": [
    {
     "data": {
      "text/html": [
       "<div>\n",
       "<style scoped>\n",
       "    .dataframe tbody tr th:only-of-type {\n",
       "        vertical-align: middle;\n",
       "    }\n",
       "\n",
       "    .dataframe tbody tr th {\n",
       "        vertical-align: top;\n",
       "    }\n",
       "\n",
       "    .dataframe thead th {\n",
       "        text-align: right;\n",
       "    }\n",
       "</style>\n",
       "<table border=\"1\" class=\"dataframe\">\n",
       "  <thead>\n",
       "    <tr style=\"text-align: right;\">\n",
       "      <th></th>\n",
       "      <th>peacefactorR</th>\n",
       "      <th>directlyharmedR</th>\n",
       "      <th>femaleR</th>\n",
       "      <th>ageR</th>\n",
       "      <th>farmerR</th>\n",
       "      <th>herderR</th>\n",
       "      <th>pastvotedR</th>\n",
       "      <th>hhsize_darfurR</th>\n",
       "      <th>village</th>\n",
       "    </tr>\n",
       "  </thead>\n",
       "  <tbody>\n",
       "    <tr>\n",
       "      <th>0</th>\n",
       "      <td>1.310063e-14</td>\n",
       "      <td>5.171073e-14</td>\n",
       "      <td>-1.353145e-13</td>\n",
       "      <td>2.749800e-12</td>\n",
       "      <td>-8.823583e-14</td>\n",
       "      <td>-7.293814e-15</td>\n",
       "      <td>-6.172840e-14</td>\n",
       "      <td>1.431744e-12</td>\n",
       "      <td>Abdel Khair</td>\n",
       "    </tr>\n",
       "    <tr>\n",
       "      <th>1</th>\n",
       "      <td>-9.903189e-14</td>\n",
       "      <td>7.581381e-14</td>\n",
       "      <td>7.049916e-14</td>\n",
       "      <td>9.912071e-13</td>\n",
       "      <td>1.043610e-13</td>\n",
       "      <td>2.568140e-14</td>\n",
       "      <td>-4.152234e-14</td>\n",
       "      <td>-1.957545e-12</td>\n",
       "      <td>Abdi Dar</td>\n",
       "    </tr>\n",
       "    <tr>\n",
       "      <th>2</th>\n",
       "      <td>-3.029464e-01</td>\n",
       "      <td>-3.333333e-01</td>\n",
       "      <td>-3.333333e-01</td>\n",
       "      <td>6.666667e-01</td>\n",
       "      <td>3.333333e-01</td>\n",
       "      <td>6.646498e-17</td>\n",
       "      <td>-6.666667e-01</td>\n",
       "      <td>4.666667e+00</td>\n",
       "      <td>Abu Sorog</td>\n",
       "    </tr>\n",
       "    <tr>\n",
       "      <th>3</th>\n",
       "      <td>3.301185e-01</td>\n",
       "      <td>3.333333e-01</td>\n",
       "      <td>-6.666667e-01</td>\n",
       "      <td>1.733333e+01</td>\n",
       "      <td>-6.666667e-01</td>\n",
       "      <td>-3.333333e-01</td>\n",
       "      <td>-3.333333e-01</td>\n",
       "      <td>1.666667e+00</td>\n",
       "      <td>Abu Dejaj</td>\n",
       "    </tr>\n",
       "    <tr>\n",
       "      <th>4</th>\n",
       "      <td>-1.650592e-01</td>\n",
       "      <td>3.333333e-01</td>\n",
       "      <td>3.333333e-01</td>\n",
       "      <td>-1.266667e+01</td>\n",
       "      <td>3.333333e-01</td>\n",
       "      <td>-3.333333e-01</td>\n",
       "      <td>6.666667e-01</td>\n",
       "      <td>-3.333333e-01</td>\n",
       "      <td>Abu Dejaj</td>\n",
       "    </tr>\n",
       "  </tbody>\n",
       "</table>\n",
       "</div>"
      ],
      "text/plain": [
       "   peacefactorR  directlyharmedR       femaleR          ageR       farmerR  \\\n",
       "0  1.310063e-14     5.171073e-14 -1.353145e-13  2.749800e-12 -8.823583e-14   \n",
       "1 -9.903189e-14     7.581381e-14  7.049916e-14  9.912071e-13  1.043610e-13   \n",
       "2 -3.029464e-01    -3.333333e-01 -3.333333e-01  6.666667e-01  3.333333e-01   \n",
       "3  3.301185e-01     3.333333e-01 -6.666667e-01  1.733333e+01 -6.666667e-01   \n",
       "4 -1.650592e-01     3.333333e-01  3.333333e-01 -1.266667e+01  3.333333e-01   \n",
       "\n",
       "        herderR    pastvotedR  hhsize_darfurR      village  \n",
       "0 -7.293814e-15 -6.172840e-14    1.431744e-12  Abdel Khair  \n",
       "1  2.568140e-14 -4.152234e-14   -1.957545e-12     Abdi Dar  \n",
       "2  6.646498e-17 -6.666667e-01    4.666667e+00    Abu Sorog  \n",
       "3 -3.333333e-01 -3.333333e-01    1.666667e+00    Abu Dejaj  \n",
       "4 -3.333333e-01  6.666667e-01   -3.333333e-01    Abu Dejaj  "
      ]
     },
     "execution_count": 11,
     "metadata": {},
     "output_type": "execute_result"
    }
   ],
   "source": [
    "darfurR.columns = [\"peacefactorR\", \"directlyharmedR\", \"femaleR\",\n",
    "                    \"ageR\", \"farmerR\", \"herderR\", \"pastvotedR\", \n",
    "                     \"hhsize_darfurR\", \"village\"]\n",
    "darfurR.head()"
   ]
  },
  {
   "cell_type": "code",
   "execution_count": 12,
   "id": "6ee4ecb8",
   "metadata": {},
   "outputs": [
    {
     "data": {
      "text/html": [
       "<div>\n",
       "<style scoped>\n",
       "    .dataframe tbody tr th:only-of-type {\n",
       "        vertical-align: middle;\n",
       "    }\n",
       "\n",
       "    .dataframe tbody tr th {\n",
       "        vertical-align: top;\n",
       "    }\n",
       "\n",
       "    .dataframe thead th {\n",
       "        text-align: right;\n",
       "    }\n",
       "</style>\n",
       "<table border=\"1\" class=\"dataframe\">\n",
       "  <thead>\n",
       "    <tr style=\"text-align: right;\">\n",
       "      <th></th>\n",
       "      <th>Coef.</th>\n",
       "      <th>Std.Err.</th>\n",
       "      <th>t</th>\n",
       "      <th>P&gt;|t|</th>\n",
       "      <th>[0.025</th>\n",
       "      <th>0.975]</th>\n",
       "    </tr>\n",
       "  </thead>\n",
       "  <tbody>\n",
       "    <tr>\n",
       "      <th>Intercept</th>\n",
       "      <td>-2.538768e-15</td>\n",
       "      <td>2.685827e-15</td>\n",
       "      <td>-0.945246</td>\n",
       "      <td>3.450038e-01</td>\n",
       "      <td>-7.816060e-15</td>\n",
       "      <td>2.738525e-15</td>\n",
       "    </tr>\n",
       "    <tr>\n",
       "      <th>directlyharmedR</th>\n",
       "      <td>9.731582e-02</td>\n",
       "      <td>2.382281e-02</td>\n",
       "      <td>4.084985</td>\n",
       "      <td>5.156752e-05</td>\n",
       "      <td>5.050716e-02</td>\n",
       "      <td>1.441245e-01</td>\n",
       "    </tr>\n",
       "    <tr>\n",
       "      <th>femaleR</th>\n",
       "      <td>-2.320514e-01</td>\n",
       "      <td>2.443857e-02</td>\n",
       "      <td>-9.495295</td>\n",
       "      <td>1.000143e-19</td>\n",
       "      <td>-2.800700e-01</td>\n",
       "      <td>-1.840329e-01</td>\n",
       "    </tr>\n",
       "    <tr>\n",
       "      <th>ageR</th>\n",
       "      <td>-2.071749e-03</td>\n",
       "      <td>7.441260e-04</td>\n",
       "      <td>-2.784137</td>\n",
       "      <td>5.576761e-03</td>\n",
       "      <td>-3.533858e-03</td>\n",
       "      <td>-6.096402e-04</td>\n",
       "    </tr>\n",
       "    <tr>\n",
       "      <th>farmerR</th>\n",
       "      <td>-4.044295e-02</td>\n",
       "      <td>2.956411e-02</td>\n",
       "      <td>-1.367974</td>\n",
       "      <td>1.719536e-01</td>\n",
       "      <td>-9.853250e-02</td>\n",
       "      <td>1.764661e-02</td>\n",
       "    </tr>\n",
       "    <tr>\n",
       "      <th>herderR</th>\n",
       "      <td>1.427910e-02</td>\n",
       "      <td>3.649802e-02</td>\n",
       "      <td>0.391229</td>\n",
       "      <td>6.957994e-01</td>\n",
       "      <td>-5.743466e-02</td>\n",
       "      <td>8.599286e-02</td>\n",
       "    </tr>\n",
       "    <tr>\n",
       "      <th>pastvotedR</th>\n",
       "      <td>-4.802496e-02</td>\n",
       "      <td>2.687661e-02</td>\n",
       "      <td>-1.786868</td>\n",
       "      <td>7.458324e-02</td>\n",
       "      <td>-1.008339e-01</td>\n",
       "      <td>4.784016e-03</td>\n",
       "    </tr>\n",
       "    <tr>\n",
       "      <th>hhsizeR</th>\n",
       "      <td>1.229812e-03</td>\n",
       "      <td>2.166312e-03</td>\n",
       "      <td>0.567698</td>\n",
       "      <td>5.705024e-01</td>\n",
       "      <td>-3.026704e-03</td>\n",
       "      <td>5.486328e-03</td>\n",
       "    </tr>\n",
       "  </tbody>\n",
       "</table>\n",
       "</div>"
      ],
      "text/plain": [
       "                        Coef.      Std.Err.         t         P>|t|  \\\n",
       "Intercept       -2.538768e-15  2.685827e-15 -0.945246  3.450038e-01   \n",
       "directlyharmedR  9.731582e-02  2.382281e-02  4.084985  5.156752e-05   \n",
       "femaleR         -2.320514e-01  2.443857e-02 -9.495295  1.000143e-19   \n",
       "ageR            -2.071749e-03  7.441260e-04 -2.784137  5.576761e-03   \n",
       "farmerR         -4.044295e-02  2.956411e-02 -1.367974  1.719536e-01   \n",
       "herderR          1.427910e-02  3.649802e-02  0.391229  6.957994e-01   \n",
       "pastvotedR      -4.802496e-02  2.687661e-02 -1.786868  7.458324e-02   \n",
       "hhsizeR          1.229812e-03  2.166312e-03  0.567698  5.705024e-01   \n",
       "\n",
       "                       [0.025        0.975]  \n",
       "Intercept       -7.816060e-15  2.738525e-15  \n",
       "directlyharmedR  5.050716e-02  1.441245e-01  \n",
       "femaleR         -2.800700e-01 -1.840329e-01  \n",
       "ageR            -3.533858e-03 -6.096402e-04  \n",
       "farmerR         -9.853250e-02  1.764661e-02  \n",
       "herderR         -5.743466e-02  8.599286e-02  \n",
       "pastvotedR      -1.008339e-01  4.784016e-03  \n",
       "hhsizeR         -3.026704e-03  5.486328e-03  "
      ]
     },
     "execution_count": 12,
     "metadata": {},
     "output_type": "execute_result"
    }
   ],
   "source": [
    "# Preliminary linear model analysis \n",
    "# Linear model 1 \n",
    "linear_model_1 = smf.ols('peacefactorR~ directlyharmedR+ femaleR + ageR + farmerR+ herderR + pastvotedR + hhsizeR' \n",
    "        ,data=darfurR ).fit().get_robustcov_results(cov_type = \"cluster\", groups= darfurR['village'])\n",
    "linear_model_1_table = linear_model_1.summary2().tables[1]\n",
    "linear_model_1_table"
   ]
  },
  {
   "cell_type": "code",
   "execution_count": 13,
   "id": "aa586d3d",
   "metadata": {},
   "outputs": [
    {
     "data": {
      "text/html": [
       "<div>\n",
       "<style scoped>\n",
       "    .dataframe tbody tr th:only-of-type {\n",
       "        vertical-align: middle;\n",
       "    }\n",
       "\n",
       "    .dataframe tbody tr th {\n",
       "        vertical-align: top;\n",
       "    }\n",
       "\n",
       "    .dataframe thead th {\n",
       "        text-align: right;\n",
       "    }\n",
       "</style>\n",
       "<table border=\"1\" class=\"dataframe\">\n",
       "  <thead>\n",
       "    <tr style=\"text-align: right;\">\n",
       "      <th></th>\n",
       "      <th>Coef.</th>\n",
       "      <th>Std.Err.</th>\n",
       "      <th>t</th>\n",
       "      <th>P&gt;|t|</th>\n",
       "      <th>[0.025</th>\n",
       "      <th>0.975]</th>\n",
       "    </tr>\n",
       "  </thead>\n",
       "  <tbody>\n",
       "    <tr>\n",
       "      <th>Intercept</th>\n",
       "      <td>-2.465909e-15</td>\n",
       "      <td>2.453072e-15</td>\n",
       "      <td>-1.005233</td>\n",
       "      <td>3.152858e-01</td>\n",
       "      <td>-7.285870e-15</td>\n",
       "      <td>2.354052e-15</td>\n",
       "    </tr>\n",
       "    <tr>\n",
       "      <th>femaleR</th>\n",
       "      <td>-2.415042e-01</td>\n",
       "      <td>2.536306e-02</td>\n",
       "      <td>-9.521887</td>\n",
       "      <td>8.063158e-20</td>\n",
       "      <td>-2.913393e-01</td>\n",
       "      <td>-1.916692e-01</td>\n",
       "    </tr>\n",
       "    <tr>\n",
       "      <th>ageR</th>\n",
       "      <td>-2.186810e-03</td>\n",
       "      <td>7.453429e-04</td>\n",
       "      <td>-2.933966</td>\n",
       "      <td>3.505173e-03</td>\n",
       "      <td>-3.651310e-03</td>\n",
       "      <td>-7.223106e-04</td>\n",
       "    </tr>\n",
       "    <tr>\n",
       "      <th>farmerR</th>\n",
       "      <td>-4.071431e-02</td>\n",
       "      <td>2.923021e-02</td>\n",
       "      <td>-1.392885</td>\n",
       "      <td>1.642928e-01</td>\n",
       "      <td>-9.814780e-02</td>\n",
       "      <td>1.671917e-02</td>\n",
       "    </tr>\n",
       "    <tr>\n",
       "      <th>herderR</th>\n",
       "      <td>2.622875e-02</td>\n",
       "      <td>3.967810e-02</td>\n",
       "      <td>0.661038</td>\n",
       "      <td>5.089015e-01</td>\n",
       "      <td>-5.173345e-02</td>\n",
       "      <td>1.041909e-01</td>\n",
       "    </tr>\n",
       "    <tr>\n",
       "      <th>pastvotedR</th>\n",
       "      <td>-4.414131e-02</td>\n",
       "      <td>2.784297e-02</td>\n",
       "      <td>-1.585367</td>\n",
       "      <td>1.135348e-01</td>\n",
       "      <td>-9.884904e-02</td>\n",
       "      <td>1.056643e-02</td>\n",
       "    </tr>\n",
       "    <tr>\n",
       "      <th>hhsizeR</th>\n",
       "      <td>1.336220e-03</td>\n",
       "      <td>2.126678e-03</td>\n",
       "      <td>0.628314</td>\n",
       "      <td>5.300943e-01</td>\n",
       "      <td>-2.842419e-03</td>\n",
       "      <td>5.514859e-03</td>\n",
       "    </tr>\n",
       "  </tbody>\n",
       "</table>\n",
       "</div>"
      ],
      "text/plain": [
       "                   Coef.      Std.Err.         t         P>|t|        [0.025  \\\n",
       "Intercept  -2.465909e-15  2.453072e-15 -1.005233  3.152858e-01 -7.285870e-15   \n",
       "femaleR    -2.415042e-01  2.536306e-02 -9.521887  8.063158e-20 -2.913393e-01   \n",
       "ageR       -2.186810e-03  7.453429e-04 -2.933966  3.505173e-03 -3.651310e-03   \n",
       "farmerR    -4.071431e-02  2.923021e-02 -1.392885  1.642928e-01 -9.814780e-02   \n",
       "herderR     2.622875e-02  3.967810e-02  0.661038  5.089015e-01 -5.173345e-02   \n",
       "pastvotedR -4.414131e-02  2.784297e-02 -1.585367  1.135348e-01 -9.884904e-02   \n",
       "hhsizeR     1.336220e-03  2.126678e-03  0.628314  5.300943e-01 -2.842419e-03   \n",
       "\n",
       "                  0.975]  \n",
       "Intercept   2.354052e-15  \n",
       "femaleR    -1.916692e-01  \n",
       "ageR       -7.223106e-04  \n",
       "farmerR     1.671917e-02  \n",
       "herderR     1.041909e-01  \n",
       "pastvotedR  1.056643e-02  \n",
       "hhsizeR     5.514859e-03  "
      ]
     },
     "execution_count": 13,
     "metadata": {},
     "output_type": "execute_result"
    }
   ],
   "source": [
    "# Linear model 2 \n",
    "linear_model_2 = smf.ols('peacefactorR~ femaleR + ageR + farmerR+ herderR + pastvotedR + hhsizeR' \n",
    "        ,data=darfurR ).fit().get_robustcov_results(cov_type = \"cluster\", groups= darfurR['village'])\n",
    "linear_model_2_table = linear_model_2.summary2().tables[1]\n",
    "linear_model_2_table"
   ]
  },
  {
   "cell_type": "code",
   "execution_count": 14,
   "id": "b335df30",
   "metadata": {},
   "outputs": [
    {
     "data": {
      "text/html": [
       "<div>\n",
       "<style scoped>\n",
       "    .dataframe tbody tr th:only-of-type {\n",
       "        vertical-align: middle;\n",
       "    }\n",
       "\n",
       "    .dataframe tbody tr th {\n",
       "        vertical-align: top;\n",
       "    }\n",
       "\n",
       "    .dataframe thead th {\n",
       "        text-align: right;\n",
       "    }\n",
       "</style>\n",
       "<table border=\"1\" class=\"dataframe\">\n",
       "  <thead>\n",
       "    <tr style=\"text-align: right;\">\n",
       "      <th></th>\n",
       "      <th>Coef.</th>\n",
       "      <th>Std.Err.</th>\n",
       "      <th>t</th>\n",
       "      <th>P&gt;|t|</th>\n",
       "      <th>[0.025</th>\n",
       "      <th>0.975]</th>\n",
       "    </tr>\n",
       "  </thead>\n",
       "  <tbody>\n",
       "    <tr>\n",
       "      <th>Intercept</th>\n",
       "      <td>8.380883e-16</td>\n",
       "      <td>2.459246e-15</td>\n",
       "      <td>0.340791</td>\n",
       "      <td>0.733409</td>\n",
       "      <td>-3.994003e-15</td>\n",
       "      <td>5.670179e-15</td>\n",
       "    </tr>\n",
       "    <tr>\n",
       "      <th>femaleR</th>\n",
       "      <td>-9.713517e-02</td>\n",
       "      <td>5.128637e-02</td>\n",
       "      <td>-1.893976</td>\n",
       "      <td>0.058823</td>\n",
       "      <td>-1.979061e-01</td>\n",
       "      <td>3.635740e-03</td>\n",
       "    </tr>\n",
       "    <tr>\n",
       "      <th>ageR</th>\n",
       "      <td>-1.182350e-03</td>\n",
       "      <td>1.150680e-03</td>\n",
       "      <td>-1.027523</td>\n",
       "      <td>0.304687</td>\n",
       "      <td>-3.443283e-03</td>\n",
       "      <td>1.078584e-03</td>\n",
       "    </tr>\n",
       "    <tr>\n",
       "      <th>farmerR</th>\n",
       "      <td>-2.788538e-03</td>\n",
       "      <td>4.280159e-02</td>\n",
       "      <td>-0.065150</td>\n",
       "      <td>0.948081</td>\n",
       "      <td>-8.688797e-02</td>\n",
       "      <td>8.131090e-02</td>\n",
       "    </tr>\n",
       "    <tr>\n",
       "      <th>herderR</th>\n",
       "      <td>1.227925e-01</td>\n",
       "      <td>5.064352e-02</td>\n",
       "      <td>2.424643</td>\n",
       "      <td>0.015688</td>\n",
       "      <td>2.328466e-02</td>\n",
       "      <td>2.223002e-01</td>\n",
       "    </tr>\n",
       "    <tr>\n",
       "      <th>pastvotedR</th>\n",
       "      <td>3.990773e-02</td>\n",
       "      <td>3.366253e-02</td>\n",
       "      <td>1.185524</td>\n",
       "      <td>0.236391</td>\n",
       "      <td>-2.623468e-02</td>\n",
       "      <td>1.060501e-01</td>\n",
       "    </tr>\n",
       "    <tr>\n",
       "      <th>hhsizeR</th>\n",
       "      <td>1.093431e-03</td>\n",
       "      <td>3.286160e-03</td>\n",
       "      <td>0.332738</td>\n",
       "      <td>0.739476</td>\n",
       "      <td>-5.363437e-03</td>\n",
       "      <td>7.550298e-03</td>\n",
       "    </tr>\n",
       "  </tbody>\n",
       "</table>\n",
       "</div>"
      ],
      "text/plain": [
       "                   Coef.      Std.Err.         t     P>|t|        [0.025  \\\n",
       "Intercept   8.380883e-16  2.459246e-15  0.340791  0.733409 -3.994003e-15   \n",
       "femaleR    -9.713517e-02  5.128637e-02 -1.893976  0.058823 -1.979061e-01   \n",
       "ageR       -1.182350e-03  1.150680e-03 -1.027523  0.304687 -3.443283e-03   \n",
       "farmerR    -2.788538e-03  4.280159e-02 -0.065150  0.948081 -8.688797e-02   \n",
       "herderR     1.227925e-01  5.064352e-02  2.424643  0.015688  2.328466e-02   \n",
       "pastvotedR  3.990773e-02  3.366253e-02  1.185524  0.236391 -2.623468e-02   \n",
       "hhsizeR     1.093431e-03  3.286160e-03  0.332738  0.739476 -5.363437e-03   \n",
       "\n",
       "                  0.975]  \n",
       "Intercept   5.670179e-15  \n",
       "femaleR     3.635740e-03  \n",
       "ageR        1.078584e-03  \n",
       "farmerR     8.131090e-02  \n",
       "herderR     2.223002e-01  \n",
       "pastvotedR  1.060501e-01  \n",
       "hhsizeR     7.550298e-03  "
      ]
     },
     "execution_count": 14,
     "metadata": {},
     "output_type": "execute_result"
    }
   ],
   "source": [
    "# Linear model 3\n",
    "linear_model_3 = smf.ols('directlyharmedR~ femaleR + ageR + farmerR+ herderR + pastvotedR + hhsizeR' \n",
    "        ,data=darfurR ).fit().get_robustcov_results(cov_type = \"cluster\", groups= darfurR['village'])\n",
    "linear_model_3_table = linear_model_3.summary2().tables[1]\n",
    "linear_model_3_table"
   ]
  },
  {
   "cell_type": "markdown",
   "id": "aa48caba",
   "metadata": {},
   "source": [
    "## We first use Lasso for Partilling Out Controls"
   ]
  },
  {
   "cell_type": "code",
   "execution_count": 19,
   "id": "ee12eeff",
   "metadata": {},
   "outputs": [],
   "source": [
    "import hdmpy\n",
    "import patsy \n",
    "from patsy import ModelDesc, Term, EvalFactor"
   ]
  },
  {
   "cell_type": "code",
   "execution_count": 20,
   "id": "0fb36f5d",
   "metadata": {},
   "outputs": [],
   "source": [
    "\n",
    "X = patsy.dmatrix(\"(femaleR + ageR + farmerR+ herderR + pastvotedR + hhsizeR)**3\", darfurR)\n",
    "Y = darfurR['peacefactorR'].to_numpy()\n",
    "D = darfurR['directlyharmedR'].to_numpy()"
   ]
  },
  {
   "cell_type": "code",
   "execution_count": 21,
   "id": "f899682a",
   "metadata": {},
   "outputs": [],
   "source": [
    "resY = hdmpy.rlasso(X,Y, post = False).est['residuals'].reshape( Y.size,)\n",
    "resD = hdmpy.rlasso(X,D, post = False).est['residuals'].reshape( D.size,)\n"
   ]
  },
  {
   "cell_type": "code",
   "execution_count": 22,
   "id": "d13b5092",
   "metadata": {},
   "outputs": [
    {
     "name": "stdout",
     "output_type": "stream",
     "text": [
      "Controls explain the following fraction of variance of Outcome 0.12505767421787006\n",
      "Controls explain the following fraction of variance of treatment 0.011939558050506838\n"
     ]
    }
   ],
   "source": [
    "FVU_Y = 1 - np.var(resY)/np.var(peacefactorR)\n",
    "FVU_D = 1 - np.var(resD)/np.var(directlyharmedR)\n",
    "\n",
    "print(\"Controls explain the following fraction of variance of Outcome\", FVU_Y)\n",
    "print(\"Controls explain the following fraction of variance of treatment\", FVU_D)"
   ]
  },
  {
   "cell_type": "code",
   "execution_count": 23,
   "id": "6825ceae",
   "metadata": {},
   "outputs": [],
   "source": [
    "darfurR['resY'] = resY\n",
    "darfurR['resD'] = resD"
   ]
  },
  {
   "cell_type": "code",
   "execution_count": 24,
   "id": "5d6444c0",
   "metadata": {},
   "outputs": [
    {
     "data": {
      "text/html": [
       "<div>\n",
       "<style scoped>\n",
       "    .dataframe tbody tr th:only-of-type {\n",
       "        vertical-align: middle;\n",
       "    }\n",
       "\n",
       "    .dataframe tbody tr th {\n",
       "        vertical-align: top;\n",
       "    }\n",
       "\n",
       "    .dataframe thead th {\n",
       "        text-align: right;\n",
       "    }\n",
       "</style>\n",
       "<table border=\"1\" class=\"dataframe\">\n",
       "  <thead>\n",
       "    <tr style=\"text-align: right;\">\n",
       "      <th></th>\n",
       "      <th>Coef.</th>\n",
       "      <th>Std.Err.</th>\n",
       "      <th>t</th>\n",
       "      <th>P&gt;|t|</th>\n",
       "      <th>[0.025</th>\n",
       "      <th>0.975]</th>\n",
       "    </tr>\n",
       "  </thead>\n",
       "  <tbody>\n",
       "    <tr>\n",
       "      <th>Intercept</th>\n",
       "      <td>-6.357952e-10</td>\n",
       "      <td>0.000159</td>\n",
       "      <td>-0.000004</td>\n",
       "      <td>0.999997</td>\n",
       "      <td>-0.000312</td>\n",
       "      <td>0.000312</td>\n",
       "    </tr>\n",
       "    <tr>\n",
       "      <th>resD</th>\n",
       "      <td>1.003438e-01</td>\n",
       "      <td>0.024429</td>\n",
       "      <td>4.107623</td>\n",
       "      <td>0.000047</td>\n",
       "      <td>0.052345</td>\n",
       "      <td>0.148343</td>\n",
       "    </tr>\n",
       "  </tbody>\n",
       "</table>\n",
       "</div>"
      ],
      "text/plain": [
       "                  Coef.  Std.Err.         t     P>|t|    [0.025    0.975]\n",
       "Intercept -6.357952e-10  0.000159 -0.000004  0.999997 -0.000312  0.000312\n",
       "resD       1.003438e-01  0.024429  4.107623  0.000047  0.052345  0.148343"
      ]
     },
     "execution_count": 24,
     "metadata": {},
     "output_type": "execute_result"
    }
   ],
   "source": [
    "# Filan estimation\n",
    "# Culster SE by village\n",
    "dml_darfur_model = smf.ols('resY~ resD',data=darfurR ).fit().get_robustcov_results(cov_type = \"cluster\", groups= darfurR['village'])\n",
    "dml_darfur_model_table = dml_darfur_model.summary2().tables[1]\n",
    "dml_darfur_model_table"
   ]
  },
  {
   "cell_type": "markdown",
   "id": "d08601ba",
   "metadata": {},
   "source": [
    "## Manual Bias Analysis"
   ]
  },
  {
   "cell_type": "code",
   "execution_count": 26,
   "id": "763445a1",
   "metadata": {},
   "outputs": [
    {
     "data": {
      "text/html": [
       "<div>\n",
       "<style scoped>\n",
       "    .dataframe tbody tr th:only-of-type {\n",
       "        vertical-align: middle;\n",
       "    }\n",
       "\n",
       "    .dataframe tbody tr th {\n",
       "        vertical-align: top;\n",
       "    }\n",
       "\n",
       "    .dataframe thead th {\n",
       "        text-align: right;\n",
       "    }\n",
       "</style>\n",
       "<table border=\"1\" class=\"dataframe\">\n",
       "  <thead>\n",
       "    <tr style=\"text-align: right;\">\n",
       "      <th></th>\n",
       "      <th>Coef.</th>\n",
       "      <th>Std.Err.</th>\n",
       "      <th>t</th>\n",
       "      <th>P&gt;|t|</th>\n",
       "      <th>[0.025</th>\n",
       "      <th>0.975]</th>\n",
       "    </tr>\n",
       "  </thead>\n",
       "  <tbody>\n",
       "    <tr>\n",
       "      <th>Intercept</th>\n",
       "      <td>-6.357952e-10</td>\n",
       "      <td>0.006843</td>\n",
       "      <td>-9.291193e-08</td>\n",
       "      <td>9.999999e-01</td>\n",
       "      <td>-0.013425</td>\n",
       "      <td>0.013425</td>\n",
       "    </tr>\n",
       "    <tr>\n",
       "      <th>resD</th>\n",
       "      <td>1.003438e-01</td>\n",
       "      <td>0.018273</td>\n",
       "      <td>5.491364e+00</td>\n",
       "      <td>4.809577e-08</td>\n",
       "      <td>0.064495</td>\n",
       "      <td>0.136192</td>\n",
       "    </tr>\n",
       "  </tbody>\n",
       "</table>\n",
       "</div>"
      ],
      "text/plain": [
       "                  Coef.  Std.Err.             t         P>|t|    [0.025  \\\n",
       "Intercept -6.357952e-10  0.006843 -9.291193e-08  9.999999e-01 -0.013425   \n",
       "resD       1.003438e-01  0.018273  5.491364e+00  4.809577e-08  0.064495   \n",
       "\n",
       "             0.975]  \n",
       "Intercept  0.013425  \n",
       "resD       0.136192  "
      ]
     },
     "execution_count": 26,
     "metadata": {},
     "output_type": "execute_result"
    }
   ],
   "source": [
    "# linear model to use as input in sensemakr   \n",
    "dml_darfur_model= smf.ols('resY~ resD',data=darfurR ).fit()\n",
    "dml_darfur_model_table = dml_darfur_model.summary2().tables[1]\n",
    "dml_darfur_model_table"
   ]
  },
  {
   "cell_type": "code",
   "execution_count": 27,
   "id": "e38d2158",
   "metadata": {},
   "outputs": [
    {
     "data": {
      "text/plain": [
       "0.10034379376801948"
      ]
     },
     "execution_count": 27,
     "metadata": {},
     "output_type": "execute_result"
    }
   ],
   "source": [
    "beta = dml_darfur_model_table['Coef.'][1]\n",
    "beta"
   ]
  },
  {
   "cell_type": "code",
   "execution_count": 29,
   "id": "032dae59",
   "metadata": {},
   "outputs": [
    {
     "name": "stdout",
     "output_type": "stream",
     "text": [
      "0.04020151261036848\n"
     ]
    },
    {
     "data": {
      "image/png": "[encoded data removed]",
      "text/plain": [
       "<Figure size 576x384 with 1 Axes>"
      ]
     },
     "metadata": {
      "needs_background": "light"
     },
     "output_type": "display_data"
    }
   ],
   "source": [
    "# Hypothetical values of partial R2s \n",
    "R2_YC = .16 \n",
    "R2_DC = .01\n",
    "\n",
    "# Elements of the formal\n",
    "kappa = (R2_YC * R2_DC)/(1- R2_DC)\n",
    "varianceRatio = np.mean(dml_darfur_model.resid**2)/np.mean(dml_darfur_model.resid**2)\n",
    "\n",
    "# Compute square bias \n",
    "BiasSq =  kappa*varianceRatio\n",
    "\n",
    "# Compute absolute value of the bias\n",
    "print(np.sqrt(BiasSq))\n",
    "\n",
    "# plotting \n",
    "gridR2_DC = np.arange(0,0.3,0.001)\n",
    "gridR2_YC =  kappa*(1 - gridR2_DC)/gridR2_DC\n",
    "gridR2_YC = np.where(gridR2_YC > 1, 1, gridR2_YC)\n",
    "\n",
    "plt.title(\"Combo of R2 such that |Bias|<{}\".format(round(np.sqrt(BiasSq), 5)))\n",
    "plt.xlabel(\"Partial R2 of Treatment with Confounder\") \n",
    "plt.ylabel(\"Partial R2 of Outcome with Confounder\") \n",
    "plt.plot(gridR2_DC,gridR2_YC) \n",
    "plt.show()"
   ]
  },
  {
   "cell_type": "markdown",
   "id": "f2e55241",
   "metadata": {},
   "source": [
    "## Bias Analysis with Sensemakr"
   ]
  },
  {
   "cell_type": "code",
   "execution_count": 30,
   "id": "28ea8e10",
   "metadata": {},
   "outputs": [],
   "source": [
    "# Imports\n",
    "import sensemakr as smkr\n",
    "# from sensemakr import sensitivity_stats\n",
    "# from sensemakr import bias_functions\n",
    "# from sensemakr import ovb_bounds\n",
    "# from sensemakr import ovb_plots\n",
    "import statsmodels.api as sm\n",
    "import statsmodels.formula.api as smf\n",
    "import numpy as np\n",
    "import pandas as pd"
   ]
  },
  {
   "cell_type": "code",
   "execution_count": 31,
   "id": "246ff081",
   "metadata": {},
   "outputs": [],
   "source": [
    "a = 1\n",
    "b = 3"
   ]
  },
  {
   "cell_type": "code",
   "execution_count": 32,
   "id": "1c1f465f",
   "metadata": {
    "scrolled": true
   },
   "outputs": [
    {
     "name": "stdout",
     "output_type": "stream",
     "text": [
      "hola\n"
     ]
    }
   ],
   "source": [
    "if a is not None and b is not None:\n",
    "    print('hola')"
   ]
  },
  {
   "cell_type": "code",
   "execution_count": 33,
   "id": "2079b0ce",
   "metadata": {},
   "outputs": [],
   "source": [
    "import sensemakr as smkr"
   ]
  },
  {
   "cell_type": "code",
   "execution_count": 34,
   "id": "b24b4172",
   "metadata": {},
   "outputs": [],
   "source": [
    "# We need to double check why the function does not allow to run withour the benchmark_covariates argument\n",
    "model = smkr.Sensemakr( model = dml_darfur_model, treatment = \"resD\")"
   ]
  },
  {
   "cell_type": "code",
   "execution_count": 35,
   "id": "14c09c43",
   "metadata": {},
   "outputs": [
    {
     "name": "stdout",
     "output_type": "stream",
     "text": [
      "Sensitivity Analysis to Unobserved Confounding\n",
      "\n",
      "Model Formula: resY~ resD\n",
      "\n",
      "Null hypothesis: q = 1 and reduce = True \n",
      "\n",
      "-- This means we are considering biases that reduce the absolute value of the current estimate.\n",
      "-- The null hypothesis deemed problematic is H0:tau = 0.0 \n",
      "\n",
      "Unadjusted Estimates of ' resD ':\n",
      "  Coef. estimate: 0.1\n",
      "  Standard Error: 0.018\n",
      "  t-value: 5.491 \n",
      "\n",
      "Sensitivity Statistics:\n",
      "  Partial R2 of treatment with outcome: 0.023\n",
      "  Robustness Value, q = 1 : 0.142\n",
      "  Robustness Value, q = 1 alpha = 0.05 : 0.094 \n",
      "\n",
      "Verbal interpretation of sensitivity statistics:\n",
      "\n",
      "-- Partial R2 of the treatment with the outcome: an extreme confounder (orthogonal to the covariates)  that explains 100% of the residual variance of the outcome, would need to explain at least 2.312 % of the residual variance of the treatment to fully account for the observed estimated effect.\n",
      "\n",
      "-- Robustness Value, q = 1 : unobserved confounders (orthogonal to the covariates) that  explain more than 14.247 % of the residual variance of both the treatment and the outcome are strong enough to bring the point estimate to 0.0 (a bias of 100.0 % of the original estimate). Conversely, unobserved confounders that do not explain more than 14.247 % of the residual variance of both the treatment and the outcome are not strong enough to bring the point estimate to 0.0 .\n",
      "\n",
      "-- Robustness Value, q = 1 , alpha = 0.05 : unobserved confounders (orthogonal to the covariates) that explain more than 9.41 % of the residual variance of both the treatment and the outcome are strong enough to bring the estimate to a range where it is no longer 'statistically different' from 0.0 (a bias of 100.0 % of the original estimate), at the significance level of alpha = 0.05 . Conversely, unobserved confounders that do not explain more than 9.41 % of the residual variance of both the treatment and the outcome are not strong enough to bring the estimate to a range where it is no longer 'statistically different' from 0.0 , at the significance level of alpha = 0.05 .\n",
      "\n"
     ]
    }
   ],
   "source": [
    "model.summary()"
   ]
  },
  {
   "cell_type": "code",
   "execution_count": 36,
   "id": "dd69565f",
   "metadata": {},
   "outputs": [
    {
     "data": {
      "image/png": "[encoded data removed]",
      "text/plain": [
       "<Figure size 576x576 with 1 Axes>"
      ]
     },
     "metadata": {
      "needs_background": "light"
     },
     "output_type": "display_data"
    }
   ],
   "source": [
    "model.plot()"
   ]
  },
  {
   "cell_type": "markdown",
   "id": "4d13b59f",
   "metadata": {
    "papermill": {
     "duration": 0.030825,
     "end_time": "2021-04-03T12:55:42.286467",
     "exception": false,
     "start_time": "2021-04-03T12:55:42.255642",
     "status": "completed"
    },
    "tags": []
   },
   "source": [
    "## Next We use Random Forest as ML tool for Partialling Out"
   ]
  },
  {
   "cell_type": "markdown",
   "id": "b60dbc94",
   "metadata": {
    "papermill": {
     "duration": 0.030332,
     "end_time": "2021-04-03T12:55:42.347072",
     "exception": false,
     "start_time": "2021-04-03T12:55:42.316740",
     "status": "completed"
    },
    "tags": []
   },
   "source": [
    "The following code does DML with clsutered standard errors by ClusterID"
   ]
  },
  {
   "cell_type": "code",
   "execution_count": 37,
   "id": "e68cb6eb",
   "metadata": {},
   "outputs": [],
   "source": [
    "import itertools\n",
    "from itertools import compress"
   ]
  },
  {
   "cell_type": "code",
   "execution_count": 38,
   "id": "d7a17428",
   "metadata": {},
   "outputs": [],
   "source": [
    "def DML2_for_PLM(x, d, y, dreg, yreg, nfold, clu):\n",
    "    \n",
    "    # Num ob observations\n",
    "    nobs = x.shape[0]\n",
    "    \n",
    "    # Define folds indices \n",
    "    list_1 = [*range(0, nfold, 1)]*nobs\n",
    "    sample = np.random.choice(nobs,nobs, replace=False).tolist()\n",
    "    foldid = [list_1[index] for index in sample]\n",
    "\n",
    "    # Create split function(similar to R)\n",
    "    def split(z, f):\n",
    "        count = max(f) + 1\n",
    "        return tuple( list(itertools.compress(z, (el == i for el in f))) for i in range(count) ) \n",
    "\n",
    "    # Split observation indices into folds \n",
    "    list_2 = [*range(0, nobs, 1)]\n",
    "    I = split(list_2, foldid)\n",
    "    \n",
    "    # loop to save results\n",
    "    for b in range(0,len(I)):\n",
    "    \n",
    "        # Split data - index to keep are in mask as booleans\n",
    "        include_idx = set(I[b])  #Here should go I[b] Set is more efficient, but doesn't reorder your elements if that is desireable\n",
    "        mask = np.array([(i in include_idx) for i in range(len(x))])\n",
    "\n",
    "        # Lasso regression, excluding folds selected \n",
    "        dfit = dreg(x[~mask,], d[~mask,])\n",
    "        yfit = yreg(x[~mask,], y[~mask,])\n",
    "\n",
    "        # predict estimates using the \n",
    "        dhat = dfit.predict( x[mask,] )\n",
    "        yhat = yfit.predict( x[mask,] )\n",
    "\n",
    "        # Create array to save errors \n",
    "        dtil = np.zeros( len(x) ).reshape( len(x) , 1 )\n",
    "        ytil = np.zeros( len(x) ).reshape( len(x) , 1 )\n",
    "\n",
    "        # save errors  \n",
    "        dtil[mask] =  d[mask,] - dhat.reshape( len(I[b]) , 1 )\n",
    "        ytil[mask] = y[mask,] - yhat.reshape( len(I[b]) , 1 )\n",
    "        print(b, \" \")\n",
    "    \n",
    "    # Create dataframe \n",
    "    data_2 = pd.DataFrame(np.concatenate( ( ytil, dtil,clu ), axis = 1), columns = ['ytil','dtil','CountyCode'])\n",
    "   \n",
    "     # OLS clustering at the County level\n",
    "    model = \"ytil ~ dtil\"\n",
    "    baseline_ols = smf.ols(model , data=data_2).fit().get_robustcov_results(cov_type = \"cluster\", groups= data_2['CountyCode'])\n",
    "    coef_est = baseline_ols.summary2().tables[1]['Coef.']['dtil']\n",
    "    se = baseline_ols.summary2().tables[1]['Std.Err.']['dtil']\n",
    "\n",
    "    print(\"Coefficient is {}, SE is equal to {}\".format(coef_est, se))\n",
    "    \n",
    "    return coef_est, se, dtil, ytil, data_2\n",
    "    #return dtil, ytil, data_2\n",
    "\n",
    "    "
   ]
  },
  {
   "cell_type": "code",
   "execution_count": 39,
   "id": "553f6700",
   "metadata": {},
   "outputs": [],
   "source": [
    "from sklearn.tree import DecisionTreeRegressor\n",
    "from sklearn.ensemble import RandomForestRegressor\n",
    "from sklearn.ensemble import GradientBoostingRegressor\n",
    "from sklearn.preprocessing import LabelEncoder"
   ]
  },
  {
   "cell_type": "code",
   "execution_count": 40,
   "id": "91d47408",
   "metadata": {},
   "outputs": [],
   "source": [
    "# This new matrix include intercept\n",
    "x = patsy.dmatrix(\"~  femaleR + ageR + farmerR + herderR + pastvotedR + hhsizeR\", darfurR)\n",
    "y = darfurR['peacefactorR'].to_numpy().reshape( len(Y) , 1 )\n",
    "d = darfurR['directlyharmedR'].to_numpy().reshape( len(Y) , 1 )"
   ]
  },
  {
   "cell_type": "code",
   "execution_count": 41,
   "id": "d0445cae",
   "metadata": {},
   "outputs": [
    {
     "data": {
      "text/plain": [
       "486"
      ]
     },
     "execution_count": 41,
     "metadata": {},
     "output_type": "execute_result"
    }
   ],
   "source": [
    "darfurR['village'].unique().size"
   ]
  },
  {
   "cell_type": "code",
   "execution_count": 42,
   "id": "bf6a6acf",
   "metadata": {},
   "outputs": [],
   "source": [
    "# creating instance of labelencoder\n",
    "labelencoder = LabelEncoder()\n",
    "\n",
    "# Assigning numerical values and storing in another column\n",
    "darfurR['village_clu'] = labelencoder.fit_transform(darfurR['village'])\n",
    "\n",
    "# Create cluster object\n",
    "CLU = darfurR['village_clu']\n",
    "clu = CLU.to_numpy().reshape( len(Y) , 1 )"
   ]
  },
  {
   "cell_type": "code",
   "execution_count": 43,
   "id": "b67fce54",
   "metadata": {
    "scrolled": true
   },
   "outputs": [
    {
     "name": "stdout",
     "output_type": "stream",
     "text": [
      "0  \n",
      "1  \n",
      "2  \n",
      "3  \n",
      "4  \n",
      "5  \n",
      "6  \n",
      "7  \n",
      "8  \n",
      "9  \n",
      "Coefficient is 0.11982117489996724, SE is equal to 0.07743894033983774\n"
     ]
    }
   ],
   "source": [
    "#DML with RF\n",
    "def dreg(x,d):\n",
    "    result = RandomForestRegressor( random_state = 0, \n",
    "                                   n_estimators = 500, \n",
    "                                   max_features = max( int( x.shape[1] / 3 ), 1 ), \n",
    "                                   min_samples_leaf = 1 ).fit( x, d )\n",
    "    return result\n",
    "\n",
    "def yreg(x,y):\n",
    "    result = RandomForestRegressor( random_state = 0, \n",
    "                                   n_estimators = 500, \n",
    "                                   max_features = max( int( x.shape[1] / 3 ), 1 ), \n",
    "                                   min_samples_leaf = 1 ).fit( x, y )\n",
    "    return result\n",
    "\n",
    "DML2_RF = DML2_for_PLM(x, d, y, dreg, yreg, 10, clu)   # set to 2 due to computation time"
   ]
  },
  {
   "cell_type": "code",
   "execution_count": 44,
   "id": "b0ad1ea7",
   "metadata": {},
   "outputs": [
    {
     "name": "stdout",
     "output_type": "stream",
     "text": [
      "Controls explain the following fraction of variance of Outcome 0.7530424334276937\n",
      "Controls explain the following fraction of variance of treatment 0.9373847245382287\n"
     ]
    }
   ],
   "source": [
    "resY = DML2_RF[2]\n",
    "resD = DML2_RF[3]\n",
    "\n",
    "FVU_Y = max(1 - ( np.var(resY)/np.var(peacefactorR) ), 0 )\n",
    "FVU_D = max(1 - ( np.var(resD)/np.var(directlyharmedR) ), 0 )\n",
    "\n",
    "print(\"Controls explain the following fraction of variance of Outcome\", FVU_Y)\n",
    "print(\"Controls explain the following fraction of variance of treatment\", FVU_D)"
   ]
  },
  {
   "cell_type": "code",
   "execution_count": 45,
   "id": "f7e4d3be",
   "metadata": {},
   "outputs": [],
   "source": [
    "darfurR['resY_rf'] = resY\n",
    "darfurR['resD_rf'] = resD\n",
    "\n",
    "# linear model to use as input in sensemakr   \n",
    "dml_darfur_model_rf= smf.ols('resY_rf~ resD_rf',data=darfurR ).fit()\n",
    "dml_darfur_model_rf_table = dml_darfur_model_rf.summary2().tables[1]"
   ]
  },
  {
   "cell_type": "code",
   "execution_count": 46,
   "id": "51b92f62",
   "metadata": {},
   "outputs": [
    {
     "name": "stdout",
     "output_type": "stream",
     "text": [
      "Sensitivity Analysis to Unobserved Confounding\n",
      "\n",
      "Model Formula: resY_rf~ resD_rf\n",
      "\n",
      "Null hypothesis: q = 1 and reduce = True \n",
      "\n",
      "-- This means we are considering biases that reduce the absolute value of the current estimate.\n",
      "-- The null hypothesis deemed problematic is H0:tau = 0.0 \n",
      "\n",
      "Unadjusted Estimates of ' resD_rf ':\n",
      "  Coef. estimate: 0.232\n",
      "  Standard Error: 0.038\n",
      "  t-value: 6.041 \n",
      "\n",
      "Sensitivity Statistics:\n",
      "  Partial R2 of treatment with outcome: 0.028\n",
      "  Robustness Value, q = 1 : 0.156\n",
      "  Robustness Value, q = 1 alpha = 0.05 : 0.108 \n",
      "\n",
      "Verbal interpretation of sensitivity statistics:\n",
      "\n",
      "-- Partial R2 of the treatment with the outcome: an extreme confounder (orthogonal to the covariates)  that explains 100% of the residual variance of the outcome, would need to explain at least 2.785 % of the residual variance of the treatment to fully account for the observed estimated effect.\n",
      "\n",
      "-- Robustness Value, q = 1 : unobserved confounders (orthogonal to the covariates) that  explain more than 15.553 % of the residual variance of both the treatment and the outcome are strong enough to bring the point estimate to 0.0 (a bias of 100.0 % of the original estimate). Conversely, unobserved confounders that do not explain more than 15.553 % of the residual variance of both the treatment and the outcome are not strong enough to bring the point estimate to 0.0 .\n",
      "\n",
      "-- Robustness Value, q = 1 , alpha = 0.05 : unobserved confounders (orthogonal to the covariates) that explain more than 10.792 % of the residual variance of both the treatment and the outcome are strong enough to bring the estimate to a range where it is no longer 'statistically different' from 0.0 (a bias of 100.0 % of the original estimate), at the significance level of alpha = 0.05 . Conversely, unobserved confounders that do not explain more than 10.792 % of the residual variance of both the treatment and the outcome are not strong enough to bring the estimate to a range where it is no longer 'statistically different' from 0.0 , at the significance level of alpha = 0.05 .\n",
      "\n",
      "Bounds on omitted variable bias:\n",
      "--The table below shows the maximum strength of unobserved confounders with association with the treatment and the outcome bounded by a multiple of the observed explanatory power of the chosen benchmark covariate(s).\n",
      "\n",
      "    bound_label    r2dz_x   r2yz_dx treatment  adjusted_estimate  adjusted_se  \\\n",
      "0  1x Intercept  0.000524  0.000244   resD_rf           0.231905     0.038491   \n",
      "\n",
      "   adjusted_t  adjusted_lower_CI  adjusted_upper_CI  \n",
      "0    6.024882           0.156392           0.307419  \n"
     ]
    },
    {
     "data": {
      "image/png": "[encoded data removed]",
      "text/plain": [
       "<Figure size 576x576 with 1 Axes>"
      ]
     },
     "metadata": {
      "needs_background": "light"
     },
     "output_type": "display_data"
    }
   ],
   "source": [
    "# We need to double check why the function does not allow to run withour the benchmark_covariates argument\n",
    "dml_darfur_sensitivity = smkr.Sensemakr(dml_darfur_model_rf, \"resD_rf\", benchmark_covariates = \"Intercept\")\n",
    "dml_darfur_sensitivity.summary()\n",
    "\n",
    "# Make a contour plot for the estimate\n",
    "dml_darfur_sensitivity.plot()"
   ]
  }
 ],
 "metadata": {
  "hide_input": false,
  "kernelspec": {
   "display_name": "Python 3 (ipykernel)",
   "language": "python",
   "name": "python3"
  },
  "language_info": {
   "codemirror_mode": {
    "name": "ipython",
    "version": 3
   },
   "file_extension": ".py",
   "mimetype": "text/x-python",
   "name": "python",
   "nbconvert_exporter": "python",
   "pygments_lexer": "ipython3",
   "version": "3.9.12"
  }
 },
 "nbformat": 4,
 "nbformat_minor": 5
}
